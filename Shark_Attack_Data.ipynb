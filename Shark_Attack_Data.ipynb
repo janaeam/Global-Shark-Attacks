{
  "nbformat": 4,
  "nbformat_minor": 0,
  "metadata": {
    "colab": {
      "name": "Shark_Attack_Data.ipynb",
      "provenance": [],
      "collapsed_sections": [],
      "mount_file_id": "1Q2W0UFJUcRqHC_IrXiAjCWWDVOqFapIw",
      "authorship_tag": "ABX9TyP99R52AgCxLfp7bq9s5d8K",
      "include_colab_link": true
    },
    "kernelspec": {
      "name": "python3",
      "display_name": "Python 3"
    },
    "language_info": {
      "name": "python"
    }
  },
  "cells": [
    {
      "cell_type": "markdown",
      "metadata": {
        "id": "view-in-github",
        "colab_type": "text"
      },
      "source": [
        "<a href=\"https://colab.research.google.com/github/janaeam/Shark_Attack_Data/blob/main/Shark_Attack_Data.ipynb\" target=\"_parent\"><img src=\"https://colab.research.google.com/assets/colab-badge.svg\" alt=\"Open In Colab\"/></a>"
      ]
    },
    {
      "cell_type": "code",
      "metadata": {
        "id": "x0ieYJuSZD_e"
      },
      "source": [
        "import pandas as pd\n",
        "import numpy as np\n",
        "import matplotlib.pyplot as plt"
      ],
      "execution_count": 1,
      "outputs": []
    },
    {
      "cell_type": "code",
      "metadata": {
        "colab": {
          "base_uri": "https://localhost:8080/"
        },
        "id": "lC1kRWY4Fr8M",
        "outputId": "8925d464-a1f0-464a-9b04-37da2d029079"
      },
      "source": [
        "from google.colab import drive\n",
        "drive.mount('/content/drive')"
      ],
      "execution_count": 2,
      "outputs": [
        {
          "output_type": "stream",
          "text": [
            "Drive already mounted at /content/drive; to attempt to forcibly remount, call drive.mount(\"/content/drive\", force_remount=True).\n"
          ],
          "name": "stdout"
        }
      ]
    },
    {
      "cell_type": "code",
      "metadata": {
        "id": "QVTg375NYxI9"
      },
      "source": [
        "df = pd.read_excel('/content/drive/MyDrive/Coding Dojo/Week_7/Data/GSAF5.xls' )"
      ],
      "execution_count": 3,
      "outputs": []
    },
    {
      "cell_type": "code",
      "metadata": {
        "colab": {
          "base_uri": "https://localhost:8080/",
          "height": 526
        },
        "id": "oKvxmA0uZLu2",
        "outputId": "920411c9-2abf-4fff-8708-35fbf9299e6f"
      },
      "source": [
        "df.head()"
      ],
      "execution_count": 4,
      "outputs": [
        {
          "output_type": "execute_result",
          "data": {
            "text/html": [
              "<div>\n",
              "<style scoped>\n",
              "    .dataframe tbody tr th:only-of-type {\n",
              "        vertical-align: middle;\n",
              "    }\n",
              "\n",
              "    .dataframe tbody tr th {\n",
              "        vertical-align: top;\n",
              "    }\n",
              "\n",
              "    .dataframe thead th {\n",
              "        text-align: right;\n",
              "    }\n",
              "</style>\n",
              "<table border=\"1\" class=\"dataframe\">\n",
              "  <thead>\n",
              "    <tr style=\"text-align: right;\">\n",
              "      <th></th>\n",
              "      <th>Case Number</th>\n",
              "      <th>Date</th>\n",
              "      <th>Year</th>\n",
              "      <th>Type</th>\n",
              "      <th>Country</th>\n",
              "      <th>Area</th>\n",
              "      <th>Location</th>\n",
              "      <th>Activity</th>\n",
              "      <th>Name</th>\n",
              "      <th>Sex</th>\n",
              "      <th>Age</th>\n",
              "      <th>Injury</th>\n",
              "      <th>Fatal (Y/N)</th>\n",
              "      <th>Time</th>\n",
              "      <th>Species</th>\n",
              "      <th>Investigator or Source</th>\n",
              "      <th>pdf</th>\n",
              "      <th>href formula</th>\n",
              "      <th>href</th>\n",
              "      <th>Case Number.1</th>\n",
              "      <th>Case Number.2</th>\n",
              "      <th>original order</th>\n",
              "      <th>Unnamed: 22</th>\n",
              "      <th>Unnamed: 23</th>\n",
              "    </tr>\n",
              "  </thead>\n",
              "  <tbody>\n",
              "    <tr>\n",
              "      <th>0</th>\n",
              "      <td>2021.07.19</td>\n",
              "      <td>19-Jul-2021</td>\n",
              "      <td>2021.0</td>\n",
              "      <td>Unprovoked</td>\n",
              "      <td>AUSTRALIA</td>\n",
              "      <td>Western Australia</td>\n",
              "      <td>Rottnest Island</td>\n",
              "      <td>Surfing</td>\n",
              "      <td>male</td>\n",
              "      <td>M</td>\n",
              "      <td>NaN</td>\n",
              "      <td>No injury, knocked off board by shark</td>\n",
              "      <td>N</td>\n",
              "      <td>12h30</td>\n",
              "      <td>White shark, 3m</td>\n",
              "      <td>B. Myatt &amp; S. De Marchi, GSAF</td>\n",
              "      <td>2021.07.19-Rottnest.pdf</td>\n",
              "      <td>http://sharkattackfile.net/spreadsheets/pdf_di...</td>\n",
              "      <td>http://sharkattackfile.net/spreadsheets/pdf_di...</td>\n",
              "      <td>2021.07.19</td>\n",
              "      <td>2021.07.19</td>\n",
              "      <td>6668.0</td>\n",
              "      <td>NaN</td>\n",
              "      <td>NaN</td>\n",
              "    </tr>\n",
              "    <tr>\n",
              "      <th>1</th>\n",
              "      <td>2021.07.15</td>\n",
              "      <td>15-Jul-2021</td>\n",
              "      <td>2021.0</td>\n",
              "      <td>Unprovoked</td>\n",
              "      <td>USA</td>\n",
              "      <td>Florida</td>\n",
              "      <td>New Smyrna Beach, Volusia County</td>\n",
              "      <td>Boogie boarding</td>\n",
              "      <td>male</td>\n",
              "      <td>M</td>\n",
              "      <td>11</td>\n",
              "      <td>Leg bitten</td>\n",
              "      <td>N</td>\n",
              "      <td>16h30</td>\n",
              "      <td>NaN</td>\n",
              "      <td>K. McMurray, TrackingSharks.com</td>\n",
              "      <td>2021.07.15-NSB.pdf</td>\n",
              "      <td>http://sharkattackfile.net/spreadsheets/pdf_di...</td>\n",
              "      <td>http://sharkattackfile.net/spreadsheets/pdf_di...</td>\n",
              "      <td>2021.07.15</td>\n",
              "      <td>2021.07.15</td>\n",
              "      <td>6667.0</td>\n",
              "      <td>NaN</td>\n",
              "      <td>NaN</td>\n",
              "    </tr>\n",
              "    <tr>\n",
              "      <th>2</th>\n",
              "      <td>2021.07.14</td>\n",
              "      <td>14-Jul-2021</td>\n",
              "      <td>2021.0</td>\n",
              "      <td>Unprovoked</td>\n",
              "      <td>SOUTH AFRICA</td>\n",
              "      <td>Eastern Cape Province</td>\n",
              "      <td>Jeffrey's Bay</td>\n",
              "      <td>Surfing</td>\n",
              "      <td>male</td>\n",
              "      <td>M</td>\n",
              "      <td>38</td>\n",
              "      <td>Injuries to leg and torso</td>\n",
              "      <td>N</td>\n",
              "      <td>07h07</td>\n",
              "      <td>NaN</td>\n",
              "      <td>J. Marchard &amp; M. Michaelson, GSAF</td>\n",
              "      <td>2021.07.14-Jbay.pdf</td>\n",
              "      <td>http://sharkattackfile.net/spreadsheets/pdf_di...</td>\n",
              "      <td>http://sharkattackfile.net/spreadsheets/pdf_di...</td>\n",
              "      <td>2021.07.14</td>\n",
              "      <td>2021.07.14</td>\n",
              "      <td>6666.0</td>\n",
              "      <td>NaN</td>\n",
              "      <td>NaN</td>\n",
              "    </tr>\n",
              "    <tr>\n",
              "      <th>3</th>\n",
              "      <td>2021.07.11.R</td>\n",
              "      <td>Reported 11-Jul-2021</td>\n",
              "      <td>2021.0</td>\n",
              "      <td>Provoked</td>\n",
              "      <td>BAHAMAS</td>\n",
              "      <td>NaN</td>\n",
              "      <td>NaN</td>\n",
              "      <td>Jackass Team's publicity stunt for Discovery C...</td>\n",
              "      <td>Sean McInerney</td>\n",
              "      <td>M</td>\n",
              "      <td>NaN</td>\n",
              "      <td>Lacerations to right hand  PROVOKED INCIDENT</td>\n",
              "      <td>N</td>\n",
              "      <td>NaN</td>\n",
              "      <td>NaN</td>\n",
              "      <td>Yahoo.com, 7/11/2021</td>\n",
              "      <td>2021.07.11.R-McInerney.pdf</td>\n",
              "      <td>http://sharkattackfile.net/spreadsheets/pdf_di...</td>\n",
              "      <td>http://sharkattackfile.net/spreadsheets/pdf_di...</td>\n",
              "      <td>2021.07.11.R</td>\n",
              "      <td>2021.07.11.R</td>\n",
              "      <td>6665.0</td>\n",
              "      <td>NaN</td>\n",
              "      <td>NaN</td>\n",
              "    </tr>\n",
              "    <tr>\n",
              "      <th>4</th>\n",
              "      <td>2021.07.10.c</td>\n",
              "      <td>10-Jul-2021</td>\n",
              "      <td>2021.0</td>\n",
              "      <td>Unprovoked</td>\n",
              "      <td>USA</td>\n",
              "      <td>Florida</td>\n",
              "      <td>Bathtub Beach, Martin County</td>\n",
              "      <td>Playing</td>\n",
              "      <td>Amiya Lobb-Smith</td>\n",
              "      <td>F</td>\n",
              "      <td>9</td>\n",
              "      <td>Right foot bitten</td>\n",
              "      <td>N</td>\n",
              "      <td>16h39</td>\n",
              "      <td>Spinner shark, 4'?</td>\n",
              "      <td>J. Marchand, GSAF</td>\n",
              "      <td>2021.07.10.c-Lobb-Smith.pdf</td>\n",
              "      <td>http://sharkattackfile.net/spreadsheets/pdf_di...</td>\n",
              "      <td>http://sharkattackfile.net/spreadsheets/pdf_di...</td>\n",
              "      <td>2021.07.10.c</td>\n",
              "      <td>2021.07.10.c</td>\n",
              "      <td>6664.0</td>\n",
              "      <td>NaN</td>\n",
              "      <td>NaN</td>\n",
              "    </tr>\n",
              "  </tbody>\n",
              "</table>\n",
              "</div>"
            ],
            "text/plain": [
              "    Case Number                  Date  ...  Unnamed: 22 Unnamed: 23\n",
              "0    2021.07.19           19-Jul-2021  ...          NaN         NaN\n",
              "1    2021.07.15           15-Jul-2021  ...          NaN         NaN\n",
              "2    2021.07.14           14-Jul-2021  ...          NaN         NaN\n",
              "3  2021.07.11.R  Reported 11-Jul-2021  ...          NaN         NaN\n",
              "4  2021.07.10.c           10-Jul-2021  ...          NaN         NaN\n",
              "\n",
              "[5 rows x 24 columns]"
            ]
          },
          "metadata": {
            "tags": []
          },
          "execution_count": 4
        }
      ]
    },
    {
      "cell_type": "code",
      "metadata": {
        "colab": {
          "base_uri": "https://localhost:8080/"
        },
        "id": "jzZEJ9qQZNSO",
        "outputId": "c4a3a6f9-bb62-46d9-87ce-4035a282459e"
      },
      "source": [
        "df.info()"
      ],
      "execution_count": 5,
      "outputs": [
        {
          "output_type": "stream",
          "text": [
            "<class 'pandas.core.frame.DataFrame'>\n",
            "RangeIndex: 25815 entries, 0 to 25814\n",
            "Data columns (total 24 columns):\n",
            " #   Column                  Non-Null Count  Dtype  \n",
            "---  ------                  --------------  -----  \n",
            " 0   Case Number             8793 non-null   object \n",
            " 1   Date                    6666 non-null   object \n",
            " 2   Year                    6665 non-null   float64\n",
            " 3   Type                    6655 non-null   object \n",
            " 4   Country                 6617 non-null   object \n",
            " 5   Area                    6196 non-null   object \n",
            " 6   Location                6115 non-null   object \n",
            " 7   Activity                6104 non-null   object \n",
            " 8   Name                    6452 non-null   object \n",
            " 9   Sex                     6093 non-null   object \n",
            " 10  Age                     3744 non-null   object \n",
            " 11  Injury                  6635 non-null   object \n",
            " 12  Fatal (Y/N)             6115 non-null   object \n",
            " 13  Time                    3224 non-null   object \n",
            " 14  Species                 3669 non-null   object \n",
            " 15  Investigator or Source  6649 non-null   object \n",
            " 16  pdf                     6666 non-null   object \n",
            " 17  href formula            6663 non-null   object \n",
            " 18  href                    6665 non-null   object \n",
            " 19  Case Number.1           6666 non-null   object \n",
            " 20  Case Number.2           6666 non-null   object \n",
            " 21  original order          6667 non-null   float64\n",
            " 22  Unnamed: 22             1 non-null      object \n",
            " 23  Unnamed: 23             2 non-null      object \n",
            "dtypes: float64(2), object(22)\n",
            "memory usage: 4.7+ MB\n"
          ],
          "name": "stdout"
        }
      ]
    },
    {
      "cell_type": "markdown",
      "metadata": {
        "id": "hmc6v2CUduya"
      },
      "source": [
        "## df"
      ]
    },
    {
      "cell_type": "markdown",
      "metadata": {
        "id": "-QAZLEZiOwdm"
      },
      "source": [
        "- filter out empty columns and rows\n",
        "- check for *NaN* values\n",
        "- rename ***Case Number.1*** to ***Case Id*** to use as the index once EDA is completed and drop the remaining \"Case\" columns"
      ]
    },
    {
      "cell_type": "code",
      "metadata": {
        "colab": {
          "base_uri": "https://localhost:8080/"
        },
        "id": "_s-8XzNQ_eWw",
        "outputId": "9ebf76e6-34f4-4c13-aa6a-431d441624cb"
      },
      "source": [
        "df.columns"
      ],
      "execution_count": 6,
      "outputs": [
        {
          "output_type": "execute_result",
          "data": {
            "text/plain": [
              "Index(['Case Number', 'Date', 'Year', 'Type', 'Country', 'Area', 'Location',\n",
              "       'Activity', 'Name', 'Sex ', 'Age', 'Injury', 'Fatal (Y/N)', 'Time',\n",
              "       'Species ', 'Investigator or Source', 'pdf', 'href formula', 'href',\n",
              "       'Case Number.1', 'Case Number.2', 'original order', 'Unnamed: 22',\n",
              "       'Unnamed: 23'],\n",
              "      dtype='object')"
            ]
          },
          "metadata": {
            "tags": []
          },
          "execution_count": 6
        }
      ]
    },
    {
      "cell_type": "code",
      "metadata": {
        "colab": {
          "base_uri": "https://localhost:8080/",
          "height": 313
        },
        "id": "5UA3CmZQijRS",
        "outputId": "c61c7aaa-27ce-451e-f9c2-01871e8be895"
      },
      "source": [
        "# there are thousands of rows with no data I am going to delete those, but first\n",
        "#    I need to find the end...\n",
        "df[6665:6668]\n",
        "# There 6,667 rows of active information"
      ],
      "execution_count": 7,
      "outputs": [
        {
          "output_type": "execute_result",
          "data": {
            "text/html": [
              "<div>\n",
              "<style scoped>\n",
              "    .dataframe tbody tr th:only-of-type {\n",
              "        vertical-align: middle;\n",
              "    }\n",
              "\n",
              "    .dataframe tbody tr th {\n",
              "        vertical-align: top;\n",
              "    }\n",
              "\n",
              "    .dataframe thead th {\n",
              "        text-align: right;\n",
              "    }\n",
              "</style>\n",
              "<table border=\"1\" class=\"dataframe\">\n",
              "  <thead>\n",
              "    <tr style=\"text-align: right;\">\n",
              "      <th></th>\n",
              "      <th>Case Number</th>\n",
              "      <th>Date</th>\n",
              "      <th>Year</th>\n",
              "      <th>Type</th>\n",
              "      <th>Country</th>\n",
              "      <th>Area</th>\n",
              "      <th>Location</th>\n",
              "      <th>Activity</th>\n",
              "      <th>Name</th>\n",
              "      <th>Sex</th>\n",
              "      <th>Age</th>\n",
              "      <th>Injury</th>\n",
              "      <th>Fatal (Y/N)</th>\n",
              "      <th>Time</th>\n",
              "      <th>Species</th>\n",
              "      <th>Investigator or Source</th>\n",
              "      <th>pdf</th>\n",
              "      <th>href formula</th>\n",
              "      <th>href</th>\n",
              "      <th>Case Number.1</th>\n",
              "      <th>Case Number.2</th>\n",
              "      <th>original order</th>\n",
              "      <th>Unnamed: 22</th>\n",
              "      <th>Unnamed: 23</th>\n",
              "    </tr>\n",
              "  </thead>\n",
              "  <tbody>\n",
              "    <tr>\n",
              "      <th>6665</th>\n",
              "      <td>ND.0002</td>\n",
              "      <td>1883-1889</td>\n",
              "      <td>0.0</td>\n",
              "      <td>Unprovoked</td>\n",
              "      <td>PANAMA</td>\n",
              "      <td>NaN</td>\n",
              "      <td>Panama Bay 8ºN, 79ºW</td>\n",
              "      <td>NaN</td>\n",
              "      <td>Jules Patterson</td>\n",
              "      <td>M</td>\n",
              "      <td>NaN</td>\n",
              "      <td>FATAL</td>\n",
              "      <td>Y</td>\n",
              "      <td>NaN</td>\n",
              "      <td>NaN</td>\n",
              "      <td>The Sun, 10/20/1938</td>\n",
              "      <td>ND-0002-JulesPatterson.pdf</td>\n",
              "      <td>http://sharkattackfile.net/spreadsheets/pdf_di...</td>\n",
              "      <td>http://sharkattackfile.net/spreadsheets/pdf_di...</td>\n",
              "      <td>ND.0002</td>\n",
              "      <td>ND.0002</td>\n",
              "      <td>3.0</td>\n",
              "      <td>NaN</td>\n",
              "      <td>NaN</td>\n",
              "    </tr>\n",
              "    <tr>\n",
              "      <th>6666</th>\n",
              "      <td>ND.0001</td>\n",
              "      <td>1845-1853</td>\n",
              "      <td>0.0</td>\n",
              "      <td>Unprovoked</td>\n",
              "      <td>CEYLON (SRI LANKA)</td>\n",
              "      <td>Eastern Province</td>\n",
              "      <td>Below the English fort, Trincomalee</td>\n",
              "      <td>Swimming</td>\n",
              "      <td>male</td>\n",
              "      <td>M</td>\n",
              "      <td>15</td>\n",
              "      <td>FATAL. \"Shark bit him in half, carrying away t...</td>\n",
              "      <td>Y</td>\n",
              "      <td>NaN</td>\n",
              "      <td>NaN</td>\n",
              "      <td>S.W. Baker</td>\n",
              "      <td>ND-0001-Ceylon.pdf</td>\n",
              "      <td>http://sharkattackfile.net/spreadsheets/pdf_di...</td>\n",
              "      <td>http://sharkattackfile.net/spreadsheets/pdf_di...</td>\n",
              "      <td>ND.0001</td>\n",
              "      <td>ND.0001</td>\n",
              "      <td>2.0</td>\n",
              "      <td>NaN</td>\n",
              "      <td>NaN</td>\n",
              "    </tr>\n",
              "    <tr>\n",
              "      <th>6667</th>\n",
              "      <td>0</td>\n",
              "      <td>NaN</td>\n",
              "      <td>NaN</td>\n",
              "      <td>NaN</td>\n",
              "      <td>NaN</td>\n",
              "      <td>NaN</td>\n",
              "      <td>NaN</td>\n",
              "      <td>NaN</td>\n",
              "      <td>NaN</td>\n",
              "      <td>NaN</td>\n",
              "      <td>NaN</td>\n",
              "      <td>NaN</td>\n",
              "      <td>NaN</td>\n",
              "      <td>NaN</td>\n",
              "      <td>NaN</td>\n",
              "      <td>NaN</td>\n",
              "      <td>NaN</td>\n",
              "      <td>NaN</td>\n",
              "      <td>NaN</td>\n",
              "      <td>NaN</td>\n",
              "      <td>NaN</td>\n",
              "      <td>NaN</td>\n",
              "      <td>NaN</td>\n",
              "      <td>NaN</td>\n",
              "    </tr>\n",
              "  </tbody>\n",
              "</table>\n",
              "</div>"
            ],
            "text/plain": [
              "     Case Number       Date  Year  ... original order Unnamed: 22 Unnamed: 23\n",
              "6665     ND.0002  1883-1889   0.0  ...            3.0         NaN         NaN\n",
              "6666     ND.0001  1845-1853   0.0  ...            2.0         NaN         NaN\n",
              "6667           0        NaN   NaN  ...            NaN         NaN         NaN\n",
              "\n",
              "[3 rows x 24 columns]"
            ]
          },
          "metadata": {
            "tags": []
          },
          "execution_count": 7
        }
      ]
    },
    {
      "cell_type": "code",
      "metadata": {
        "colab": {
          "base_uri": "https://localhost:8080/",
          "height": 282
        },
        "id": "tdoOm8jSaXH0",
        "outputId": "41ada005-ec46-490e-f88f-6060d3180470"
      },
      "source": [
        "df = df[:6667]\n",
        "df.tail(2)"
      ],
      "execution_count": 8,
      "outputs": [
        {
          "output_type": "execute_result",
          "data": {
            "text/html": [
              "<div>\n",
              "<style scoped>\n",
              "    .dataframe tbody tr th:only-of-type {\n",
              "        vertical-align: middle;\n",
              "    }\n",
              "\n",
              "    .dataframe tbody tr th {\n",
              "        vertical-align: top;\n",
              "    }\n",
              "\n",
              "    .dataframe thead th {\n",
              "        text-align: right;\n",
              "    }\n",
              "</style>\n",
              "<table border=\"1\" class=\"dataframe\">\n",
              "  <thead>\n",
              "    <tr style=\"text-align: right;\">\n",
              "      <th></th>\n",
              "      <th>Case Number</th>\n",
              "      <th>Date</th>\n",
              "      <th>Year</th>\n",
              "      <th>Type</th>\n",
              "      <th>Country</th>\n",
              "      <th>Area</th>\n",
              "      <th>Location</th>\n",
              "      <th>Activity</th>\n",
              "      <th>Name</th>\n",
              "      <th>Sex</th>\n",
              "      <th>Age</th>\n",
              "      <th>Injury</th>\n",
              "      <th>Fatal (Y/N)</th>\n",
              "      <th>Time</th>\n",
              "      <th>Species</th>\n",
              "      <th>Investigator or Source</th>\n",
              "      <th>pdf</th>\n",
              "      <th>href formula</th>\n",
              "      <th>href</th>\n",
              "      <th>Case Number.1</th>\n",
              "      <th>Case Number.2</th>\n",
              "      <th>original order</th>\n",
              "      <th>Unnamed: 22</th>\n",
              "      <th>Unnamed: 23</th>\n",
              "    </tr>\n",
              "  </thead>\n",
              "  <tbody>\n",
              "    <tr>\n",
              "      <th>6665</th>\n",
              "      <td>ND.0002</td>\n",
              "      <td>1883-1889</td>\n",
              "      <td>0.0</td>\n",
              "      <td>Unprovoked</td>\n",
              "      <td>PANAMA</td>\n",
              "      <td>NaN</td>\n",
              "      <td>Panama Bay 8ºN, 79ºW</td>\n",
              "      <td>NaN</td>\n",
              "      <td>Jules Patterson</td>\n",
              "      <td>M</td>\n",
              "      <td>NaN</td>\n",
              "      <td>FATAL</td>\n",
              "      <td>Y</td>\n",
              "      <td>NaN</td>\n",
              "      <td>NaN</td>\n",
              "      <td>The Sun, 10/20/1938</td>\n",
              "      <td>ND-0002-JulesPatterson.pdf</td>\n",
              "      <td>http://sharkattackfile.net/spreadsheets/pdf_di...</td>\n",
              "      <td>http://sharkattackfile.net/spreadsheets/pdf_di...</td>\n",
              "      <td>ND.0002</td>\n",
              "      <td>ND.0002</td>\n",
              "      <td>3.0</td>\n",
              "      <td>NaN</td>\n",
              "      <td>NaN</td>\n",
              "    </tr>\n",
              "    <tr>\n",
              "      <th>6666</th>\n",
              "      <td>ND.0001</td>\n",
              "      <td>1845-1853</td>\n",
              "      <td>0.0</td>\n",
              "      <td>Unprovoked</td>\n",
              "      <td>CEYLON (SRI LANKA)</td>\n",
              "      <td>Eastern Province</td>\n",
              "      <td>Below the English fort, Trincomalee</td>\n",
              "      <td>Swimming</td>\n",
              "      <td>male</td>\n",
              "      <td>M</td>\n",
              "      <td>15</td>\n",
              "      <td>FATAL. \"Shark bit him in half, carrying away t...</td>\n",
              "      <td>Y</td>\n",
              "      <td>NaN</td>\n",
              "      <td>NaN</td>\n",
              "      <td>S.W. Baker</td>\n",
              "      <td>ND-0001-Ceylon.pdf</td>\n",
              "      <td>http://sharkattackfile.net/spreadsheets/pdf_di...</td>\n",
              "      <td>http://sharkattackfile.net/spreadsheets/pdf_di...</td>\n",
              "      <td>ND.0001</td>\n",
              "      <td>ND.0001</td>\n",
              "      <td>2.0</td>\n",
              "      <td>NaN</td>\n",
              "      <td>NaN</td>\n",
              "    </tr>\n",
              "  </tbody>\n",
              "</table>\n",
              "</div>"
            ],
            "text/plain": [
              "     Case Number       Date  Year  ... original order Unnamed: 22 Unnamed: 23\n",
              "6665     ND.0002  1883-1889   0.0  ...            3.0         NaN         NaN\n",
              "6666     ND.0001  1845-1853   0.0  ...            2.0         NaN         NaN\n",
              "\n",
              "[2 rows x 24 columns]"
            ]
          },
          "metadata": {
            "tags": []
          },
          "execution_count": 8
        }
      ]
    },
    {
      "cell_type": "code",
      "metadata": {
        "colab": {
          "base_uri": "https://localhost:8080/"
        },
        "id": "GWK7zurajAY9",
        "outputId": "8cf92a12-c39e-42f5-a59a-86c09a8d2757"
      },
      "source": [
        "df.isnull().sum()"
      ],
      "execution_count": 9,
      "outputs": [
        {
          "output_type": "execute_result",
          "data": {
            "text/plain": [
              "Case Number                  2\n",
              "Date                         1\n",
              "Year                         2\n",
              "Type                        12\n",
              "Country                     50\n",
              "Area                       471\n",
              "Location                   552\n",
              "Activity                   563\n",
              "Name                       215\n",
              "Sex                        574\n",
              "Age                       2923\n",
              "Injury                      32\n",
              "Fatal (Y/N)                552\n",
              "Time                      3443\n",
              "Species                   2998\n",
              "Investigator or Source      18\n",
              "pdf                          1\n",
              "href formula                 4\n",
              "href                         2\n",
              "Case Number.1                1\n",
              "Case Number.2                1\n",
              "original order               0\n",
              "Unnamed: 22               6666\n",
              "Unnamed: 23               6665\n",
              "dtype: int64"
            ]
          },
          "metadata": {
            "tags": []
          },
          "execution_count": 9
        }
      ]
    },
    {
      "cell_type": "code",
      "metadata": {
        "colab": {
          "base_uri": "https://localhost:8080/",
          "height": 265
        },
        "id": "zGeHolU3NbPT",
        "outputId": "8187b6a7-cab0-4926-ac3e-b28adfd22a41"
      },
      "source": [
        "df.loc[df['Case Number'].isnull(), :]"
      ],
      "execution_count": 10,
      "outputs": [
        {
          "output_type": "execute_result",
          "data": {
            "text/html": [
              "<div>\n",
              "<style scoped>\n",
              "    .dataframe tbody tr th:only-of-type {\n",
              "        vertical-align: middle;\n",
              "    }\n",
              "\n",
              "    .dataframe tbody tr th {\n",
              "        vertical-align: top;\n",
              "    }\n",
              "\n",
              "    .dataframe thead th {\n",
              "        text-align: right;\n",
              "    }\n",
              "</style>\n",
              "<table border=\"1\" class=\"dataframe\">\n",
              "  <thead>\n",
              "    <tr style=\"text-align: right;\">\n",
              "      <th></th>\n",
              "      <th>Case Number</th>\n",
              "      <th>Date</th>\n",
              "      <th>Year</th>\n",
              "      <th>Type</th>\n",
              "      <th>Country</th>\n",
              "      <th>Area</th>\n",
              "      <th>Location</th>\n",
              "      <th>Activity</th>\n",
              "      <th>Name</th>\n",
              "      <th>Sex</th>\n",
              "      <th>Age</th>\n",
              "      <th>Injury</th>\n",
              "      <th>Fatal (Y/N)</th>\n",
              "      <th>Time</th>\n",
              "      <th>Species</th>\n",
              "      <th>Investigator or Source</th>\n",
              "      <th>pdf</th>\n",
              "      <th>href formula</th>\n",
              "      <th>href</th>\n",
              "      <th>Case Number.1</th>\n",
              "      <th>Case Number.2</th>\n",
              "      <th>original order</th>\n",
              "      <th>Unnamed: 22</th>\n",
              "      <th>Unnamed: 23</th>\n",
              "    </tr>\n",
              "  </thead>\n",
              "  <tbody>\n",
              "    <tr>\n",
              "      <th>56</th>\n",
              "      <td>NaN</td>\n",
              "      <td>13-Jan-2021</td>\n",
              "      <td>2021.0</td>\n",
              "      <td>Unprovoked</td>\n",
              "      <td>BRAZIL</td>\n",
              "      <td>Pernambuco</td>\n",
              "      <td>Cacimba do Padre Beach</td>\n",
              "      <td>Surfing</td>\n",
              "      <td>Sergo Noronha</td>\n",
              "      <td>M</td>\n",
              "      <td>52</td>\n",
              "      <td>Puncture wounds to right hand</td>\n",
              "      <td>N</td>\n",
              "      <td>NaN</td>\n",
              "      <td>NaN</td>\n",
              "      <td>K. McMurray, TrackingSharks.com</td>\n",
              "      <td>2021.01.13.b-Noronha.pdf</td>\n",
              "      <td>http://sharkattackfile.net/spreadsheets/pdf_di...</td>\n",
              "      <td>http://sharkattackfile.net/spreadsheets/pdf_di...</td>\n",
              "      <td>2021.01.13.b</td>\n",
              "      <td>2021.01.13.b</td>\n",
              "      <td>6612.0</td>\n",
              "      <td>NaN</td>\n",
              "      <td>NaN</td>\n",
              "    </tr>\n",
              "    <tr>\n",
              "      <th>5848</th>\n",
              "      <td>NaN</td>\n",
              "      <td>Reported 06-Sep-1905</td>\n",
              "      <td>1905.0</td>\n",
              "      <td>Provoked</td>\n",
              "      <td>USA</td>\n",
              "      <td>Florida</td>\n",
              "      <td>Fort Pierce, St Lucie County</td>\n",
              "      <td>Fishing</td>\n",
              "      <td>David Curry</td>\n",
              "      <td>M</td>\n",
              "      <td>NaN</td>\n",
              "      <td>Lacerations to leg from hooked shark PROVOKED ...</td>\n",
              "      <td>N</td>\n",
              "      <td>NaN</td>\n",
              "      <td>NaN</td>\n",
              "      <td>Muncie Evening Press, 8/6/1913</td>\n",
              "      <td>1905.09.06.R-Curry.pdf</td>\n",
              "      <td>http://sharkattackfile.net/spreadsheets/pdf_di...</td>\n",
              "      <td>http://sharkattackfile.net/spreadsheets/pdf_di...</td>\n",
              "      <td>1905.09.06.R</td>\n",
              "      <td>1905.09.06.R</td>\n",
              "      <td>820.0</td>\n",
              "      <td>NaN</td>\n",
              "      <td>NaN</td>\n",
              "    </tr>\n",
              "  </tbody>\n",
              "</table>\n",
              "</div>"
            ],
            "text/plain": [
              "     Case Number                  Date  ...  Unnamed: 22 Unnamed: 23\n",
              "56           NaN           13-Jan-2021  ...          NaN         NaN\n",
              "5848         NaN  Reported 06-Sep-1905  ...          NaN         NaN\n",
              "\n",
              "[2 rows x 24 columns]"
            ]
          },
          "metadata": {
            "tags": []
          },
          "execution_count": 10
        }
      ]
    },
    {
      "cell_type": "code",
      "metadata": {
        "id": "-T70tNJfjNA9"
      },
      "source": [
        "# filling in missing values for the Case Number column with values from the Case Number.1 column\n",
        "df['Case Number'] = df['Case Number'].fillna(df['Case Number.1'])"
      ],
      "execution_count": 11,
      "outputs": []
    },
    {
      "cell_type": "code",
      "metadata": {
        "colab": {
          "base_uri": "https://localhost:8080/"
        },
        "id": "lEmu3dZjP4NX",
        "outputId": "4c43d9c9-ae4d-455e-d936-56d643a2bf91"
      },
      "source": [
        "df['Case Number'].isnull().sum()"
      ],
      "execution_count": 12,
      "outputs": [
        {
          "output_type": "execute_result",
          "data": {
            "text/plain": [
              "0"
            ]
          },
          "metadata": {
            "tags": []
          },
          "execution_count": 12
        }
      ]
    },
    {
      "cell_type": "code",
      "metadata": {
        "id": "XEWsh2spxYiF"
      },
      "source": [
        "# renaming the Case Number column to Case Id and the Sex and Species columns to eliminate the white space\n",
        "df.rename(columns={'Case Number' : 'Case Id',\n",
        "                   'Sex ' : 'Sex',\n",
        "                   'Species ' : 'Species'}, inplace=True)"
      ],
      "execution_count": 13,
      "outputs": []
    },
    {
      "cell_type": "code",
      "metadata": {
        "id": "UtPp9iHilJBu"
      },
      "source": [
        "# dropping empty and redundant columns\n",
        "df = df.drop(columns=(['Case Number.1', 'Case Number.2', 'Unnamed: 22', 'Unnamed: 23']))"
      ],
      "execution_count": 14,
      "outputs": []
    },
    {
      "cell_type": "markdown",
      "metadata": {
        "id": "4cfBrHKDJew9"
      },
      "source": [
        "## Sharks"
      ]
    },
    {
      "cell_type": "markdown",
      "metadata": {
        "id": "1tvYTauEJh4g"
      },
      "source": [
        "- filtering out obvious irrelevant columns by renaming dataframe to ***sharks***, leaving the original ***df*** for reference.\n",
        "\n",
        "- fix value errors for ***Country*** column by ensuring capitalization and spelling consistency.\n",
        "\n",
        "- fix ***Area*** and ***Location*** columns by ensuring the proper value is associated with the appropriate column. Some of the values are mixed between columns. Also, correct missing values by calling *Unkown* or *Unspecified*\n",
        "\n",
        "- analayze the value_counts() and fill *NaN* values of the ***Date*** and ***Year*** columns\n",
        "\n",
        "- analyze the value_counts() and correct inconsistencies of the ***Species*** and ***Fatal(Y/N)*** column"
      ]
    },
    {
      "cell_type": "code",
      "metadata": {
        "id": "cTN-n0fCZPhq",
        "colab": {
          "base_uri": "https://localhost:8080/"
        },
        "outputId": "3b99b4b6-b276-411d-a0a2-fb4122e028af"
      },
      "source": [
        "# assigning new name to df so as to drop the obvious unnecessary columns\n",
        "# leaving all other columns even if they are obviously unnecessary just in case they contain\n",
        "#    valuable information for the data cleaning process\n",
        "sharks = df.drop(columns=(['pdf', 'Name', 'href formula', 'href']))\n",
        "sharks.info()"
      ],
      "execution_count": 15,
      "outputs": [
        {
          "output_type": "stream",
          "text": [
            "<class 'pandas.core.frame.DataFrame'>\n",
            "RangeIndex: 6667 entries, 0 to 6666\n",
            "Data columns (total 16 columns):\n",
            " #   Column                  Non-Null Count  Dtype  \n",
            "---  ------                  --------------  -----  \n",
            " 0   Case Id                 6667 non-null   object \n",
            " 1   Date                    6666 non-null   object \n",
            " 2   Year                    6665 non-null   float64\n",
            " 3   Type                    6655 non-null   object \n",
            " 4   Country                 6617 non-null   object \n",
            " 5   Area                    6196 non-null   object \n",
            " 6   Location                6115 non-null   object \n",
            " 7   Activity                6104 non-null   object \n",
            " 8   Sex                     6093 non-null   object \n",
            " 9   Age                     3744 non-null   object \n",
            " 10  Injury                  6635 non-null   object \n",
            " 11  Fatal (Y/N)             6115 non-null   object \n",
            " 12  Time                    3224 non-null   object \n",
            " 13  Species                 3669 non-null   object \n",
            " 14  Investigator or Source  6649 non-null   object \n",
            " 15  original order          6667 non-null   float64\n",
            "dtypes: float64(2), object(14)\n",
            "memory usage: 833.5+ KB\n"
          ],
          "name": "stdout"
        }
      ]
    },
    {
      "cell_type": "code",
      "metadata": {
        "colab": {
          "base_uri": "https://localhost:8080/"
        },
        "id": "M9QvUP6YdGfN",
        "outputId": "4f1c628b-79c0-4a7a-cf81-2a830fe7edad"
      },
      "source": [
        "sharks.isnull().sum()"
      ],
      "execution_count": 16,
      "outputs": [
        {
          "output_type": "execute_result",
          "data": {
            "text/plain": [
              "Case Id                      0\n",
              "Date                         1\n",
              "Year                         2\n",
              "Type                        12\n",
              "Country                     50\n",
              "Area                       471\n",
              "Location                   552\n",
              "Activity                   563\n",
              "Sex                        574\n",
              "Age                       2923\n",
              "Injury                      32\n",
              "Fatal (Y/N)                552\n",
              "Time                      3443\n",
              "Species                   2998\n",
              "Investigator or Source      18\n",
              "original order               0\n",
              "dtype: int64"
            ]
          },
          "metadata": {
            "tags": []
          },
          "execution_count": 16
        }
      ]
    },
    {
      "cell_type": "markdown",
      "metadata": {
        "id": "_dfivunlqvzW"
      },
      "source": [
        "\n",
        "\n",
        "> ## ['Type'] Columun\n",
        "\n"
      ]
    },
    {
      "cell_type": "code",
      "metadata": {
        "colab": {
          "base_uri": "https://localhost:8080/"
        },
        "id": "1U8asORdRi10",
        "outputId": "3b82f205-3bcc-4fc1-b1f1-5b7658035fb3"
      },
      "source": [
        "sharks['Type'].value_counts()"
      ],
      "execution_count": 17,
      "outputs": [
        {
          "output_type": "execute_result",
          "data": {
            "text/plain": [
              "Unprovoked             4885\n",
              "Provoked                607\n",
              "Invalid                 552\n",
              "Watercraft              349\n",
              "Sea Disaster            240\n",
              "Questionable             12\n",
              "Boat                      7\n",
              "Unverified                1\n",
              "Unconfirmed               1\n",
              "Under investigation       1\n",
              "Name: Type, dtype: int64"
            ]
          },
          "metadata": {
            "tags": []
          },
          "execution_count": 17
        }
      ]
    },
    {
      "cell_type": "code",
      "metadata": {
        "id": "hH6hwSQ3sj4F"
      },
      "source": [
        "# fixing cell value inconsistencies\n",
        "sharks['Type'] = sharks['Type'].replace({'Unconfirmed' : 'Unverified',\n",
        "                                         'Under investigation' : 'Unverified',\n",
        "                                         'Questionable' : 'Unverified',\n",
        "                                         'Boat' : 'Watercraft'}).fillna('Unverified')"
      ],
      "execution_count": 18,
      "outputs": []
    },
    {
      "cell_type": "code",
      "metadata": {
        "colab": {
          "base_uri": "https://localhost:8080/"
        },
        "id": "1mixfkJvsB_M",
        "outputId": "6481bfff-0893-4850-8729-b4655104ca27"
      },
      "source": [
        "sharks['Type'].value_counts()"
      ],
      "execution_count": 19,
      "outputs": [
        {
          "output_type": "execute_result",
          "data": {
            "text/plain": [
              "Unprovoked      4885\n",
              "Provoked         607\n",
              "Invalid          552\n",
              "Watercraft       356\n",
              "Sea Disaster     240\n",
              "Unverified        27\n",
              "Name: Type, dtype: int64"
            ]
          },
          "metadata": {
            "tags": []
          },
          "execution_count": 19
        }
      ]
    },
    {
      "cell_type": "markdown",
      "metadata": {
        "id": "KQfuay0fq9t8"
      },
      "source": [
        "\n",
        "\n",
        "> ## ['Country'] Column\n",
        "\n"
      ]
    },
    {
      "cell_type": "markdown",
      "metadata": {
        "id": "6qRkOMc0tj6e"
      },
      "source": [
        "\n",
        "\n",
        "*   correcting spelling issues in ***Country*** column\n",
        "*   assigning values to another column with  country codes in order to plot a world map\n",
        "\n"
      ]
    },
    {
      "cell_type": "code",
      "metadata": {
        "colab": {
          "base_uri": "https://localhost:8080/"
        },
        "id": "o09Ke0_D_Yc4",
        "outputId": "82d62710-55a0-4ebf-f698-c8c6faecb51c"
      },
      "source": [
        "sharks['Country'].nunique()"
      ],
      "execution_count": 20,
      "outputs": [
        {
          "output_type": "execute_result",
          "data": {
            "text/plain": [
              "216"
            ]
          },
          "metadata": {
            "tags": []
          },
          "execution_count": 20
        }
      ]
    },
    {
      "cell_type": "code",
      "metadata": {
        "id": "UzuN5bq__1OR"
      },
      "source": [
        "# fixing cell value inconsistencies, spelling and formatting issues\n",
        "sharks['Country'] = sharks['Country'].replace({' PHILIPPINES' : 'PHILIPPINES',\n",
        "                                               ' TONGA' : 'TONGA',\n",
        "                                               'ASIA?' : 'ASIA',\n",
        "                                               'ANDAMAN ISLANDS' : 'ANDAMAN AND NICOBAR ISLANDS',\n",
        "                                               'ANDAMAN / NICOBAR ISLANDAS' : 'ANDAMAN AND NICOBAR ISLANDS',\n",
        "                                               'BRITISH NEW GUINEA' : 'PAPUA NEW GUINEA',\n",
        "                                               'Between PORTUGAL & INDIA' : 'ATLANTIC OCEAN',\n",
        "                                               'CEYLON' : 'CEYLON (SRI LANKA)',\n",
        "                                               'COLUMBIA' : 'COLOMBIA',\n",
        "                                               'Coast of AFRICA' : 'SOUTH AFRICA',\n",
        "                                               'EGYPT ' : 'EGYPT',\n",
        "                                               'EGYPT / ISRAEL' : 'EGYPT',\n",
        "                                               'EQUATORIAL GUINEA / CAMEROON' : 'NEW GUINEA',\n",
        "                                               'GRAND CAYMAN' : 'CAYMAN ISLANDS',\n",
        "                                               'INDIAN OCEAN?' : 'INDIAN OCEAN',\n",
        "                                               'IRAN / IRAQ' : 'IRAN',\n",
        "                                               'ITALY / CROATIA' : 'ITALY',\n",
        "                                               'MALDIVE ISLANDS' : 'MALDIVES',\n",
        "                                               'MEXICO ' : 'MEXICO',\n",
        "                                               'MID ATLANTIC OCEAN' : 'ATLANTIC OCEAN',\n",
        "                                               'MID-PACIFIC OCEAN' : 'PACIFIC OCEAN',\n",
        "                                               'NICARAGUA ' : 'NICARAGUA',\n",
        "                                               'NORTH ATLANTIC OCEAN ' : 'NORTH ATLANTIC OCEAN',\n",
        "                                               'OCEAN' : 'OCEANIA',\n",
        "                                               'PACIFIC OCEAN ' : 'PACIFIC OCEAN',\n",
        "                                               'RED SEA / INDIAN OCEAN' : 'RED SEA',\n",
        "                                               'RED SEA?' : 'RED SEA',\n",
        "                                               'REUNION ISLAND' : 'REUNION',\n",
        "                                               'SOLOMON ISLANDS / VANUATU' : 'SOLOMON ISLANDS',\n",
        "                                               'SOUTH WEST PACIFIC OCEAN' : 'SOUTH PACIFIC OCEAN',\n",
        "                                               'ST HELENA, British overseas territory' : 'ST HELENA',\n",
        "                                               'ST KITTS / NEVIS' : 'ST KITTS',\n",
        "                                               'ST MARTIN' : 'ST MAARTEN',\n",
        "                                               'ST. MAARTIN' : 'ST MAARTEN',\n",
        "                                               'ST. MARTIN' : 'ST MAARTEN',\n",
        "                                               'SUDAN?' : 'SUDAN',\n",
        "                                               'THE BALKANS' : 'BALKANS',\n",
        "                                               'TRINIDAD & TOBAGO' : 'TOBAGO',\n",
        "                                               'UNITED ARAB EMIRATES (UAE)' : 'UNITED ARAB EMIRATES',\n",
        "                                               'BRITISH WEST INDIES' : 'WEST INDIES',\n",
        "                                               'WESTERN SAMOA' : 'SAMOA',\n",
        "                                               'Sierra Leone' : 'SIERRA LEONE',\n",
        "                                               'Seychelles' : 'SEYCHELLES',\n",
        "                                               'YEMEN ' : 'YEMEN'})"
      ],
      "execution_count": 21,
      "outputs": []
    },
    {
      "cell_type": "code",
      "metadata": {
        "colab": {
          "base_uri": "https://localhost:8080/"
        },
        "id": "QBgy6NmJ-Fjt",
        "outputId": "6d91ca67-9765-43ce-c81e-aae613e84c86"
      },
      "source": [
        "vc = sharks['Country'].value_counts()\n",
        "vc.sort_index()[90:110]"
      ],
      "execution_count": 22,
      "outputs": [
        {
          "output_type": "execute_result",
          "data": {
            "text/plain": [
              "MADAGASCAR               8\n",
              "MALAYSIA                 5\n",
              "MALDIVES                 3\n",
              "MALTA                    5\n",
              "MARSHALL ISLANDS        13\n",
              "MARTINIQUE               3\n",
              "MAURITIUS               10\n",
              "MAYOTTE                  1\n",
              "MEDITERRANEAN SEA        2\n",
              "MEXICO                  96\n",
              "MICRONESIA               3\n",
              "MID-PACIFC OCEAN         1\n",
              "MONACO                   1\n",
              "MONTENEGRO               3\n",
              "MOZAMBIQUE              46\n",
              "NAMIBIA                  2\n",
              "NETHERLANDS ANTILLES     1\n",
              "NEVIS                    1\n",
              "NEW BRITAIN              6\n",
              "NEW CALEDONIA           62\n",
              "Name: Country, dtype: int64"
            ]
          },
          "metadata": {
            "tags": []
          },
          "execution_count": 22
        }
      ]
    },
    {
      "cell_type": "code",
      "metadata": {
        "colab": {
          "base_uri": "https://localhost:8080/"
        },
        "id": "egZzrxnVSvbU",
        "outputId": "cf3a1f9a-d2da-435d-ca70-aa72313563f4"
      },
      "source": [
        "sharks['Country'].isna().sum()"
      ],
      "execution_count": 23,
      "outputs": [
        {
          "output_type": "execute_result",
          "data": {
            "text/plain": [
              "50"
            ]
          },
          "metadata": {
            "tags": []
          },
          "execution_count": 23
        }
      ]
    },
    {
      "cell_type": "code",
      "metadata": {
        "colab": {
          "base_uri": "https://localhost:8080/"
        },
        "id": "ZD1ZoFO3gZ_-",
        "outputId": "8eb16911-5cc4-4633-b2a6-2c91ffb9f739"
      },
      "source": [
        "sharks['Country'].nunique()"
      ],
      "execution_count": 24,
      "outputs": [
        {
          "output_type": "execute_result",
          "data": {
            "text/plain": [
              "181"
            ]
          },
          "metadata": {
            "tags": []
          },
          "execution_count": 24
        }
      ]
    },
    {
      "cell_type": "code",
      "metadata": {
        "colab": {
          "base_uri": "https://localhost:8080/"
        },
        "id": "qDfViLw6-ZqF",
        "outputId": "d02e3c41-71dd-4476-f59f-af95e18f983a"
      },
      "source": [
        " sharks.loc[sharks['Country'].isna(), :].count()"
      ],
      "execution_count": 25,
      "outputs": [
        {
          "output_type": "execute_result",
          "data": {
            "text/plain": [
              "Case Id                   50\n",
              "Date                      50\n",
              "Year                      50\n",
              "Type                      50\n",
              "Country                    0\n",
              "Area                      15\n",
              "Location                  11\n",
              "Activity                  43\n",
              "Sex                       46\n",
              "Age                        9\n",
              "Injury                    48\n",
              "Fatal (Y/N)               45\n",
              "Time                       7\n",
              "Species                   12\n",
              "Investigator or Source    50\n",
              "original order            50\n",
              "dtype: int64"
            ]
          },
          "metadata": {
            "tags": []
          },
          "execution_count": 25
        }
      ]
    },
    {
      "cell_type": "code",
      "metadata": {
        "id": "X5aPMfgTM2cr"
      },
      "source": [
        "sharks['Country'] = sharks['Country'].fillna('UNKNOWN')"
      ],
      "execution_count": 26,
      "outputs": []
    },
    {
      "cell_type": "code",
      "metadata": {
        "colab": {
          "base_uri": "https://localhost:8080/"
        },
        "id": "Rv3HXEtGVqgG",
        "outputId": "51c7c9b9-0efb-4b23-f294-6c9099867d56"
      },
      "source": [
        "sharks['Country'].isna().sum()"
      ],
      "execution_count": 27,
      "outputs": [
        {
          "output_type": "execute_result",
          "data": {
            "text/plain": [
              "0"
            ]
          },
          "metadata": {
            "tags": []
          },
          "execution_count": 27
        }
      ]
    },
    {
      "cell_type": "code",
      "metadata": {
        "colab": {
          "base_uri": "https://localhost:8080/"
        },
        "id": "Lr-FsY6zL81A",
        "outputId": "b0f878da-576b-4e28-f96a-1467ac5f0fee"
      },
      "source": [
        "sharks['Country'].value_counts()"
      ],
      "execution_count": 28,
      "outputs": [
        {
          "output_type": "execute_result",
          "data": {
            "text/plain": [
              "USA                 2409\n",
              "AUSTRALIA           1425\n",
              "SOUTH AFRICA         590\n",
              "NEW ZEALAND          139\n",
              "PAPUA NEW GUINEA     136\n",
              "                    ... \n",
              "DJIBOUTI               1\n",
              "GABON                  1\n",
              "PARAGUAY               1\n",
              "TASMAN SEA             1\n",
              "COOK ISLANDS           1\n",
              "Name: Country, Length: 182, dtype: int64"
            ]
          },
          "metadata": {
            "tags": []
          },
          "execution_count": 28
        }
      ]
    },
    {
      "cell_type": "markdown",
      "metadata": {
        "id": "omwDoVjwsub0"
      },
      "source": [
        "\n",
        "\n",
        "> ## ['Area'] and ['Location'] Columns\n",
        "\n",
        "*   filling in some missing values or replacing incorrect values from the values in the adjacent column (either ***Area*** to ***Location*** or vice versa)\n",
        "*   replacing mis-labeled values with  proper label\n",
        "*   moving values from wrong column to the correct column\n",
        "\n",
        "\n",
        "\n",
        "\n",
        "\n"
      ]
    },
    {
      "cell_type": "code",
      "metadata": {
        "id": "-p4DkO2yi5c-"
      },
      "source": [
        "sharks.loc[sharks['Location']== 'Santa Cruz', 'Country'] = sharks.loc[sharks['Location']== 'Santa Cruz', 'Country'].fillna('USA')\n",
        "sharks.loc[sharks['Location']== 'Santa Cruz', 'Area'] = sharks.loc[sharks['Location']== 'Santa Cruz', 'Area'].fillna('California')"
      ],
      "execution_count": 29,
      "outputs": []
    },
    {
      "cell_type": "code",
      "metadata": {
        "id": "ABiH_5q3kZx7"
      },
      "source": [
        "sharks.loc[sharks['original order']== 496, :] = sharks.loc[sharks['original order']== 496, :].replace('Santa Cruz','Santa Cruz, Santa Cruz County')"
      ],
      "execution_count": 30,
      "outputs": []
    },
    {
      "cell_type": "code",
      "metadata": {
        "id": "Uls0uMENAOeP"
      },
      "source": [
        "sharks.loc[sharks['Area']=='English Channel', 'Country'] = sharks.loc[sharks['Area']=='English Channel', 'Country'].fillna('ENGLAND')\n",
        "sharks.loc[sharks['Location']=='Between St. Kitts & Nevis', ['Country', 'Area']] = sharks.loc[sharks['Location']=='Between St. Kitts & Nevis', ['Country', 'Area']].fillna('ST KITTS').replace('Caribbean Sea', 'The Narrows')\n",
        "sharks.loc[sharks['Location']=='Florida Strait', 'Country'] = sharks.loc[sharks['Location']=='Florida Strait', 'Country'].fillna('USA')\n",
        "sharks.loc[sharks['Location']=='Florida Strait', 'Area'] = sharks.loc[sharks['Location']=='Florida Strait', 'Area'].fillna('Florida')"
      ],
      "execution_count": 31,
      "outputs": []
    },
    {
      "cell_type": "code",
      "metadata": {
        "id": "s7u5Nh3GKH7j"
      },
      "source": [
        "sharks.loc[sharks['Area']=='Between Timor & Darwin, Australia', 'Country'] = sharks.loc[sharks['Area']=='Between Timor & Darwin, Australia', 'Country'].fillna('AUSTRALIA')\n",
        "sharks.loc[sharks['Area']=='Between Timor & Darwin, Australia', 'Location'] = sharks.loc[sharks['Area']=='Between Timor & Darwin, Australia', 'Location'].fillna('Darwin')"
      ],
      "execution_count": 32,
      "outputs": []
    },
    {
      "cell_type": "code",
      "metadata": {
        "id": "B3qCKRaIMvwW"
      },
      "source": [
        "sharks.loc[sharks['Area']=='Caribbean Sea', 'Country'] = sharks.loc[sharks['Area']=='Caribbean Sea', 'Country'].fillna('CARIBBEAN SEA')\n",
        "sharks.loc[sharks['Area']=='Near the Andaman & Nicobar Islands', 'Country'] = sharks.loc[sharks['Area']=='Near the Andaman & Nicobar Islands', 'Country'].fillna('ANDAMAN AND NICOBAR ISLANDS')\n",
        "sharks.loc[sharks['Area']=='Caribbean Sea', 'Country'] = sharks.loc[sharks['Area']=='Caribbean Sea', 'Country'].fillna('CARIBBEAN SEA')\n",
        "sharks.loc[sharks['Area']=='Between Comores & Madagascar', 'Country'] = sharks.loc[sharks['Area']=='Between Comores & Madagascar', 'Country'].fillna('COMOROS')"
      ],
      "execution_count": 33,
      "outputs": []
    },
    {
      "cell_type": "code",
      "metadata": {
        "id": "offr6z8YRVkz"
      },
      "source": [
        "sharks.loc[sharks['Location']=='225 miles east of Hong Kong', 'Country'] = sharks.loc[sharks['Location']=='225 miles east of Hong Kong', 'Country'].fillna('CHINA')\n",
        "sharks.loc[sharks['Location']=='225 miles east of Hong Kong', 'Area'] = sharks.loc[sharks['Location']=='225 miles east of Hong Kong', 'Area'].fillna('Hong Kong')\n",
        "sharks.loc[sharks['Area']== 'New Territories', :] = sharks.loc[sharks['Area']== 'New Territories', :].replace({'HONG KONG':'CHINA', 'New Territories':'Hong Kong'})\n",
        "sharks.loc[sharks['Area']== 'Mirs Bay ', ['Area','Location', 'Country']] = sharks.loc[sharks['Area']== 'Mirs Bay ', ['Area','Location', 'Country']].replace({'HONG KONG':'CHINA','Mirs Bay ':'Hong Kong'}).fillna('Mirs Bay')\n",
        "sharks.loc[sharks['Area']=='Ho Ha Wan Marine Park', 'Location'] = sharks.loc[sharks['Area']=='Ho Ha Wan Marine Park', 'Location'].fillna('Ho Ha Wan Marine Park')\n",
        "sharks.loc[sharks['Area']=='South China Sea 200 miles from Hong Kong', 'Location'] = sharks.loc[sharks['Area']=='South China Sea 200 miles from Hong Kong', 'Location'].fillna('South China Sea 200 miles from Hong Kong')\n",
        "# Hong Kong is not a country. Correcting Country and Area columns to reflect accurate entry\n",
        "sharks.loc[sharks['Country']=='HONG KONG', 'Area'] = sharks.loc[sharks['Country']=='HONG KONG', 'Area'].fillna('Hong Kong')\n",
        "sharks.loc[sharks['Country']=='HONG KONG', ['Country', 'Area', \n",
        "                                            'Location']] = sharks.loc[sharks['Country']=='HONG KONG', ['Country', 'Area', \n",
        "                                                                                                       'Location']].replace({'HONG KONG':'CHINA',\n",
        "                                                                                                       'Clearwater Bay':'Hong Kong',\n",
        "                                                                                                       'On the Kowloon penisula, south of Sai Kung':'Hong Kong',\n",
        "                                                                                                       'Kowloon Peninsula':'Hong Kong',\n",
        "                                                                                                       'Port Shelter':'Hong Kong',\n",
        "                                                                                                       'Ho Ha Wan Marine Park': 'Hong Kong',\n",
        "                                                                                                       'South China Sea 200 miles from Hong Kong':'Hong Kong',\n",
        "                                                                                                       'First Beach':'Clearwater Bay First Beach',\n",
        "                                                                                                       'Silverstrand':'Kowloon Peninsula, South of Sai Kung, Silverstrand',\n",
        "                                                                                                       'Sai Kung':'Kowloon Peninsula, Sai Kung',\n",
        "                                                                                                       'Silverstand Beach, near Hung Hau':'Port Shelter, Silverstrand Beach, near Hung Hau',\n",
        "                                                                                                       })\n",
        "                 "
      ],
      "execution_count": 34,
      "outputs": []
    },
    {
      "cell_type": "code",
      "metadata": {
        "id": "b4cGxwAgfNPx"
      },
      "source": [
        "sharks.loc[sharks['Country']=='CHINA', 'Area'] = sharks.loc[sharks['Country']=='CHINA', 'Area'].fillna('Macao')\n",
        "sharks.loc[sharks['Location']=='Macao Harbor', 'Fatal (Y/N)'] = sharks.loc[sharks['Location']=='Macao Harbor', 'Fatal (Y/N)'].fillna('N')"
      ],
      "execution_count": 35,
      "outputs": []
    },
    {
      "cell_type": "code",
      "metadata": {
        "id": "Wng9VQzelsbm"
      },
      "source": [
        "sharks.loc[sharks['Location']=='In a river feeding into the Bay of Bengal', 'Country'] = sharks.loc[sharks['Location']=='In a river feeding into the Bay of Bengal', 'Country'].fillna('INDIA')\n",
        "sharks.loc[sharks['Location']=='In a river feeding into the Bay of Bengal', 'Area'] = sharks.loc[sharks['Location']=='In a river feeding into the Bay of Bengal', 'Area'].fillna('Bay of Bengal')"
      ],
      "execution_count": 36,
      "outputs": []
    },
    {
      "cell_type": "code",
      "metadata": {
        "id": "GzTO5tUInkeQ"
      },
      "source": [
        "sharks.loc[sharks['Area']=='Ionian Sea', 'Country'] = sharks.loc[sharks['Area']=='Ionian Sea', 'Country'].fillna('GREECE')"
      ],
      "execution_count": 37,
      "outputs": []
    },
    {
      "cell_type": "code",
      "metadata": {
        "id": "guWvvhnJqFFi"
      },
      "source": [
        "sharks.loc[sharks['Area']=='St Helena', 'Country'] = sharks.loc[sharks['Area']=='St Helena', 'Country'].fillna('SOUTH ATLANTIC OCEAN')"
      ],
      "execution_count": 38,
      "outputs": []
    },
    {
      "cell_type": "code",
      "metadata": {
        "id": "_pJhYPekv2z8"
      },
      "source": [
        "sharks.loc[sharks['Location']=='Carlisle Bay', 'Country'] = sharks.loc[sharks['Location']=='Carlisle Bay', 'Country'].fillna('ANTIGUA')\n"
      ],
      "execution_count": 39,
      "outputs": []
    },
    {
      "cell_type": "code",
      "metadata": {
        "id": "7cPbuKjTxtU5"
      },
      "source": [
        "sharks.loc[sharks['Area']=='Western Banks', 'Country'] = sharks.loc[sharks['Area']=='Western Banks', 'Country'].fillna('USA')\n",
        "sharks.loc[sharks['Area']=='Western Banks', ['Area', 'Location']] = sharks.loc[sharks['Area']=='Western Banks', ['Area', 'Location']].replace('Western Banks','Maine').fillna('Western Banks')\n",
        "sharks.loc[sharks['Area']=='Gulf of California', 'Country'] = sharks.loc[sharks['Area']=='Gulf of California', 'Country'].fillna('MEXICO')\n",
        "sharks.loc[sharks['Area']=='Mediterranean Sea', 'Country'] = sharks.loc[sharks['Area']=='Mediterranean Sea', 'Country'].fillna('MEDITERRANEAN SEA')\n",
        "sharks.loc[sharks['Location']=='Île Saint-Paul', ['Country', 'Area']] = sharks.loc[sharks['Location']=='Île Saint-Paul', ['Country', 'Area']].fillna('CANADA').replace('French Southern Territories','Nova Scotia')\n"
      ],
      "execution_count": 40,
      "outputs": []
    },
    {
      "cell_type": "code",
      "metadata": {
        "id": "prMB-ooL3X8t"
      },
      "source": [
        "sharks.loc[sharks['Area']=='300 miles east of St. Thomas (Virgin Islands)', 'Country'] = sharks.loc[sharks['Area']=='300 miles east of St. Thomas (Virgin Islands)', 'Country'].fillna('NORTH ATLANTIC OCEAN')"
      ],
      "execution_count": 41,
      "outputs": []
    },
    {
      "cell_type": "code",
      "metadata": {
        "id": "lqKxG891W4Rm"
      },
      "source": [
        "sharks.loc[sharks.index == 5062, 'Location'] = sharks.loc[sharks.index == 5062, 'Location'].fillna(sharks['Area'])\n",
        "sharks.loc[sharks.index == 5062, 'Area'] = sharks.loc[sharks.index == 5062, 'Area'].replace('04.05N-13.23W', np.nan)\n",
        "sharks.loc[sharks.index == 4287, 'Area'] = sharks.loc[sharks.index == 4287, 'Area'].replace('9.35N 79.35W', 'East of La Grande Island, North of Panama Canal')\n",
        "sharks.loc[sharks.index == 4287, 'Location'] = sharks.loc[sharks.index == 4287, 'Location'].replace('East of La Grande Island, North of Panama Canal','9.35N 79.35W')"
      ],
      "execution_count": 42,
      "outputs": []
    },
    {
      "cell_type": "code",
      "metadata": {
        "colab": {
          "base_uri": "https://localhost:8080/",
          "height": 194
        },
        "id": "KtSjZFgDbRXs",
        "outputId": "8d5ee38b-082f-4516-cfa0-f9c43ecc4fdd"
      },
      "source": [
        "sharks.loc[sharks['Country'].str.contains('OCEAN'), :].head(2)"
      ],
      "execution_count": 43,
      "outputs": [
        {
          "output_type": "execute_result",
          "data": {
            "text/html": [
              "<div>\n",
              "<style scoped>\n",
              "    .dataframe tbody tr th:only-of-type {\n",
              "        vertical-align: middle;\n",
              "    }\n",
              "\n",
              "    .dataframe tbody tr th {\n",
              "        vertical-align: top;\n",
              "    }\n",
              "\n",
              "    .dataframe thead th {\n",
              "        text-align: right;\n",
              "    }\n",
              "</style>\n",
              "<table border=\"1\" class=\"dataframe\">\n",
              "  <thead>\n",
              "    <tr style=\"text-align: right;\">\n",
              "      <th></th>\n",
              "      <th>Case Id</th>\n",
              "      <th>Date</th>\n",
              "      <th>Year</th>\n",
              "      <th>Type</th>\n",
              "      <th>Country</th>\n",
              "      <th>Area</th>\n",
              "      <th>Location</th>\n",
              "      <th>Activity</th>\n",
              "      <th>Sex</th>\n",
              "      <th>Age</th>\n",
              "      <th>Injury</th>\n",
              "      <th>Fatal (Y/N)</th>\n",
              "      <th>Time</th>\n",
              "      <th>Species</th>\n",
              "      <th>Investigator or Source</th>\n",
              "      <th>original order</th>\n",
              "    </tr>\n",
              "  </thead>\n",
              "  <tbody>\n",
              "    <tr>\n",
              "      <th>794</th>\n",
              "      <td>2015.02.15</td>\n",
              "      <td>15-Feb-2015</td>\n",
              "      <td>2015.0</td>\n",
              "      <td>Watercraft</td>\n",
              "      <td>ATLANTIC OCEAN</td>\n",
              "      <td>NaN</td>\n",
              "      <td>NaN</td>\n",
              "      <td>Transatlantic Rowing</td>\n",
              "      <td>NaN</td>\n",
              "      <td>NaN</td>\n",
              "      <td>No injury, shark bit rudder</td>\n",
              "      <td>N</td>\n",
              "      <td>NaN</td>\n",
              "      <td>White shark</td>\n",
              "      <td>Yorkshire Post, 3/16/2014</td>\n",
              "      <td>5874.0</td>\n",
              "    </tr>\n",
              "    <tr>\n",
              "      <th>1855</th>\n",
              "      <td>2006.01.28.R</td>\n",
              "      <td>Reported 28-Jan-2006</td>\n",
              "      <td>2006.0</td>\n",
              "      <td>Watercraft</td>\n",
              "      <td>ATLANTIC OCEAN</td>\n",
              "      <td>300 miles from Antigua</td>\n",
              "      <td>NaN</td>\n",
              "      <td>Competing in the Woodvale Atlantic Rowing Race</td>\n",
              "      <td>M</td>\n",
              "      <td>46 &amp; 34</td>\n",
              "      <td>No injury to occupants; shark rammed boat repe...</td>\n",
              "      <td>N</td>\n",
              "      <td>NaN</td>\n",
              "      <td>12' shark</td>\n",
              "      <td>N. Bevan, icwales.icnetwork.co.uk, 1/28/2006</td>\n",
              "      <td>4813.0</td>\n",
              "    </tr>\n",
              "  </tbody>\n",
              "</table>\n",
              "</div>"
            ],
            "text/plain": [
              "           Case Id  ... original order\n",
              "794     2015.02.15  ...         5874.0\n",
              "1855  2006.01.28.R  ...         4813.0\n",
              "\n",
              "[2 rows x 16 columns]"
            ]
          },
          "metadata": {
            "tags": []
          },
          "execution_count": 43
        }
      ]
    },
    {
      "cell_type": "code",
      "metadata": {
        "id": "XgCsoXApu6nD"
      },
      "source": [
        "sharks.loc[sharks['Country'].str.contains('OCEAN'), ['Area', 'Location']] = sharks.loc[sharks['Country'].str.contains('OCEAN'), ['Area', 'Location']].fillna('Open Sea')"
      ],
      "execution_count": 44,
      "outputs": []
    },
    {
      "cell_type": "code",
      "metadata": {
        "colab": {
          "base_uri": "https://localhost:8080/"
        },
        "id": "TJDSmi7eV2Zv",
        "outputId": "16e37d9d-47b6-4285-b820-d3b87212dd04"
      },
      "source": [
        "sharks[['Area', 'Location']].isna().sum()"
      ],
      "execution_count": 45,
      "outputs": [
        {
          "output_type": "execute_result",
          "data": {
            "text/plain": [
              "Area        419\n",
              "Location    490\n",
              "dtype: int64"
            ]
          },
          "metadata": {
            "tags": []
          },
          "execution_count": 45
        }
      ]
    },
    {
      "cell_type": "markdown",
      "metadata": {
        "id": "5iV2FBGTeaF6"
      },
      "source": [
        "\n",
        "\n",
        "> ## ['Fatal'] Column\n",
        "\n"
      ]
    },
    {
      "cell_type": "code",
      "metadata": {
        "id": "xfSRfsIqBajq"
      },
      "source": [
        "# renaming Fatal column (removing (Y/N) from title)\n",
        "sharks = sharks.rename(columns=({'Fatal (Y/N)' : 'Fatal'}))\n",
        "# filling in missing values with UnV (Unverified)\n",
        "sharks['Fatal'] = sharks['Fatal'].fillna('UnV')"
      ],
      "execution_count": 46,
      "outputs": []
    },
    {
      "cell_type": "code",
      "metadata": {
        "colab": {
          "base_uri": "https://localhost:8080/"
        },
        "id": "3xO_DpNf4uM9",
        "outputId": "d6dc08bc-9a8f-46a5-cc88-fceb749efb52"
      },
      "source": [
        "sharks.isnull().sum()"
      ],
      "execution_count": 47,
      "outputs": [
        {
          "output_type": "execute_result",
          "data": {
            "text/plain": [
              "Case Id                      0\n",
              "Date                         1\n",
              "Year                         2\n",
              "Type                         0\n",
              "Country                      0\n",
              "Area                       419\n",
              "Location                   490\n",
              "Activity                   563\n",
              "Sex                        574\n",
              "Age                       2923\n",
              "Injury                      32\n",
              "Fatal                        0\n",
              "Time                      3443\n",
              "Species                   2998\n",
              "Investigator or Source      18\n",
              "original order               0\n",
              "dtype: int64"
            ]
          },
          "metadata": {
            "tags": []
          },
          "execution_count": 47
        }
      ]
    },
    {
      "cell_type": "markdown",
      "metadata": {
        "id": "ZAJ82RwNS6EV"
      },
      "source": [
        "> ## ['Date'] & ['Year'] Columns"
      ]
    },
    {
      "cell_type": "markdown",
      "metadata": {
        "id": "MOWkmDZTL_FO"
      },
      "source": [
        "- many formatting issues. Values are mostly represented, but format is inconsistent.\n",
        "- correcting ***Date*** and ***Year*** column dytpes\n",
        "- all imputed dates/years values were derived from the following methods (in order of importance): \n",
        "- 1.   deduced from the date or year mentioned in the original non-descript cell value\n",
        "- 2.   the given date/year from another column (if mentioned)\n",
        "- 3.   by finding the median value from a range of years or dates provided"
      ]
    },
    {
      "cell_type": "code",
      "metadata": {
        "colab": {
          "base_uri": "https://localhost:8080/",
          "height": 80
        },
        "id": "Q5BYHvHJ7ZLe",
        "outputId": "23c37c29-5c01-4c29-a0d9-e44a9f914782"
      },
      "source": [
        "sharks.loc[sharks['Date'].isnull(), :]"
      ],
      "execution_count": 48,
      "outputs": [
        {
          "output_type": "execute_result",
          "data": {
            "text/html": [
              "<div>\n",
              "<style scoped>\n",
              "    .dataframe tbody tr th:only-of-type {\n",
              "        vertical-align: middle;\n",
              "    }\n",
              "\n",
              "    .dataframe tbody tr th {\n",
              "        vertical-align: top;\n",
              "    }\n",
              "\n",
              "    .dataframe thead th {\n",
              "        text-align: right;\n",
              "    }\n",
              "</style>\n",
              "<table border=\"1\" class=\"dataframe\">\n",
              "  <thead>\n",
              "    <tr style=\"text-align: right;\">\n",
              "      <th></th>\n",
              "      <th>Case Id</th>\n",
              "      <th>Date</th>\n",
              "      <th>Year</th>\n",
              "      <th>Type</th>\n",
              "      <th>Country</th>\n",
              "      <th>Area</th>\n",
              "      <th>Location</th>\n",
              "      <th>Activity</th>\n",
              "      <th>Sex</th>\n",
              "      <th>Age</th>\n",
              "      <th>Injury</th>\n",
              "      <th>Fatal</th>\n",
              "      <th>Time</th>\n",
              "      <th>Species</th>\n",
              "      <th>Investigator or Source</th>\n",
              "      <th>original order</th>\n",
              "    </tr>\n",
              "  </thead>\n",
              "  <tbody>\n",
              "    <tr>\n",
              "      <th>6544</th>\n",
              "      <td>ND-0157</td>\n",
              "      <td>NaN</td>\n",
              "      <td>0.0</td>\n",
              "      <td>Unprovoked</td>\n",
              "      <td>BELIZE</td>\n",
              "      <td>NaN</td>\n",
              "      <td>NaN</td>\n",
              "      <td>NaN</td>\n",
              "      <td>M</td>\n",
              "      <td>NaN</td>\n",
              "      <td>NaN</td>\n",
              "      <td>N</td>\n",
              "      <td>NaN</td>\n",
              "      <td>NaN</td>\n",
              "      <td>D. Grant, SRI</td>\n",
              "      <td>124.0</td>\n",
              "    </tr>\n",
              "  </tbody>\n",
              "</table>\n",
              "</div>"
            ],
            "text/plain": [
              "      Case Id Date  Year  ... Species Investigator or Source original order\n",
              "6544  ND-0157  NaN   0.0  ...     NaN          D. Grant, SRI          124.0\n",
              "\n",
              "[1 rows x 16 columns]"
            ]
          },
          "metadata": {
            "tags": []
          },
          "execution_count": 48
        }
      ]
    },
    {
      "cell_type": "code",
      "metadata": {
        "id": "2EEpZdh8d-n7"
      },
      "source": [
        "# dropping row containing NaN in the Date column as most of the information is unknown\n",
        "sharks.dropna(subset= ['Date'], inplace=True)"
      ],
      "execution_count": 49,
      "outputs": []
    },
    {
      "cell_type": "code",
      "metadata": {
        "id": "DjJ9elDKwiOC"
      },
      "source": [
        "# unmixing the dtype for the Date column. It's currently a mixed dtype and impossible to correct \n",
        "#    messy formatting. Using .replace or .str.replace with current mixed dtype causes 150 NaNs\n",
        "# found code at on this website: https://stackoverflow.com/questions/33312706/pandas-convert-mixed-types-to-string\n",
        "sharks['Date'] = sharks['Date'].apply(lambda elt: str(int(elt)) if isinstance(elt, float) else str(elt))"
      ],
      "execution_count": 50,
      "outputs": []
    },
    {
      "cell_type": "code",
      "metadata": {
        "colab": {
          "base_uri": "https://localhost:8080/"
        },
        "id": "mMR8REWF2HUV",
        "outputId": "afd69b21-ed2e-4c75-d530-66933d013b3c"
      },
      "source": [
        "sharks['Date'].dtypes"
      ],
      "execution_count": 51,
      "outputs": [
        {
          "output_type": "execute_result",
          "data": {
            "text/plain": [
              "dtype('O')"
            ]
          },
          "metadata": {
            "tags": []
          },
          "execution_count": 51
        }
      ]
    },
    {
      "cell_type": "code",
      "metadata": {
        "colab": {
          "base_uri": "https://localhost:8080/"
        },
        "id": "6Y-M_FgWydWm",
        "outputId": "83d6411e-b684-4aec-be8a-a2424a37f882"
      },
      "source": [
        "sharks['Date'].value_counts()"
      ],
      "execution_count": 52,
      "outputs": [
        {
          "output_type": "execute_result",
          "data": {
            "text/plain": [
              "1957                    11\n",
              "1942                     9\n",
              "1956                     8\n",
              "1950                     7\n",
              "1958                     7\n",
              "                        ..\n",
              "Reported 11-Jan-1921     1\n",
              "06-Aug-2004              1\n",
              "Before 1917              1\n",
              "29-Sep-2003              1\n",
              "05-Jan-1949              1\n",
              "Name: Date, Length: 5736, dtype: int64"
            ]
          },
          "metadata": {
            "tags": []
          },
          "execution_count": 52
        }
      ]
    },
    {
      "cell_type": "code",
      "metadata": {
        "colab": {
          "base_uri": "https://localhost:8080/"
        },
        "id": "ruXG6A5GOoPv",
        "outputId": "d60914d0-9c71-4643-e912-e0c266c6ea62"
      },
      "source": [
        "sharks['Date'].str.contains('Reported').sum()"
      ],
      "execution_count": 53,
      "outputs": [
        {
          "output_type": "execute_result",
          "data": {
            "text/plain": [
              "564"
            ]
          },
          "metadata": {
            "tags": []
          },
          "execution_count": 53
        }
      ]
    },
    {
      "cell_type": "code",
      "metadata": {
        "id": "vPBq5qP086Lt"
      },
      "source": [
        "sharks['Date'] = sharks['Date'].str.replace('Reported', '')"
      ],
      "execution_count": 54,
      "outputs": []
    },
    {
      "cell_type": "code",
      "metadata": {
        "colab": {
          "base_uri": "https://localhost:8080/"
        },
        "id": "bxlEiVWryuL3",
        "outputId": "2a3e4179-5cbb-45a0-c0c8-3527a34d644e"
      },
      "source": [
        "sharks['Date'].str.contains('Reported').sum()"
      ],
      "execution_count": 55,
      "outputs": [
        {
          "output_type": "execute_result",
          "data": {
            "text/plain": [
              "0"
            ]
          },
          "metadata": {
            "tags": []
          },
          "execution_count": 55
        }
      ]
    },
    {
      "cell_type": "code",
      "metadata": {
        "colab": {
          "base_uri": "https://localhost:8080/"
        },
        "id": "sEmCaZBC8N-p",
        "outputId": "2fe1b881-5b2b-4b93-d22a-78813a70a7de"
      },
      "source": [
        "sharks['Date'].isnull().sum()"
      ],
      "execution_count": 56,
      "outputs": [
        {
          "output_type": "execute_result",
          "data": {
            "text/plain": [
              "0"
            ]
          },
          "metadata": {
            "tags": []
          },
          "execution_count": 56
        }
      ]
    },
    {
      "cell_type": "code",
      "metadata": {
        "colab": {
          "base_uri": "https://localhost:8080/"
        },
        "id": "phv1HkNVA83V",
        "outputId": "a15bfb13-cdbd-41bd-8c6f-cb7191478f13"
      },
      "source": [
        "sharks.shape"
      ],
      "execution_count": 57,
      "outputs": [
        {
          "output_type": "execute_result",
          "data": {
            "text/plain": [
              "(6666, 16)"
            ]
          },
          "metadata": {
            "tags": []
          },
          "execution_count": 57
        }
      ]
    },
    {
      "cell_type": "code",
      "metadata": {
        "colab": {
          "base_uri": "https://localhost:8080/"
        },
        "id": "DKz2OGvgLp0N",
        "outputId": "729e396f-47ee-4275-db5c-de8b10268496"
      },
      "source": [
        "sharks['Date'].str.contains('1018').sum()"
      ],
      "execution_count": 58,
      "outputs": [
        {
          "output_type": "execute_result",
          "data": {
            "text/plain": [
              "1"
            ]
          },
          "metadata": {
            "tags": []
          },
          "execution_count": 58
        }
      ]
    },
    {
      "cell_type": "code",
      "metadata": {
        "colab": {
          "base_uri": "https://localhost:8080/",
          "height": 472
        },
        "id": "2Zepv-a-HsIa",
        "outputId": "94521907-6507-4f21-aae3-d3c6a9383f3f"
      },
      "source": [
        "Nodate = sharks.loc[sharks['Date'].str.contains('No date'), :]\n",
        "Nodate.head()"
      ],
      "execution_count": 59,
      "outputs": [
        {
          "output_type": "execute_result",
          "data": {
            "text/html": [
              "<div>\n",
              "<style scoped>\n",
              "    .dataframe tbody tr th:only-of-type {\n",
              "        vertical-align: middle;\n",
              "    }\n",
              "\n",
              "    .dataframe tbody tr th {\n",
              "        vertical-align: top;\n",
              "    }\n",
              "\n",
              "    .dataframe thead th {\n",
              "        text-align: right;\n",
              "    }\n",
              "</style>\n",
              "<table border=\"1\" class=\"dataframe\">\n",
              "  <thead>\n",
              "    <tr style=\"text-align: right;\">\n",
              "      <th></th>\n",
              "      <th>Case Id</th>\n",
              "      <th>Date</th>\n",
              "      <th>Year</th>\n",
              "      <th>Type</th>\n",
              "      <th>Country</th>\n",
              "      <th>Area</th>\n",
              "      <th>Location</th>\n",
              "      <th>Activity</th>\n",
              "      <th>Sex</th>\n",
              "      <th>Age</th>\n",
              "      <th>Injury</th>\n",
              "      <th>Fatal</th>\n",
              "      <th>Time</th>\n",
              "      <th>Species</th>\n",
              "      <th>Investigator or Source</th>\n",
              "      <th>original order</th>\n",
              "    </tr>\n",
              "  </thead>\n",
              "  <tbody>\n",
              "    <tr>\n",
              "      <th>6574</th>\n",
              "      <td>ND.0110</td>\n",
              "      <td>No date, late 1960s</td>\n",
              "      <td>0.0</td>\n",
              "      <td>Unprovoked</td>\n",
              "      <td>VENEZUELA</td>\n",
              "      <td>Los Roques  Islands</td>\n",
              "      <td>NaN</td>\n",
              "      <td>Spearfishing</td>\n",
              "      <td>M</td>\n",
              "      <td>NaN</td>\n",
              "      <td>FATAL (x3), one survived with minor injuries</td>\n",
              "      <td>Y</td>\n",
              "      <td>NaN</td>\n",
              "      <td>said to involve 2.5 m hammerhead sharks</td>\n",
              "      <td>http://waterco.com.br/ataque_tubarao.htm</td>\n",
              "      <td>94.0</td>\n",
              "    </tr>\n",
              "    <tr>\n",
              "      <th>6580</th>\n",
              "      <td>ND.0102</td>\n",
              "      <td>No date, Before 1963</td>\n",
              "      <td>0.0</td>\n",
              "      <td>Unprovoked</td>\n",
              "      <td>BAHREIN</td>\n",
              "      <td>NaN</td>\n",
              "      <td>NaN</td>\n",
              "      <td>Pearl diving</td>\n",
              "      <td>M</td>\n",
              "      <td>NaN</td>\n",
              "      <td>FATAL</td>\n",
              "      <td>Y</td>\n",
              "      <td>NaN</td>\n",
              "      <td>Tiger shark</td>\n",
              "      <td>A.C. Doyle</td>\n",
              "      <td>88.0</td>\n",
              "    </tr>\n",
              "    <tr>\n",
              "      <th>6582</th>\n",
              "      <td>ND.0097</td>\n",
              "      <td>No date</td>\n",
              "      <td>0.0</td>\n",
              "      <td>Unprovoked</td>\n",
              "      <td>USA</td>\n",
              "      <td>Florida</td>\n",
              "      <td>Key West, Monroe County</td>\n",
              "      <td>Kitesurfing</td>\n",
              "      <td>M</td>\n",
              "      <td>NaN</td>\n",
              "      <td>Hand bitten</td>\n",
              "      <td>N</td>\n",
              "      <td>NaN</td>\n",
              "      <td>NaN</td>\n",
              "      <td>Internet</td>\n",
              "      <td>86.0</td>\n",
              "    </tr>\n",
              "    <tr>\n",
              "      <th>6583</th>\n",
              "      <td>ND.0096</td>\n",
              "      <td>No date</td>\n",
              "      <td>0.0</td>\n",
              "      <td>Unprovoked</td>\n",
              "      <td>REUNION</td>\n",
              "      <td>Grand'Anse</td>\n",
              "      <td>Petite-île</td>\n",
              "      <td>yachtsman in a zodiac</td>\n",
              "      <td>M</td>\n",
              "      <td>NaN</td>\n",
              "      <td>Survived</td>\n",
              "      <td>N</td>\n",
              "      <td>NaN</td>\n",
              "      <td>NaN</td>\n",
              "      <td>G. Van Grevelynghe</td>\n",
              "      <td>85.0</td>\n",
              "    </tr>\n",
              "    <tr>\n",
              "      <th>6585</th>\n",
              "      <td>ND.0094</td>\n",
              "      <td>No date, Before May-1996</td>\n",
              "      <td>0.0</td>\n",
              "      <td>Unprovoked</td>\n",
              "      <td>KOREA</td>\n",
              "      <td>South Korea</td>\n",
              "      <td>Cheju Island</td>\n",
              "      <td>Diving</td>\n",
              "      <td>F</td>\n",
              "      <td>NaN</td>\n",
              "      <td>FATAL, injured while diving, then shark bit her</td>\n",
              "      <td>Y</td>\n",
              "      <td>NaN</td>\n",
              "      <td>NaN</td>\n",
              "      <td>K. Amsler, Divernet.com</td>\n",
              "      <td>83.0</td>\n",
              "    </tr>\n",
              "  </tbody>\n",
              "</table>\n",
              "</div>"
            ],
            "text/plain": [
              "      Case Id  ... original order\n",
              "6574  ND.0110  ...           94.0\n",
              "6580  ND.0102  ...           88.0\n",
              "6582  ND.0097  ...           86.0\n",
              "6583  ND.0096  ...           85.0\n",
              "6585  ND.0094  ...           83.0\n",
              "\n",
              "[5 rows x 16 columns]"
            ]
          },
          "metadata": {
            "tags": []
          },
          "execution_count": 59
        }
      ]
    },
    {
      "cell_type": "code",
      "metadata": {
        "id": "VhkwBh51kxqi"
      },
      "source": [
        "sharks['Date'] = sharks['Date'].str.replace('No date, ', ' ')\n",
        "sharks['Date'] = sharks['Date'].str.replace('No date', ' ')"
      ],
      "execution_count": 60,
      "outputs": []
    },
    {
      "cell_type": "code",
      "metadata": {
        "colab": {
          "base_uri": "https://localhost:8080/",
          "height": 49
        },
        "id": "OKimyBv9_iRy",
        "outputId": "71c4766b-1092-409f-e3fd-f524119704c0"
      },
      "source": [
        "sharks.loc[sharks['Date'].str.contains('No date'), :]"
      ],
      "execution_count": 61,
      "outputs": [
        {
          "output_type": "execute_result",
          "data": {
            "text/html": [
              "<div>\n",
              "<style scoped>\n",
              "    .dataframe tbody tr th:only-of-type {\n",
              "        vertical-align: middle;\n",
              "    }\n",
              "\n",
              "    .dataframe tbody tr th {\n",
              "        vertical-align: top;\n",
              "    }\n",
              "\n",
              "    .dataframe thead th {\n",
              "        text-align: right;\n",
              "    }\n",
              "</style>\n",
              "<table border=\"1\" class=\"dataframe\">\n",
              "  <thead>\n",
              "    <tr style=\"text-align: right;\">\n",
              "      <th></th>\n",
              "      <th>Case Id</th>\n",
              "      <th>Date</th>\n",
              "      <th>Year</th>\n",
              "      <th>Type</th>\n",
              "      <th>Country</th>\n",
              "      <th>Area</th>\n",
              "      <th>Location</th>\n",
              "      <th>Activity</th>\n",
              "      <th>Sex</th>\n",
              "      <th>Age</th>\n",
              "      <th>Injury</th>\n",
              "      <th>Fatal</th>\n",
              "      <th>Time</th>\n",
              "      <th>Species</th>\n",
              "      <th>Investigator or Source</th>\n",
              "      <th>original order</th>\n",
              "    </tr>\n",
              "  </thead>\n",
              "  <tbody>\n",
              "  </tbody>\n",
              "</table>\n",
              "</div>"
            ],
            "text/plain": [
              "Empty DataFrame\n",
              "Columns: [Case Id, Date, Year, Type, Country, Area, Location, Activity, Sex, Age, Injury, Fatal, Time, Species, Investigator or Source, original order]\n",
              "Index: []"
            ]
          },
          "metadata": {
            "tags": []
          },
          "execution_count": 61
        }
      ]
    },
    {
      "cell_type": "code",
      "metadata": {
        "colab": {
          "base_uri": "https://localhost:8080/",
          "height": 114
        },
        "id": "kB9Y-igSjp8D",
        "outputId": "960e0f22-3df9-4ec0-b678-eeafd8a4a9ef"
      },
      "source": [
        "sharks.loc[sharks.index==6655, :]"
      ],
      "execution_count": 62,
      "outputs": [
        {
          "output_type": "execute_result",
          "data": {
            "text/html": [
              "<div>\n",
              "<style scoped>\n",
              "    .dataframe tbody tr th:only-of-type {\n",
              "        vertical-align: middle;\n",
              "    }\n",
              "\n",
              "    .dataframe tbody tr th {\n",
              "        vertical-align: top;\n",
              "    }\n",
              "\n",
              "    .dataframe thead th {\n",
              "        text-align: right;\n",
              "    }\n",
              "</style>\n",
              "<table border=\"1\" class=\"dataframe\">\n",
              "  <thead>\n",
              "    <tr style=\"text-align: right;\">\n",
              "      <th></th>\n",
              "      <th>Case Id</th>\n",
              "      <th>Date</th>\n",
              "      <th>Year</th>\n",
              "      <th>Type</th>\n",
              "      <th>Country</th>\n",
              "      <th>Area</th>\n",
              "      <th>Location</th>\n",
              "      <th>Activity</th>\n",
              "      <th>Sex</th>\n",
              "      <th>Age</th>\n",
              "      <th>Injury</th>\n",
              "      <th>Fatal</th>\n",
              "      <th>Time</th>\n",
              "      <th>Species</th>\n",
              "      <th>Investigator or Source</th>\n",
              "      <th>original order</th>\n",
              "    </tr>\n",
              "  </thead>\n",
              "  <tbody>\n",
              "    <tr>\n",
              "      <th>6655</th>\n",
              "      <td>ND.0012</td>\n",
              "      <td>Before 19-Jul-1913</td>\n",
              "      <td>0.0</td>\n",
              "      <td>Unprovoked</td>\n",
              "      <td>SOUTH AFRICA</td>\n",
              "      <td>KwaZulu-Natal</td>\n",
              "      <td>Durban</td>\n",
              "      <td>Wading</td>\n",
              "      <td>M</td>\n",
              "      <td>NaN</td>\n",
              "      <td>FATAL, leg stripped of flesh</td>\n",
              "      <td>Y</td>\n",
              "      <td>NaN</td>\n",
              "      <td>NaN</td>\n",
              "      <td>Rural New Yorker, 7/19/1913</td>\n",
              "      <td>13.0</td>\n",
              "    </tr>\n",
              "  </tbody>\n",
              "</table>\n",
              "</div>"
            ],
            "text/plain": [
              "      Case Id                Date  ...       Investigator or Source original order\n",
              "6655  ND.0012  Before 19-Jul-1913  ...  Rural New Yorker, 7/19/1913           13.0\n",
              "\n",
              "[1 rows x 16 columns]"
            ]
          },
          "metadata": {
            "tags": []
          },
          "execution_count": 62
        }
      ]
    },
    {
      "cell_type": "code",
      "metadata": {
        "id": "KhxRMzAOhcOX"
      },
      "source": [
        "# changing value in Date column by index number for convenience\n",
        "\n",
        "# found date in the Investigator column\n",
        "sharks.loc[sharks.index == 6645, 'Date'] = '11-Jan-1940'\n",
        "sharks.loc[sharks.index == 6645, 'Year'] = 1940\n",
        "sharks.loc[sharks.index == 6602, 'Date'] = '1958'\n",
        "sharks.loc[sharks.index == 6602, 'Year'] = 1958\n",
        "sharks.loc[sharks.index == 6626, 'Date'] = '28-Jun-1950'\n",
        "sharks.loc[sharks.index == 6626, 'Year'] = 1950\n",
        "sharks.loc[sharks.index == 6621, 'Date'] = '15-Feb-1956'\n",
        "sharks.loc[sharks.index == 6621, 'Year'] = 1956\n",
        "sharks.loc[sharks.index == 6614, 'Date'] = '1956'\n",
        "sharks.loc[sharks.index == 6614, 'Year'] = 1956\n",
        "sharks.loc[sharks.index == 6609, 'Date'] = '22-Aug-1960'\n",
        "sharks.loc[sharks.index == 6609, 'Year'] = 1960\n",
        "sharks.loc[sharks.index == 6600, 'Date'] = '1952'\n",
        "sharks.loc[sharks.index == 6600, 'Year'] = 1952\n",
        "sharks.loc[sharks.index == 6572, 'Date'] = '27-Mar-1911'\n",
        "sharks.loc[sharks.index == 6572, 'Year'] = 1911\n",
        "sharks.loc[sharks.index == 6569, 'Date'] = '11-Jan-1936'\n",
        "sharks.loc[sharks.index == 6569, 'Year'] = 1936\n",
        "sharks.loc[sharks.index == 6564, 'Date'] = '09-Jul-2011'\n",
        "sharks.loc[sharks.index == 6564, 'Year'] = 2011\n",
        "sharks.loc[sharks.index == 4685, 'Date'] = '19-Aug-1954'\n",
        "sharks.loc[sharks.index == 4685, 'Year'] = 1954\n",
        "sharks.loc[sharks.index == 6558, 'Date'] = '22-Jul-1916'\n",
        "sharks.loc[sharks.index == 6558, 'Year'] = 1916\n",
        "sharks.loc[sharks.index == 6556, 'Date'] = '28-Jan-1909'\n",
        "sharks.loc[sharks.index == 6556, 'Year'] = 1909\n",
        "sharks.loc[sharks.index == 6554, 'Date'] = '2-Jun-1933'\n",
        "sharks.loc[sharks.index == 6554, 'Year'] = 1933\n",
        "sharks.loc[sharks.index == 4909, 'Date'] = '20-Feb-1948'\n",
        "sharks.loc[sharks.index == 6263, 'Date'] = '1-Nov-1872'\n",
        "sharks.loc[sharks.index == 6100, 'Date'] = '23-Dec-1887'\n",
        "sharks.loc[sharks.index == 6487, 'Year'] = 1906\n",
        "sharks.loc[sharks.index == 4479, 'Date'] = '29-Jan-1960'\n",
        "\n",
        "# imputing date by original values from the date column\n",
        "sharks.loc[sharks.index==6654, 'Date'] = '18-Jul-1913'\n",
        "sharks.loc[sharks.index==6654, 'Year'] = 1913 \n",
        "sharks.loc[sharks.index==6655, 'Date'] = '15-Jul-1913'\n",
        "sharks.loc[sharks.index==6655, 'Year'] = 1913\n",
        "sharks.loc[sharks.index==4717, 'Date'] = '1954'\n",
        "sharks.loc[sharks.index==4717, 'Year'] = 1954\n",
        "sharks.loc[sharks.index==4716, 'Date'] = '1954'\n",
        "sharks.loc[sharks.index==4716, 'Year'] = 1954\n",
        "sharks.loc[sharks.index == 6240, 'Date'] = '1875'\n",
        "sharks.loc[sharks.index == 6384, 'Date'] = '22-Jan_1852'\n",
        "sharks.loc[sharks.index == 6601, 'Date'] = '1931' # median of range entered\n",
        "sharks.loc[sharks.index == 6639, 'Date'] = '1935'\n",
        "sharks.loc[sharks.index == 6287, 'Date'] = '24-Oct-1868'\n",
        "sharks.loc[sharks.index == 6255, 'Date'] = '15-Nov-1873' # median of range entered\n",
        "sharks.loc[sharks.index == 6146, 'Date'] = '14-Sep-1883'\n",
        "sharks.loc[sharks.index == 5773, 'Date'] = '16-Nov-1909' # median of range entered\n",
        "sharks.loc[sharks.index == 5635, 'Date'] = '1919'\n",
        "sharks.loc[sharks.index == 5528, 'Date'] = '17-Mar-1925' # median of range entered\n",
        "sharks.loc[sharks.index == 5476, 'Date'] = '15-Jan-1928' # median of range entered\n",
        "sharks.loc[sharks.index == 5065, 'Date'] = '13-Sep-1942' # median of range entered\n",
        "sharks.loc[sharks.index == 5042, 'Date'] = '05-Mar-1943' # median of range entered\n",
        "sharks.loc[sharks.index == 5019, 'Date'] = '1-Aug-1944' # median of range entered\n",
        "sharks.loc[sharks.index == 4991, 'Date'] = '20-Dec-1944' # median of range entered\n",
        "sharks.loc[sharks.index == 4877, 'Date'] = '1-Apr-1949' # median of range entered\n",
        "sharks.loc[sharks.index == 4799, 'Date'] = '4-Aug-1951' # median of range entered\n",
        "sharks.loc[sharks.index == 4478, 'Date'] = '1-Aug-1959' # median of range entered\n",
        "sharks.loc[sharks.index == 4418, 'Date'] = '11-Sep-1959' # median of range entered\n",
        "sharks.loc[sharks.index == 3883, 'Date'] = '30-May-1967' #  of range entered\n",
        "sharks.loc[sharks.index == 3204, 'Date'] = '15-Jul-1985' # chose earlier year\n",
        "sharks.loc[sharks.index == 2863, 'Date'] = '1-Aug-1993' # median of range entered\n",
        "sharks.loc[sharks.index == 2004, 'Date'] = '19-Jul-2004' # median of range entered\n",
        "sharks.loc[sharks.index == 6636, 'Date'] = '1942' # imputing be World War II value entered\n",
        "sharks.loc[sharks.index == 6637, 'Date'] = '1942' # imputing be World War II value entered\n",
        "\n",
        "\n",
        "# found date in the Year column\n",
        "sharks.loc[sharks.index == 349, 'Date'] = 'Jun-2018'\n",
        "sharks.loc[sharks.index == 6468, 'Date'] = '1825'\n",
        "sharks.loc[sharks.index == 6526, 'Date'] = '1642'\n",
        "sharks.loc[sharks.index == 5162, 'Date'] = '1939'\n"
      ],
      "execution_count": 63,
      "outputs": []
    },
    {
      "cell_type": "code",
      "metadata": {
        "id": "so8rPML2JEm0"
      },
      "source": [
        "# replacing typo in Date column by Case Id so as to avoid changing all dates that \n",
        "#    match the value being changed\n",
        "sharks.loc[sharks['Case Id']=='2020.07.10', :] = sharks.loc[sharks['Case Id']=='2020.07.10', :].replace('10-Jul-202', '10-Jul-2020')"
      ],
      "execution_count": 64,
      "outputs": []
    },
    {
      "cell_type": "code",
      "metadata": {
        "id": "qPVRR0V5jbPY"
      },
      "source": [
        "# imputing dates and years to be 1 year or 15 days prior to referenced \"Before\" date\n",
        "# filling in Year column if missing\n",
        "sharks['Date'] = sharks['Date'].str.replace('Before 1824', '1823')\n",
        "sharks['Date'] = sharks['Date'].str.replace('Before 1871', '1870')\n",
        "sharks['Date'] = sharks['Date'].str.replace('Before 1876', '1875')\n",
        "sharks['Date'] = sharks['Date'].str.replace('Before 1878', '1877')\n",
        "sharks['Date'] = sharks['Date'].str.replace('Before 1900', '1899')\n",
        "sharks['Date'] = sharks['Date'].str.replace('Before 1901', '1900')\n",
        "sharks['Date'] = sharks['Date'].str.replace('Before 1902', '1901')\n",
        "sharks['Date'] = sharks['Date'].str.replace('Before 1903', '1902')\n",
        "sharks['Date'] = sharks['Date'].str.replace('Before 1905', '1904')\n",
        "sharks['Date'] = sharks['Date'].str.replace('Before 1906', '1905')\n",
        "sharks['Date'] = sharks['Date'].str.replace('Before 1908', '1907')\n",
        "sharks['Date'] = sharks['Date'].str.replace('Before 1911', '1910')\n",
        "sharks['Date'] = sharks['Date'].str.replace('Before 17-Jul-1916', '02-Jul-1916')\n",
        "sharks['Date'] = sharks['Date'].str.replace('Before 1917', '1916')\n",
        "sharks['Date'] = sharks['Date'].str.replace('Before 1921', '1920')\n",
        "sharks['Date'] = sharks['Date'].str.replace('Before 1927', '1926')\n",
        "sharks['Date'] = sharks['Date'].str.replace('Before 1934', '1933')\n",
        "sharks['Date'] = sharks['Date'].str.replace('Before 1939', '1938')\n",
        "sharks['Date'] = sharks['Date'].str.replace('Before 1952', '1951')\n",
        "sharks['Date'] = sharks['Date'].str.replace('Before Mar-1956', '15-Feb-1956')\n",
        "sharks['Date'] = sharks['Date'].str.replace('Before 1956', '1955')\n",
        "sharks['Date'] = sharks['Date'].str.replace('Before 1957', '1956')\n",
        "sharks['Date'] = sharks['Date'].str.replace('Before 1958', '1957')\n",
        "sharks['Date'] = sharks['Date'].str.replace('Before  1958', '1957')\n",
        "sharks['Date'] = sharks['Date'].str.replace('Before  24 Apr-1959', '09-Apr-1959')\n",
        "sharks['Date'] = sharks['Date'].str.replace('Before  19-Jun-1959', '04-Jun-1959')\n",
        "sharks['Date'] = sharks['Date'].str.replace('Before 1961', '1960')\n",
        "sharks['Date'] = sharks['Date'].str.replace('Before 1962', '1961')\n",
        "sharks['Date'] = sharks['Date'].str.replace('Before 1963', '1962')\n",
        "sharks['Date'] = sharks['Date'].str.replace('Before 8-May-1965', '23-Apr-1965')\n",
        "sharks['Date'] = sharks['Date'].str.replace('Before 3-Jan-1967', '19-Dec-1966')\n",
        "sharks['Date'] = sharks['Date'].str.replace('Before 1969', '1968')\n",
        "sharks['Date'] = sharks['Date'].str.replace(' Before 1975', '1974')\n",
        "sharks['Date'] = sharks['Date'].str.replace(' Before  1975', '1974')\n",
        "sharks['Date'] = sharks['Date'].str.replace('Before 1987', '1986')\n",
        "sharks['Date'] = sharks['Date'].str.replace('Before Aug-1987', '16-Jul-1987')\n",
        "sharks['Date'] = sharks['Date'].str.replace('Before Aug-1989', '16-Jul-1989')\n",
        "sharks['Date'] = sharks['Date'].str.replace('Before 1994', '1993')\n",
        "sharks['Date'] = sharks['Date'].str.replace('Beforer 1994', '1993')\n",
        "sharks['Date'] = sharks['Date'].str.replace('Before 1996', '1995')\n",
        "sharks['Date'] = sharks['Date'].str.replace('Before Mar-1995', '14-Feb-1995')\n",
        "sharks['Date'] = sharks['Date'].str.replace('Before May-1996', '15-May-1996')\n",
        "sharks['Date'] = sharks['Date'].str.replace('Before Feb-1998', '16-Feb-1998')\n",
        "sharks['Date'] = sharks['Date'].str.replace('Before 2003', '2002')\n",
        "sharks['Date'] = sharks['Date'].str.replace('Before 2004', '2003')\n",
        "sharks['Date'] = sharks['Date'].str.replace('Before 2006', '2005')\n",
        "sharks['Date'] = sharks['Date'].str.replace('Before 2009', '2008')\n",
        "sharks['Date'] = sharks['Date'].str.replace('Before Oct-2009', '15-Sep-2009')\n",
        "sharks['Date'] = sharks['Date'].str.replace('Before 2011', '2010')\n",
        "sharks['Date'] = sharks['Date'].str.replace('Before 2012', '2011')\n",
        "sharks['Date'] = sharks['Date'].str.replace('Before 08-Jun-1912', '24-Feb-1912')\n",
        "sharks['Date'] = sharks['Date'].str.replace('Before 2016', '2015')\n"
      ],
      "execution_count": 65,
      "outputs": []
    },
    {
      "cell_type": "code",
      "metadata": {
        "id": "9jzDNvxYnDz6"
      },
      "source": [
        "sharks['Date'] = sharks['Date'].str.replace('s', '')"
      ],
      "execution_count": 66,
      "outputs": []
    },
    {
      "cell_type": "code",
      "metadata": {
        "id": "qllQ7bz706JX"
      },
      "source": [
        "# stripping white space from cell values... I would've used this above instead of .str.replace, but\n",
        "#    I was unaware of this option and the dtype was mixed. I did not learn how to correct this issue\n",
        "#    until I started correcting the values of the Age column\n",
        "sharks['Date'] = sharks['Date'].map(lambda x: x.strip(' Early Late late During the Seige of Ladysmith () II ? `soon after close of Spanish American war War mid- \" summer Last in Hong Kong'))"
      ],
      "execution_count": 67,
      "outputs": []
    },
    {
      "cell_type": "code",
      "metadata": {
        "colab": {
          "base_uri": "https://localhost:8080/",
          "height": 702
        },
        "id": "mmHzWBp2L3Dt",
        "outputId": "dbfa310f-6cd7-4f91-e6f1-f5f541a5b1a1"
      },
      "source": [
        "sharks.loc[sharks['Date'].str.contains('')==True, :]"
      ],
      "execution_count": 68,
      "outputs": [
        {
          "output_type": "execute_result",
          "data": {
            "text/html": [
              "<div>\n",
              "<style scoped>\n",
              "    .dataframe tbody tr th:only-of-type {\n",
              "        vertical-align: middle;\n",
              "    }\n",
              "\n",
              "    .dataframe tbody tr th {\n",
              "        vertical-align: top;\n",
              "    }\n",
              "\n",
              "    .dataframe thead th {\n",
              "        text-align: right;\n",
              "    }\n",
              "</style>\n",
              "<table border=\"1\" class=\"dataframe\">\n",
              "  <thead>\n",
              "    <tr style=\"text-align: right;\">\n",
              "      <th></th>\n",
              "      <th>Case Id</th>\n",
              "      <th>Date</th>\n",
              "      <th>Year</th>\n",
              "      <th>Type</th>\n",
              "      <th>Country</th>\n",
              "      <th>Area</th>\n",
              "      <th>Location</th>\n",
              "      <th>Activity</th>\n",
              "      <th>Sex</th>\n",
              "      <th>Age</th>\n",
              "      <th>Injury</th>\n",
              "      <th>Fatal</th>\n",
              "      <th>Time</th>\n",
              "      <th>Species</th>\n",
              "      <th>Investigator or Source</th>\n",
              "      <th>original order</th>\n",
              "    </tr>\n",
              "  </thead>\n",
              "  <tbody>\n",
              "    <tr>\n",
              "      <th>0</th>\n",
              "      <td>2021.07.19</td>\n",
              "      <td>19-Jul-2021</td>\n",
              "      <td>2021.0</td>\n",
              "      <td>Unprovoked</td>\n",
              "      <td>AUSTRALIA</td>\n",
              "      <td>Western Australia</td>\n",
              "      <td>Rottnest Island</td>\n",
              "      <td>Surfing</td>\n",
              "      <td>M</td>\n",
              "      <td>NaN</td>\n",
              "      <td>No injury, knocked off board by shark</td>\n",
              "      <td>N</td>\n",
              "      <td>12h30</td>\n",
              "      <td>White shark, 3m</td>\n",
              "      <td>B. Myatt &amp; S. De Marchi, GSAF</td>\n",
              "      <td>6668.0</td>\n",
              "    </tr>\n",
              "    <tr>\n",
              "      <th>1</th>\n",
              "      <td>2021.07.15</td>\n",
              "      <td>15-Jul-2021</td>\n",
              "      <td>2021.0</td>\n",
              "      <td>Unprovoked</td>\n",
              "      <td>USA</td>\n",
              "      <td>Florida</td>\n",
              "      <td>New Smyrna Beach, Volusia County</td>\n",
              "      <td>Boogie boarding</td>\n",
              "      <td>M</td>\n",
              "      <td>11</td>\n",
              "      <td>Leg bitten</td>\n",
              "      <td>N</td>\n",
              "      <td>16h30</td>\n",
              "      <td>NaN</td>\n",
              "      <td>K. McMurray, TrackingSharks.com</td>\n",
              "      <td>6667.0</td>\n",
              "    </tr>\n",
              "    <tr>\n",
              "      <th>2</th>\n",
              "      <td>2021.07.14</td>\n",
              "      <td>14-Jul-2021</td>\n",
              "      <td>2021.0</td>\n",
              "      <td>Unprovoked</td>\n",
              "      <td>SOUTH AFRICA</td>\n",
              "      <td>Eastern Cape Province</td>\n",
              "      <td>Jeffrey's Bay</td>\n",
              "      <td>Surfing</td>\n",
              "      <td>M</td>\n",
              "      <td>38</td>\n",
              "      <td>Injuries to leg and torso</td>\n",
              "      <td>N</td>\n",
              "      <td>07h07</td>\n",
              "      <td>NaN</td>\n",
              "      <td>J. Marchard &amp; M. Michaelson, GSAF</td>\n",
              "      <td>6666.0</td>\n",
              "    </tr>\n",
              "    <tr>\n",
              "      <th>3</th>\n",
              "      <td>2021.07.11.R</td>\n",
              "      <td>11-Jul-2021</td>\n",
              "      <td>2021.0</td>\n",
              "      <td>Provoked</td>\n",
              "      <td>BAHAMAS</td>\n",
              "      <td>NaN</td>\n",
              "      <td>NaN</td>\n",
              "      <td>Jackass Team's publicity stunt for Discovery C...</td>\n",
              "      <td>M</td>\n",
              "      <td>NaN</td>\n",
              "      <td>Lacerations to right hand  PROVOKED INCIDENT</td>\n",
              "      <td>N</td>\n",
              "      <td>NaN</td>\n",
              "      <td>NaN</td>\n",
              "      <td>Yahoo.com, 7/11/2021</td>\n",
              "      <td>6665.0</td>\n",
              "    </tr>\n",
              "    <tr>\n",
              "      <th>4</th>\n",
              "      <td>2021.07.10.c</td>\n",
              "      <td>10-Jul-2021</td>\n",
              "      <td>2021.0</td>\n",
              "      <td>Unprovoked</td>\n",
              "      <td>USA</td>\n",
              "      <td>Florida</td>\n",
              "      <td>Bathtub Beach, Martin County</td>\n",
              "      <td>Playing</td>\n",
              "      <td>F</td>\n",
              "      <td>9</td>\n",
              "      <td>Right foot bitten</td>\n",
              "      <td>N</td>\n",
              "      <td>16h39</td>\n",
              "      <td>Spinner shark, 4'?</td>\n",
              "      <td>J. Marchand, GSAF</td>\n",
              "      <td>6664.0</td>\n",
              "    </tr>\n",
              "    <tr>\n",
              "      <th>...</th>\n",
              "      <td>...</td>\n",
              "      <td>...</td>\n",
              "      <td>...</td>\n",
              "      <td>...</td>\n",
              "      <td>...</td>\n",
              "      <td>...</td>\n",
              "      <td>...</td>\n",
              "      <td>...</td>\n",
              "      <td>...</td>\n",
              "      <td>...</td>\n",
              "      <td>...</td>\n",
              "      <td>...</td>\n",
              "      <td>...</td>\n",
              "      <td>...</td>\n",
              "      <td>...</td>\n",
              "      <td>...</td>\n",
              "    </tr>\n",
              "    <tr>\n",
              "      <th>6662</th>\n",
              "      <td>ND.0005</td>\n",
              "      <td>1902</td>\n",
              "      <td>0.0</td>\n",
              "      <td>Unprovoked</td>\n",
              "      <td>AUSTRALIA</td>\n",
              "      <td>Western Australia</td>\n",
              "      <td>Roebuck Bay</td>\n",
              "      <td>Diving</td>\n",
              "      <td>M</td>\n",
              "      <td>NaN</td>\n",
              "      <td>FATAL</td>\n",
              "      <td>Y</td>\n",
              "      <td>NaN</td>\n",
              "      <td>NaN</td>\n",
              "      <td>H. Taunton; N. Bartlett,  p. 234</td>\n",
              "      <td>6.0</td>\n",
              "    </tr>\n",
              "    <tr>\n",
              "      <th>6663</th>\n",
              "      <td>ND.0004</td>\n",
              "      <td>1902</td>\n",
              "      <td>0.0</td>\n",
              "      <td>Unprovoked</td>\n",
              "      <td>AUSTRALIA</td>\n",
              "      <td>Western Australia</td>\n",
              "      <td>NaN</td>\n",
              "      <td>Pearl diving</td>\n",
              "      <td>M</td>\n",
              "      <td>NaN</td>\n",
              "      <td>FATAL</td>\n",
              "      <td>Y</td>\n",
              "      <td>NaN</td>\n",
              "      <td>NaN</td>\n",
              "      <td>H. Taunton; N. Bartlett,  pp. 233-234</td>\n",
              "      <td>5.0</td>\n",
              "    </tr>\n",
              "    <tr>\n",
              "      <th>6664</th>\n",
              "      <td>ND.0003</td>\n",
              "      <td>1900-1905</td>\n",
              "      <td>0.0</td>\n",
              "      <td>Unprovoked</td>\n",
              "      <td>USA</td>\n",
              "      <td>North Carolina</td>\n",
              "      <td>Ocracoke Inlet</td>\n",
              "      <td>Swimming</td>\n",
              "      <td>M</td>\n",
              "      <td>NaN</td>\n",
              "      <td>FATAL</td>\n",
              "      <td>Y</td>\n",
              "      <td>NaN</td>\n",
              "      <td>NaN</td>\n",
              "      <td>F. Schwartz, p.23; C. Creswell, GSAF</td>\n",
              "      <td>4.0</td>\n",
              "    </tr>\n",
              "    <tr>\n",
              "      <th>6665</th>\n",
              "      <td>ND.0002</td>\n",
              "      <td>1883-1889</td>\n",
              "      <td>0.0</td>\n",
              "      <td>Unprovoked</td>\n",
              "      <td>PANAMA</td>\n",
              "      <td>NaN</td>\n",
              "      <td>Panama Bay 8ºN, 79ºW</td>\n",
              "      <td>NaN</td>\n",
              "      <td>M</td>\n",
              "      <td>NaN</td>\n",
              "      <td>FATAL</td>\n",
              "      <td>Y</td>\n",
              "      <td>NaN</td>\n",
              "      <td>NaN</td>\n",
              "      <td>The Sun, 10/20/1938</td>\n",
              "      <td>3.0</td>\n",
              "    </tr>\n",
              "    <tr>\n",
              "      <th>6666</th>\n",
              "      <td>ND.0001</td>\n",
              "      <td>1845-1853</td>\n",
              "      <td>0.0</td>\n",
              "      <td>Unprovoked</td>\n",
              "      <td>CEYLON (SRI LANKA)</td>\n",
              "      <td>Eastern Province</td>\n",
              "      <td>Below the English fort, Trincomalee</td>\n",
              "      <td>Swimming</td>\n",
              "      <td>M</td>\n",
              "      <td>15</td>\n",
              "      <td>FATAL. \"Shark bit him in half, carrying away t...</td>\n",
              "      <td>Y</td>\n",
              "      <td>NaN</td>\n",
              "      <td>NaN</td>\n",
              "      <td>S.W. Baker</td>\n",
              "      <td>2.0</td>\n",
              "    </tr>\n",
              "  </tbody>\n",
              "</table>\n",
              "<p>6666 rows × 16 columns</p>\n",
              "</div>"
            ],
            "text/plain": [
              "           Case Id  ... original order\n",
              "0       2021.07.19  ...         6668.0\n",
              "1       2021.07.15  ...         6667.0\n",
              "2       2021.07.14  ...         6666.0\n",
              "3     2021.07.11.R  ...         6665.0\n",
              "4     2021.07.10.c  ...         6664.0\n",
              "...            ...  ...            ...\n",
              "6662       ND.0005  ...            6.0\n",
              "6663       ND.0004  ...            5.0\n",
              "6664       ND.0003  ...            4.0\n",
              "6665       ND.0002  ...            3.0\n",
              "6666       ND.0001  ...            2.0\n",
              "\n",
              "[6666 rows x 16 columns]"
            ]
          },
          "metadata": {
            "tags": []
          },
          "execution_count": 68
        }
      ]
    },
    {
      "cell_type": "code",
      "metadata": {
        "id": "FXXz_1kQnCSX"
      },
      "source": [
        "sharks['Date'] = sharks['Date'].str.replace('1920 -1923', '1921')\n",
        "sharks['Date'] = sharks['Date'].str.replace('1940 - 1950', '1945')\n",
        "sharks['Date'] = sharks['Date'].str.replace('1853 or 1854', '1853')\n",
        "sharks['Date'] = sharks['Date'].str.replace('1950 - 1951', '1950')\n",
        "sharks['Date'] = sharks['Date'].str.replace('1990 or 1991', '1991')\n",
        "sharks['Date'] = sharks['Date'].str.replace('Between 1918 & 1939', '1928')\n",
        "sharks['Date'] = sharks['Date'].str.replace('be 1941-1945, more likely 1945', '1945')\n",
        "sharks['Date'] = sharks['Date'].str.replace('Ca. ', '')\n",
        "sharks['Date'] = sharks['Date'].str.replace('Ca . ', '')\n",
        "sharks['Date'] = sharks['Date'].str.replace('Circa', '')\n",
        "sharks['Date'] = sharks['Date'].str.replace('Circa ', '')\n",
        "sharks['Date'] = sharks['Date'].str.replace('A.D.', '')\n",
        "sharks['Date'] = sharks['Date'].str.replace('Reprtd ', '')\n",
        "sharks['Date'] = sharks['Date'].str.replace('Reprted', '')\n",
        "sharks['Date'] = sharks['Date'].str.replace('Reportd ', '')\n",
        "sharks['Date'] = sharks['Date'].str.replace('05 ', '05-')\n",
        "sharks['Date'] = sharks['Date'].str.replace('17 ', '17-')\n",
        "sharks['Date'] = sharks['Date'].str.replace('26 ', '26-')\n",
        "sharks['Date'] = sharks['Date'].str.replace('24-1806', '24-Apr-1806')\n",
        "sharks['Date'] = sharks['Date'].str.replace('Mid ', '15-')\n",
        "sharks['Date'] = sharks['Date'].str.replace('Mid-', '15-')\n",
        "sharks['Date'] = sharks['Date'].str.replace('336.B.C..', '336 B.C.')\n",
        "sharks['Date'] = sharks['Date'].str.replace('1010  BC', '1010 B.C.')\n",
        "sharks['Date'] = sharks['Date'].str.replace('190Feb-2010', '10-Feb-2010')\n",
        "sharks['Date'] = sharks['Date'].str.replace('19-Jul-2007.b', '19-Jul-2007')\n",
        "sharks['Date'] = sharks['Date'].str.replace('26-Jul-1975.b', '26-Jul-1975')\n",
        "sharks['Date'] = sharks['Date'].str.replace('02-Ap-2001', '02-Apr-2001')\n",
        "sharks['Date'] = sharks['Date'].str.replace('22-Jul-144', '22-Jul-1944')\n",
        "sharks['Date'] = sharks['Date'].str.replace('26-Sep-t937', '26-Sep-1937')\n",
        "sharks['Date'] = sharks['Date'].str.replace('08-Ap-1936', '08-Apr-1936')\n",
        "sharks['Date'] = sharks['Date'].str.replace('23-Decp1896', '23-Dec-1896')\n",
        "\n",
        "sharks['Date'] = sharks['Date'].str.replace('21764', '02-Aug-1959')\n",
        "sharks['Date'] = sharks['Date'].str.replace('1836.00.', '1836')\n",
        "\n",
        "\n",
        "\n",
        "sharks['Date'] = sharks['Date'].str.replace('January ', 'Jan-')\n",
        "sharks['Date'] = sharks['Date'].str.replace('Jan ', 'Jan-')\n",
        "sharks['Date'] = sharks['Date'].str.replace('Jan-Jun', '15-Mar')\n",
        "sharks['Date'] = sharks['Date'].str.replace('Feb ', 'Feb-')\n",
        "sharks['Date'] = sharks['Date'].str.replace('March', 'Mar')\n",
        "sharks['Date'] = sharks['Date'].str.replace('April ', 'Apr-')\n",
        "sharks['Date'] = sharks['Date'].str.replace('May ', 'May-')\n",
        "sharks['Date'] = sharks['Date'].str.replace('May-Jun', '15-May')\n",
        "sharks['Date'] = sharks['Date'].str.replace('June ', 'Jun-')\n",
        "sharks['Date'] = sharks['Date'].str.replace('July ', 'Jul-')\n",
        "sharks['Date'] = sharks['Date'].str.replace('Jul ', 'Jul-')\n",
        "sharks['Date'] = sharks['Date'].str.replace('August ', 'Aug-')\n",
        "sharks['Date'] = sharks['Date'].str.replace('September ', 'Sep-')\n",
        "sharks['Date'] = sharks['Date'].str.replace('October ', 'Oct-')\n",
        "sharks['Date'] = sharks['Date'].str.replace('November ', 'Nov-')\n",
        "sharks['Date'] = sharks['Date'].str.replace('December ', 'Dec-')\n",
        "sharks['Date'] = sharks['Date'].str.replace('ber ', 'Dec-')\n",
        "\n",
        "sharks['Date'] = sharks['Date'].str.replace('Summer ', 'Jul-')\n",
        "sharks['Date'] = sharks['Date'].str.replace('Fall ', 'Oct-')\n",
        "\n",
        "sharks['Date'] = sharks['Date'].str.replace('--', '-')\n",
        "sharks['Date'] = sharks['Date'].str.replace('_', '-')\n",
        "sharks['Date'] = sharks['Date'].str.replace(' ', '')\n",
        "sharks['Date'] = sharks['Date'].str.replace('. ', '')\n",
        "sharks['Date'] = sharks['Date'].str.replace('B.C.', ' B.C.')\n"
      ],
      "execution_count": 69,
      "outputs": []
    },
    {
      "cell_type": "code",
      "metadata": {
        "id": "SUh06YfW77Ug"
      },
      "source": [
        "sharks['Date'] = sharks['Date'].str.replace('1880-1899', '1890')\n",
        "sharks['Date'] = sharks['Date'].str.replace('1839/1840', '1839')\n",
        "sharks['Date'] = sharks['Date'].str.replace('1845-1853', '1849')\n",
        "sharks['Date'] = sharks['Date'].str.replace('1883-1889', '1886')\n",
        "sharks['Date'] = sharks['Date'].str.replace('1896-1913', '1906')\n",
        "sharks['Date'] = sharks['Date'].str.replace('1898-1899', '1898')\n",
        "sharks['Date'] = sharks['Date'].str.replace('1900-1905', '1903')\n",
        "sharks['Date'] = sharks['Date'].str.replace('1923-1924', '1923')\n",
        "sharks['Date'] = sharks['Date'].str.replace('1940-1946', '1943')\n",
        "sharks['Date'] = sharks['Date'].str.replace('1941-1942', '1941')\n",
        "sharks['Date'] = sharks['Date'].str.replace('1941-1945', '1943')\n",
        "sharks['Date'] = sharks['Date'].str.replace('1949-1950', '1949')\n",
        "sharks['Date'] = sharks['Date'].str.replace('1952-1954', '1953')\n",
        "sharks['Date'] = sharks['Date'].str.replace('1958-1959', '1958')\n",
        "sharks['Date'] = sharks['Date'].str.replace('1960-1961', '1960')\n"
      ],
      "execution_count": 70,
      "outputs": []
    },
    {
      "cell_type": "code",
      "metadata": {
        "id": "BVxUEYn4D-ar"
      },
      "source": [
        "sharks['Date'] = sharks['Date'].str.replace('\\n1951.12.15.R', '15-Dec-1951')\n",
        "sharks['Date'] = sharks['Date'].str.replace('1836.07.26.R', '26-Jul-1836')\n",
        "sharks['Date'] = sharks['Date'].str.replace('1844.07.16.R', '16-Jul-1844')"
      ],
      "execution_count": 71,
      "outputs": []
    },
    {
      "cell_type": "code",
      "metadata": {
        "colab": {
          "base_uri": "https://localhost:8080/",
          "height": 371
        },
        "id": "TOXTRTZK3NV-",
        "outputId": "0ea6bb7a-a702-420f-af81-0d75b2d1f357"
      },
      "source": [
        "sharks.loc[sharks['Date'].str.contains(' ') == True, :]"
      ],
      "execution_count": 72,
      "outputs": [
        {
          "output_type": "execute_result",
          "data": {
            "text/html": [
              "<div>\n",
              "<style scoped>\n",
              "    .dataframe tbody tr th:only-of-type {\n",
              "        vertical-align: middle;\n",
              "    }\n",
              "\n",
              "    .dataframe tbody tr th {\n",
              "        vertical-align: top;\n",
              "    }\n",
              "\n",
              "    .dataframe thead th {\n",
              "        text-align: right;\n",
              "    }\n",
              "</style>\n",
              "<table border=\"1\" class=\"dataframe\">\n",
              "  <thead>\n",
              "    <tr style=\"text-align: right;\">\n",
              "      <th></th>\n",
              "      <th>Case Id</th>\n",
              "      <th>Date</th>\n",
              "      <th>Year</th>\n",
              "      <th>Type</th>\n",
              "      <th>Country</th>\n",
              "      <th>Area</th>\n",
              "      <th>Location</th>\n",
              "      <th>Activity</th>\n",
              "      <th>Sex</th>\n",
              "      <th>Age</th>\n",
              "      <th>Injury</th>\n",
              "      <th>Fatal</th>\n",
              "      <th>Time</th>\n",
              "      <th>Species</th>\n",
              "      <th>Investigator or Source</th>\n",
              "      <th>original order</th>\n",
              "    </tr>\n",
              "  </thead>\n",
              "  <tbody>\n",
              "    <tr>\n",
              "      <th>6539</th>\n",
              "      <td>0000.0214</td>\n",
              "      <td>214 B.C.</td>\n",
              "      <td>0.0</td>\n",
              "      <td>Unprovoked</td>\n",
              "      <td>UNKNOWN</td>\n",
              "      <td>Ionian Sea</td>\n",
              "      <td>NaN</td>\n",
              "      <td>Ascending from a dive</td>\n",
              "      <td>M</td>\n",
              "      <td>NaN</td>\n",
              "      <td>FATAL, shark/s bit him in two</td>\n",
              "      <td>Y</td>\n",
              "      <td>NaN</td>\n",
              "      <td>NaN</td>\n",
              "      <td>Reported by Greek poet, Leonidas of Tarentum (...</td>\n",
              "      <td>129.0</td>\n",
              "    </tr>\n",
              "    <tr>\n",
              "      <th>6540</th>\n",
              "      <td>0000.0336</td>\n",
              "      <td>336 B.C.</td>\n",
              "      <td>0.0</td>\n",
              "      <td>Unprovoked</td>\n",
              "      <td>GREECE</td>\n",
              "      <td>Piraeus</td>\n",
              "      <td>In the haven of Cantharus</td>\n",
              "      <td>Washing his pig in preparation for a religious...</td>\n",
              "      <td>M</td>\n",
              "      <td>NaN</td>\n",
              "      <td>FATAL, shark \"bit off all lower parts of him u...</td>\n",
              "      <td>Y</td>\n",
              "      <td>NaN</td>\n",
              "      <td>NaN</td>\n",
              "      <td>Plutarch (45 - 125 A.D.) in Life of Phoecion (...</td>\n",
              "      <td>128.0</td>\n",
              "    </tr>\n",
              "    <tr>\n",
              "      <th>6541</th>\n",
              "      <td>0000.0493</td>\n",
              "      <td>493 B.C.</td>\n",
              "      <td>0.0</td>\n",
              "      <td>Sea Disaster</td>\n",
              "      <td>GREECE</td>\n",
              "      <td>Off Thessaly</td>\n",
              "      <td>NaN</td>\n",
              "      <td>Shipwrecked Persian Fleet</td>\n",
              "      <td>M</td>\n",
              "      <td>NaN</td>\n",
              "      <td>Herodotus tells of sharks attacking men in the...</td>\n",
              "      <td>Y</td>\n",
              "      <td>NaN</td>\n",
              "      <td>NaN</td>\n",
              "      <td>Herodotus (485 - 425 B.C.)</td>\n",
              "      <td>127.0</td>\n",
              "    </tr>\n",
              "    <tr>\n",
              "      <th>6542</th>\n",
              "      <td>0000.0725</td>\n",
              "      <td>725 B.C.</td>\n",
              "      <td>0.0</td>\n",
              "      <td>Sea Disaster</td>\n",
              "      <td>ITALY</td>\n",
              "      <td>Tyrrhenian Sea</td>\n",
              "      <td>Krater found during excavations at Lacco Ameno...</td>\n",
              "      <td>Shipwreck</td>\n",
              "      <td>M</td>\n",
              "      <td>NaN</td>\n",
              "      <td>Depicts shipwrecked sailors  attacked by a sha...</td>\n",
              "      <td>Y</td>\n",
              "      <td>NaN</td>\n",
              "      <td>NaN</td>\n",
              "      <td>V.M. Coppleson (1958), p.262, et al</td>\n",
              "      <td>126.0</td>\n",
              "    </tr>\n",
              "    <tr>\n",
              "      <th>6543</th>\n",
              "      <td>0000.1010</td>\n",
              "      <td>1010 B.C.</td>\n",
              "      <td>0.0</td>\n",
              "      <td>Unverified</td>\n",
              "      <td>JAPAN</td>\n",
              "      <td>NaN</td>\n",
              "      <td>NaN</td>\n",
              "      <td>NaN</td>\n",
              "      <td>M</td>\n",
              "      <td>NaN</td>\n",
              "      <td>FATAL</td>\n",
              "      <td>Y</td>\n",
              "      <td>NaN</td>\n",
              "      <td>NaN</td>\n",
              "      <td>J.A. WhiteJ.</td>\n",
              "      <td>125.0</td>\n",
              "    </tr>\n",
              "  </tbody>\n",
              "</table>\n",
              "</div>"
            ],
            "text/plain": [
              "        Case Id  ... original order\n",
              "6539  0000.0214  ...          129.0\n",
              "6540  0000.0336  ...          128.0\n",
              "6541  0000.0493  ...          127.0\n",
              "6542  0000.0725  ...          126.0\n",
              "6543  0000.1010  ...          125.0\n",
              "\n",
              "[5 rows x 16 columns]"
            ]
          },
          "metadata": {
            "tags": []
          },
          "execution_count": 72
        }
      ]
    },
    {
      "cell_type": "code",
      "metadata": {
        "id": "3OfBacLH7JKM"
      },
      "source": [
        "sharks['Date'] = sharks['Date'].map(lambda x: x.strip(' '))"
      ],
      "execution_count": 73,
      "outputs": []
    },
    {
      "cell_type": "code",
      "metadata": {
        "colab": {
          "base_uri": "https://localhost:8080/",
          "height": 371
        },
        "id": "8FyS0HZ7eGfp",
        "outputId": "7c2b2101-8132-499c-ed3e-208fae503d43"
      },
      "source": [
        "sharks.loc[sharks['Date'].str.contains('B.C.'), :]"
      ],
      "execution_count": 74,
      "outputs": [
        {
          "output_type": "execute_result",
          "data": {
            "text/html": [
              "<div>\n",
              "<style scoped>\n",
              "    .dataframe tbody tr th:only-of-type {\n",
              "        vertical-align: middle;\n",
              "    }\n",
              "\n",
              "    .dataframe tbody tr th {\n",
              "        vertical-align: top;\n",
              "    }\n",
              "\n",
              "    .dataframe thead th {\n",
              "        text-align: right;\n",
              "    }\n",
              "</style>\n",
              "<table border=\"1\" class=\"dataframe\">\n",
              "  <thead>\n",
              "    <tr style=\"text-align: right;\">\n",
              "      <th></th>\n",
              "      <th>Case Id</th>\n",
              "      <th>Date</th>\n",
              "      <th>Year</th>\n",
              "      <th>Type</th>\n",
              "      <th>Country</th>\n",
              "      <th>Area</th>\n",
              "      <th>Location</th>\n",
              "      <th>Activity</th>\n",
              "      <th>Sex</th>\n",
              "      <th>Age</th>\n",
              "      <th>Injury</th>\n",
              "      <th>Fatal</th>\n",
              "      <th>Time</th>\n",
              "      <th>Species</th>\n",
              "      <th>Investigator or Source</th>\n",
              "      <th>original order</th>\n",
              "    </tr>\n",
              "  </thead>\n",
              "  <tbody>\n",
              "    <tr>\n",
              "      <th>6539</th>\n",
              "      <td>0000.0214</td>\n",
              "      <td>214 B.C.</td>\n",
              "      <td>0.0</td>\n",
              "      <td>Unprovoked</td>\n",
              "      <td>UNKNOWN</td>\n",
              "      <td>Ionian Sea</td>\n",
              "      <td>NaN</td>\n",
              "      <td>Ascending from a dive</td>\n",
              "      <td>M</td>\n",
              "      <td>NaN</td>\n",
              "      <td>FATAL, shark/s bit him in two</td>\n",
              "      <td>Y</td>\n",
              "      <td>NaN</td>\n",
              "      <td>NaN</td>\n",
              "      <td>Reported by Greek poet, Leonidas of Tarentum (...</td>\n",
              "      <td>129.0</td>\n",
              "    </tr>\n",
              "    <tr>\n",
              "      <th>6540</th>\n",
              "      <td>0000.0336</td>\n",
              "      <td>336 B.C.</td>\n",
              "      <td>0.0</td>\n",
              "      <td>Unprovoked</td>\n",
              "      <td>GREECE</td>\n",
              "      <td>Piraeus</td>\n",
              "      <td>In the haven of Cantharus</td>\n",
              "      <td>Washing his pig in preparation for a religious...</td>\n",
              "      <td>M</td>\n",
              "      <td>NaN</td>\n",
              "      <td>FATAL, shark \"bit off all lower parts of him u...</td>\n",
              "      <td>Y</td>\n",
              "      <td>NaN</td>\n",
              "      <td>NaN</td>\n",
              "      <td>Plutarch (45 - 125 A.D.) in Life of Phoecion (...</td>\n",
              "      <td>128.0</td>\n",
              "    </tr>\n",
              "    <tr>\n",
              "      <th>6541</th>\n",
              "      <td>0000.0493</td>\n",
              "      <td>493 B.C.</td>\n",
              "      <td>0.0</td>\n",
              "      <td>Sea Disaster</td>\n",
              "      <td>GREECE</td>\n",
              "      <td>Off Thessaly</td>\n",
              "      <td>NaN</td>\n",
              "      <td>Shipwrecked Persian Fleet</td>\n",
              "      <td>M</td>\n",
              "      <td>NaN</td>\n",
              "      <td>Herodotus tells of sharks attacking men in the...</td>\n",
              "      <td>Y</td>\n",
              "      <td>NaN</td>\n",
              "      <td>NaN</td>\n",
              "      <td>Herodotus (485 - 425 B.C.)</td>\n",
              "      <td>127.0</td>\n",
              "    </tr>\n",
              "    <tr>\n",
              "      <th>6542</th>\n",
              "      <td>0000.0725</td>\n",
              "      <td>725 B.C.</td>\n",
              "      <td>0.0</td>\n",
              "      <td>Sea Disaster</td>\n",
              "      <td>ITALY</td>\n",
              "      <td>Tyrrhenian Sea</td>\n",
              "      <td>Krater found during excavations at Lacco Ameno...</td>\n",
              "      <td>Shipwreck</td>\n",
              "      <td>M</td>\n",
              "      <td>NaN</td>\n",
              "      <td>Depicts shipwrecked sailors  attacked by a sha...</td>\n",
              "      <td>Y</td>\n",
              "      <td>NaN</td>\n",
              "      <td>NaN</td>\n",
              "      <td>V.M. Coppleson (1958), p.262, et al</td>\n",
              "      <td>126.0</td>\n",
              "    </tr>\n",
              "    <tr>\n",
              "      <th>6543</th>\n",
              "      <td>0000.1010</td>\n",
              "      <td>1010 B.C.</td>\n",
              "      <td>0.0</td>\n",
              "      <td>Unverified</td>\n",
              "      <td>JAPAN</td>\n",
              "      <td>NaN</td>\n",
              "      <td>NaN</td>\n",
              "      <td>NaN</td>\n",
              "      <td>M</td>\n",
              "      <td>NaN</td>\n",
              "      <td>FATAL</td>\n",
              "      <td>Y</td>\n",
              "      <td>NaN</td>\n",
              "      <td>NaN</td>\n",
              "      <td>J.A. WhiteJ.</td>\n",
              "      <td>125.0</td>\n",
              "    </tr>\n",
              "  </tbody>\n",
              "</table>\n",
              "</div>"
            ],
            "text/plain": [
              "        Case Id  ... original order\n",
              "6539  0000.0214  ...          129.0\n",
              "6540  0000.0336  ...          128.0\n",
              "6541  0000.0493  ...          127.0\n",
              "6542  0000.0725  ...          126.0\n",
              "6543  0000.1010  ...          125.0\n",
              "\n",
              "[5 rows x 16 columns]"
            ]
          },
          "metadata": {
            "tags": []
          },
          "execution_count": 74
        }
      ]
    },
    {
      "cell_type": "code",
      "metadata": {
        "id": "WUF_9sOtbH-X"
      },
      "source": [
        "# replacing blank cells with NaN values\n",
        "# code found on this website: https://stackoverflow.com/questions/40711900/replacing-empty-strings-with-nan-in-pandas\n",
        "sharks.replace(r'^\\s*$', np.nan, regex=True, inplace = True)"
      ],
      "execution_count": 75,
      "outputs": []
    },
    {
      "cell_type": "code",
      "metadata": {
        "colab": {
          "base_uri": "https://localhost:8080/"
        },
        "id": "5owc00j1YkPR",
        "outputId": "979fa6f5-be10-42c6-c176-9f1f6d5bea5c"
      },
      "source": [
        "sharks['Date'].isna().sum()"
      ],
      "execution_count": 76,
      "outputs": [
        {
          "output_type": "execute_result",
          "data": {
            "text/plain": [
              "5"
            ]
          },
          "metadata": {
            "tags": []
          },
          "execution_count": 76
        }
      ]
    },
    {
      "cell_type": "markdown",
      "metadata": {
        "id": "4l9XGyRMwJnB"
      },
      "source": [
        "\n",
        "\n",
        "> ### ['Year'] Column\n",
        "\n",
        "\n",
        "\n"
      ]
    },
    {
      "cell_type": "code",
      "metadata": {
        "colab": {
          "base_uri": "https://localhost:8080/"
        },
        "id": "5d-EkeMmYTBt",
        "outputId": "98f1f688-90a1-4fad-fa38-5d500fb0e650"
      },
      "source": [
        "sharks['Year'].isnull().sum()"
      ],
      "execution_count": 77,
      "outputs": [
        {
          "output_type": "execute_result",
          "data": {
            "text/plain": [
              "2"
            ]
          },
          "metadata": {
            "tags": []
          },
          "execution_count": 77
        }
      ]
    },
    {
      "cell_type": "code",
      "metadata": {
        "colab": {
          "base_uri": "https://localhost:8080/",
          "height": 161
        },
        "id": "OaZ4XIfgJt4F",
        "outputId": "6840142e-ce04-47b3-b777-26d9a6b5e182"
      },
      "source": [
        "sharks.loc[sharks['Year'].isnull(), :]"
      ],
      "execution_count": 78,
      "outputs": [
        {
          "output_type": "execute_result",
          "data": {
            "text/html": [
              "<div>\n",
              "<style scoped>\n",
              "    .dataframe tbody tr th:only-of-type {\n",
              "        vertical-align: middle;\n",
              "    }\n",
              "\n",
              "    .dataframe tbody tr th {\n",
              "        vertical-align: top;\n",
              "    }\n",
              "\n",
              "    .dataframe thead th {\n",
              "        text-align: right;\n",
              "    }\n",
              "</style>\n",
              "<table border=\"1\" class=\"dataframe\">\n",
              "  <thead>\n",
              "    <tr style=\"text-align: right;\">\n",
              "      <th></th>\n",
              "      <th>Case Id</th>\n",
              "      <th>Date</th>\n",
              "      <th>Year</th>\n",
              "      <th>Type</th>\n",
              "      <th>Country</th>\n",
              "      <th>Area</th>\n",
              "      <th>Location</th>\n",
              "      <th>Activity</th>\n",
              "      <th>Sex</th>\n",
              "      <th>Age</th>\n",
              "      <th>Injury</th>\n",
              "      <th>Fatal</th>\n",
              "      <th>Time</th>\n",
              "      <th>Species</th>\n",
              "      <th>Investigator or Source</th>\n",
              "      <th>original order</th>\n",
              "    </tr>\n",
              "  </thead>\n",
              "  <tbody>\n",
              "    <tr>\n",
              "      <th>534</th>\n",
              "      <td>2017.01.08.R</td>\n",
              "      <td>08-Jan-2017</td>\n",
              "      <td>NaN</td>\n",
              "      <td>Invalid</td>\n",
              "      <td>AUSTRALIA</td>\n",
              "      <td>Queensland</td>\n",
              "      <td>NaN</td>\n",
              "      <td>Spearfishing</td>\n",
              "      <td>M</td>\n",
              "      <td>35</td>\n",
              "      <td>No attack, shark made a threat display</td>\n",
              "      <td>UnV</td>\n",
              "      <td>NaN</td>\n",
              "      <td>Bull shark</td>\n",
              "      <td>Liquid Vision 1/8/2017</td>\n",
              "      <td>6134.0</td>\n",
              "    </tr>\n",
              "    <tr>\n",
              "      <th>6441</th>\n",
              "      <td>1836.08.19.R</td>\n",
              "      <td>19-Aug-1836</td>\n",
              "      <td>NaN</td>\n",
              "      <td>Unprovoked</td>\n",
              "      <td>ENGLAND</td>\n",
              "      <td>Cumberland</td>\n",
              "      <td>Whitehaven</td>\n",
              "      <td>Swimming</td>\n",
              "      <td>M</td>\n",
              "      <td>NaN</td>\n",
              "      <td>FATAL</td>\n",
              "      <td>Y</td>\n",
              "      <td>NaN</td>\n",
              "      <td>NaN</td>\n",
              "      <td>C. Moore, GSAF</td>\n",
              "      <td>227.0</td>\n",
              "    </tr>\n",
              "  </tbody>\n",
              "</table>\n",
              "</div>"
            ],
            "text/plain": [
              "           Case Id         Date  ...  Investigator or Source original order\n",
              "534   2017.01.08.R  08-Jan-2017  ...  Liquid Vision 1/8/2017         6134.0\n",
              "6441  1836.08.19.R  19-Aug-1836  ...          C. Moore, GSAF          227.0\n",
              "\n",
              "[2 rows x 16 columns]"
            ]
          },
          "metadata": {
            "tags": []
          },
          "execution_count": 78
        }
      ]
    },
    {
      "cell_type": "code",
      "metadata": {
        "id": "6AHRinTEKKdP"
      },
      "source": [
        "# filling in missing year column values with the year listed in the Date column\n",
        "sharks.loc[sharks.index == 534, 'Year'] = 2017\n",
        "sharks.loc[sharks.index == 6441, 'Year'] = 1836"
      ],
      "execution_count": 79,
      "outputs": []
    },
    {
      "cell_type": "code",
      "metadata": {
        "colab": {
          "base_uri": "https://localhost:8080/"
        },
        "id": "B8fdqJPyLhNb",
        "outputId": "47367022-37a0-4c48-a35f-94751b3fc095"
      },
      "source": [
        "sharks['Year'].isnull().sum()"
      ],
      "execution_count": 80,
      "outputs": [
        {
          "output_type": "execute_result",
          "data": {
            "text/plain": [
              "0"
            ]
          },
          "metadata": {
            "tags": []
          },
          "execution_count": 80
        }
      ]
    },
    {
      "cell_type": "code",
      "metadata": {
        "colab": {
          "base_uri": "https://localhost:8080/",
          "height": 686
        },
        "id": "oINX9rtyOvEY",
        "outputId": "2099a0a5-579a-42e3-a82e-bf4bca62f19c"
      },
      "source": [
        "sharks.loc[sharks['Year']==0, :]\n"
      ],
      "execution_count": 81,
      "outputs": [
        {
          "output_type": "execute_result",
          "data": {
            "text/html": [
              "<div>\n",
              "<style scoped>\n",
              "    .dataframe tbody tr th:only-of-type {\n",
              "        vertical-align: middle;\n",
              "    }\n",
              "\n",
              "    .dataframe tbody tr th {\n",
              "        vertical-align: top;\n",
              "    }\n",
              "\n",
              "    .dataframe thead th {\n",
              "        text-align: right;\n",
              "    }\n",
              "</style>\n",
              "<table border=\"1\" class=\"dataframe\">\n",
              "  <thead>\n",
              "    <tr style=\"text-align: right;\">\n",
              "      <th></th>\n",
              "      <th>Case Id</th>\n",
              "      <th>Date</th>\n",
              "      <th>Year</th>\n",
              "      <th>Type</th>\n",
              "      <th>Country</th>\n",
              "      <th>Area</th>\n",
              "      <th>Location</th>\n",
              "      <th>Activity</th>\n",
              "      <th>Sex</th>\n",
              "      <th>Age</th>\n",
              "      <th>Injury</th>\n",
              "      <th>Fatal</th>\n",
              "      <th>Time</th>\n",
              "      <th>Species</th>\n",
              "      <th>Investigator or Source</th>\n",
              "      <th>original order</th>\n",
              "    </tr>\n",
              "  </thead>\n",
              "  <tbody>\n",
              "    <tr>\n",
              "      <th>6539</th>\n",
              "      <td>0000.0214</td>\n",
              "      <td>214 B.C.</td>\n",
              "      <td>0.0</td>\n",
              "      <td>Unprovoked</td>\n",
              "      <td>UNKNOWN</td>\n",
              "      <td>Ionian Sea</td>\n",
              "      <td>NaN</td>\n",
              "      <td>Ascending from a dive</td>\n",
              "      <td>M</td>\n",
              "      <td>NaN</td>\n",
              "      <td>FATAL, shark/s bit him in two</td>\n",
              "      <td>Y</td>\n",
              "      <td>NaN</td>\n",
              "      <td>NaN</td>\n",
              "      <td>Reported by Greek poet, Leonidas of Tarentum (...</td>\n",
              "      <td>129.0</td>\n",
              "    </tr>\n",
              "    <tr>\n",
              "      <th>6540</th>\n",
              "      <td>0000.0336</td>\n",
              "      <td>336 B.C.</td>\n",
              "      <td>0.0</td>\n",
              "      <td>Unprovoked</td>\n",
              "      <td>GREECE</td>\n",
              "      <td>Piraeus</td>\n",
              "      <td>In the haven of Cantharus</td>\n",
              "      <td>Washing his pig in preparation for a religious...</td>\n",
              "      <td>M</td>\n",
              "      <td>NaN</td>\n",
              "      <td>FATAL, shark \"bit off all lower parts of him u...</td>\n",
              "      <td>Y</td>\n",
              "      <td>NaN</td>\n",
              "      <td>NaN</td>\n",
              "      <td>Plutarch (45 - 125 A.D.) in Life of Phoecion (...</td>\n",
              "      <td>128.0</td>\n",
              "    </tr>\n",
              "    <tr>\n",
              "      <th>6541</th>\n",
              "      <td>0000.0493</td>\n",
              "      <td>493 B.C.</td>\n",
              "      <td>0.0</td>\n",
              "      <td>Sea Disaster</td>\n",
              "      <td>GREECE</td>\n",
              "      <td>Off Thessaly</td>\n",
              "      <td>NaN</td>\n",
              "      <td>Shipwrecked Persian Fleet</td>\n",
              "      <td>M</td>\n",
              "      <td>NaN</td>\n",
              "      <td>Herodotus tells of sharks attacking men in the...</td>\n",
              "      <td>Y</td>\n",
              "      <td>NaN</td>\n",
              "      <td>NaN</td>\n",
              "      <td>Herodotus (485 - 425 B.C.)</td>\n",
              "      <td>127.0</td>\n",
              "    </tr>\n",
              "    <tr>\n",
              "      <th>6542</th>\n",
              "      <td>0000.0725</td>\n",
              "      <td>725 B.C.</td>\n",
              "      <td>0.0</td>\n",
              "      <td>Sea Disaster</td>\n",
              "      <td>ITALY</td>\n",
              "      <td>Tyrrhenian Sea</td>\n",
              "      <td>Krater found during excavations at Lacco Ameno...</td>\n",
              "      <td>Shipwreck</td>\n",
              "      <td>M</td>\n",
              "      <td>NaN</td>\n",
              "      <td>Depicts shipwrecked sailors  attacked by a sha...</td>\n",
              "      <td>Y</td>\n",
              "      <td>NaN</td>\n",
              "      <td>NaN</td>\n",
              "      <td>V.M. Coppleson (1958), p.262, et al</td>\n",
              "      <td>126.0</td>\n",
              "    </tr>\n",
              "    <tr>\n",
              "      <th>6543</th>\n",
              "      <td>0000.1010</td>\n",
              "      <td>1010 B.C.</td>\n",
              "      <td>0.0</td>\n",
              "      <td>Unverified</td>\n",
              "      <td>JAPAN</td>\n",
              "      <td>NaN</td>\n",
              "      <td>NaN</td>\n",
              "      <td>NaN</td>\n",
              "      <td>M</td>\n",
              "      <td>NaN</td>\n",
              "      <td>FATAL</td>\n",
              "      <td>Y</td>\n",
              "      <td>NaN</td>\n",
              "      <td>NaN</td>\n",
              "      <td>J.A. WhiteJ.</td>\n",
              "      <td>125.0</td>\n",
              "    </tr>\n",
              "    <tr>\n",
              "      <th>...</th>\n",
              "      <td>...</td>\n",
              "      <td>...</td>\n",
              "      <td>...</td>\n",
              "      <td>...</td>\n",
              "      <td>...</td>\n",
              "      <td>...</td>\n",
              "      <td>...</td>\n",
              "      <td>...</td>\n",
              "      <td>...</td>\n",
              "      <td>...</td>\n",
              "      <td>...</td>\n",
              "      <td>...</td>\n",
              "      <td>...</td>\n",
              "      <td>...</td>\n",
              "      <td>...</td>\n",
              "      <td>...</td>\n",
              "    </tr>\n",
              "    <tr>\n",
              "      <th>6662</th>\n",
              "      <td>ND.0005</td>\n",
              "      <td>1902</td>\n",
              "      <td>0.0</td>\n",
              "      <td>Unprovoked</td>\n",
              "      <td>AUSTRALIA</td>\n",
              "      <td>Western Australia</td>\n",
              "      <td>Roebuck Bay</td>\n",
              "      <td>Diving</td>\n",
              "      <td>M</td>\n",
              "      <td>NaN</td>\n",
              "      <td>FATAL</td>\n",
              "      <td>Y</td>\n",
              "      <td>NaN</td>\n",
              "      <td>NaN</td>\n",
              "      <td>H. Taunton; N. Bartlett,  p. 234</td>\n",
              "      <td>6.0</td>\n",
              "    </tr>\n",
              "    <tr>\n",
              "      <th>6663</th>\n",
              "      <td>ND.0004</td>\n",
              "      <td>1902</td>\n",
              "      <td>0.0</td>\n",
              "      <td>Unprovoked</td>\n",
              "      <td>AUSTRALIA</td>\n",
              "      <td>Western Australia</td>\n",
              "      <td>NaN</td>\n",
              "      <td>Pearl diving</td>\n",
              "      <td>M</td>\n",
              "      <td>NaN</td>\n",
              "      <td>FATAL</td>\n",
              "      <td>Y</td>\n",
              "      <td>NaN</td>\n",
              "      <td>NaN</td>\n",
              "      <td>H. Taunton; N. Bartlett,  pp. 233-234</td>\n",
              "      <td>5.0</td>\n",
              "    </tr>\n",
              "    <tr>\n",
              "      <th>6664</th>\n",
              "      <td>ND.0003</td>\n",
              "      <td>1903</td>\n",
              "      <td>0.0</td>\n",
              "      <td>Unprovoked</td>\n",
              "      <td>USA</td>\n",
              "      <td>North Carolina</td>\n",
              "      <td>Ocracoke Inlet</td>\n",
              "      <td>Swimming</td>\n",
              "      <td>M</td>\n",
              "      <td>NaN</td>\n",
              "      <td>FATAL</td>\n",
              "      <td>Y</td>\n",
              "      <td>NaN</td>\n",
              "      <td>NaN</td>\n",
              "      <td>F. Schwartz, p.23; C. Creswell, GSAF</td>\n",
              "      <td>4.0</td>\n",
              "    </tr>\n",
              "    <tr>\n",
              "      <th>6665</th>\n",
              "      <td>ND.0002</td>\n",
              "      <td>1886</td>\n",
              "      <td>0.0</td>\n",
              "      <td>Unprovoked</td>\n",
              "      <td>PANAMA</td>\n",
              "      <td>NaN</td>\n",
              "      <td>Panama Bay 8ºN, 79ºW</td>\n",
              "      <td>NaN</td>\n",
              "      <td>M</td>\n",
              "      <td>NaN</td>\n",
              "      <td>FATAL</td>\n",
              "      <td>Y</td>\n",
              "      <td>NaN</td>\n",
              "      <td>NaN</td>\n",
              "      <td>The Sun, 10/20/1938</td>\n",
              "      <td>3.0</td>\n",
              "    </tr>\n",
              "    <tr>\n",
              "      <th>6666</th>\n",
              "      <td>ND.0001</td>\n",
              "      <td>1849</td>\n",
              "      <td>0.0</td>\n",
              "      <td>Unprovoked</td>\n",
              "      <td>CEYLON (SRI LANKA)</td>\n",
              "      <td>Eastern Province</td>\n",
              "      <td>Below the English fort, Trincomalee</td>\n",
              "      <td>Swimming</td>\n",
              "      <td>M</td>\n",
              "      <td>15</td>\n",
              "      <td>FATAL. \"Shark bit him in half, carrying away t...</td>\n",
              "      <td>Y</td>\n",
              "      <td>NaN</td>\n",
              "      <td>NaN</td>\n",
              "      <td>S.W. Baker</td>\n",
              "      <td>2.0</td>\n",
              "    </tr>\n",
              "  </tbody>\n",
              "</table>\n",
              "<p>112 rows × 16 columns</p>\n",
              "</div>"
            ],
            "text/plain": [
              "        Case Id  ... original order\n",
              "6539  0000.0214  ...          129.0\n",
              "6540  0000.0336  ...          128.0\n",
              "6541  0000.0493  ...          127.0\n",
              "6542  0000.0725  ...          126.0\n",
              "6543  0000.1010  ...          125.0\n",
              "...         ...  ...            ...\n",
              "6662    ND.0005  ...            6.0\n",
              "6663    ND.0004  ...            5.0\n",
              "6664    ND.0003  ...            4.0\n",
              "6665    ND.0002  ...            3.0\n",
              "6666    ND.0001  ...            2.0\n",
              "\n",
              "[112 rows x 16 columns]"
            ]
          },
          "metadata": {
            "tags": []
          },
          "execution_count": 81
        }
      ]
    },
    {
      "cell_type": "code",
      "metadata": {
        "id": "3TlAZ_tTQmIH"
      },
      "source": [
        "# replacing the values of 0 to with NaN so that fillna will work smoothly\n",
        "sharks['Year'] = sharks['Year'].replace(0, np.nan)"
      ],
      "execution_count": 82,
      "outputs": []
    },
    {
      "cell_type": "code",
      "metadata": {
        "colab": {
          "base_uri": "https://localhost:8080/"
        },
        "id": "NGdCcqbyQ4C-",
        "outputId": "4986f84a-262f-410f-fb54-7ba38742f249"
      },
      "source": [
        "sharks['Year'].isnull().sum()"
      ],
      "execution_count": 83,
      "outputs": [
        {
          "output_type": "execute_result",
          "data": {
            "text/plain": [
              "112"
            ]
          },
          "metadata": {
            "tags": []
          },
          "execution_count": 83
        }
      ]
    },
    {
      "cell_type": "code",
      "metadata": {
        "colab": {
          "base_uri": "https://localhost:8080/"
        },
        "id": "XXqNsqjFYV7D",
        "outputId": "23b79f46-d0a5-4b05-b816-ad31ac3dcb03"
      },
      "source": [
        "sharks.loc[sharks['Date'].index==6646, :].values"
      ],
      "execution_count": 84,
      "outputs": [
        {
          "output_type": "execute_result",
          "data": {
            "text/plain": [
              "array([['ND.0021', nan, nan, 'Unprovoked', 'SOUTH AFRICA',\n",
              "        'KwaZulu-Natal', 'Durban ',\n",
              "        'Swimming in pool formed by construction of a wharf', 'M', nan,\n",
              "        'FATAL, leg severed ', 'Y', nan, nan,\n",
              "        'L. Green in South African Beachcomber, p.97', 22.0]],\n",
              "      dtype=object)"
            ]
          },
          "metadata": {
            "tags": []
          },
          "execution_count": 84
        }
      ]
    },
    {
      "cell_type": "code",
      "metadata": {
        "colab": {
          "base_uri": "https://localhost:8080/"
        },
        "id": "SBtTflHiRCMg",
        "outputId": "b1173020-b8fd-4de6-9644-ff8481a1d878"
      },
      "source": [
        "# filling in the Year column with the Year from the Date column\n",
        "# found and adapted code from this website: https://stackoverflow.com/questions/52601707/pandas-dataframe-how-to-extract-the-last-two-string-type-numbers-from-a-column\n",
        "fillYear = sharks['Year'].fillna(sharks['Date'].str[-4:])\n",
        "fillYear.isna().sum()"
      ],
      "execution_count": 85,
      "outputs": [
        {
          "output_type": "execute_result",
          "data": {
            "text/plain": [
              "5"
            ]
          },
          "metadata": {
            "tags": []
          },
          "execution_count": 85
        }
      ]
    },
    {
      "cell_type": "code",
      "metadata": {
        "id": "eiso46XVRHI1"
      },
      "source": [
        "# filling in the missing Year column values with the values from the Date column\n",
        "sharks['Year'] = fillYear"
      ],
      "execution_count": 86,
      "outputs": []
    },
    {
      "cell_type": "code",
      "metadata": {
        "id": "WV4O4LYmXZxj"
      },
      "source": [
        "sharks.dropna(axis=0, subset=['Date'], inplace=True)"
      ],
      "execution_count": 87,
      "outputs": []
    },
    {
      "cell_type": "code",
      "metadata": {
        "colab": {
          "base_uri": "https://localhost:8080/"
        },
        "id": "_xSXwPN7i3ID",
        "outputId": "af348ce2-e16e-4adb-cb69-e477d018bc33"
      },
      "source": [
        "sharks['Year'].isna().sum()"
      ],
      "execution_count": 88,
      "outputs": [
        {
          "output_type": "execute_result",
          "data": {
            "text/plain": [
              "0"
            ]
          },
          "metadata": {
            "tags": []
          },
          "execution_count": 88
        }
      ]
    },
    {
      "cell_type": "code",
      "metadata": {
        "colab": {
          "base_uri": "https://localhost:8080/",
          "height": 49
        },
        "id": "MPx2HTSWuVhj",
        "outputId": "f370c3a3-44a0-4f6b-f5bd-c46c061ad680"
      },
      "source": [
        "sharks.loc[sharks['Year']== 0, :]"
      ],
      "execution_count": 89,
      "outputs": [
        {
          "output_type": "execute_result",
          "data": {
            "text/html": [
              "<div>\n",
              "<style scoped>\n",
              "    .dataframe tbody tr th:only-of-type {\n",
              "        vertical-align: middle;\n",
              "    }\n",
              "\n",
              "    .dataframe tbody tr th {\n",
              "        vertical-align: top;\n",
              "    }\n",
              "\n",
              "    .dataframe thead th {\n",
              "        text-align: right;\n",
              "    }\n",
              "</style>\n",
              "<table border=\"1\" class=\"dataframe\">\n",
              "  <thead>\n",
              "    <tr style=\"text-align: right;\">\n",
              "      <th></th>\n",
              "      <th>Case Id</th>\n",
              "      <th>Date</th>\n",
              "      <th>Year</th>\n",
              "      <th>Type</th>\n",
              "      <th>Country</th>\n",
              "      <th>Area</th>\n",
              "      <th>Location</th>\n",
              "      <th>Activity</th>\n",
              "      <th>Sex</th>\n",
              "      <th>Age</th>\n",
              "      <th>Injury</th>\n",
              "      <th>Fatal</th>\n",
              "      <th>Time</th>\n",
              "      <th>Species</th>\n",
              "      <th>Investigator or Source</th>\n",
              "      <th>original order</th>\n",
              "    </tr>\n",
              "  </thead>\n",
              "  <tbody>\n",
              "  </tbody>\n",
              "</table>\n",
              "</div>"
            ],
            "text/plain": [
              "Empty DataFrame\n",
              "Columns: [Case Id, Date, Year, Type, Country, Area, Location, Activity, Sex, Age, Injury, Fatal, Time, Species, Investigator or Source, original order]\n",
              "Index: []"
            ]
          },
          "metadata": {
            "tags": []
          },
          "execution_count": 89
        }
      ]
    },
    {
      "cell_type": "code",
      "metadata": {
        "colab": {
          "base_uri": "https://localhost:8080/"
        },
        "id": "HocFzFOhRf_P",
        "outputId": "73ee42da-1da2-4c18-c97e-875ab5153ff0"
      },
      "source": [
        "# verifying all NaNs have been filled\n",
        "sharks.loc[sharks['Year'].isnull(), :].sum()"
      ],
      "execution_count": 90,
      "outputs": [
        {
          "output_type": "execute_result",
          "data": {
            "text/plain": [
              "Case Id                   0.0\n",
              "Date                      0.0\n",
              "Year                      0.0\n",
              "Type                      0.0\n",
              "Country                   0.0\n",
              "Area                      0.0\n",
              "Location                  0.0\n",
              "Activity                  0.0\n",
              "Sex                       0.0\n",
              "Age                       0.0\n",
              "Injury                    0.0\n",
              "Fatal                     0.0\n",
              "Time                      0.0\n",
              "Species                   0.0\n",
              "Investigator or Source    0.0\n",
              "original order            0.0\n",
              "dtype: float64"
            ]
          },
          "metadata": {
            "tags": []
          },
          "execution_count": 90
        }
      ]
    },
    {
      "cell_type": "code",
      "metadata": {
        "colab": {
          "base_uri": "https://localhost:8080/",
          "height": 49
        },
        "id": "tO_siUegTFc4",
        "outputId": "0d2134e7-c635-498f-86ff-963af5ca7157"
      },
      "source": [
        "sharks.loc[sharks['Year'].str.contains('-') == True, :]"
      ],
      "execution_count": 91,
      "outputs": [
        {
          "output_type": "execute_result",
          "data": {
            "text/html": [
              "<div>\n",
              "<style scoped>\n",
              "    .dataframe tbody tr th:only-of-type {\n",
              "        vertical-align: middle;\n",
              "    }\n",
              "\n",
              "    .dataframe tbody tr th {\n",
              "        vertical-align: top;\n",
              "    }\n",
              "\n",
              "    .dataframe thead th {\n",
              "        text-align: right;\n",
              "    }\n",
              "</style>\n",
              "<table border=\"1\" class=\"dataframe\">\n",
              "  <thead>\n",
              "    <tr style=\"text-align: right;\">\n",
              "      <th></th>\n",
              "      <th>Case Id</th>\n",
              "      <th>Date</th>\n",
              "      <th>Year</th>\n",
              "      <th>Type</th>\n",
              "      <th>Country</th>\n",
              "      <th>Area</th>\n",
              "      <th>Location</th>\n",
              "      <th>Activity</th>\n",
              "      <th>Sex</th>\n",
              "      <th>Age</th>\n",
              "      <th>Injury</th>\n",
              "      <th>Fatal</th>\n",
              "      <th>Time</th>\n",
              "      <th>Species</th>\n",
              "      <th>Investigator or Source</th>\n",
              "      <th>original order</th>\n",
              "    </tr>\n",
              "  </thead>\n",
              "  <tbody>\n",
              "  </tbody>\n",
              "</table>\n",
              "</div>"
            ],
            "text/plain": [
              "Empty DataFrame\n",
              "Columns: [Case Id, Date, Year, Type, Country, Area, Location, Activity, Sex, Age, Injury, Fatal, Time, Species, Investigator or Source, original order]\n",
              "Index: []"
            ]
          },
          "metadata": {
            "tags": []
          },
          "execution_count": 91
        }
      ]
    },
    {
      "cell_type": "code",
      "metadata": {
        "colab": {
          "base_uri": "https://localhost:8080/",
          "height": 371
        },
        "id": "JHuQEfaMtncJ",
        "outputId": "3785d063-af40-4616-f490-6b0081701ae0"
      },
      "source": [
        "BC = sharks['Date'].str.contains('B.C') == True\n",
        "sharks[BC]"
      ],
      "execution_count": 92,
      "outputs": [
        {
          "output_type": "execute_result",
          "data": {
            "text/html": [
              "<div>\n",
              "<style scoped>\n",
              "    .dataframe tbody tr th:only-of-type {\n",
              "        vertical-align: middle;\n",
              "    }\n",
              "\n",
              "    .dataframe tbody tr th {\n",
              "        vertical-align: top;\n",
              "    }\n",
              "\n",
              "    .dataframe thead th {\n",
              "        text-align: right;\n",
              "    }\n",
              "</style>\n",
              "<table border=\"1\" class=\"dataframe\">\n",
              "  <thead>\n",
              "    <tr style=\"text-align: right;\">\n",
              "      <th></th>\n",
              "      <th>Case Id</th>\n",
              "      <th>Date</th>\n",
              "      <th>Year</th>\n",
              "      <th>Type</th>\n",
              "      <th>Country</th>\n",
              "      <th>Area</th>\n",
              "      <th>Location</th>\n",
              "      <th>Activity</th>\n",
              "      <th>Sex</th>\n",
              "      <th>Age</th>\n",
              "      <th>Injury</th>\n",
              "      <th>Fatal</th>\n",
              "      <th>Time</th>\n",
              "      <th>Species</th>\n",
              "      <th>Investigator or Source</th>\n",
              "      <th>original order</th>\n",
              "    </tr>\n",
              "  </thead>\n",
              "  <tbody>\n",
              "    <tr>\n",
              "      <th>6539</th>\n",
              "      <td>0000.0214</td>\n",
              "      <td>214 B.C.</td>\n",
              "      <td>B.C.</td>\n",
              "      <td>Unprovoked</td>\n",
              "      <td>UNKNOWN</td>\n",
              "      <td>Ionian Sea</td>\n",
              "      <td>NaN</td>\n",
              "      <td>Ascending from a dive</td>\n",
              "      <td>M</td>\n",
              "      <td>NaN</td>\n",
              "      <td>FATAL, shark/s bit him in two</td>\n",
              "      <td>Y</td>\n",
              "      <td>NaN</td>\n",
              "      <td>NaN</td>\n",
              "      <td>Reported by Greek poet, Leonidas of Tarentum (...</td>\n",
              "      <td>129.0</td>\n",
              "    </tr>\n",
              "    <tr>\n",
              "      <th>6540</th>\n",
              "      <td>0000.0336</td>\n",
              "      <td>336 B.C.</td>\n",
              "      <td>B.C.</td>\n",
              "      <td>Unprovoked</td>\n",
              "      <td>GREECE</td>\n",
              "      <td>Piraeus</td>\n",
              "      <td>In the haven of Cantharus</td>\n",
              "      <td>Washing his pig in preparation for a religious...</td>\n",
              "      <td>M</td>\n",
              "      <td>NaN</td>\n",
              "      <td>FATAL, shark \"bit off all lower parts of him u...</td>\n",
              "      <td>Y</td>\n",
              "      <td>NaN</td>\n",
              "      <td>NaN</td>\n",
              "      <td>Plutarch (45 - 125 A.D.) in Life of Phoecion (...</td>\n",
              "      <td>128.0</td>\n",
              "    </tr>\n",
              "    <tr>\n",
              "      <th>6541</th>\n",
              "      <td>0000.0493</td>\n",
              "      <td>493 B.C.</td>\n",
              "      <td>B.C.</td>\n",
              "      <td>Sea Disaster</td>\n",
              "      <td>GREECE</td>\n",
              "      <td>Off Thessaly</td>\n",
              "      <td>NaN</td>\n",
              "      <td>Shipwrecked Persian Fleet</td>\n",
              "      <td>M</td>\n",
              "      <td>NaN</td>\n",
              "      <td>Herodotus tells of sharks attacking men in the...</td>\n",
              "      <td>Y</td>\n",
              "      <td>NaN</td>\n",
              "      <td>NaN</td>\n",
              "      <td>Herodotus (485 - 425 B.C.)</td>\n",
              "      <td>127.0</td>\n",
              "    </tr>\n",
              "    <tr>\n",
              "      <th>6542</th>\n",
              "      <td>0000.0725</td>\n",
              "      <td>725 B.C.</td>\n",
              "      <td>B.C.</td>\n",
              "      <td>Sea Disaster</td>\n",
              "      <td>ITALY</td>\n",
              "      <td>Tyrrhenian Sea</td>\n",
              "      <td>Krater found during excavations at Lacco Ameno...</td>\n",
              "      <td>Shipwreck</td>\n",
              "      <td>M</td>\n",
              "      <td>NaN</td>\n",
              "      <td>Depicts shipwrecked sailors  attacked by a sha...</td>\n",
              "      <td>Y</td>\n",
              "      <td>NaN</td>\n",
              "      <td>NaN</td>\n",
              "      <td>V.M. Coppleson (1958), p.262, et al</td>\n",
              "      <td>126.0</td>\n",
              "    </tr>\n",
              "    <tr>\n",
              "      <th>6543</th>\n",
              "      <td>0000.1010</td>\n",
              "      <td>1010 B.C.</td>\n",
              "      <td>B.C.</td>\n",
              "      <td>Unverified</td>\n",
              "      <td>JAPAN</td>\n",
              "      <td>NaN</td>\n",
              "      <td>NaN</td>\n",
              "      <td>NaN</td>\n",
              "      <td>M</td>\n",
              "      <td>NaN</td>\n",
              "      <td>FATAL</td>\n",
              "      <td>Y</td>\n",
              "      <td>NaN</td>\n",
              "      <td>NaN</td>\n",
              "      <td>J.A. WhiteJ.</td>\n",
              "      <td>125.0</td>\n",
              "    </tr>\n",
              "  </tbody>\n",
              "</table>\n",
              "</div>"
            ],
            "text/plain": [
              "        Case Id  ... original order\n",
              "6539  0000.0214  ...          129.0\n",
              "6540  0000.0336  ...          128.0\n",
              "6541  0000.0493  ...          127.0\n",
              "6542  0000.0725  ...          126.0\n",
              "6543  0000.1010  ...          125.0\n",
              "\n",
              "[5 rows x 16 columns]"
            ]
          },
          "metadata": {
            "tags": []
          },
          "execution_count": 92
        }
      ]
    },
    {
      "cell_type": "code",
      "metadata": {
        "id": "COgpNiGtR31O"
      },
      "source": [
        "# fixing the B.C values in the Year column to reflect year only with (- signage)\n",
        "sharks.loc[sharks.index == 6539, 'Year'] = -214\n",
        "sharks.loc[sharks.index == 6540, 'Year'] = -336\n",
        "sharks.loc[sharks.index == 6541, 'Year'] = -493\n",
        "sharks.loc[sharks.index == 6542, 'Year'] = -725\n",
        "sharks.loc[sharks.index == 6543, 'Year'] = -1010"
      ],
      "execution_count": 93,
      "outputs": []
    },
    {
      "cell_type": "code",
      "metadata": {
        "colab": {
          "base_uri": "https://localhost:8080/",
          "height": 371
        },
        "id": "F6VSjwfES8fa",
        "outputId": "a632f30c-b596-46c7-e7af-6988ec18a6cd"
      },
      "source": [
        "sharks[BC]"
      ],
      "execution_count": 94,
      "outputs": [
        {
          "output_type": "execute_result",
          "data": {
            "text/html": [
              "<div>\n",
              "<style scoped>\n",
              "    .dataframe tbody tr th:only-of-type {\n",
              "        vertical-align: middle;\n",
              "    }\n",
              "\n",
              "    .dataframe tbody tr th {\n",
              "        vertical-align: top;\n",
              "    }\n",
              "\n",
              "    .dataframe thead th {\n",
              "        text-align: right;\n",
              "    }\n",
              "</style>\n",
              "<table border=\"1\" class=\"dataframe\">\n",
              "  <thead>\n",
              "    <tr style=\"text-align: right;\">\n",
              "      <th></th>\n",
              "      <th>Case Id</th>\n",
              "      <th>Date</th>\n",
              "      <th>Year</th>\n",
              "      <th>Type</th>\n",
              "      <th>Country</th>\n",
              "      <th>Area</th>\n",
              "      <th>Location</th>\n",
              "      <th>Activity</th>\n",
              "      <th>Sex</th>\n",
              "      <th>Age</th>\n",
              "      <th>Injury</th>\n",
              "      <th>Fatal</th>\n",
              "      <th>Time</th>\n",
              "      <th>Species</th>\n",
              "      <th>Investigator or Source</th>\n",
              "      <th>original order</th>\n",
              "    </tr>\n",
              "  </thead>\n",
              "  <tbody>\n",
              "    <tr>\n",
              "      <th>6539</th>\n",
              "      <td>0000.0214</td>\n",
              "      <td>214 B.C.</td>\n",
              "      <td>-214</td>\n",
              "      <td>Unprovoked</td>\n",
              "      <td>UNKNOWN</td>\n",
              "      <td>Ionian Sea</td>\n",
              "      <td>NaN</td>\n",
              "      <td>Ascending from a dive</td>\n",
              "      <td>M</td>\n",
              "      <td>NaN</td>\n",
              "      <td>FATAL, shark/s bit him in two</td>\n",
              "      <td>Y</td>\n",
              "      <td>NaN</td>\n",
              "      <td>NaN</td>\n",
              "      <td>Reported by Greek poet, Leonidas of Tarentum (...</td>\n",
              "      <td>129.0</td>\n",
              "    </tr>\n",
              "    <tr>\n",
              "      <th>6540</th>\n",
              "      <td>0000.0336</td>\n",
              "      <td>336 B.C.</td>\n",
              "      <td>-336</td>\n",
              "      <td>Unprovoked</td>\n",
              "      <td>GREECE</td>\n",
              "      <td>Piraeus</td>\n",
              "      <td>In the haven of Cantharus</td>\n",
              "      <td>Washing his pig in preparation for a religious...</td>\n",
              "      <td>M</td>\n",
              "      <td>NaN</td>\n",
              "      <td>FATAL, shark \"bit off all lower parts of him u...</td>\n",
              "      <td>Y</td>\n",
              "      <td>NaN</td>\n",
              "      <td>NaN</td>\n",
              "      <td>Plutarch (45 - 125 A.D.) in Life of Phoecion (...</td>\n",
              "      <td>128.0</td>\n",
              "    </tr>\n",
              "    <tr>\n",
              "      <th>6541</th>\n",
              "      <td>0000.0493</td>\n",
              "      <td>493 B.C.</td>\n",
              "      <td>-493</td>\n",
              "      <td>Sea Disaster</td>\n",
              "      <td>GREECE</td>\n",
              "      <td>Off Thessaly</td>\n",
              "      <td>NaN</td>\n",
              "      <td>Shipwrecked Persian Fleet</td>\n",
              "      <td>M</td>\n",
              "      <td>NaN</td>\n",
              "      <td>Herodotus tells of sharks attacking men in the...</td>\n",
              "      <td>Y</td>\n",
              "      <td>NaN</td>\n",
              "      <td>NaN</td>\n",
              "      <td>Herodotus (485 - 425 B.C.)</td>\n",
              "      <td>127.0</td>\n",
              "    </tr>\n",
              "    <tr>\n",
              "      <th>6542</th>\n",
              "      <td>0000.0725</td>\n",
              "      <td>725 B.C.</td>\n",
              "      <td>-725</td>\n",
              "      <td>Sea Disaster</td>\n",
              "      <td>ITALY</td>\n",
              "      <td>Tyrrhenian Sea</td>\n",
              "      <td>Krater found during excavations at Lacco Ameno...</td>\n",
              "      <td>Shipwreck</td>\n",
              "      <td>M</td>\n",
              "      <td>NaN</td>\n",
              "      <td>Depicts shipwrecked sailors  attacked by a sha...</td>\n",
              "      <td>Y</td>\n",
              "      <td>NaN</td>\n",
              "      <td>NaN</td>\n",
              "      <td>V.M. Coppleson (1958), p.262, et al</td>\n",
              "      <td>126.0</td>\n",
              "    </tr>\n",
              "    <tr>\n",
              "      <th>6543</th>\n",
              "      <td>0000.1010</td>\n",
              "      <td>1010 B.C.</td>\n",
              "      <td>-1010</td>\n",
              "      <td>Unverified</td>\n",
              "      <td>JAPAN</td>\n",
              "      <td>NaN</td>\n",
              "      <td>NaN</td>\n",
              "      <td>NaN</td>\n",
              "      <td>M</td>\n",
              "      <td>NaN</td>\n",
              "      <td>FATAL</td>\n",
              "      <td>Y</td>\n",
              "      <td>NaN</td>\n",
              "      <td>NaN</td>\n",
              "      <td>J.A. WhiteJ.</td>\n",
              "      <td>125.0</td>\n",
              "    </tr>\n",
              "  </tbody>\n",
              "</table>\n",
              "</div>"
            ],
            "text/plain": [
              "        Case Id  ... original order\n",
              "6539  0000.0214  ...          129.0\n",
              "6540  0000.0336  ...          128.0\n",
              "6541  0000.0493  ...          127.0\n",
              "6542  0000.0725  ...          126.0\n",
              "6543  0000.1010  ...          125.0\n",
              "\n",
              "[5 rows x 16 columns]"
            ]
          },
          "metadata": {
            "tags": []
          },
          "execution_count": 94
        }
      ]
    },
    {
      "cell_type": "code",
      "metadata": {
        "colab": {
          "base_uri": "https://localhost:8080/"
        },
        "id": "syiTrdr8VAgO",
        "outputId": "0f92b022-1f91-41b1-9363-d602899f1648"
      },
      "source": [
        "sharks['Year'].value_counts()"
      ],
      "execution_count": 95,
      "outputs": [
        {
          "output_type": "execute_result",
          "data": {
            "text/plain": [
              "2015.0    143\n",
              "2017.0    140\n",
              "2016.0    131\n",
              "2011.0    129\n",
              "2014.0    127\n",
              "         ... \n",
              "1764.0      1\n",
              "1767.0      1\n",
              "1771.0      1\n",
              "1779.0      1\n",
              "5.0         1\n",
              "Name: Year, Length: 317, dtype: int64"
            ]
          },
          "metadata": {
            "tags": []
          },
          "execution_count": 95
        }
      ]
    },
    {
      "cell_type": "code",
      "metadata": {
        "colab": {
          "base_uri": "https://localhost:8080/"
        },
        "id": "vqrQ2PFrilss",
        "outputId": "cf50e8bc-53e9-462a-d9ca-edd577768766"
      },
      "source": [
        "sharks['Year']"
      ],
      "execution_count": 96,
      "outputs": [
        {
          "output_type": "execute_result",
          "data": {
            "text/plain": [
              "0       2021\n",
              "1       2021\n",
              "2       2021\n",
              "3       2021\n",
              "4       2021\n",
              "        ... \n",
              "6662    1902\n",
              "6663    1902\n",
              "6664    1903\n",
              "6665    1886\n",
              "6666    1849\n",
              "Name: Year, Length: 6661, dtype: object"
            ]
          },
          "metadata": {
            "tags": []
          },
          "execution_count": 96
        }
      ]
    },
    {
      "cell_type": "code",
      "metadata": {
        "id": "YhSTNOaMiBxQ"
      },
      "source": [
        "sharks['Year'] = sharks['Year'].astype(int)"
      ],
      "execution_count": 97,
      "outputs": []
    },
    {
      "cell_type": "code",
      "metadata": {
        "colab": {
          "base_uri": "https://localhost:8080/"
        },
        "id": "Xy7kad90n5aC",
        "outputId": "261ef29a-1000-4a39-ab75-b30cfc90b58f"
      },
      "source": [
        "sharks['Year'].dtype"
      ],
      "execution_count": 98,
      "outputs": [
        {
          "output_type": "execute_result",
          "data": {
            "text/plain": [
              "dtype('int64')"
            ]
          },
          "metadata": {
            "tags": []
          },
          "execution_count": 98
        }
      ]
    },
    {
      "cell_type": "markdown",
      "metadata": {
        "id": "IugV6PqDSAkJ"
      },
      "source": [
        "> ## Replacing NaNs in Remaining Colummns"
      ]
    },
    {
      "cell_type": "markdown",
      "metadata": {
        "id": "Se0a8BR8SF9Q"
      },
      "source": [
        "- deal with missing values in the, ***Area***, ***Locataion***, ***Activity***, ***Sex***, ***Age***, ***Injury***, ***Time*** and ***Investigator or Source*** columns\n",
        "- drop ***Original Order*** column"
      ]
    },
    {
      "cell_type": "code",
      "metadata": {
        "id": "aXpSpz71fzVz"
      },
      "source": [
        "# dropping Original Order column as it is unnecessary\n",
        "sharks = sharks.drop(columns= 'original order')"
      ],
      "execution_count": 99,
      "outputs": []
    },
    {
      "cell_type": "code",
      "metadata": {
        "colab": {
          "base_uri": "https://localhost:8080/"
        },
        "id": "6UyOzvESPv9f",
        "outputId": "e90c69f8-f30e-4aac-c75e-e2685c130953"
      },
      "source": [
        "sharks['Location'].nunique()"
      ],
      "execution_count": 100,
      "outputs": [
        {
          "output_type": "execute_result",
          "data": {
            "text/plain": [
              "4332"
            ]
          },
          "metadata": {
            "tags": []
          },
          "execution_count": 100
        }
      ]
    },
    {
      "cell_type": "code",
      "metadata": {
        "id": "uUYzm8FFCc41"
      },
      "source": [
        "# filling NaN values with Unspecified\n",
        "sharks['Location'] = sharks['Location'].fillna('Unspecified')"
      ],
      "execution_count": 101,
      "outputs": []
    },
    {
      "cell_type": "code",
      "metadata": {
        "id": "bAQNkFI2Fc5p"
      },
      "source": [
        "# filling NaN values with Unspecified\n",
        "sharks['Area'] = sharks['Area'].fillna('Unspecified')"
      ],
      "execution_count": 102,
      "outputs": []
    },
    {
      "cell_type": "code",
      "metadata": {
        "id": "pIMb82KoDGpG"
      },
      "source": [
        "# filling NaN values with Unspecified\n",
        "sharks['Activity'] = sharks['Activity'].fillna('Unspecified')"
      ],
      "execution_count": 103,
      "outputs": []
    },
    {
      "cell_type": "code",
      "metadata": {
        "id": "z4w8K3GgDSGk"
      },
      "source": [
        "# filling NaN values with U\n",
        "sharks['Sex'] = sharks['Sex'].fillna('U')"
      ],
      "execution_count": 104,
      "outputs": []
    },
    {
      "cell_type": "code",
      "metadata": {
        "id": "-aOHPmdCEVM0"
      },
      "source": [
        "# filling NaN values with Unspecified\n",
        "sharks['Injury'] = sharks['Injury'].fillna('Unspecified')"
      ],
      "execution_count": 105,
      "outputs": []
    },
    {
      "cell_type": "code",
      "metadata": {
        "id": "w2zVHJ2IEzlE"
      },
      "source": [
        "# filling NaN values with Unspecified\n",
        "sharks['Investigator or Source'] = sharks['Investigator or Source'].fillna('Unspecified')"
      ],
      "execution_count": 106,
      "outputs": []
    },
    {
      "cell_type": "code",
      "metadata": {
        "colab": {
          "base_uri": "https://localhost:8080/"
        },
        "id": "IbjkLVpaIPue",
        "outputId": "02840123-9f69-4075-c1f8-55be1d65bd03"
      },
      "source": [
        "sharks['Time'].nunique()"
      ],
      "execution_count": 107,
      "outputs": [
        {
          "output_type": "execute_result",
          "data": {
            "text/plain": [
              "386"
            ]
          },
          "metadata": {
            "tags": []
          },
          "execution_count": 107
        }
      ]
    },
    {
      "cell_type": "code",
      "metadata": {
        "id": "j-eqR9MAEikE"
      },
      "source": [
        "# filling NaN values with Unspecified\n",
        "sharks['Time'] = sharks['Time'].fillna('Unspecified')"
      ],
      "execution_count": 108,
      "outputs": []
    },
    {
      "cell_type": "code",
      "metadata": {
        "id": "kdROZXmWCJQt",
        "colab": {
          "base_uri": "https://localhost:8080/"
        },
        "outputId": "bbcdad1d-55f5-436d-f99f-d549cc44df1d"
      },
      "source": [
        "# the Time column needs to be cleaned up more. I will invistigate further at another time\n",
        "sharks['Time'].value_counts()"
      ],
      "execution_count": 109,
      "outputs": [
        {
          "output_type": "execute_result",
          "data": {
            "text/plain": [
              "Unspecified       3442\n",
              "Afternoon          204\n",
              "11h00              136\n",
              "Morning            128\n",
              "12h00              117\n",
              "                  ... \n",
              "19h05                1\n",
              "13h35                1\n",
              "05h45                1\n",
              "17h00 or 17h40       1\n",
              "11h51                1\n",
              "Name: Time, Length: 387, dtype: int64"
            ]
          },
          "metadata": {
            "tags": []
          },
          "execution_count": 109
        }
      ]
    },
    {
      "cell_type": "markdown",
      "metadata": {
        "id": "h8EMCcJ6ARfk"
      },
      "source": [
        "\n",
        "\n",
        "> ## Clean ['Age'] Column\n",
        "\n"
      ]
    },
    {
      "cell_type": "markdown",
      "metadata": {
        "id": "sFr-Ybf6CYku"
      },
      "source": [
        "\n",
        "\n",
        "*   correct formatting issues from inconsistent entries\n",
        "*   filling in NaN cells with 0. I do not want to drop all this missing information for the purposes of running analysis 0 will remain interprettable as no one can possibly be 0 yrs old.\n",
        "\n"
      ]
    },
    {
      "cell_type": "code",
      "metadata": {
        "id": "HxAIE3OkECbT"
      },
      "source": [
        "# filling NaN values with 0\n",
        "sharks['Age'] = sharks['Age'].fillna(0)"
      ],
      "execution_count": 110,
      "outputs": []
    },
    {
      "cell_type": "code",
      "metadata": {
        "colab": {
          "base_uri": "https://localhost:8080/"
        },
        "id": "QNiZPzF4Mvd8",
        "outputId": "a6773b6e-a4e1-4af2-b1cd-46b935e62795"
      },
      "source": [
        "sharks['Age'].isnull().sum()"
      ],
      "execution_count": 111,
      "outputs": [
        {
          "output_type": "execute_result",
          "data": {
            "text/plain": [
              "0"
            ]
          },
          "metadata": {
            "tags": []
          },
          "execution_count": 111
        }
      ]
    },
    {
      "cell_type": "code",
      "metadata": {
        "colab": {
          "base_uri": "https://localhost:8080/"
        },
        "id": "s2T0prqnqzIH",
        "outputId": "a2ab2326-3967-42b6-941d-57cce0f89bb0"
      },
      "source": [
        "age0 = sharks['Age'] == 0\n",
        "age0sum = age0.sum()\n",
        "age0sum"
      ],
      "execution_count": 112,
      "outputs": [
        {
          "output_type": "execute_result",
          "data": {
            "text/plain": [
              "2921"
            ]
          },
          "metadata": {
            "tags": []
          },
          "execution_count": 112
        }
      ]
    },
    {
      "cell_type": "code",
      "metadata": {
        "colab": {
          "base_uri": "https://localhost:8080/"
        },
        "id": "CtW4_WQYIbJZ",
        "outputId": "8f062db4-bb2c-442f-938f-4189e8a3a0c0"
      },
      "source": [
        "sharks['Age'].nunique()"
      ],
      "execution_count": 113,
      "outputs": [
        {
          "output_type": "execute_result",
          "data": {
            "text/plain": [
              "235"
            ]
          },
          "metadata": {
            "tags": []
          },
          "execution_count": 113
        }
      ]
    },
    {
      "cell_type": "code",
      "metadata": {
        "colab": {
          "base_uri": "https://localhost:8080/"
        },
        "id": "dt1wMAC1w3Rd",
        "outputId": "3855baa7-f720-4050-9443-0c9d869a2b45"
      },
      "source": [
        "# checking for total number cells with messy formatting in Age column\n",
        "age = sharks['Age'].value_counts()==1\n",
        "messyage = age==True\n",
        "print(sharks['Age'].value_counts())\n",
        "print(age)\n",
        "print(messyage.count())\n",
        "print(messyage.mean())\n",
        "# there are 235 rows where the cell value is singularly counted\n",
        "# 37.9% of the Age column consists of values that most likely contain\n",
        "#    symbols, age ranges, multiple ages and spaces"
      ],
      "execution_count": 114,
      "outputs": [
        {
          "output_type": "stream",
          "text": [
            "0           2921\n",
            "16            88\n",
            "19            88\n",
            "17            84\n",
            "17            82\n",
            "            ... \n",
            "13 or 18       1\n",
            "33 or 37       1\n",
            "66             1\n",
            "67             1\n",
            "86             1\n",
            "Name: Age, Length: 235, dtype: int64\n",
            "0           False\n",
            "16          False\n",
            "19          False\n",
            "17          False\n",
            "17          False\n",
            "            ...  \n",
            "13 or 18     True\n",
            "33 or 37     True\n",
            "66           True\n",
            "67           True\n",
            "86           True\n",
            "Name: Age, Length: 235, dtype: bool\n",
            "235\n",
            "0.37872340425531914\n"
          ],
          "name": "stdout"
        }
      ]
    },
    {
      "cell_type": "code",
      "metadata": {
        "id": "I2r6I9abIpvR"
      },
      "source": [
        "# assigning value for the following indices to the youngest age provided in the age \n",
        "#    ranges entered on the original dataframe\n",
        "\n",
        "sharks.loc[sharks.index == 325, 'Age'] = 17\n",
        "sharks.loc[sharks.index == 1673, 'Age'] = 18\n",
        "sharks.loc[sharks.index == 1785, 'Age'] = 12\n",
        "sharks.loc[sharks.index == 2093, 'Age'] = 8\n",
        "sharks.loc[sharks.index == 2230, 'Age'] = 30\n",
        "sharks.loc[sharks.index == 2298, 'Age'] = 33\n",
        "sharks.loc[sharks.index == 3541, 'Age'] = 21\n",
        "sharks.loc[sharks.index == 4290, 'Age'] = 25\n",
        "sharks.loc[sharks.index == 4432, 'Age'] = 13\n",
        "sharks.loc[sharks.index == 4849, 'Age'] = 7\n",
        "sharks.loc[sharks.index == 4989, 'Age'] = 8\n",
        "sharks.loc[sharks.index == 5178, 'Age'] = 9\n",
        "sharks.loc[sharks.index == 5672, 'Age'] = 10\n",
        "sharks.loc[sharks.index == 5843, 'Age'] = 31\n",
        "sharks.loc[sharks.index == 6425, 'Age'] = 7\n",
        "sharks.loc[sharks.index == 6630, 'Age'] = 13\n",
        "sharks.loc[sharks.index == 49, 'Age'] = 45\n"
      ],
      "execution_count": 115,
      "outputs": []
    },
    {
      "cell_type": "code",
      "metadata": {
        "colab": {
          "base_uri": "https://localhost:8080/"
        },
        "id": "7pqOG-EJGTlj",
        "outputId": "6812bd32-48ac-4f79-93a3-8abd7ed59eb8"
      },
      "source": [
        "# checking how many of the values in the Age column contain unnecessary formmating \n",
        "format_age = sharks[sharks['Age'].str.contains('s') == True]\n",
        "format_age.count()"
      ],
      "execution_count": 116,
      "outputs": [
        {
          "output_type": "execute_result",
          "data": {
            "text/plain": [
              "Case Id                   34\n",
              "Date                      34\n",
              "Year                      34\n",
              "Type                      34\n",
              "Country                   34\n",
              "Area                      34\n",
              "Location                  34\n",
              "Activity                  34\n",
              "Sex                       34\n",
              "Age                       34\n",
              "Injury                    34\n",
              "Fatal                     34\n",
              "Time                      34\n",
              "Species                   19\n",
              "Investigator or Source    34\n",
              "dtype: int64"
            ]
          },
          "metadata": {
            "tags": []
          },
          "execution_count": 116
        }
      ]
    },
    {
      "cell_type": "code",
      "metadata": {
        "colab": {
          "base_uri": "https://localhost:8080/",
          "height": 371
        },
        "id": "hVPTfM-JlbKH",
        "outputId": "3ab99fba-78e7-49de-a1d7-19cb340dbb9b"
      },
      "source": [
        "format_age.head()"
      ],
      "execution_count": 118,
      "outputs": [
        {
          "output_type": "execute_result",
          "data": {
            "text/html": [
              "<div>\n",
              "<style scoped>\n",
              "    .dataframe tbody tr th:only-of-type {\n",
              "        vertical-align: middle;\n",
              "    }\n",
              "\n",
              "    .dataframe tbody tr th {\n",
              "        vertical-align: top;\n",
              "    }\n",
              "\n",
              "    .dataframe thead th {\n",
              "        text-align: right;\n",
              "    }\n",
              "</style>\n",
              "<table border=\"1\" class=\"dataframe\">\n",
              "  <thead>\n",
              "    <tr style=\"text-align: right;\">\n",
              "      <th></th>\n",
              "      <th>Case Id</th>\n",
              "      <th>Date</th>\n",
              "      <th>Year</th>\n",
              "      <th>Type</th>\n",
              "      <th>Country</th>\n",
              "      <th>Area</th>\n",
              "      <th>Location</th>\n",
              "      <th>Activity</th>\n",
              "      <th>Sex</th>\n",
              "      <th>Age</th>\n",
              "      <th>Injury</th>\n",
              "      <th>Fatal</th>\n",
              "      <th>Time</th>\n",
              "      <th>Species</th>\n",
              "      <th>Investigator or Source</th>\n",
              "    </tr>\n",
              "  </thead>\n",
              "  <tbody>\n",
              "    <tr>\n",
              "      <th>88</th>\n",
              "      <td>2020.09.17</td>\n",
              "      <td>17-Sep-2020</td>\n",
              "      <td>2020</td>\n",
              "      <td>Provoked</td>\n",
              "      <td>AUSTRALIA</td>\n",
              "      <td>Queensland</td>\n",
              "      <td>Fraser Island</td>\n",
              "      <td>Fishing</td>\n",
              "      <td>M</td>\n",
              "      <td>50s</td>\n",
              "      <td>Arm bitten by hooked shark PROVOKED INCIDENT</td>\n",
              "      <td>N</td>\n",
              "      <td>16h00</td>\n",
              "      <td>\"whitetip shark\"</td>\n",
              "      <td>K. McMurray, Tracking Sharks.com and B. Myatt,...</td>\n",
              "    </tr>\n",
              "    <tr>\n",
              "      <th>164</th>\n",
              "      <td>2019.12.30</td>\n",
              "      <td>30-Dec-2019</td>\n",
              "      <td>2019</td>\n",
              "      <td>Unprovoked</td>\n",
              "      <td>AUSTRALIA</td>\n",
              "      <td>Queensland</td>\n",
              "      <td>North West Island</td>\n",
              "      <td>Swimming</td>\n",
              "      <td>M</td>\n",
              "      <td>30s</td>\n",
              "      <td>Minor injury to hand</td>\n",
              "      <td>N</td>\n",
              "      <td>12h58</td>\n",
              "      <td>Shovelnose \"shark\" which is a ray, not a shark)</td>\n",
              "      <td>B. Myatt, GSAF</td>\n",
              "    </tr>\n",
              "    <tr>\n",
              "      <th>201</th>\n",
              "      <td>2019.08.31.a</td>\n",
              "      <td>31-Aug-2019</td>\n",
              "      <td>2019</td>\n",
              "      <td>Unprovoked</td>\n",
              "      <td>USA</td>\n",
              "      <td>Florida</td>\n",
              "      <td>Jacksonville Beach, Duval County</td>\n",
              "      <td>Unspecified</td>\n",
              "      <td>M</td>\n",
              "      <td>60s</td>\n",
              "      <td>Thigh injured</td>\n",
              "      <td>N</td>\n",
              "      <td>Afternoon</td>\n",
              "      <td>NaN</td>\n",
              "      <td>New4Jax, 8/31/2019</td>\n",
              "    </tr>\n",
              "    <tr>\n",
              "      <th>223</th>\n",
              "      <td>2019.07.10</td>\n",
              "      <td>10-Jul-2019</td>\n",
              "      <td>2019</td>\n",
              "      <td>Unprovoked</td>\n",
              "      <td>SOUTH AFRICA</td>\n",
              "      <td>Eastern Cape Province</td>\n",
              "      <td>East Beach, Port Alfred</td>\n",
              "      <td>Surfing</td>\n",
              "      <td>M</td>\n",
              "      <td>20's</td>\n",
              "      <td>Leg injured</td>\n",
              "      <td>N</td>\n",
              "      <td>10h30</td>\n",
              "      <td>White shark, juvenile</td>\n",
              "      <td>K. McMurray, TrackingSharks.com</td>\n",
              "    </tr>\n",
              "    <tr>\n",
              "      <th>281</th>\n",
              "      <td>2018.11.28</td>\n",
              "      <td>28-Nov-2018</td>\n",
              "      <td>2018</td>\n",
              "      <td>Unprovoked</td>\n",
              "      <td>AUSTRALIA</td>\n",
              "      <td>New South Wales</td>\n",
              "      <td>South Steyne</td>\n",
              "      <td>Surfing</td>\n",
              "      <td>M</td>\n",
              "      <td>20s</td>\n",
              "      <td>Cut to left foot</td>\n",
              "      <td>N</td>\n",
              "      <td>18h30</td>\n",
              "      <td>Wobbegong shark</td>\n",
              "      <td>K. McMurray, TrackingSharks.com</td>\n",
              "    </tr>\n",
              "  </tbody>\n",
              "</table>\n",
              "</div>"
            ],
            "text/plain": [
              "          Case Id  ...                             Investigator or Source\n",
              "88     2020.09.17  ...  K. McMurray, Tracking Sharks.com and B. Myatt,...\n",
              "164    2019.12.30  ...                                     B. Myatt, GSAF\n",
              "201  2019.08.31.a  ...                                 New4Jax, 8/31/2019\n",
              "223    2019.07.10  ...                    K. McMurray, TrackingSharks.com\n",
              "281    2018.11.28  ...                    K. McMurray, TrackingSharks.com\n",
              "\n",
              "[5 rows x 15 columns]"
            ]
          },
          "metadata": {
            "tags": []
          },
          "execution_count": 118
        }
      ]
    },
    {
      "cell_type": "code",
      "metadata": {
        "colab": {
          "base_uri": "https://localhost:8080/"
        },
        "id": "lejYN_phplo-",
        "outputId": "fea567fb-9b49-43ce-e0da-c7c9ed4435fb"
      },
      "source": [
        "sharks['Age'].dtypes"
      ],
      "execution_count": 119,
      "outputs": [
        {
          "output_type": "execute_result",
          "data": {
            "text/plain": [
              "dtype('O')"
            ]
          },
          "metadata": {
            "tags": []
          },
          "execution_count": 119
        }
      ]
    },
    {
      "cell_type": "code",
      "metadata": {
        "colab": {
          "base_uri": "https://localhost:8080/"
        },
        "id": "GDAAnuU_KTXD",
        "outputId": "73b5eb98-995b-45e9-c157-762c949604c7"
      },
      "source": [
        "# this shows that many of the values are mixed\n",
        "# both int and str are represented creating an issue with formatting\n",
        "sharks['Age'].value_counts().index"
      ],
      "execution_count": 120,
      "outputs": [
        {
          "output_type": "execute_result",
          "data": {
            "text/plain": [
              "Index([         0,         19,         16,         17,         18,       '17',\n",
              "             '15',         20,       '18',       '20',\n",
              "       ...\n",
              "        '28 & 26',        'F', '9 months',  '36 & 26',  '(adult)',     'A.M.',\n",
              "        '50 & 30',   '9 & 60', '25 to 35',  'mid-20s'],\n",
              "      dtype='object', length=220)"
            ]
          },
          "metadata": {
            "tags": []
          },
          "execution_count": 120
        }
      ]
    },
    {
      "cell_type": "code",
      "metadata": {
        "id": "x84amSm_F1cX"
      },
      "source": [
        "# changing the dtype for the Age column. It's currently a mixed dtype and impossible to correct messy formatting\n",
        "# found code at on this website: https://stackoverflow.com/questions/33312706/pandas-convert-mixed-types-to-string\n",
        "sharks['Age'] = sharks['Age'].apply(lambda elt: str(int(elt)) if isinstance(elt, float) else str(elt))"
      ],
      "execution_count": 121,
      "outputs": []
    },
    {
      "cell_type": "code",
      "metadata": {
        "colab": {
          "base_uri": "https://localhost:8080/"
        },
        "id": "Sw33sUNwKc-4",
        "outputId": "e9445d47-94f6-4f3a-db78-e50426737622"
      },
      "source": [
        "# all values have been converted to strings\n",
        "sharks['Age'].value_counts().index"
      ],
      "execution_count": 124,
      "outputs": [
        {
          "output_type": "execute_result",
          "data": {
            "text/plain": [
              "Index(['0', '17', '18', '19', '20', '16', '15', '21', '22', '25',\n",
              "       ...\n",
              "       '81', '20 ', '16 to 18', 'Both 11', '18 to 22', '20?', '45 ', '30 & 32',\n",
              "       '21, 34,24 & 35', 'MAKE LINE GREEN'],\n",
              "      dtype='object', length=147)"
            ]
          },
          "metadata": {
            "tags": []
          },
          "execution_count": 124
        }
      ]
    },
    {
      "cell_type": "code",
      "metadata": {
        "id": "dRceVkLqMWRK"
      },
      "source": [
        "# now I can strip all letters, symbols and spaces from the outsides of the strings\n",
        "sharks['Age'] = sharks['Age'].map(lambda x: x.strip('-.() \"½?&><').strip(\" 'EFXTKLINEGRAMCBabcdefghijklmnopqrstuvwxyz\"))"
      ],
      "execution_count": 125,
      "outputs": []
    },
    {
      "cell_type": "code",
      "metadata": {
        "colab": {
          "base_uri": "https://localhost:8080/"
        },
        "id": "df9CupThNcdq",
        "outputId": "aa725042-bd38-4203-8464-c71fff0a99d3"
      },
      "source": [
        "sharks['Age'].isnull().sum()"
      ],
      "execution_count": 126,
      "outputs": [
        {
          "output_type": "execute_result",
          "data": {
            "text/plain": [
              "0"
            ]
          },
          "metadata": {
            "tags": []
          },
          "execution_count": 126
        }
      ]
    },
    {
      "cell_type": "code",
      "metadata": {
        "colab": {
          "base_uri": "https://localhost:8080/"
        },
        "id": "UOc0VmweH4Ve",
        "outputId": "50b805bf-53a8-4819-f560-65143af0d7f8"
      },
      "source": [
        "sharks['Age'].value_counts().index"
      ],
      "execution_count": 127,
      "outputs": [
        {
          "output_type": "execute_result",
          "data": {
            "text/plain": [
              "Index(['0', '17', '20', '18', '19', '16', '15', '21', '22', '25',\n",
              "       ...\n",
              "       '18 to 22', '17 & 16', '16 to 18', '81', '28 & 26', '23 & 20',\n",
              "       '36 & 26', '50 & 30', '9 & 60', '2 to 3'],\n",
              "      dtype='object', length=115)"
            ]
          },
          "metadata": {
            "tags": []
          },
          "execution_count": 127
        }
      ]
    },
    {
      "cell_type": "code",
      "metadata": {
        "colab": {
          "base_uri": "https://localhost:8080/",
          "height": 194
        },
        "id": "4qwUZs4nRhl2",
        "outputId": "31786d26-b56c-430a-b3da-679d2732ef73"
      },
      "source": [
        "# these represent shark attacks with where more than one person was invlolved\n",
        "format_and = sharks['Age'].str.contains('&') == True\n",
        "sharks[format_and].head(2)"
      ],
      "execution_count": 128,
      "outputs": [
        {
          "output_type": "execute_result",
          "data": {
            "text/html": [
              "<div>\n",
              "<style scoped>\n",
              "    .dataframe tbody tr th:only-of-type {\n",
              "        vertical-align: middle;\n",
              "    }\n",
              "\n",
              "    .dataframe tbody tr th {\n",
              "        vertical-align: top;\n",
              "    }\n",
              "\n",
              "    .dataframe thead th {\n",
              "        text-align: right;\n",
              "    }\n",
              "</style>\n",
              "<table border=\"1\" class=\"dataframe\">\n",
              "  <thead>\n",
              "    <tr style=\"text-align: right;\">\n",
              "      <th></th>\n",
              "      <th>Case Id</th>\n",
              "      <th>Date</th>\n",
              "      <th>Year</th>\n",
              "      <th>Type</th>\n",
              "      <th>Country</th>\n",
              "      <th>Area</th>\n",
              "      <th>Location</th>\n",
              "      <th>Activity</th>\n",
              "      <th>Sex</th>\n",
              "      <th>Age</th>\n",
              "      <th>Injury</th>\n",
              "      <th>Fatal</th>\n",
              "      <th>Time</th>\n",
              "      <th>Species</th>\n",
              "      <th>Investigator or Source</th>\n",
              "    </tr>\n",
              "  </thead>\n",
              "  <tbody>\n",
              "    <tr>\n",
              "      <th>185</th>\n",
              "      <td>2019.10.29</td>\n",
              "      <td>29-Oct-2019</td>\n",
              "      <td>2019</td>\n",
              "      <td>Unprovoked</td>\n",
              "      <td>AUSTRALIA</td>\n",
              "      <td>Queensland</td>\n",
              "      <td>Off Airlie Beach, Whitsundays</td>\n",
              "      <td>Snorkeling</td>\n",
              "      <td>M</td>\n",
              "      <td>28 &amp; 22</td>\n",
              "      <td>Raddon’s right foot was severed and Maggs sust...</td>\n",
              "      <td>N</td>\n",
              "      <td>10h20</td>\n",
              "      <td>Tiger shark</td>\n",
              "      <td>B. Myatt &amp; M. Michaelson, GSAF</td>\n",
              "    </tr>\n",
              "    <tr>\n",
              "      <th>274</th>\n",
              "      <td>2019.01.10</td>\n",
              "      <td>10-Jan-2019</td>\n",
              "      <td>2019</td>\n",
              "      <td>Invalid</td>\n",
              "      <td>AUSTRALIA</td>\n",
              "      <td>Queensland</td>\n",
              "      <td>Catseye Beach, Hamilton Island, Whitsundays</td>\n",
              "      <td>Wading</td>\n",
              "      <td>F</td>\n",
              "      <td>9 &amp; 60</td>\n",
              "      <td>Injuries to foot &amp; leg</td>\n",
              "      <td>N</td>\n",
              "      <td>09h30</td>\n",
              "      <td>Reported as shark attacks but injuries caused ...</td>\n",
              "      <td>K. McMurray, TrackingSharks.com</td>\n",
              "    </tr>\n",
              "  </tbody>\n",
              "</table>\n",
              "</div>"
            ],
            "text/plain": [
              "        Case Id  ...           Investigator or Source\n",
              "185  2019.10.29  ...   B. Myatt & M. Michaelson, GSAF\n",
              "274  2019.01.10  ...  K. McMurray, TrackingSharks.com\n",
              "\n",
              "[2 rows x 15 columns]"
            ]
          },
          "metadata": {
            "tags": []
          },
          "execution_count": 128
        }
      ]
    },
    {
      "cell_type": "code",
      "metadata": {
        "colab": {
          "base_uri": "https://localhost:8080/"
        },
        "id": "O78pXyJ8hSO1",
        "outputId": "c2dc17c0-68bc-4493-e7cf-c3acf801b912"
      },
      "source": [
        "sharks.loc[format_and, 'Age'].values"
      ],
      "execution_count": 129,
      "outputs": [
        {
          "output_type": "execute_result",
          "data": {
            "text/plain": [
              "array(['28 & 22', '9 & 60', '28 & 26', '46 & 34', '28, 23 & 30',\n",
              "       '36 & 26', '23 & 20', '7      &    31', '32 & 30', '9 & 12',\n",
              "       '23 & 26', '33 & 37', '37, 67, 35, 27,  ? & 27', '21, 34,24 & 35',\n",
              "       '30 & 32', '50 & 30', '17 & 35', '34 & 19', '33 & 26', '17 & 16',\n",
              "       '36 & 23'], dtype=object)"
            ]
          },
          "metadata": {
            "tags": []
          },
          "execution_count": 129
        }
      ]
    },
    {
      "cell_type": "code",
      "metadata": {
        "colab": {
          "base_uri": "https://localhost:8080/",
          "height": 194
        },
        "id": "g54jWEYhUQww",
        "outputId": "5f63930c-27f5-430a-a976-ca2788ca2fa6"
      },
      "source": [
        "# using the median age when more than one 2 ages are provided\n",
        "# using the youngest age when only 2 ages are provided\n",
        "age_and = sharks.loc[format_and.index, 'Age'].replace(sharks.loc[format_and, 'Age'].values, ['22', '9', '26', '34', '23', '26', '20', '31', '30', '9', '23', '33', '27', '21', '30', '30', '17', '19', '26', '16', '23'])\n",
        "sharks.loc[format_and.index, 'Age'] = age_and\n",
        "sharks[format_and].head(2)"
      ],
      "execution_count": 130,
      "outputs": [
        {
          "output_type": "execute_result",
          "data": {
            "text/html": [
              "<div>\n",
              "<style scoped>\n",
              "    .dataframe tbody tr th:only-of-type {\n",
              "        vertical-align: middle;\n",
              "    }\n",
              "\n",
              "    .dataframe tbody tr th {\n",
              "        vertical-align: top;\n",
              "    }\n",
              "\n",
              "    .dataframe thead th {\n",
              "        text-align: right;\n",
              "    }\n",
              "</style>\n",
              "<table border=\"1\" class=\"dataframe\">\n",
              "  <thead>\n",
              "    <tr style=\"text-align: right;\">\n",
              "      <th></th>\n",
              "      <th>Case Id</th>\n",
              "      <th>Date</th>\n",
              "      <th>Year</th>\n",
              "      <th>Type</th>\n",
              "      <th>Country</th>\n",
              "      <th>Area</th>\n",
              "      <th>Location</th>\n",
              "      <th>Activity</th>\n",
              "      <th>Sex</th>\n",
              "      <th>Age</th>\n",
              "      <th>Injury</th>\n",
              "      <th>Fatal</th>\n",
              "      <th>Time</th>\n",
              "      <th>Species</th>\n",
              "      <th>Investigator or Source</th>\n",
              "    </tr>\n",
              "  </thead>\n",
              "  <tbody>\n",
              "    <tr>\n",
              "      <th>185</th>\n",
              "      <td>2019.10.29</td>\n",
              "      <td>29-Oct-2019</td>\n",
              "      <td>2019</td>\n",
              "      <td>Unprovoked</td>\n",
              "      <td>AUSTRALIA</td>\n",
              "      <td>Queensland</td>\n",
              "      <td>Off Airlie Beach, Whitsundays</td>\n",
              "      <td>Snorkeling</td>\n",
              "      <td>M</td>\n",
              "      <td>22</td>\n",
              "      <td>Raddon’s right foot was severed and Maggs sust...</td>\n",
              "      <td>N</td>\n",
              "      <td>10h20</td>\n",
              "      <td>Tiger shark</td>\n",
              "      <td>B. Myatt &amp; M. Michaelson, GSAF</td>\n",
              "    </tr>\n",
              "    <tr>\n",
              "      <th>274</th>\n",
              "      <td>2019.01.10</td>\n",
              "      <td>10-Jan-2019</td>\n",
              "      <td>2019</td>\n",
              "      <td>Invalid</td>\n",
              "      <td>AUSTRALIA</td>\n",
              "      <td>Queensland</td>\n",
              "      <td>Catseye Beach, Hamilton Island, Whitsundays</td>\n",
              "      <td>Wading</td>\n",
              "      <td>F</td>\n",
              "      <td>9</td>\n",
              "      <td>Injuries to foot &amp; leg</td>\n",
              "      <td>N</td>\n",
              "      <td>09h30</td>\n",
              "      <td>Reported as shark attacks but injuries caused ...</td>\n",
              "      <td>K. McMurray, TrackingSharks.com</td>\n",
              "    </tr>\n",
              "  </tbody>\n",
              "</table>\n",
              "</div>"
            ],
            "text/plain": [
              "        Case Id  ...           Investigator or Source\n",
              "185  2019.10.29  ...   B. Myatt & M. Michaelson, GSAF\n",
              "274  2019.01.10  ...  K. McMurray, TrackingSharks.com\n",
              "\n",
              "[2 rows x 15 columns]"
            ]
          },
          "metadata": {
            "tags": []
          },
          "execution_count": 130
        }
      ]
    },
    {
      "cell_type": "code",
      "metadata": {
        "colab": {
          "base_uri": "https://localhost:8080/"
        },
        "id": "hYId1i3iX3su",
        "outputId": "75fcdb68-24d2-4430-f28a-3cefeee7fb57"
      },
      "source": [
        "sharks.loc[sharks.index==5359, 'Injury'].values"
      ],
      "execution_count": 131,
      "outputs": [
        {
          "output_type": "execute_result",
          "data": {
            "text/plain": [
              "array(['Hooked shark capsized rowboat & the 2 men were drowned PROVOKED INCIDENT'],\n",
              "      dtype=object)"
            ]
          },
          "metadata": {
            "tags": []
          },
          "execution_count": 131
        }
      ]
    },
    {
      "cell_type": "code",
      "metadata": {
        "colab": {
          "base_uri": "https://localhost:8080/"
        },
        "id": "JPJoEIPVciC1",
        "outputId": "361c0c16-7bfa-41e0-9f0c-54b5b6158c20"
      },
      "source": [
        "sharks['Age'].value_counts().index"
      ],
      "execution_count": 132,
      "outputs": [
        {
          "output_type": "execute_result",
          "data": {
            "text/plain": [
              "Index(['0', '17', '20', '18', '19', '16', '15', '21', '22', '25', '14', '24',\n",
              "       '13', '30', '26', '23', '12', '28', '29', '27', '32', '35', '40', '10',\n",
              "       '31', '38', '34', '33', '36', '43', '9', '37', '11', '50', '42', '41',\n",
              "       '39', '45', '52', '8', '46', '48', '47', '49', '44', '7', '55', '51',\n",
              "       '', '57', '60', '54', '58', '61', '53', '6', '59', '56', '70', '63',\n",
              "       '69', '62', '68', '65', '5', '64', '3', '71', '75', '73', '66', '77',\n",
              "       '74', '78', '4', '67', '1', '-20', '82', '22, 57, 31', '-', '72',\n",
              "       '. 33', '2', '84', '81', '87', '-30', '.', '25 to 35', '2 to 3',\n",
              "       '18 to 22', '16 to 18', '86'],\n",
              "      dtype='object')"
            ]
          },
          "metadata": {
            "tags": []
          },
          "execution_count": 132
        }
      ]
    },
    {
      "cell_type": "code",
      "metadata": {
        "colab": {
          "base_uri": "https://localhost:8080/",
          "height": 502
        },
        "id": "QPOXTLyKdWbg",
        "outputId": "4bbfe224-7bca-4705-835a-accee5998a97"
      },
      "source": [
        "format_dot = sharks['Age'].str.contains('. ') == True\n",
        "sharks[format_dot]"
      ],
      "execution_count": 133,
      "outputs": [
        {
          "output_type": "execute_result",
          "data": {
            "text/html": [
              "<div>\n",
              "<style scoped>\n",
              "    .dataframe tbody tr th:only-of-type {\n",
              "        vertical-align: middle;\n",
              "    }\n",
              "\n",
              "    .dataframe tbody tr th {\n",
              "        vertical-align: top;\n",
              "    }\n",
              "\n",
              "    .dataframe thead th {\n",
              "        text-align: right;\n",
              "    }\n",
              "</style>\n",
              "<table border=\"1\" class=\"dataframe\">\n",
              "  <thead>\n",
              "    <tr style=\"text-align: right;\">\n",
              "      <th></th>\n",
              "      <th>Case Id</th>\n",
              "      <th>Date</th>\n",
              "      <th>Year</th>\n",
              "      <th>Type</th>\n",
              "      <th>Country</th>\n",
              "      <th>Area</th>\n",
              "      <th>Location</th>\n",
              "      <th>Activity</th>\n",
              "      <th>Sex</th>\n",
              "      <th>Age</th>\n",
              "      <th>Injury</th>\n",
              "      <th>Fatal</th>\n",
              "      <th>Time</th>\n",
              "      <th>Species</th>\n",
              "      <th>Investigator or Source</th>\n",
              "    </tr>\n",
              "  </thead>\n",
              "  <tbody>\n",
              "    <tr>\n",
              "      <th>197</th>\n",
              "      <td>2019.09.18</td>\n",
              "      <td>18-Sep-2019</td>\n",
              "      <td>2019</td>\n",
              "      <td>Unprovoked</td>\n",
              "      <td>USA</td>\n",
              "      <td>Hawaii</td>\n",
              "      <td>Haleiwa, Oahu</td>\n",
              "      <td>Snorkeling</td>\n",
              "      <td>U</td>\n",
              "      <td>22, 57, 31</td>\n",
              "      <td>Minor injuries</td>\n",
              "      <td>N</td>\n",
              "      <td>10h40</td>\n",
              "      <td>Galapagos shark, 5'-9'</td>\n",
              "      <td>K. McMurray, TrackingSharks.com</td>\n",
              "    </tr>\n",
              "    <tr>\n",
              "      <th>3111</th>\n",
              "      <td>1987.12.13</td>\n",
              "      <td>13-Dec-1987</td>\n",
              "      <td>1987</td>\n",
              "      <td>Invalid</td>\n",
              "      <td>AUSTRALIA</td>\n",
              "      <td>New South Wales</td>\n",
              "      <td>Shoalhaven</td>\n",
              "      <td>Unspecified</td>\n",
              "      <td>F</td>\n",
              "      <td>16 to 18</td>\n",
              "      <td>Remains recovered from 4 m, 420-kg, caught 13-...</td>\n",
              "      <td>UnV</td>\n",
              "      <td>Unspecified</td>\n",
              "      <td>Shark involvement prior to death was not confi...</td>\n",
              "      <td>Sunday Mail (QLD), 1/31/1988, p.2</td>\n",
              "    </tr>\n",
              "    <tr>\n",
              "      <th>3336</th>\n",
              "      <td>1982.05.00</td>\n",
              "      <td>May-1982</td>\n",
              "      <td>1982</td>\n",
              "      <td>Invalid</td>\n",
              "      <td>USA</td>\n",
              "      <td>South Carolina</td>\n",
              "      <td>Daws Island, Broad River (near Beaufort)</td>\n",
              "      <td>Unspecified</td>\n",
              "      <td>F</td>\n",
              "      <td>. 33</td>\n",
              "      <td>Human remains recovered from tiger shark</td>\n",
              "      <td>UnV</td>\n",
              "      <td>Unspecified</td>\n",
              "      <td>Shark involvement prior to death was not confi...</td>\n",
              "      <td>Clay Creswell, GSAF</td>\n",
              "    </tr>\n",
              "    <tr>\n",
              "      <th>3732</th>\n",
              "      <td>1970.12.13</td>\n",
              "      <td>13-Dec-1970</td>\n",
              "      <td>1970</td>\n",
              "      <td>Unprovoked</td>\n",
              "      <td>MOZAMBIQUE</td>\n",
              "      <td>Inhambe Province</td>\n",
              "      <td>Inhambe Bay Estuary, 10 to 12 miles inland fro...</td>\n",
              "      <td>Fishing for prawns</td>\n",
              "      <td>M</td>\n",
              "      <td>18 to 22</td>\n",
              "      <td>FATAL, decapitated and arm severed</td>\n",
              "      <td>Y</td>\n",
              "      <td>Unspecified</td>\n",
              "      <td>NaN</td>\n",
              "      <td>GSAF; H.D. Baldridge, p.22</td>\n",
              "    </tr>\n",
              "    <tr>\n",
              "      <th>4003</th>\n",
              "      <td>1965.00.00.c</td>\n",
              "      <td>15-May-1965</td>\n",
              "      <td>1965</td>\n",
              "      <td>Unprovoked</td>\n",
              "      <td>EGYPT</td>\n",
              "      <td>Unspecified</td>\n",
              "      <td>South of Hurghada</td>\n",
              "      <td>Spearfishing, but standing in the water</td>\n",
              "      <td>M</td>\n",
              "      <td>25 to 35</td>\n",
              "      <td>Ankle and thigh bitten; shark made three strikes</td>\n",
              "      <td>N</td>\n",
              "      <td>Unspecified</td>\n",
              "      <td>1.5 m to 2.1 m [5' to 7'] shark, possibly a ma...</td>\n",
              "      <td>Captain T. Falcon-Barker</td>\n",
              "    </tr>\n",
              "    <tr>\n",
              "      <th>4570</th>\n",
              "      <td>1957.00.00.i</td>\n",
              "      <td>1957</td>\n",
              "      <td>1957</td>\n",
              "      <td>Invalid</td>\n",
              "      <td>CUBA</td>\n",
              "      <td>Havana Province</td>\n",
              "      <td>Cojimar</td>\n",
              "      <td>Unspecified</td>\n",
              "      <td>U</td>\n",
              "      <td>2 to 3</td>\n",
              "      <td>FATAL, but was it an accident or infanticide?</td>\n",
              "      <td>UnV</td>\n",
              "      <td>Unspecified</td>\n",
              "      <td>3.7 m [12'] shark</td>\n",
              "      <td>F. Poli, p.23-24</td>\n",
              "    </tr>\n",
              "  </tbody>\n",
              "</table>\n",
              "</div>"
            ],
            "text/plain": [
              "           Case Id  ...             Investigator or Source\n",
              "197     2019.09.18  ...    K. McMurray, TrackingSharks.com\n",
              "3111    1987.12.13  ...  Sunday Mail (QLD), 1/31/1988, p.2\n",
              "3336    1982.05.00  ...                Clay Creswell, GSAF\n",
              "3732    1970.12.13  ...         GSAF; H.D. Baldridge, p.22\n",
              "4003  1965.00.00.c  ...           Captain T. Falcon-Barker\n",
              "4570  1957.00.00.i  ...                   F. Poli, p.23-24\n",
              "\n",
              "[6 rows x 15 columns]"
            ]
          },
          "metadata": {
            "tags": []
          },
          "execution_count": 133
        }
      ]
    },
    {
      "cell_type": "code",
      "metadata": {
        "colab": {
          "base_uri": "https://localhost:8080/"
        },
        "id": "DHPLqzRRe0sY",
        "outputId": "a0ecb732-77f3-495a-9fbd-1e9de07d0cea"
      },
      "source": [
        "sharks.loc[format_dot, 'Age'].values"
      ],
      "execution_count": 134,
      "outputs": [
        {
          "output_type": "execute_result",
          "data": {
            "text/plain": [
              "array(['22, 57, 31', '16 to 18', '. 33', '18 to 22', '25 to 35', '2 to 3'],\n",
              "      dtype=object)"
            ]
          },
          "metadata": {
            "tags": []
          },
          "execution_count": 134
        }
      ]
    },
    {
      "cell_type": "code",
      "metadata": {
        "colab": {
          "base_uri": "https://localhost:8080/",
          "height": 486
        },
        "id": "neaA7eR5dni0",
        "outputId": "37702177-f3e6-4cbd-ddc4-f02df21cbc19"
      },
      "source": [
        "# using the median age when more than one 2 ages are provided\n",
        "# using the youngest age when only 2 ages are provided\n",
        "age_dot = sharks.loc[format_dot.index, 'Age'].replace(sharks.loc[format_dot, 'Age'].values, ['31', '16', '33', '18', '25', '2'])\n",
        "sharks.loc[format_dot.index, 'Age'] = age_dot\n",
        "sharks[format_dot]"
      ],
      "execution_count": 135,
      "outputs": [
        {
          "output_type": "execute_result",
          "data": {
            "text/html": [
              "<div>\n",
              "<style scoped>\n",
              "    .dataframe tbody tr th:only-of-type {\n",
              "        vertical-align: middle;\n",
              "    }\n",
              "\n",
              "    .dataframe tbody tr th {\n",
              "        vertical-align: top;\n",
              "    }\n",
              "\n",
              "    .dataframe thead th {\n",
              "        text-align: right;\n",
              "    }\n",
              "</style>\n",
              "<table border=\"1\" class=\"dataframe\">\n",
              "  <thead>\n",
              "    <tr style=\"text-align: right;\">\n",
              "      <th></th>\n",
              "      <th>Case Id</th>\n",
              "      <th>Date</th>\n",
              "      <th>Year</th>\n",
              "      <th>Type</th>\n",
              "      <th>Country</th>\n",
              "      <th>Area</th>\n",
              "      <th>Location</th>\n",
              "      <th>Activity</th>\n",
              "      <th>Sex</th>\n",
              "      <th>Age</th>\n",
              "      <th>Injury</th>\n",
              "      <th>Fatal</th>\n",
              "      <th>Time</th>\n",
              "      <th>Species</th>\n",
              "      <th>Investigator or Source</th>\n",
              "    </tr>\n",
              "  </thead>\n",
              "  <tbody>\n",
              "    <tr>\n",
              "      <th>197</th>\n",
              "      <td>2019.09.18</td>\n",
              "      <td>18-Sep-2019</td>\n",
              "      <td>2019</td>\n",
              "      <td>Unprovoked</td>\n",
              "      <td>USA</td>\n",
              "      <td>Hawaii</td>\n",
              "      <td>Haleiwa, Oahu</td>\n",
              "      <td>Snorkeling</td>\n",
              "      <td>U</td>\n",
              "      <td>31</td>\n",
              "      <td>Minor injuries</td>\n",
              "      <td>N</td>\n",
              "      <td>10h40</td>\n",
              "      <td>Galapagos shark, 5'-9'</td>\n",
              "      <td>K. McMurray, TrackingSharks.com</td>\n",
              "    </tr>\n",
              "    <tr>\n",
              "      <th>3111</th>\n",
              "      <td>1987.12.13</td>\n",
              "      <td>13-Dec-1987</td>\n",
              "      <td>1987</td>\n",
              "      <td>Invalid</td>\n",
              "      <td>AUSTRALIA</td>\n",
              "      <td>New South Wales</td>\n",
              "      <td>Shoalhaven</td>\n",
              "      <td>Unspecified</td>\n",
              "      <td>F</td>\n",
              "      <td>16</td>\n",
              "      <td>Remains recovered from 4 m, 420-kg, caught 13-...</td>\n",
              "      <td>UnV</td>\n",
              "      <td>Unspecified</td>\n",
              "      <td>Shark involvement prior to death was not confi...</td>\n",
              "      <td>Sunday Mail (QLD), 1/31/1988, p.2</td>\n",
              "    </tr>\n",
              "    <tr>\n",
              "      <th>3336</th>\n",
              "      <td>1982.05.00</td>\n",
              "      <td>May-1982</td>\n",
              "      <td>1982</td>\n",
              "      <td>Invalid</td>\n",
              "      <td>USA</td>\n",
              "      <td>South Carolina</td>\n",
              "      <td>Daws Island, Broad River (near Beaufort)</td>\n",
              "      <td>Unspecified</td>\n",
              "      <td>F</td>\n",
              "      <td>33</td>\n",
              "      <td>Human remains recovered from tiger shark</td>\n",
              "      <td>UnV</td>\n",
              "      <td>Unspecified</td>\n",
              "      <td>Shark involvement prior to death was not confi...</td>\n",
              "      <td>Clay Creswell, GSAF</td>\n",
              "    </tr>\n",
              "    <tr>\n",
              "      <th>3732</th>\n",
              "      <td>1970.12.13</td>\n",
              "      <td>13-Dec-1970</td>\n",
              "      <td>1970</td>\n",
              "      <td>Unprovoked</td>\n",
              "      <td>MOZAMBIQUE</td>\n",
              "      <td>Inhambe Province</td>\n",
              "      <td>Inhambe Bay Estuary, 10 to 12 miles inland fro...</td>\n",
              "      <td>Fishing for prawns</td>\n",
              "      <td>M</td>\n",
              "      <td>18</td>\n",
              "      <td>FATAL, decapitated and arm severed</td>\n",
              "      <td>Y</td>\n",
              "      <td>Unspecified</td>\n",
              "      <td>NaN</td>\n",
              "      <td>GSAF; H.D. Baldridge, p.22</td>\n",
              "    </tr>\n",
              "    <tr>\n",
              "      <th>4003</th>\n",
              "      <td>1965.00.00.c</td>\n",
              "      <td>15-May-1965</td>\n",
              "      <td>1965</td>\n",
              "      <td>Unprovoked</td>\n",
              "      <td>EGYPT</td>\n",
              "      <td>Unspecified</td>\n",
              "      <td>South of Hurghada</td>\n",
              "      <td>Spearfishing, but standing in the water</td>\n",
              "      <td>M</td>\n",
              "      <td>25</td>\n",
              "      <td>Ankle and thigh bitten; shark made three strikes</td>\n",
              "      <td>N</td>\n",
              "      <td>Unspecified</td>\n",
              "      <td>1.5 m to 2.1 m [5' to 7'] shark, possibly a ma...</td>\n",
              "      <td>Captain T. Falcon-Barker</td>\n",
              "    </tr>\n",
              "    <tr>\n",
              "      <th>4570</th>\n",
              "      <td>1957.00.00.i</td>\n",
              "      <td>1957</td>\n",
              "      <td>1957</td>\n",
              "      <td>Invalid</td>\n",
              "      <td>CUBA</td>\n",
              "      <td>Havana Province</td>\n",
              "      <td>Cojimar</td>\n",
              "      <td>Unspecified</td>\n",
              "      <td>U</td>\n",
              "      <td>2</td>\n",
              "      <td>FATAL, but was it an accident or infanticide?</td>\n",
              "      <td>UnV</td>\n",
              "      <td>Unspecified</td>\n",
              "      <td>3.7 m [12'] shark</td>\n",
              "      <td>F. Poli, p.23-24</td>\n",
              "    </tr>\n",
              "  </tbody>\n",
              "</table>\n",
              "</div>"
            ],
            "text/plain": [
              "           Case Id  ...             Investigator or Source\n",
              "197     2019.09.18  ...    K. McMurray, TrackingSharks.com\n",
              "3111    1987.12.13  ...  Sunday Mail (QLD), 1/31/1988, p.2\n",
              "3336    1982.05.00  ...                Clay Creswell, GSAF\n",
              "3732    1970.12.13  ...         GSAF; H.D. Baldridge, p.22\n",
              "4003  1965.00.00.c  ...           Captain T. Falcon-Barker\n",
              "4570  1957.00.00.i  ...                   F. Poli, p.23-24\n",
              "\n",
              "[6 rows x 15 columns]"
            ]
          },
          "metadata": {
            "tags": []
          },
          "execution_count": 135
        }
      ]
    },
    {
      "cell_type": "code",
      "metadata": {
        "colab": {
          "base_uri": "https://localhost:8080/",
          "height": 242
        },
        "id": "NkqaLseLfplT",
        "outputId": "86ffc109-c9f7-4027-824c-303ac512e481"
      },
      "source": [
        "format_dash = sharks['Age'].str.contains('-') == True\n",
        "sharks[format_dash]"
      ],
      "execution_count": 136,
      "outputs": [
        {
          "output_type": "execute_result",
          "data": {
            "text/html": [
              "<div>\n",
              "<style scoped>\n",
              "    .dataframe tbody tr th:only-of-type {\n",
              "        vertical-align: middle;\n",
              "    }\n",
              "\n",
              "    .dataframe tbody tr th {\n",
              "        vertical-align: top;\n",
              "    }\n",
              "\n",
              "    .dataframe thead th {\n",
              "        text-align: right;\n",
              "    }\n",
              "</style>\n",
              "<table border=\"1\" class=\"dataframe\">\n",
              "  <thead>\n",
              "    <tr style=\"text-align: right;\">\n",
              "      <th></th>\n",
              "      <th>Case Id</th>\n",
              "      <th>Date</th>\n",
              "      <th>Year</th>\n",
              "      <th>Type</th>\n",
              "      <th>Country</th>\n",
              "      <th>Area</th>\n",
              "      <th>Location</th>\n",
              "      <th>Activity</th>\n",
              "      <th>Sex</th>\n",
              "      <th>Age</th>\n",
              "      <th>Injury</th>\n",
              "      <th>Fatal</th>\n",
              "      <th>Time</th>\n",
              "      <th>Species</th>\n",
              "      <th>Investigator or Source</th>\n",
              "    </tr>\n",
              "  </thead>\n",
              "  <tbody>\n",
              "    <tr>\n",
              "      <th>2304</th>\n",
              "      <td>2001.04.12.e</td>\n",
              "      <td>12-Apr-2001</td>\n",
              "      <td>2001</td>\n",
              "      <td>Unprovoked</td>\n",
              "      <td>USA</td>\n",
              "      <td>Florida</td>\n",
              "      <td>Waveland Beach, Hutchinson Island, St Lucie Co...</td>\n",
              "      <td>Unspecified</td>\n",
              "      <td>M</td>\n",
              "      <td>-30</td>\n",
              "      <td>Right ankle &amp; lower leg lacerated</td>\n",
              "      <td>N</td>\n",
              "      <td>16h00</td>\n",
              "      <td>NaN</td>\n",
              "      <td>M. Large, Stuart News, 4/13/2001</td>\n",
              "    </tr>\n",
              "    <tr>\n",
              "      <th>3319</th>\n",
              "      <td>1982.09.04</td>\n",
              "      <td>04-Sep-1982</td>\n",
              "      <td>1982</td>\n",
              "      <td>Invalid</td>\n",
              "      <td>USA</td>\n",
              "      <td>Florida</td>\n",
              "      <td>Hollywood Beach, Broward County</td>\n",
              "      <td>Unspecified</td>\n",
              "      <td>M</td>\n",
              "      <td>-20</td>\n",
              "      <td>Remains recovered from 2.7 m tiger shark, but ...</td>\n",
              "      <td>UnV</td>\n",
              "      <td>Unspecified</td>\n",
              "      <td>Shark involvement prior to death was not confi...</td>\n",
              "      <td>Z. Arocha, Miami Herald, 9/5/1982</td>\n",
              "    </tr>\n",
              "    <tr>\n",
              "      <th>4421</th>\n",
              "      <td>1959.09.00</td>\n",
              "      <td>1959</td>\n",
              "      <td>1959</td>\n",
              "      <td>Unprovoked</td>\n",
              "      <td>MEXICO</td>\n",
              "      <td>Guerrrero</td>\n",
              "      <td>Acapulco</td>\n",
              "      <td>Unspecified</td>\n",
              "      <td>F</td>\n",
              "      <td>-</td>\n",
              "      <td>FATAL, leg severed, other leg lacerated</td>\n",
              "      <td>Y</td>\n",
              "      <td>Unspecified</td>\n",
              "      <td>NaN</td>\n",
              "      <td>A. R. Satz;  P. Gilbert, L. Schultz &amp; S. Sprin...</td>\n",
              "    </tr>\n",
              "  </tbody>\n",
              "</table>\n",
              "</div>"
            ],
            "text/plain": [
              "           Case Id  ...                             Investigator or Source\n",
              "2304  2001.04.12.e  ...                  M. Large, Stuart News, 4/13/2001 \n",
              "3319    1982.09.04  ...                  Z. Arocha, Miami Herald, 9/5/1982\n",
              "4421    1959.09.00  ...  A. R. Satz;  P. Gilbert, L. Schultz & S. Sprin...\n",
              "\n",
              "[3 rows x 15 columns]"
            ]
          },
          "metadata": {
            "tags": []
          },
          "execution_count": 136
        }
      ]
    },
    {
      "cell_type": "code",
      "metadata": {
        "id": "S6ler3GAquVS"
      },
      "source": [
        "sharks['Age'] = sharks['Age'].map(lambda x: x.strip('-').strip(\".\"))\n",
        "sharks['Age'] = sharks['Age'].replace('', np.nan)"
      ],
      "execution_count": 137,
      "outputs": []
    },
    {
      "cell_type": "code",
      "metadata": {
        "colab": {
          "base_uri": "https://localhost:8080/"
        },
        "id": "-wmPC5qWg0le",
        "outputId": "a4db00a6-6268-4c12-b855-7e119b63d5f0"
      },
      "source": [
        "sharks['Age'].isna().sum()"
      ],
      "execution_count": 138,
      "outputs": [
        {
          "output_type": "execute_result",
          "data": {
            "text/plain": [
              "27"
            ]
          },
          "metadata": {
            "tags": []
          },
          "execution_count": 138
        }
      ]
    },
    {
      "cell_type": "code",
      "metadata": {
        "colab": {
          "base_uri": "https://localhost:8080/"
        },
        "id": "LGaSKDaNheMY",
        "outputId": "fcedbe46-aded-4e34-f3a7-8d4fe002d4eb"
      },
      "source": [
        "sharks['Age'] = sharks['Age'].fillna(0)\n",
        "sharks['Age'].isna().sum()"
      ],
      "execution_count": 139,
      "outputs": [
        {
          "output_type": "execute_result",
          "data": {
            "text/plain": [
              "0"
            ]
          },
          "metadata": {
            "tags": []
          },
          "execution_count": 139
        }
      ]
    },
    {
      "cell_type": "code",
      "metadata": {
        "id": "vNOa02vNGDhs"
      },
      "source": [
        "# setting the Age column as int\n",
        "sharks['Age'] = sharks['Age'].astype('int64')"
      ],
      "execution_count": 140,
      "outputs": []
    },
    {
      "cell_type": "code",
      "metadata": {
        "colab": {
          "base_uri": "https://localhost:8080/"
        },
        "id": "LCBRsCXdMhJQ",
        "outputId": "90bc21c8-e1e6-4f8e-9475-8c4a966d4ffd"
      },
      "source": [
        "age0_s = sharks['Age'] == 0\n",
        "\n",
        "age0_s.sum()/sharks['Age'].count()"
      ],
      "execution_count": 144,
      "outputs": [
        {
          "output_type": "execute_result",
          "data": {
            "text/plain": [
              "0.4425761897612971"
            ]
          },
          "metadata": {
            "tags": []
          },
          "execution_count": 144
        }
      ]
    },
    {
      "cell_type": "code",
      "metadata": {
        "colab": {
          "base_uri": "https://localhost:8080/"
        },
        "id": "jQBTjubMw2aM",
        "outputId": "63e83603-8678-46c1-e1fc-e0c11bbaea15"
      },
      "source": [
        "age0_s.sum()"
      ],
      "execution_count": 145,
      "outputs": [
        {
          "output_type": "execute_result",
          "data": {
            "text/plain": [
              "2948"
            ]
          },
          "metadata": {
            "tags": []
          },
          "execution_count": 145
        }
      ]
    },
    {
      "cell_type": "code",
      "metadata": {
        "colab": {
          "base_uri": "https://localhost:8080/"
        },
        "id": "fxwvZP_Tc0D8",
        "outputId": "5133878b-8897-46e3-97c4-c60e82ca086f"
      },
      "source": [
        "len(sharks['Age'])"
      ],
      "execution_count": 146,
      "outputs": [
        {
          "output_type": "execute_result",
          "data": {
            "text/plain": [
              "6661"
            ]
          },
          "metadata": {
            "tags": []
          },
          "execution_count": 146
        }
      ]
    },
    {
      "cell_type": "code",
      "metadata": {
        "id": "ZrbvOBW0t_kV"
      },
      "source": [
        "# commenting this out just in case I need to come back to it\n",
        "# s = 'abc12321cba'\n",
        "# print(s.translate({ord(i): None for i in 'abc'}))"
      ],
      "execution_count": 147,
      "outputs": []
    },
    {
      "cell_type": "code",
      "metadata": {
        "id": "chB9_onxDAXM",
        "colab": {
          "base_uri": "https://localhost:8080/"
        },
        "outputId": "9564a8fd-f799-446d-c889-88d7cddc84c5"
      },
      "source": [
        "sharks.isna().sum()"
      ],
      "execution_count": 148,
      "outputs": [
        {
          "output_type": "execute_result",
          "data": {
            "text/plain": [
              "Case Id                      0\n",
              "Date                         0\n",
              "Year                         0\n",
              "Type                         0\n",
              "Country                      0\n",
              "Area                         0\n",
              "Location                     0\n",
              "Activity                     0\n",
              "Sex                          0\n",
              "Age                          0\n",
              "Injury                       0\n",
              "Fatal                        0\n",
              "Time                         0\n",
              "Species                   3002\n",
              "Investigator or Source       0\n",
              "dtype: int64"
            ]
          },
          "metadata": {
            "tags": []
          },
          "execution_count": 148
        }
      ]
    },
    {
      "cell_type": "markdown",
      "metadata": {
        "id": "sH3PATSKeDEM"
      },
      "source": [
        "\n",
        "\n",
        "> ## ['Species'] Column\n",
        "\n"
      ]
    },
    {
      "cell_type": "markdown",
      "metadata": {
        "id": "-VnQ5IN5krQV"
      },
      "source": [
        "\n",
        "\n",
        "*   filling NaN values with *Unkown*\n",
        "*   not going to format this column at this point (will come back at a later time)\n",
        "\n"
      ]
    },
    {
      "cell_type": "code",
      "metadata": {
        "colab": {
          "base_uri": "https://localhost:8080/",
          "height": 686
        },
        "id": "GSS2s7nvibv1",
        "outputId": "275dd451-0bb9-46ac-dc34-87af3ce03ac0"
      },
      "source": [
        "sharks.loc[sharks['Species'].isna(),:]"
      ],
      "execution_count": 149,
      "outputs": [
        {
          "output_type": "execute_result",
          "data": {
            "text/html": [
              "<div>\n",
              "<style scoped>\n",
              "    .dataframe tbody tr th:only-of-type {\n",
              "        vertical-align: middle;\n",
              "    }\n",
              "\n",
              "    .dataframe tbody tr th {\n",
              "        vertical-align: top;\n",
              "    }\n",
              "\n",
              "    .dataframe thead th {\n",
              "        text-align: right;\n",
              "    }\n",
              "</style>\n",
              "<table border=\"1\" class=\"dataframe\">\n",
              "  <thead>\n",
              "    <tr style=\"text-align: right;\">\n",
              "      <th></th>\n",
              "      <th>Case Id</th>\n",
              "      <th>Date</th>\n",
              "      <th>Year</th>\n",
              "      <th>Type</th>\n",
              "      <th>Country</th>\n",
              "      <th>Area</th>\n",
              "      <th>Location</th>\n",
              "      <th>Activity</th>\n",
              "      <th>Sex</th>\n",
              "      <th>Age</th>\n",
              "      <th>Injury</th>\n",
              "      <th>Fatal</th>\n",
              "      <th>Time</th>\n",
              "      <th>Species</th>\n",
              "      <th>Investigator or Source</th>\n",
              "    </tr>\n",
              "  </thead>\n",
              "  <tbody>\n",
              "    <tr>\n",
              "      <th>1</th>\n",
              "      <td>2021.07.15</td>\n",
              "      <td>15-Jul-2021</td>\n",
              "      <td>2021</td>\n",
              "      <td>Unprovoked</td>\n",
              "      <td>USA</td>\n",
              "      <td>Florida</td>\n",
              "      <td>New Smyrna Beach, Volusia County</td>\n",
              "      <td>Boogie boarding</td>\n",
              "      <td>M</td>\n",
              "      <td>11</td>\n",
              "      <td>Leg bitten</td>\n",
              "      <td>N</td>\n",
              "      <td>16h30</td>\n",
              "      <td>NaN</td>\n",
              "      <td>K. McMurray, TrackingSharks.com</td>\n",
              "    </tr>\n",
              "    <tr>\n",
              "      <th>2</th>\n",
              "      <td>2021.07.14</td>\n",
              "      <td>14-Jul-2021</td>\n",
              "      <td>2021</td>\n",
              "      <td>Unprovoked</td>\n",
              "      <td>SOUTH AFRICA</td>\n",
              "      <td>Eastern Cape Province</td>\n",
              "      <td>Jeffrey's Bay</td>\n",
              "      <td>Surfing</td>\n",
              "      <td>M</td>\n",
              "      <td>38</td>\n",
              "      <td>Injuries to leg and torso</td>\n",
              "      <td>N</td>\n",
              "      <td>07h07</td>\n",
              "      <td>NaN</td>\n",
              "      <td>J. Marchard &amp; M. Michaelson, GSAF</td>\n",
              "    </tr>\n",
              "    <tr>\n",
              "      <th>3</th>\n",
              "      <td>2021.07.11.R</td>\n",
              "      <td>11-Jul-2021</td>\n",
              "      <td>2021</td>\n",
              "      <td>Provoked</td>\n",
              "      <td>BAHAMAS</td>\n",
              "      <td>Unspecified</td>\n",
              "      <td>Unspecified</td>\n",
              "      <td>Jackass Team's publicity stunt for Discovery C...</td>\n",
              "      <td>M</td>\n",
              "      <td>0</td>\n",
              "      <td>Lacerations to right hand  PROVOKED INCIDENT</td>\n",
              "      <td>N</td>\n",
              "      <td>Unspecified</td>\n",
              "      <td>NaN</td>\n",
              "      <td>Yahoo.com, 7/11/2021</td>\n",
              "    </tr>\n",
              "    <tr>\n",
              "      <th>5</th>\n",
              "      <td>2021.07.10.b</td>\n",
              "      <td>10-Jul-2021</td>\n",
              "      <td>2021</td>\n",
              "      <td>Unprovoked</td>\n",
              "      <td>USA</td>\n",
              "      <td>Florida</td>\n",
              "      <td>46 miles off Mayport, Duval County</td>\n",
              "      <td>Spearfishing</td>\n",
              "      <td>M</td>\n",
              "      <td>36</td>\n",
              "      <td>Shark involvement prior to death not confirmed</td>\n",
              "      <td>Y</td>\n",
              "      <td>Unspecified</td>\n",
              "      <td>NaN</td>\n",
              "      <td>M. Michaelson, GSAF &amp; K. McMurray, TrackingSha...</td>\n",
              "    </tr>\n",
              "    <tr>\n",
              "      <th>6</th>\n",
              "      <td>2021.07.10</td>\n",
              "      <td>10-Jul-2021</td>\n",
              "      <td>2021</td>\n",
              "      <td>Unprovoked</td>\n",
              "      <td>BRAZIL</td>\n",
              "      <td>Pernambuco</td>\n",
              "      <td>Piedade</td>\n",
              "      <td>Wading</td>\n",
              "      <td>M</td>\n",
              "      <td>51</td>\n",
              "      <td>FATAL</td>\n",
              "      <td>Y</td>\n",
              "      <td>13h50</td>\n",
              "      <td>NaN</td>\n",
              "      <td>K. McMurray, TrackingSharks.com</td>\n",
              "    </tr>\n",
              "    <tr>\n",
              "      <th>...</th>\n",
              "      <td>...</td>\n",
              "      <td>...</td>\n",
              "      <td>...</td>\n",
              "      <td>...</td>\n",
              "      <td>...</td>\n",
              "      <td>...</td>\n",
              "      <td>...</td>\n",
              "      <td>...</td>\n",
              "      <td>...</td>\n",
              "      <td>...</td>\n",
              "      <td>...</td>\n",
              "      <td>...</td>\n",
              "      <td>...</td>\n",
              "      <td>...</td>\n",
              "      <td>...</td>\n",
              "    </tr>\n",
              "    <tr>\n",
              "      <th>6662</th>\n",
              "      <td>ND.0005</td>\n",
              "      <td>1902</td>\n",
              "      <td>1902</td>\n",
              "      <td>Unprovoked</td>\n",
              "      <td>AUSTRALIA</td>\n",
              "      <td>Western Australia</td>\n",
              "      <td>Roebuck Bay</td>\n",
              "      <td>Diving</td>\n",
              "      <td>M</td>\n",
              "      <td>0</td>\n",
              "      <td>FATAL</td>\n",
              "      <td>Y</td>\n",
              "      <td>Unspecified</td>\n",
              "      <td>NaN</td>\n",
              "      <td>H. Taunton; N. Bartlett,  p. 234</td>\n",
              "    </tr>\n",
              "    <tr>\n",
              "      <th>6663</th>\n",
              "      <td>ND.0004</td>\n",
              "      <td>1902</td>\n",
              "      <td>1902</td>\n",
              "      <td>Unprovoked</td>\n",
              "      <td>AUSTRALIA</td>\n",
              "      <td>Western Australia</td>\n",
              "      <td>Unspecified</td>\n",
              "      <td>Pearl diving</td>\n",
              "      <td>M</td>\n",
              "      <td>0</td>\n",
              "      <td>FATAL</td>\n",
              "      <td>Y</td>\n",
              "      <td>Unspecified</td>\n",
              "      <td>NaN</td>\n",
              "      <td>H. Taunton; N. Bartlett,  pp. 233-234</td>\n",
              "    </tr>\n",
              "    <tr>\n",
              "      <th>6664</th>\n",
              "      <td>ND.0003</td>\n",
              "      <td>1903</td>\n",
              "      <td>1903</td>\n",
              "      <td>Unprovoked</td>\n",
              "      <td>USA</td>\n",
              "      <td>North Carolina</td>\n",
              "      <td>Ocracoke Inlet</td>\n",
              "      <td>Swimming</td>\n",
              "      <td>M</td>\n",
              "      <td>0</td>\n",
              "      <td>FATAL</td>\n",
              "      <td>Y</td>\n",
              "      <td>Unspecified</td>\n",
              "      <td>NaN</td>\n",
              "      <td>F. Schwartz, p.23; C. Creswell, GSAF</td>\n",
              "    </tr>\n",
              "    <tr>\n",
              "      <th>6665</th>\n",
              "      <td>ND.0002</td>\n",
              "      <td>1886</td>\n",
              "      <td>1886</td>\n",
              "      <td>Unprovoked</td>\n",
              "      <td>PANAMA</td>\n",
              "      <td>Unspecified</td>\n",
              "      <td>Panama Bay 8ºN, 79ºW</td>\n",
              "      <td>Unspecified</td>\n",
              "      <td>M</td>\n",
              "      <td>0</td>\n",
              "      <td>FATAL</td>\n",
              "      <td>Y</td>\n",
              "      <td>Unspecified</td>\n",
              "      <td>NaN</td>\n",
              "      <td>The Sun, 10/20/1938</td>\n",
              "    </tr>\n",
              "    <tr>\n",
              "      <th>6666</th>\n",
              "      <td>ND.0001</td>\n",
              "      <td>1849</td>\n",
              "      <td>1849</td>\n",
              "      <td>Unprovoked</td>\n",
              "      <td>CEYLON (SRI LANKA)</td>\n",
              "      <td>Eastern Province</td>\n",
              "      <td>Below the English fort, Trincomalee</td>\n",
              "      <td>Swimming</td>\n",
              "      <td>M</td>\n",
              "      <td>15</td>\n",
              "      <td>FATAL. \"Shark bit him in half, carrying away t...</td>\n",
              "      <td>Y</td>\n",
              "      <td>Unspecified</td>\n",
              "      <td>NaN</td>\n",
              "      <td>S.W. Baker</td>\n",
              "    </tr>\n",
              "  </tbody>\n",
              "</table>\n",
              "<p>3002 rows × 15 columns</p>\n",
              "</div>"
            ],
            "text/plain": [
              "           Case Id  ...                             Investigator or Source\n",
              "1       2021.07.15  ...                    K. McMurray, TrackingSharks.com\n",
              "2       2021.07.14  ...                  J. Marchard & M. Michaelson, GSAF\n",
              "3     2021.07.11.R  ...                               Yahoo.com, 7/11/2021\n",
              "5     2021.07.10.b  ...  M. Michaelson, GSAF & K. McMurray, TrackingSha...\n",
              "6       2021.07.10  ...                    K. McMurray, TrackingSharks.com\n",
              "...            ...  ...                                                ...\n",
              "6662       ND.0005  ...                   H. Taunton; N. Bartlett,  p. 234\n",
              "6663       ND.0004  ...              H. Taunton; N. Bartlett,  pp. 233-234\n",
              "6664       ND.0003  ...               F. Schwartz, p.23; C. Creswell, GSAF\n",
              "6665       ND.0002  ...                                The Sun, 10/20/1938\n",
              "6666       ND.0001  ...                                         S.W. Baker\n",
              "\n",
              "[3002 rows x 15 columns]"
            ]
          },
          "metadata": {
            "tags": []
          },
          "execution_count": 149
        }
      ]
    },
    {
      "cell_type": "code",
      "metadata": {
        "id": "L-pXYkaJ-n7F"
      },
      "source": [
        "# filling in NaNs in the Species column with 'unknown'\n",
        "sharks['Species'] = sharks['Species'].fillna('Unknown')"
      ],
      "execution_count": 150,
      "outputs": []
    },
    {
      "cell_type": "code",
      "metadata": {
        "colab": {
          "base_uri": "https://localhost:8080/"
        },
        "id": "SWOsrwbmFxcC",
        "outputId": "e203296d-5f20-4dcc-827f-84cea9242da2"
      },
      "source": [
        "sharks['Species'].value_counts()"
      ],
      "execution_count": 151,
      "outputs": [
        {
          "output_type": "execute_result",
          "data": {
            "text/plain": [
              "Unknown                                               3003\n",
              "White shark                                            184\n",
              "Shark involvement prior to death was not confirmed     105\n",
              "Invalid                                                102\n",
              "Shark involvement not confirmed                         90\n",
              "                                                      ... \n",
              "0.9 m [3']  shark                                        1\n",
              "Reef shark                                               1\n",
              "White shark, 6m [20']                                    1\n",
              "1.2 m to 1.5 m [4' to 5'] hammerhead shark               1\n",
              "5m shark                                                 1\n",
              "Name: Species, Length: 1624, dtype: int64"
            ]
          },
          "metadata": {
            "tags": []
          },
          "execution_count": 151
        }
      ]
    },
    {
      "cell_type": "markdown",
      "metadata": {
        "id": "eXRMswQxWce8"
      },
      "source": [
        "## SHARKS_DF"
      ]
    },
    {
      "cell_type": "markdown",
      "metadata": {
        "id": "izDQAMfcWmVv"
      },
      "source": [
        "- filtering out all dates with *BC* timestamps as well as dates *before 1677* as these are also out of the datetime timestamp bounds. By creating/renaming this DataFrame the original values can still be recalled and analyzed later if needed in the above **sharks** DataFrame.\n",
        "\n",
        " *   creating a filtered database where the ***Date*** column is converted to datetime format\n",
        " *   converting the ***Date*** column to Datetime format causes all cells with only month and year values to be returned as NaN\n",
        " *   dropping the 842 rows will allow for filtering by month or day if need be"
      ]
    },
    {
      "cell_type": "code",
      "metadata": {
        "colab": {
          "base_uri": "https://localhost:8080/",
          "height": 371
        },
        "id": "XNiCgFuQlQwX",
        "outputId": "0bda446c-3190-47c2-d106-e87a2a35d4f1"
      },
      "source": [
        "sharks[BC]"
      ],
      "execution_count": 152,
      "outputs": [
        {
          "output_type": "execute_result",
          "data": {
            "text/html": [
              "<div>\n",
              "<style scoped>\n",
              "    .dataframe tbody tr th:only-of-type {\n",
              "        vertical-align: middle;\n",
              "    }\n",
              "\n",
              "    .dataframe tbody tr th {\n",
              "        vertical-align: top;\n",
              "    }\n",
              "\n",
              "    .dataframe thead th {\n",
              "        text-align: right;\n",
              "    }\n",
              "</style>\n",
              "<table border=\"1\" class=\"dataframe\">\n",
              "  <thead>\n",
              "    <tr style=\"text-align: right;\">\n",
              "      <th></th>\n",
              "      <th>Case Id</th>\n",
              "      <th>Date</th>\n",
              "      <th>Year</th>\n",
              "      <th>Type</th>\n",
              "      <th>Country</th>\n",
              "      <th>Area</th>\n",
              "      <th>Location</th>\n",
              "      <th>Activity</th>\n",
              "      <th>Sex</th>\n",
              "      <th>Age</th>\n",
              "      <th>Injury</th>\n",
              "      <th>Fatal</th>\n",
              "      <th>Time</th>\n",
              "      <th>Species</th>\n",
              "      <th>Investigator or Source</th>\n",
              "    </tr>\n",
              "  </thead>\n",
              "  <tbody>\n",
              "    <tr>\n",
              "      <th>6539</th>\n",
              "      <td>0000.0214</td>\n",
              "      <td>214 B.C.</td>\n",
              "      <td>-214</td>\n",
              "      <td>Unprovoked</td>\n",
              "      <td>UNKNOWN</td>\n",
              "      <td>Ionian Sea</td>\n",
              "      <td>Unspecified</td>\n",
              "      <td>Ascending from a dive</td>\n",
              "      <td>M</td>\n",
              "      <td>0</td>\n",
              "      <td>FATAL, shark/s bit him in two</td>\n",
              "      <td>Y</td>\n",
              "      <td>Unspecified</td>\n",
              "      <td>Unknown</td>\n",
              "      <td>Reported by Greek poet, Leonidas of Tarentum (...</td>\n",
              "    </tr>\n",
              "    <tr>\n",
              "      <th>6540</th>\n",
              "      <td>0000.0336</td>\n",
              "      <td>336 B.C.</td>\n",
              "      <td>-336</td>\n",
              "      <td>Unprovoked</td>\n",
              "      <td>GREECE</td>\n",
              "      <td>Piraeus</td>\n",
              "      <td>In the haven of Cantharus</td>\n",
              "      <td>Washing his pig in preparation for a religious...</td>\n",
              "      <td>M</td>\n",
              "      <td>0</td>\n",
              "      <td>FATAL, shark \"bit off all lower parts of him u...</td>\n",
              "      <td>Y</td>\n",
              "      <td>Unspecified</td>\n",
              "      <td>Unknown</td>\n",
              "      <td>Plutarch (45 - 125 A.D.) in Life of Phoecion (...</td>\n",
              "    </tr>\n",
              "    <tr>\n",
              "      <th>6541</th>\n",
              "      <td>0000.0493</td>\n",
              "      <td>493 B.C.</td>\n",
              "      <td>-493</td>\n",
              "      <td>Sea Disaster</td>\n",
              "      <td>GREECE</td>\n",
              "      <td>Off Thessaly</td>\n",
              "      <td>Unspecified</td>\n",
              "      <td>Shipwrecked Persian Fleet</td>\n",
              "      <td>M</td>\n",
              "      <td>0</td>\n",
              "      <td>Herodotus tells of sharks attacking men in the...</td>\n",
              "      <td>Y</td>\n",
              "      <td>Unspecified</td>\n",
              "      <td>Unknown</td>\n",
              "      <td>Herodotus (485 - 425 B.C.)</td>\n",
              "    </tr>\n",
              "    <tr>\n",
              "      <th>6542</th>\n",
              "      <td>0000.0725</td>\n",
              "      <td>725 B.C.</td>\n",
              "      <td>-725</td>\n",
              "      <td>Sea Disaster</td>\n",
              "      <td>ITALY</td>\n",
              "      <td>Tyrrhenian Sea</td>\n",
              "      <td>Krater found during excavations at Lacco Ameno...</td>\n",
              "      <td>Shipwreck</td>\n",
              "      <td>M</td>\n",
              "      <td>0</td>\n",
              "      <td>Depicts shipwrecked sailors  attacked by a sha...</td>\n",
              "      <td>Y</td>\n",
              "      <td>Unspecified</td>\n",
              "      <td>Unknown</td>\n",
              "      <td>V.M. Coppleson (1958), p.262, et al</td>\n",
              "    </tr>\n",
              "    <tr>\n",
              "      <th>6543</th>\n",
              "      <td>0000.1010</td>\n",
              "      <td>1010 B.C.</td>\n",
              "      <td>-1010</td>\n",
              "      <td>Unverified</td>\n",
              "      <td>JAPAN</td>\n",
              "      <td>Unspecified</td>\n",
              "      <td>Unspecified</td>\n",
              "      <td>Unspecified</td>\n",
              "      <td>M</td>\n",
              "      <td>0</td>\n",
              "      <td>FATAL</td>\n",
              "      <td>Y</td>\n",
              "      <td>Unspecified</td>\n",
              "      <td>Unknown</td>\n",
              "      <td>J.A. WhiteJ.</td>\n",
              "    </tr>\n",
              "  </tbody>\n",
              "</table>\n",
              "</div>"
            ],
            "text/plain": [
              "        Case Id  ...                             Investigator or Source\n",
              "6539  0000.0214  ...  Reported by Greek poet, Leonidas of Tarentum (...\n",
              "6540  0000.0336  ...  Plutarch (45 - 125 A.D.) in Life of Phoecion (...\n",
              "6541  0000.0493  ...                         Herodotus (485 - 425 B.C.)\n",
              "6542  0000.0725  ...                V.M. Coppleson (1958), p.262, et al\n",
              "6543  0000.1010  ...                                       J.A. WhiteJ.\n",
              "\n",
              "[5 rows x 15 columns]"
            ]
          },
          "metadata": {
            "tags": []
          },
          "execution_count": 152
        }
      ]
    },
    {
      "cell_type": "code",
      "metadata": {
        "id": "XuNKsKtAeh9o"
      },
      "source": [
        "dates = sharks.drop(sharks.index[6539:6544])"
      ],
      "execution_count": 153,
      "outputs": []
    },
    {
      "cell_type": "code",
      "metadata": {
        "colab": {
          "base_uri": "https://localhost:8080/",
          "height": 222
        },
        "id": "VP5JGFoih3YV",
        "outputId": "cc988230-c56e-4ad8-e506-0d2024512463"
      },
      "source": [
        "# checking to make sure indices were dropped\n",
        "dates[6537:6541]"
      ],
      "execution_count": 154,
      "outputs": [
        {
          "output_type": "execute_result",
          "data": {
            "text/html": [
              "<div>\n",
              "<style scoped>\n",
              "    .dataframe tbody tr th:only-of-type {\n",
              "        vertical-align: middle;\n",
              "    }\n",
              "\n",
              "    .dataframe tbody tr th {\n",
              "        vertical-align: top;\n",
              "    }\n",
              "\n",
              "    .dataframe thead th {\n",
              "        text-align: right;\n",
              "    }\n",
              "</style>\n",
              "<table border=\"1\" class=\"dataframe\">\n",
              "  <thead>\n",
              "    <tr style=\"text-align: right;\">\n",
              "      <th></th>\n",
              "      <th>Case Id</th>\n",
              "      <th>Date</th>\n",
              "      <th>Year</th>\n",
              "      <th>Type</th>\n",
              "      <th>Country</th>\n",
              "      <th>Area</th>\n",
              "      <th>Location</th>\n",
              "      <th>Activity</th>\n",
              "      <th>Sex</th>\n",
              "      <th>Age</th>\n",
              "      <th>Injury</th>\n",
              "      <th>Fatal</th>\n",
              "      <th>Time</th>\n",
              "      <th>Species</th>\n",
              "      <th>Investigator or Source</th>\n",
              "    </tr>\n",
              "  </thead>\n",
              "  <tbody>\n",
              "    <tr>\n",
              "      <th>6537</th>\n",
              "      <td>0077.00.00</td>\n",
              "      <td>77</td>\n",
              "      <td>77</td>\n",
              "      <td>Unprovoked</td>\n",
              "      <td>UNKNOWN</td>\n",
              "      <td>Ionian Sea</td>\n",
              "      <td>Unspecified</td>\n",
              "      <td>Sponge diving</td>\n",
              "      <td>M</td>\n",
              "      <td>0</td>\n",
              "      <td>FATAL</td>\n",
              "      <td>Y</td>\n",
              "      <td>Unspecified</td>\n",
              "      <td>Unknown</td>\n",
              "      <td>Perils mentioned by Pliny the Elder (23 A.D. t...</td>\n",
              "    </tr>\n",
              "    <tr>\n",
              "      <th>6538</th>\n",
              "      <td>0005.00.00</td>\n",
              "      <td>5</td>\n",
              "      <td>5</td>\n",
              "      <td>Unprovoked</td>\n",
              "      <td>AUSTRALIA</td>\n",
              "      <td>New South Wales</td>\n",
              "      <td>Bondi</td>\n",
              "      <td>Unspecified</td>\n",
              "      <td>M</td>\n",
              "      <td>0</td>\n",
              "      <td>Aboriginal rock carving depicts man being atta...</td>\n",
              "      <td>N</td>\n",
              "      <td>Unspecified</td>\n",
              "      <td>Unknown</td>\n",
              "      <td>Waverly Library</td>\n",
              "    </tr>\n",
              "    <tr>\n",
              "      <th>6545</th>\n",
              "      <td>ND-0156</td>\n",
              "      <td>2013</td>\n",
              "      <td>2013</td>\n",
              "      <td>Unprovoked</td>\n",
              "      <td>AUSTRALIA</td>\n",
              "      <td>Queensland</td>\n",
              "      <td>Otter Reef</td>\n",
              "      <td>Spearfishing</td>\n",
              "      <td>M</td>\n",
              "      <td>0</td>\n",
              "      <td>Shark bumped him, but no injury</td>\n",
              "      <td>N</td>\n",
              "      <td>Unspecified</td>\n",
              "      <td>Hammerhead shark</td>\n",
              "      <td>K. McMurray, TrackingSharks.com</td>\n",
              "    </tr>\n",
              "    <tr>\n",
              "      <th>6546</th>\n",
              "      <td>ND-0155</td>\n",
              "      <td>1823</td>\n",
              "      <td>1823</td>\n",
              "      <td>Unprovoked</td>\n",
              "      <td>AUSTRALIA</td>\n",
              "      <td>Queensland</td>\n",
              "      <td>Newstead</td>\n",
              "      <td>Swimming</td>\n",
              "      <td>F</td>\n",
              "      <td>0</td>\n",
              "      <td>Left calf removed</td>\n",
              "      <td>UnV</td>\n",
              "      <td>Unspecified</td>\n",
              "      <td>Unknown</td>\n",
              "      <td>B. Myatt, GSAF</td>\n",
              "    </tr>\n",
              "  </tbody>\n",
              "</table>\n",
              "</div>"
            ],
            "text/plain": [
              "         Case Id  ...                             Investigator or Source\n",
              "6537  0077.00.00  ...  Perils mentioned by Pliny the Elder (23 A.D. t...\n",
              "6538  0005.00.00  ...                                    Waverly Library\n",
              "6545     ND-0156  ...                    K. McMurray, TrackingSharks.com\n",
              "6546     ND-0155  ...                                     B. Myatt, GSAF\n",
              "\n",
              "[4 rows x 15 columns]"
            ]
          },
          "metadata": {
            "tags": []
          },
          "execution_count": 154
        }
      ]
    },
    {
      "cell_type": "code",
      "metadata": {
        "colab": {
          "base_uri": "https://localhost:8080/"
        },
        "id": "72_3KwdzZpSH",
        "outputId": "f976f733-c8f2-4c4d-82c7-e8148875d895"
      },
      "source": [
        "dates['Date'].isna().sum()"
      ],
      "execution_count": 155,
      "outputs": [
        {
          "output_type": "execute_result",
          "data": {
            "text/plain": [
              "0"
            ]
          },
          "metadata": {
            "tags": []
          },
          "execution_count": 155
        }
      ]
    },
    {
      "cell_type": "code",
      "metadata": {
        "colab": {
          "base_uri": "https://localhost:8080/",
          "height": 97
        },
        "id": "zkOy74yg_R-m",
        "outputId": "ac985d98-9050-4fe6-cd2b-e4b08e454714"
      },
      "source": [
        "dates.loc[dates.index == 349, :]"
      ],
      "execution_count": 156,
      "outputs": [
        {
          "output_type": "execute_result",
          "data": {
            "text/html": [
              "<div>\n",
              "<style scoped>\n",
              "    .dataframe tbody tr th:only-of-type {\n",
              "        vertical-align: middle;\n",
              "    }\n",
              "\n",
              "    .dataframe tbody tr th {\n",
              "        vertical-align: top;\n",
              "    }\n",
              "\n",
              "    .dataframe thead th {\n",
              "        text-align: right;\n",
              "    }\n",
              "</style>\n",
              "<table border=\"1\" class=\"dataframe\">\n",
              "  <thead>\n",
              "    <tr style=\"text-align: right;\">\n",
              "      <th></th>\n",
              "      <th>Case Id</th>\n",
              "      <th>Date</th>\n",
              "      <th>Year</th>\n",
              "      <th>Type</th>\n",
              "      <th>Country</th>\n",
              "      <th>Area</th>\n",
              "      <th>Location</th>\n",
              "      <th>Activity</th>\n",
              "      <th>Sex</th>\n",
              "      <th>Age</th>\n",
              "      <th>Injury</th>\n",
              "      <th>Fatal</th>\n",
              "      <th>Time</th>\n",
              "      <th>Species</th>\n",
              "      <th>Investigator or Source</th>\n",
              "    </tr>\n",
              "  </thead>\n",
              "  <tbody>\n",
              "    <tr>\n",
              "      <th>349</th>\n",
              "      <td>2018.06.00</td>\n",
              "      <td>Jun-2018</td>\n",
              "      <td>2018</td>\n",
              "      <td>Unprovoked</td>\n",
              "      <td>EGYPT</td>\n",
              "      <td>Unspecified</td>\n",
              "      <td>Brothers Island</td>\n",
              "      <td>Scuba Diving</td>\n",
              "      <td>M</td>\n",
              "      <td>0</td>\n",
              "      <td>Laceration to right thigh</td>\n",
              "      <td>N</td>\n",
              "      <td>Unspecified</td>\n",
              "      <td>Oceanic whitetip shark</td>\n",
              "      <td>K. McMurray, Tracking Sharks.com</td>\n",
              "    </tr>\n",
              "  </tbody>\n",
              "</table>\n",
              "</div>"
            ],
            "text/plain": [
              "        Case Id  ...            Investigator or Source\n",
              "349  2018.06.00  ...  K. McMurray, Tracking Sharks.com\n",
              "\n",
              "[1 rows x 15 columns]"
            ]
          },
          "metadata": {
            "tags": []
          },
          "execution_count": 156
        }
      ]
    },
    {
      "cell_type": "code",
      "metadata": {
        "colab": {
          "base_uri": "https://localhost:8080/",
          "height": 144
        },
        "id": "vsOKlGQvDFXN",
        "outputId": "07cda119-5fc2-4819-fed9-d3b71e146032"
      },
      "source": [
        "oo = dates[dates['Date'].str.contains('1642') == True]\n",
        "oo"
      ],
      "execution_count": 157,
      "outputs": [
        {
          "output_type": "execute_result",
          "data": {
            "text/html": [
              "<div>\n",
              "<style scoped>\n",
              "    .dataframe tbody tr th:only-of-type {\n",
              "        vertical-align: middle;\n",
              "    }\n",
              "\n",
              "    .dataframe tbody tr th {\n",
              "        vertical-align: top;\n",
              "    }\n",
              "\n",
              "    .dataframe thead th {\n",
              "        text-align: right;\n",
              "    }\n",
              "</style>\n",
              "<table border=\"1\" class=\"dataframe\">\n",
              "  <thead>\n",
              "    <tr style=\"text-align: right;\">\n",
              "      <th></th>\n",
              "      <th>Case Id</th>\n",
              "      <th>Date</th>\n",
              "      <th>Year</th>\n",
              "      <th>Type</th>\n",
              "      <th>Country</th>\n",
              "      <th>Area</th>\n",
              "      <th>Location</th>\n",
              "      <th>Activity</th>\n",
              "      <th>Sex</th>\n",
              "      <th>Age</th>\n",
              "      <th>Injury</th>\n",
              "      <th>Fatal</th>\n",
              "      <th>Time</th>\n",
              "      <th>Species</th>\n",
              "      <th>Investigator or Source</th>\n",
              "    </tr>\n",
              "  </thead>\n",
              "  <tbody>\n",
              "    <tr>\n",
              "      <th>6526</th>\n",
              "      <td>1642.00.00.b</td>\n",
              "      <td>1642</td>\n",
              "      <td>1642</td>\n",
              "      <td>Invalid</td>\n",
              "      <td>GUINEA</td>\n",
              "      <td>Unspecified</td>\n",
              "      <td>Unspecified</td>\n",
              "      <td>Went overboard</td>\n",
              "      <td>M</td>\n",
              "      <td>0</td>\n",
              "      <td>FATAL</td>\n",
              "      <td>UnV</td>\n",
              "      <td>Unspecified</td>\n",
              "      <td>Questionable</td>\n",
              "      <td>History of the Pyrates, by D. Defoe, Vol. 2, p.28</td>\n",
              "    </tr>\n",
              "    <tr>\n",
              "      <th>6530</th>\n",
              "      <td>1642.00.00</td>\n",
              "      <td>1642</td>\n",
              "      <td>1642</td>\n",
              "      <td>Unprovoked</td>\n",
              "      <td>USA</td>\n",
              "      <td>New York</td>\n",
              "      <td>Between Manhattan and The Bronx</td>\n",
              "      <td>Swimming</td>\n",
              "      <td>M</td>\n",
              "      <td>0</td>\n",
              "      <td>FATAL</td>\n",
              "      <td>Y</td>\n",
              "      <td>Unspecified</td>\n",
              "      <td>Unknown</td>\n",
              "      <td>Knickerbocker's History of New York, by Washin...</td>\n",
              "    </tr>\n",
              "  </tbody>\n",
              "</table>\n",
              "</div>"
            ],
            "text/plain": [
              "           Case Id  ...                             Investigator or Source\n",
              "6526  1642.00.00.b  ...  History of the Pyrates, by D. Defoe, Vol. 2, p.28\n",
              "6530    1642.00.00  ...  Knickerbocker's History of New York, by Washin...\n",
              "\n",
              "[2 rows x 15 columns]"
            ]
          },
          "metadata": {
            "tags": []
          },
          "execution_count": 157
        }
      ]
    },
    {
      "cell_type": "code",
      "metadata": {
        "colab": {
          "base_uri": "https://localhost:8080/",
          "height": 819
        },
        "id": "RMWK0ooSBftw",
        "outputId": "80b1a71c-0698-406d-ad7a-428b3746db4e"
      },
      "source": [
        "# looking up out of bounds rows... Cannot convert to datetime format with dates before 1677\n",
        "oob = dates.loc[dates['Year'] <=1677, :]\n",
        "oob"
      ],
      "execution_count": 158,
      "outputs": [
        {
          "output_type": "execute_result",
          "data": {
            "text/html": [
              "<div>\n",
              "<style scoped>\n",
              "    .dataframe tbody tr th:only-of-type {\n",
              "        vertical-align: middle;\n",
              "    }\n",
              "\n",
              "    .dataframe tbody tr th {\n",
              "        vertical-align: top;\n",
              "    }\n",
              "\n",
              "    .dataframe thead th {\n",
              "        text-align: right;\n",
              "    }\n",
              "</style>\n",
              "<table border=\"1\" class=\"dataframe\">\n",
              "  <thead>\n",
              "    <tr style=\"text-align: right;\">\n",
              "      <th></th>\n",
              "      <th>Case Id</th>\n",
              "      <th>Date</th>\n",
              "      <th>Year</th>\n",
              "      <th>Type</th>\n",
              "      <th>Country</th>\n",
              "      <th>Area</th>\n",
              "      <th>Location</th>\n",
              "      <th>Activity</th>\n",
              "      <th>Sex</th>\n",
              "      <th>Age</th>\n",
              "      <th>Injury</th>\n",
              "      <th>Fatal</th>\n",
              "      <th>Time</th>\n",
              "      <th>Species</th>\n",
              "      <th>Investigator or Source</th>\n",
              "    </tr>\n",
              "  </thead>\n",
              "  <tbody>\n",
              "    <tr>\n",
              "      <th>6526</th>\n",
              "      <td>1642.00.00.b</td>\n",
              "      <td>1642</td>\n",
              "      <td>1642</td>\n",
              "      <td>Invalid</td>\n",
              "      <td>GUINEA</td>\n",
              "      <td>Unspecified</td>\n",
              "      <td>Unspecified</td>\n",
              "      <td>Went overboard</td>\n",
              "      <td>M</td>\n",
              "      <td>0</td>\n",
              "      <td>FATAL</td>\n",
              "      <td>UnV</td>\n",
              "      <td>Unspecified</td>\n",
              "      <td>Questionable</td>\n",
              "      <td>History of the Pyrates, by D. Defoe, Vol. 2, p.28</td>\n",
              "    </tr>\n",
              "    <tr>\n",
              "      <th>6527</th>\n",
              "      <td>1638.00.00.R</td>\n",
              "      <td>1638</td>\n",
              "      <td>1638</td>\n",
              "      <td>Unprovoked</td>\n",
              "      <td>UNKNOWN</td>\n",
              "      <td>Unspecified</td>\n",
              "      <td>Unspecified</td>\n",
              "      <td>Unspecified</td>\n",
              "      <td>M</td>\n",
              "      <td>0</td>\n",
              "      <td>Unspecified</td>\n",
              "      <td>UNKNOWN</td>\n",
              "      <td>Unspecified</td>\n",
              "      <td>Unknown</td>\n",
              "      <td>Sir Thomas Herbert</td>\n",
              "    </tr>\n",
              "    <tr>\n",
              "      <th>6528</th>\n",
              "      <td>1637.00.00.R</td>\n",
              "      <td>1637</td>\n",
              "      <td>1637</td>\n",
              "      <td>Unprovoked</td>\n",
              "      <td>INDIA</td>\n",
              "      <td>West Bengal</td>\n",
              "      <td>Hooghly River mouth</td>\n",
              "      <td>Wading</td>\n",
              "      <td>U</td>\n",
              "      <td>0</td>\n",
              "      <td>Unspecified</td>\n",
              "      <td>UNKNOWN</td>\n",
              "      <td>Unspecified</td>\n",
              "      <td>Unknown</td>\n",
              "      <td>H. Edwards, p.31, citing Sebastian Manrique</td>\n",
              "    </tr>\n",
              "    <tr>\n",
              "      <th>6529</th>\n",
              "      <td>1617.00.00.R</td>\n",
              "      <td>1617</td>\n",
              "      <td>1617</td>\n",
              "      <td>Unprovoked</td>\n",
              "      <td>INDIA</td>\n",
              "      <td>West Bengal</td>\n",
              "      <td>Ganges Delta</td>\n",
              "      <td>Unspecified</td>\n",
              "      <td>U</td>\n",
              "      <td>0</td>\n",
              "      <td>Unspecified</td>\n",
              "      <td>UNKNOWN</td>\n",
              "      <td>Unspecified</td>\n",
              "      <td>Unknown</td>\n",
              "      <td>H. Edwards, p.31, citing Samuel Purchas</td>\n",
              "    </tr>\n",
              "    <tr>\n",
              "      <th>6530</th>\n",
              "      <td>1642.00.00</td>\n",
              "      <td>1642</td>\n",
              "      <td>1642</td>\n",
              "      <td>Unprovoked</td>\n",
              "      <td>USA</td>\n",
              "      <td>New York</td>\n",
              "      <td>Between Manhattan and The Bronx</td>\n",
              "      <td>Swimming</td>\n",
              "      <td>M</td>\n",
              "      <td>0</td>\n",
              "      <td>FATAL</td>\n",
              "      <td>Y</td>\n",
              "      <td>Unspecified</td>\n",
              "      <td>Unknown</td>\n",
              "      <td>Knickerbocker's History of New York, by Washin...</td>\n",
              "    </tr>\n",
              "    <tr>\n",
              "      <th>6531</th>\n",
              "      <td>1595.00.00</td>\n",
              "      <td>1595</td>\n",
              "      <td>1595</td>\n",
              "      <td>Unprovoked</td>\n",
              "      <td>INDIA</td>\n",
              "      <td>Kerala</td>\n",
              "      <td>River Cochin</td>\n",
              "      <td>Ship lay at anchor &amp; man was working on its ru...</td>\n",
              "      <td>M</td>\n",
              "      <td>0</td>\n",
              "      <td>Leg severed mid-thigh, hand severed, arm above...</td>\n",
              "      <td>UNKNOWN</td>\n",
              "      <td>Unspecified</td>\n",
              "      <td>Unknown</td>\n",
              "      <td>The Voyage of John Huyghen van Linschoten</td>\n",
              "    </tr>\n",
              "    <tr>\n",
              "      <th>6532</th>\n",
              "      <td>1580.01.10.R</td>\n",
              "      <td>10-Jan-1580</td>\n",
              "      <td>1580</td>\n",
              "      <td>Unprovoked</td>\n",
              "      <td>ATLANTIC OCEAN</td>\n",
              "      <td>Open Sea</td>\n",
              "      <td>Open Sea</td>\n",
              "      <td>Man fell overboard from ship. Those on board t...</td>\n",
              "      <td>M</td>\n",
              "      <td>0</td>\n",
              "      <td>FATAL. \"Shark tore him to pieces.</td>\n",
              "      <td>Y</td>\n",
              "      <td>Unspecified</td>\n",
              "      <td>Unknown</td>\n",
              "      <td>G.P. Whitley, p. 10</td>\n",
              "    </tr>\n",
              "    <tr>\n",
              "      <th>6533</th>\n",
              "      <td>1555.00.00</td>\n",
              "      <td>1555</td>\n",
              "      <td>1555</td>\n",
              "      <td>Unprovoked</td>\n",
              "      <td>UNKNOWN</td>\n",
              "      <td>Unspecified</td>\n",
              "      <td>Unspecified</td>\n",
              "      <td>Swimming</td>\n",
              "      <td>M</td>\n",
              "      <td>0</td>\n",
              "      <td>Unspecified</td>\n",
              "      <td>UNKNOWN</td>\n",
              "      <td>Unspecified</td>\n",
              "      <td>Unknown</td>\n",
              "      <td>Olaus Magnus</td>\n",
              "    </tr>\n",
              "    <tr>\n",
              "      <th>6534</th>\n",
              "      <td>1554.00.00</td>\n",
              "      <td>1554</td>\n",
              "      <td>1554</td>\n",
              "      <td>Unprovoked</td>\n",
              "      <td>FRANCE</td>\n",
              "      <td>Nice &amp; Marseilles</td>\n",
              "      <td>Unspecified</td>\n",
              "      <td>Unspecified</td>\n",
              "      <td>M</td>\n",
              "      <td>0</td>\n",
              "      <td>Unspecified</td>\n",
              "      <td>UNKNOWN</td>\n",
              "      <td>Unspecified</td>\n",
              "      <td>Possibly white sharks</td>\n",
              "      <td>G. Rondelet</td>\n",
              "    </tr>\n",
              "    <tr>\n",
              "      <th>6535</th>\n",
              "      <td>1543.00.00</td>\n",
              "      <td>1543</td>\n",
              "      <td>1543</td>\n",
              "      <td>Unprovoked</td>\n",
              "      <td>VENEZUELA</td>\n",
              "      <td>Magarita or Cubagua Islands</td>\n",
              "      <td>Unspecified</td>\n",
              "      <td>Pearl diving</td>\n",
              "      <td>M</td>\n",
              "      <td>0</td>\n",
              "      <td>FATAL</td>\n",
              "      <td>Y</td>\n",
              "      <td>Unspecified</td>\n",
              "      <td>Unknown</td>\n",
              "      <td>J. Castro</td>\n",
              "    </tr>\n",
              "    <tr>\n",
              "      <th>6536</th>\n",
              "      <td>0500.00.00</td>\n",
              "      <td>500</td>\n",
              "      <td>500</td>\n",
              "      <td>Unprovoked</td>\n",
              "      <td>MEXICO</td>\n",
              "      <td>Unspecified</td>\n",
              "      <td>Unspecified</td>\n",
              "      <td>Unspecified</td>\n",
              "      <td>M</td>\n",
              "      <td>0</td>\n",
              "      <td>Foot severed</td>\n",
              "      <td>N</td>\n",
              "      <td>Unspecified</td>\n",
              "      <td>Unknown</td>\n",
              "      <td>J. Castro</td>\n",
              "    </tr>\n",
              "    <tr>\n",
              "      <th>6537</th>\n",
              "      <td>0077.00.00</td>\n",
              "      <td>77</td>\n",
              "      <td>77</td>\n",
              "      <td>Unprovoked</td>\n",
              "      <td>UNKNOWN</td>\n",
              "      <td>Ionian Sea</td>\n",
              "      <td>Unspecified</td>\n",
              "      <td>Sponge diving</td>\n",
              "      <td>M</td>\n",
              "      <td>0</td>\n",
              "      <td>FATAL</td>\n",
              "      <td>Y</td>\n",
              "      <td>Unspecified</td>\n",
              "      <td>Unknown</td>\n",
              "      <td>Perils mentioned by Pliny the Elder (23 A.D. t...</td>\n",
              "    </tr>\n",
              "    <tr>\n",
              "      <th>6538</th>\n",
              "      <td>0005.00.00</td>\n",
              "      <td>5</td>\n",
              "      <td>5</td>\n",
              "      <td>Unprovoked</td>\n",
              "      <td>AUSTRALIA</td>\n",
              "      <td>New South Wales</td>\n",
              "      <td>Bondi</td>\n",
              "      <td>Unspecified</td>\n",
              "      <td>M</td>\n",
              "      <td>0</td>\n",
              "      <td>Aboriginal rock carving depicts man being atta...</td>\n",
              "      <td>N</td>\n",
              "      <td>Unspecified</td>\n",
              "      <td>Unknown</td>\n",
              "      <td>Waverly Library</td>\n",
              "    </tr>\n",
              "  </tbody>\n",
              "</table>\n",
              "</div>"
            ],
            "text/plain": [
              "           Case Id  ...                             Investigator or Source\n",
              "6526  1642.00.00.b  ...  History of the Pyrates, by D. Defoe, Vol. 2, p.28\n",
              "6527  1638.00.00.R  ...                                 Sir Thomas Herbert\n",
              "6528  1637.00.00.R  ...        H. Edwards, p.31, citing Sebastian Manrique\n",
              "6529  1617.00.00.R  ...            H. Edwards, p.31, citing Samuel Purchas\n",
              "6530    1642.00.00  ...  Knickerbocker's History of New York, by Washin...\n",
              "6531    1595.00.00  ...          The Voyage of John Huyghen van Linschoten\n",
              "6532  1580.01.10.R  ...                                G.P. Whitley, p. 10\n",
              "6533    1555.00.00  ...                                       Olaus Magnus\n",
              "6534    1554.00.00  ...                                       G. Rondelet \n",
              "6535    1543.00.00  ...                                          J. Castro\n",
              "6536    0500.00.00  ...                                          J. Castro\n",
              "6537    0077.00.00  ...  Perils mentioned by Pliny the Elder (23 A.D. t...\n",
              "6538    0005.00.00  ...                                    Waverly Library\n",
              "\n",
              "[13 rows x 15 columns]"
            ]
          },
          "metadata": {
            "tags": []
          },
          "execution_count": 158
        }
      ]
    },
    {
      "cell_type": "code",
      "metadata": {
        "id": "-2jCjvCdCxjk"
      },
      "source": [
        "# dropping dates before 1677\n",
        "dates.drop(oob.index, inplace=True)"
      ],
      "execution_count": 159,
      "outputs": []
    },
    {
      "cell_type": "code",
      "metadata": {
        "colab": {
          "base_uri": "https://localhost:8080/"
        },
        "id": "zmR_SEzYAgin",
        "outputId": "166fda1b-0e54-4ae0-86c8-bec6d5501f8c"
      },
      "source": [
        "dates['Date']"
      ],
      "execution_count": 160,
      "outputs": [
        {
          "output_type": "execute_result",
          "data": {
            "text/plain": [
              "0       19-Jul-2021\n",
              "1       15-Jul-2021\n",
              "2       14-Jul-2021\n",
              "3       11-Jul-2021\n",
              "4       10-Jul-2021\n",
              "           ...     \n",
              "6662           1902\n",
              "6663           1902\n",
              "6664           1903\n",
              "6665           1886\n",
              "6666           1849\n",
              "Name: Date, Length: 6643, dtype: object"
            ]
          },
          "metadata": {
            "tags": []
          },
          "execution_count": 160
        }
      ]
    },
    {
      "cell_type": "code",
      "metadata": {
        "id": "6F6v7OiZ6av9"
      },
      "source": [
        "# converting Date column to datetime format and creating NaNs for all rows that format correctly\n",
        "dates['Date'] = pd.to_datetime(dates['Date'], format= '%d-%b-%Y', exact=False, infer_datetime_format=True, errors= 'coerce')"
      ],
      "execution_count": 161,
      "outputs": []
    },
    {
      "cell_type": "code",
      "metadata": {
        "colab": {
          "base_uri": "https://localhost:8080/",
          "height": 618
        },
        "id": "Tn5K2O10B8hF",
        "outputId": "6fa550b9-fb16-45ff-bbfa-6b38a77da093"
      },
      "source": [
        "dates.loc[dates['Date'].isna(), :]"
      ],
      "execution_count": 162,
      "outputs": [
        {
          "output_type": "execute_result",
          "data": {
            "text/html": [
              "<div>\n",
              "<style scoped>\n",
              "    .dataframe tbody tr th:only-of-type {\n",
              "        vertical-align: middle;\n",
              "    }\n",
              "\n",
              "    .dataframe tbody tr th {\n",
              "        vertical-align: top;\n",
              "    }\n",
              "\n",
              "    .dataframe thead th {\n",
              "        text-align: right;\n",
              "    }\n",
              "</style>\n",
              "<table border=\"1\" class=\"dataframe\">\n",
              "  <thead>\n",
              "    <tr style=\"text-align: right;\">\n",
              "      <th></th>\n",
              "      <th>Case Id</th>\n",
              "      <th>Date</th>\n",
              "      <th>Year</th>\n",
              "      <th>Type</th>\n",
              "      <th>Country</th>\n",
              "      <th>Area</th>\n",
              "      <th>Location</th>\n",
              "      <th>Activity</th>\n",
              "      <th>Sex</th>\n",
              "      <th>Age</th>\n",
              "      <th>Injury</th>\n",
              "      <th>Fatal</th>\n",
              "      <th>Time</th>\n",
              "      <th>Species</th>\n",
              "      <th>Investigator or Source</th>\n",
              "    </tr>\n",
              "  </thead>\n",
              "  <tbody>\n",
              "    <tr>\n",
              "      <th>349</th>\n",
              "      <td>2018.06.00</td>\n",
              "      <td>NaT</td>\n",
              "      <td>2018</td>\n",
              "      <td>Unprovoked</td>\n",
              "      <td>EGYPT</td>\n",
              "      <td>Unspecified</td>\n",
              "      <td>Brothers Island</td>\n",
              "      <td>Scuba Diving</td>\n",
              "      <td>M</td>\n",
              "      <td>0</td>\n",
              "      <td>Laceration to right thigh</td>\n",
              "      <td>N</td>\n",
              "      <td>Unspecified</td>\n",
              "      <td>Oceanic whitetip shark</td>\n",
              "      <td>K. McMurray, Tracking Sharks.com</td>\n",
              "    </tr>\n",
              "    <tr>\n",
              "      <th>357</th>\n",
              "      <td>2018.05.00</td>\n",
              "      <td>NaT</td>\n",
              "      <td>2018</td>\n",
              "      <td>Provoked</td>\n",
              "      <td>AUSTRALIA</td>\n",
              "      <td>Westerm Australia</td>\n",
              "      <td>Dugong Bay</td>\n",
              "      <td>Feeding sharks</td>\n",
              "      <td>F</td>\n",
              "      <td>34</td>\n",
              "      <td>Shallow lacerations to finger PROVOKED INCIDENT</td>\n",
              "      <td>N</td>\n",
              "      <td>Unspecified</td>\n",
              "      <td>Tawny nurse shark, 2m</td>\n",
              "      <td>Perth Now, 6/30/2018</td>\n",
              "    </tr>\n",
              "    <tr>\n",
              "      <th>431</th>\n",
              "      <td>2017.09.14</td>\n",
              "      <td>NaT</td>\n",
              "      <td>2017</td>\n",
              "      <td>Watercraft</td>\n",
              "      <td>AUSTRALIA</td>\n",
              "      <td>Westerm Australia</td>\n",
              "      <td>Esperance</td>\n",
              "      <td>Fishing</td>\n",
              "      <td>U</td>\n",
              "      <td>0</td>\n",
              "      <td>sharks rammed boats, no injury to occupants</td>\n",
              "      <td>N</td>\n",
              "      <td>Unspecified</td>\n",
              "      <td>White shark, 3.5m</td>\n",
              "      <td>B. Myatt, GSAF</td>\n",
              "    </tr>\n",
              "    <tr>\n",
              "      <th>476</th>\n",
              "      <td>2017.06.05</td>\n",
              "      <td>NaT</td>\n",
              "      <td>2017</td>\n",
              "      <td>Unprovoked</td>\n",
              "      <td>FRENCH POLYNESIA</td>\n",
              "      <td>Marquesas</td>\n",
              "      <td>Atuona Bay, Hiva Oa Island</td>\n",
              "      <td>Surfing</td>\n",
              "      <td>M</td>\n",
              "      <td>0</td>\n",
              "      <td>Injuries to hand and wrist</td>\n",
              "      <td>N</td>\n",
              "      <td>Unspecified</td>\n",
              "      <td>Unknown</td>\n",
              "      <td>Tahiti Infos, 6/6/2017</td>\n",
              "    </tr>\n",
              "    <tr>\n",
              "      <th>573</th>\n",
              "      <td>2016.09.00</td>\n",
              "      <td>NaT</td>\n",
              "      <td>2016</td>\n",
              "      <td>Invalid</td>\n",
              "      <td>MEXICO</td>\n",
              "      <td>Unspecified</td>\n",
              "      <td>Guadalupe Island</td>\n",
              "      <td>Cage Diving</td>\n",
              "      <td>U</td>\n",
              "      <td>0</td>\n",
              "      <td>No injury to divers, white shark breached cage</td>\n",
              "      <td>UnV</td>\n",
              "      <td>Unspecified</td>\n",
              "      <td>Invalid</td>\n",
              "      <td>K. Yonker</td>\n",
              "    </tr>\n",
              "    <tr>\n",
              "      <th>...</th>\n",
              "      <td>...</td>\n",
              "      <td>...</td>\n",
              "      <td>...</td>\n",
              "      <td>...</td>\n",
              "      <td>...</td>\n",
              "      <td>...</td>\n",
              "      <td>...</td>\n",
              "      <td>...</td>\n",
              "      <td>...</td>\n",
              "      <td>...</td>\n",
              "      <td>...</td>\n",
              "      <td>...</td>\n",
              "      <td>...</td>\n",
              "      <td>...</td>\n",
              "      <td>...</td>\n",
              "    </tr>\n",
              "    <tr>\n",
              "      <th>6662</th>\n",
              "      <td>ND.0005</td>\n",
              "      <td>NaT</td>\n",
              "      <td>1902</td>\n",
              "      <td>Unprovoked</td>\n",
              "      <td>AUSTRALIA</td>\n",
              "      <td>Western Australia</td>\n",
              "      <td>Roebuck Bay</td>\n",
              "      <td>Diving</td>\n",
              "      <td>M</td>\n",
              "      <td>0</td>\n",
              "      <td>FATAL</td>\n",
              "      <td>Y</td>\n",
              "      <td>Unspecified</td>\n",
              "      <td>Unknown</td>\n",
              "      <td>H. Taunton; N. Bartlett,  p. 234</td>\n",
              "    </tr>\n",
              "    <tr>\n",
              "      <th>6663</th>\n",
              "      <td>ND.0004</td>\n",
              "      <td>NaT</td>\n",
              "      <td>1902</td>\n",
              "      <td>Unprovoked</td>\n",
              "      <td>AUSTRALIA</td>\n",
              "      <td>Western Australia</td>\n",
              "      <td>Unspecified</td>\n",
              "      <td>Pearl diving</td>\n",
              "      <td>M</td>\n",
              "      <td>0</td>\n",
              "      <td>FATAL</td>\n",
              "      <td>Y</td>\n",
              "      <td>Unspecified</td>\n",
              "      <td>Unknown</td>\n",
              "      <td>H. Taunton; N. Bartlett,  pp. 233-234</td>\n",
              "    </tr>\n",
              "    <tr>\n",
              "      <th>6664</th>\n",
              "      <td>ND.0003</td>\n",
              "      <td>NaT</td>\n",
              "      <td>1903</td>\n",
              "      <td>Unprovoked</td>\n",
              "      <td>USA</td>\n",
              "      <td>North Carolina</td>\n",
              "      <td>Ocracoke Inlet</td>\n",
              "      <td>Swimming</td>\n",
              "      <td>M</td>\n",
              "      <td>0</td>\n",
              "      <td>FATAL</td>\n",
              "      <td>Y</td>\n",
              "      <td>Unspecified</td>\n",
              "      <td>Unknown</td>\n",
              "      <td>F. Schwartz, p.23; C. Creswell, GSAF</td>\n",
              "    </tr>\n",
              "    <tr>\n",
              "      <th>6665</th>\n",
              "      <td>ND.0002</td>\n",
              "      <td>NaT</td>\n",
              "      <td>1886</td>\n",
              "      <td>Unprovoked</td>\n",
              "      <td>PANAMA</td>\n",
              "      <td>Unspecified</td>\n",
              "      <td>Panama Bay 8ºN, 79ºW</td>\n",
              "      <td>Unspecified</td>\n",
              "      <td>M</td>\n",
              "      <td>0</td>\n",
              "      <td>FATAL</td>\n",
              "      <td>Y</td>\n",
              "      <td>Unspecified</td>\n",
              "      <td>Unknown</td>\n",
              "      <td>The Sun, 10/20/1938</td>\n",
              "    </tr>\n",
              "    <tr>\n",
              "      <th>6666</th>\n",
              "      <td>ND.0001</td>\n",
              "      <td>NaT</td>\n",
              "      <td>1849</td>\n",
              "      <td>Unprovoked</td>\n",
              "      <td>CEYLON (SRI LANKA)</td>\n",
              "      <td>Eastern Province</td>\n",
              "      <td>Below the English fort, Trincomalee</td>\n",
              "      <td>Swimming</td>\n",
              "      <td>M</td>\n",
              "      <td>15</td>\n",
              "      <td>FATAL. \"Shark bit him in half, carrying away t...</td>\n",
              "      <td>Y</td>\n",
              "      <td>Unspecified</td>\n",
              "      <td>Unknown</td>\n",
              "      <td>S.W. Baker</td>\n",
              "    </tr>\n",
              "  </tbody>\n",
              "</table>\n",
              "<p>842 rows × 15 columns</p>\n",
              "</div>"
            ],
            "text/plain": [
              "         Case Id  ...                 Investigator or Source\n",
              "349   2018.06.00  ...       K. McMurray, Tracking Sharks.com\n",
              "357   2018.05.00  ...                   Perth Now, 6/30/2018\n",
              "431   2017.09.14  ...                         B. Myatt, GSAF\n",
              "476   2017.06.05  ...                 Tahiti Infos, 6/6/2017\n",
              "573   2016.09.00  ...                              K. Yonker\n",
              "...          ...  ...                                    ...\n",
              "6662     ND.0005  ...       H. Taunton; N. Bartlett,  p. 234\n",
              "6663     ND.0004  ...  H. Taunton; N. Bartlett,  pp. 233-234\n",
              "6664     ND.0003  ...   F. Schwartz, p.23; C. Creswell, GSAF\n",
              "6665     ND.0002  ...                    The Sun, 10/20/1938\n",
              "6666     ND.0001  ...                             S.W. Baker\n",
              "\n",
              "[842 rows x 15 columns]"
            ]
          },
          "metadata": {
            "tags": []
          },
          "execution_count": 162
        }
      ]
    },
    {
      "cell_type": "code",
      "metadata": {
        "id": "d7V1KtFrOYGo"
      },
      "source": [
        "dates.dropna(subset=['Date'], inplace=True)"
      ],
      "execution_count": 163,
      "outputs": []
    },
    {
      "cell_type": "code",
      "metadata": {
        "colab": {
          "base_uri": "https://localhost:8080/"
        },
        "id": "RexARUbGCzPe",
        "outputId": "bfa66091-7b4b-4316-b619-d252239aca62"
      },
      "source": [
        "dates.isna().sum()"
      ],
      "execution_count": 164,
      "outputs": [
        {
          "output_type": "execute_result",
          "data": {
            "text/plain": [
              "Case Id                   0\n",
              "Date                      0\n",
              "Year                      0\n",
              "Type                      0\n",
              "Country                   0\n",
              "Area                      0\n",
              "Location                  0\n",
              "Activity                  0\n",
              "Sex                       0\n",
              "Age                       0\n",
              "Injury                    0\n",
              "Fatal                     0\n",
              "Time                      0\n",
              "Species                   0\n",
              "Investigator or Source    0\n",
              "dtype: int64"
            ]
          },
          "metadata": {
            "tags": []
          },
          "execution_count": 164
        }
      ]
    },
    {
      "cell_type": "code",
      "metadata": {
        "id": "iUXy0fsWNMLn"
      },
      "source": [
        "# setting the Date column as datetime\n",
        "dates['Date'] = dates['Date'].astype('datetime64')"
      ],
      "execution_count": 165,
      "outputs": []
    },
    {
      "cell_type": "code",
      "metadata": {
        "colab": {
          "base_uri": "https://localhost:8080/"
        },
        "id": "fm5iLHZrQgEU",
        "outputId": "485a3fc3-0644-41fd-a2ec-e42cd81abc3f"
      },
      "source": [
        "len(dates)"
      ],
      "execution_count": 166,
      "outputs": [
        {
          "output_type": "execute_result",
          "data": {
            "text/plain": [
              "5801"
            ]
          },
          "metadata": {
            "tags": []
          },
          "execution_count": 166
        }
      ]
    },
    {
      "cell_type": "code",
      "metadata": {
        "colab": {
          "base_uri": "https://localhost:8080/"
        },
        "id": "Zr4uBK9ZOOav",
        "outputId": "49b89db4-1ff1-4fd8-da73-4ae558e3d77d"
      },
      "source": [
        "zero_count_d = dates['Age'] == 0\n",
        "\n",
        "zero_count_d.sum()/dates['Age'].count()"
      ],
      "execution_count": 167,
      "outputs": [
        {
          "output_type": "execute_result",
          "data": {
            "text/plain": [
              "0.38872608171004996"
            ]
          },
          "metadata": {
            "tags": []
          },
          "execution_count": 167
        }
      ]
    },
    {
      "cell_type": "markdown",
      "metadata": {
        "id": "JAOnyTdolhIN"
      },
      "source": [
        "# EDA"
      ]
    },
    {
      "cell_type": "markdown",
      "metadata": {
        "id": "MbmtiPjylmUc"
      },
      "source": [
        "\n",
        "\n",
        "1.   visualizations\n",
        "2.   filters and comparisons\n",
        "\n"
      ]
    },
    {
      "cell_type": "code",
      "metadata": {
        "id": "ktRV1AAdJ0Px"
      },
      "source": [
        "import seaborn as sns"
      ],
      "execution_count": 168,
      "outputs": []
    },
    {
      "cell_type": "code",
      "metadata": {
        "colab": {
          "base_uri": "https://localhost:8080/",
          "height": 374
        },
        "id": "IlsAqK0iKSD-",
        "outputId": "1ba0f1f7-0a57-4783-996b-700a11d6f3db"
      },
      "source": [
        "# Because the only numeric columns are the Year and Age categories instead of\n",
        "#    running a pairplot on the (sharks df) I will run it on the (dates df) because \n",
        "#    the BC dates and other dates before 1677 have already been filtered out\n",
        "# Downside is that additional data was also removed when the (dates df) Date column was\n",
        "#    converted to Datetime format. It erased the dates that did not include day/month/year\n",
        "sns.pairplot(dates);\n",
        "# In order to get better results visual for the Age column I will need to filter out\n",
        "#    the zeros or use a median or mean to fill. currently the zeros make up 35% of\n",
        "#    the (dates df) which is fairly substantial to filter out for modeling, but will work \n",
        "#    well to filter them out for the sake of visualization"
      ],
      "execution_count": 211,
      "outputs": [
        {
          "output_type": "display_data",
          "data": {
            "image/png": "[encoded data removed]",
            "text/plain": [
              "<Figure size 360x360 with 6 Axes>"
            ]
          },
          "metadata": {
            "tags": [],
            "needs_background": "light"
          }
        }
      ]
    },
    {
      "cell_type": "code",
      "metadata": {
        "colab": {
          "base_uri": "https://localhost:8080/"
        },
        "id": "SBMP2etiPkN2",
        "outputId": "150a2b94-9afe-47f0-88f5-6e2943d0dae8"
      },
      "source": [
        "# filtering out the data that's prior to 1900\n",
        "# try checking the zeros separately\n",
        "# check the highest concentration of age groups as well\n",
        "\n",
        "yr1900_d = dates['Year'] >= 1900\n",
        "age0_1900_d = (dates['Age'] == 0) & yr1900_d\n",
        "print('dates df > 1900:', len(dates[yr1900_d]))\n",
        "print('Percetage:', round(age0_1900_d.sum()/len(dates[yr1900_d]), 3))\n",
        "print('Total 0 values:', age0_1900_d.sum())\n",
        "# 35% of this data contains a 0 value in the age column"
      ],
      "execution_count": 204,
      "outputs": [
        {
          "output_type": "stream",
          "text": [
            "dates df > 1900: 5343\n",
            "Percetage: 0.35\n",
            "Total 0 values: 1869\n"
          ],
          "name": "stdout"
        }
      ]
    },
    {
      "cell_type": "code",
      "metadata": {
        "colab": {
          "base_uri": "https://localhost:8080/",
          "height": 374
        },
        "id": "qN0PC7nQoNDZ",
        "outputId": "44fd0945-f11b-4dd8-9b18-e595593a2c3b"
      },
      "source": [
        "# curious about the (sharks df) because there 691 more rows of data than the (dates df)\n",
        "# the data that did not conform to the datetime format remain in this dataset\n",
        "# filtering out data before the year 1677 so the data is based on the same \"cutoff\" \n",
        "#    years as the (dates df) \n",
        "\n",
        "yr1677_s = sharks['Year'] >= 1677\n",
        "\n",
        "sns.pairplot(sharks[yr1677_s]);\n",
        "# I will proceed forward with the data from the (sharks df) as it is more complete\n",
        "# I will use data from the (dates df) if I specifically choose to run analytics based\n",
        "#    on month or other date specific data"
      ],
      "execution_count": 207,
      "outputs": [
        {
          "output_type": "display_data",
          "data": {
            "image/png": "[encoded data removed]",
            "text/plain": [
              "<Figure size 360x360 with 6 Axes>"
            ]
          },
          "metadata": {
            "tags": [],
            "needs_background": "light"
          }
        }
      ]
    },
    {
      "cell_type": "code",
      "metadata": {
        "colab": {
          "base_uri": "https://localhost:8080/"
        },
        "id": "dhdL7L6K5YNv",
        "outputId": "c3da7059-c4d1-4054-d85a-b3d2f3bcedae"
      },
      "source": [
        "# filtering out the data that's prior to 1900\n",
        "# try checking the zeros separately\n",
        "# check the highest concentration of age groups as well\n",
        "\n",
        "yr1900_s = sharks['Year'] >= 1900\n",
        "age0_1900_s = (sharks['Age'] == 0) & yr1900_s\n",
        "print('sharks df > 1900:', len(sharks[yr1900_s]))\n",
        "print('Percetage:', round(age0_1900_s.sum()/len(yr1900_s),3))\n",
        "print('Total 0 values:', age0_1900_s.sum())\n",
        "# 36% of this data contains a 0 value in the age column"
      ],
      "execution_count": 208,
      "outputs": [
        {
          "output_type": "stream",
          "text": [
            "sharks df > 1900: 6034\n",
            "Percetage: 0.36\n",
            "Total 0 values: 2401\n"
          ],
          "name": "stdout"
        }
      ]
    },
    {
      "cell_type": "code",
      "metadata": {
        "id": "oNq_e3SNQ1IG"
      },
      "source": [
        "# create a boxplot to show the age and years columns with all the outliers\n"
      ],
      "execution_count": 212,
      "outputs": []
    },
    {
      "cell_type": "code",
      "metadata": {
        "id": "ugvledE4llYY"
      },
      "source": [
        "# I am interested in which activities are most likely to result in a shark attack\n",
        "# I will attempt to  clean and then filter the dataset in order to produce a\n",
        "#    useful visualization\n",
        "sharks['Activity'].value_counts()"
      ],
      "execution_count": null,
      "outputs": []
    },
    {
      "cell_type": "markdown",
      "metadata": {
        "id": "Q6Zn34quluff"
      },
      "source": [
        "# Machine Learning Models"
      ]
    },
    {
      "cell_type": "markdown",
      "metadata": {
        "id": "jc3DEbYhlz-R"
      },
      "source": [
        "\n",
        "\n",
        "*   clustering for trends or groups for further analysis\n",
        "*   predictive models for fatality\n",
        "*   predictive models for months with attacks (use sharks_dates df)\n",
        "\n"
      ]
    },
    {
      "cell_type": "code",
      "metadata": {
        "id": "ADXdsm-XlxSE"
      },
      "source": [
        ""
      ],
      "execution_count": null,
      "outputs": []
    }
  ]
}