{
  "nbformat": 4,
  "nbformat_minor": 0,
  "metadata": {
    "colab": {
      "name": "Shark_Attack_Data.ipynb",
      "provenance": [],
      "mount_file_id": "1Q2W0UFJUcRqHC_IrXiAjCWWDVOqFapIw",
      "authorship_tag": "ABX9TyNpWZo8GGfuywdom5DyFinW",
      "include_colab_link": true
    },
    "kernelspec": {
      "name": "python3",
      "display_name": "Python 3"
    },
    "language_info": {
      "name": "python"
    }
  },
  "cells": [
    {
      "cell_type": "markdown",
      "metadata": {
        "id": "view-in-github",
        "colab_type": "text"
      },
      "source": [
        "<a href=\"https://colab.research.google.com/github/janaeam/Shark_Attack_Data/blob/main/Shark_Attack_Data.ipynb\" target=\"_parent\"><img src=\"https://colab.research.google.com/assets/colab-badge.svg\" alt=\"Open In Colab\"/></a>"
      ]
    },
    {
      "cell_type": "code",
      "metadata": {
        "id": "x0ieYJuSZD_e"
      },
      "source": [
        "import pandas as pd\n",
        "import numpy as np\n",
        "import matplotlib.pyplot as plt"
      ],
      "execution_count": 1,
      "outputs": []
    },
    {
      "cell_type": "code",
      "metadata": {
        "id": "QVTg375NYxI9"
      },
      "source": [
        "df = pd.read_excel('/content/drive/MyDrive/Coding Dojo/Week_7/Data/GSAF5.xls')"
      ],
      "execution_count": 2,
      "outputs": []
    },
    {
      "cell_type": "code",
      "metadata": {
        "colab": {
          "base_uri": "https://localhost:8080/",
          "height": 526
        },
        "id": "oKvxmA0uZLu2",
        "outputId": "c5812cab-923a-46cd-e86f-e91329508bc5"
      },
      "source": [
        "df.head()"
      ],
      "execution_count": 3,
      "outputs": [
        {
          "output_type": "execute_result",
          "data": {
            "text/html": [
              "<div>\n",
              "<style scoped>\n",
              "    .dataframe tbody tr th:only-of-type {\n",
              "        vertical-align: middle;\n",
              "    }\n",
              "\n",
              "    .dataframe tbody tr th {\n",
              "        vertical-align: top;\n",
              "    }\n",
              "\n",
              "    .dataframe thead th {\n",
              "        text-align: right;\n",
              "    }\n",
              "</style>\n",
              "<table border=\"1\" class=\"dataframe\">\n",
              "  <thead>\n",
              "    <tr style=\"text-align: right;\">\n",
              "      <th></th>\n",
              "      <th>Case Number</th>\n",
              "      <th>Date</th>\n",
              "      <th>Year</th>\n",
              "      <th>Type</th>\n",
              "      <th>Country</th>\n",
              "      <th>Area</th>\n",
              "      <th>Location</th>\n",
              "      <th>Activity</th>\n",
              "      <th>Name</th>\n",
              "      <th>Sex</th>\n",
              "      <th>Age</th>\n",
              "      <th>Injury</th>\n",
              "      <th>Fatal (Y/N)</th>\n",
              "      <th>Time</th>\n",
              "      <th>Species</th>\n",
              "      <th>Investigator or Source</th>\n",
              "      <th>pdf</th>\n",
              "      <th>href formula</th>\n",
              "      <th>href</th>\n",
              "      <th>Case Number.1</th>\n",
              "      <th>Case Number.2</th>\n",
              "      <th>original order</th>\n",
              "      <th>Unnamed: 22</th>\n",
              "      <th>Unnamed: 23</th>\n",
              "    </tr>\n",
              "  </thead>\n",
              "  <tbody>\n",
              "    <tr>\n",
              "      <th>0</th>\n",
              "      <td>2021.07.19</td>\n",
              "      <td>19-Jul-2021</td>\n",
              "      <td>2021.0</td>\n",
              "      <td>Unprovoked</td>\n",
              "      <td>AUSTRALIA</td>\n",
              "      <td>Western Australia</td>\n",
              "      <td>Rottnest Island</td>\n",
              "      <td>Surfing</td>\n",
              "      <td>male</td>\n",
              "      <td>M</td>\n",
              "      <td>NaN</td>\n",
              "      <td>No injury, knocked off board by shark</td>\n",
              "      <td>N</td>\n",
              "      <td>12h30</td>\n",
              "      <td>White shark, 3m</td>\n",
              "      <td>B. Myatt &amp; S. De Marchi, GSAF</td>\n",
              "      <td>2021.07.19-Rottnest.pdf</td>\n",
              "      <td>http://sharkattackfile.net/spreadsheets/pdf_di...</td>\n",
              "      <td>http://sharkattackfile.net/spreadsheets/pdf_di...</td>\n",
              "      <td>2021.07.19</td>\n",
              "      <td>2021.07.19</td>\n",
              "      <td>6668.0</td>\n",
              "      <td>NaN</td>\n",
              "      <td>NaN</td>\n",
              "    </tr>\n",
              "    <tr>\n",
              "      <th>1</th>\n",
              "      <td>2021.07.15</td>\n",
              "      <td>15-Jul-2021</td>\n",
              "      <td>2021.0</td>\n",
              "      <td>Unprovoked</td>\n",
              "      <td>USA</td>\n",
              "      <td>Florida</td>\n",
              "      <td>New Smyrna Beach, Volusia County</td>\n",
              "      <td>Boogie boarding</td>\n",
              "      <td>male</td>\n",
              "      <td>M</td>\n",
              "      <td>11</td>\n",
              "      <td>Leg bitten</td>\n",
              "      <td>N</td>\n",
              "      <td>16h30</td>\n",
              "      <td>NaN</td>\n",
              "      <td>K. McMurray, TrackingSharks.com</td>\n",
              "      <td>2021.07.15-NSB.pdf</td>\n",
              "      <td>http://sharkattackfile.net/spreadsheets/pdf_di...</td>\n",
              "      <td>http://sharkattackfile.net/spreadsheets/pdf_di...</td>\n",
              "      <td>2021.07.15</td>\n",
              "      <td>2021.07.15</td>\n",
              "      <td>6667.0</td>\n",
              "      <td>NaN</td>\n",
              "      <td>NaN</td>\n",
              "    </tr>\n",
              "    <tr>\n",
              "      <th>2</th>\n",
              "      <td>2021.07.14</td>\n",
              "      <td>14-Jul-2021</td>\n",
              "      <td>2021.0</td>\n",
              "      <td>Unprovoked</td>\n",
              "      <td>SOUTH AFRICA</td>\n",
              "      <td>Eastern Cape Province</td>\n",
              "      <td>Jeffrey's Bay</td>\n",
              "      <td>Surfing</td>\n",
              "      <td>male</td>\n",
              "      <td>M</td>\n",
              "      <td>38</td>\n",
              "      <td>Injuries to leg and torso</td>\n",
              "      <td>N</td>\n",
              "      <td>07h07</td>\n",
              "      <td>NaN</td>\n",
              "      <td>J. Marchard &amp; M. Michaelson, GSAF</td>\n",
              "      <td>2021.07.14-Jbay.pdf</td>\n",
              "      <td>http://sharkattackfile.net/spreadsheets/pdf_di...</td>\n",
              "      <td>http://sharkattackfile.net/spreadsheets/pdf_di...</td>\n",
              "      <td>2021.07.14</td>\n",
              "      <td>2021.07.14</td>\n",
              "      <td>6666.0</td>\n",
              "      <td>NaN</td>\n",
              "      <td>NaN</td>\n",
              "    </tr>\n",
              "    <tr>\n",
              "      <th>3</th>\n",
              "      <td>2021.07.11.R</td>\n",
              "      <td>Reported 11-Jul-2021</td>\n",
              "      <td>2021.0</td>\n",
              "      <td>Provoked</td>\n",
              "      <td>BAHAMAS</td>\n",
              "      <td>NaN</td>\n",
              "      <td>NaN</td>\n",
              "      <td>Jackass Team's publicity stunt for Discovery C...</td>\n",
              "      <td>Sean McInerney</td>\n",
              "      <td>M</td>\n",
              "      <td>NaN</td>\n",
              "      <td>Lacerations to right hand  PROVOKED INCIDENT</td>\n",
              "      <td>N</td>\n",
              "      <td>NaN</td>\n",
              "      <td>NaN</td>\n",
              "      <td>Yahoo.com, 7/11/2021</td>\n",
              "      <td>2021.07.11.R-McInerney.pdf</td>\n",
              "      <td>http://sharkattackfile.net/spreadsheets/pdf_di...</td>\n",
              "      <td>http://sharkattackfile.net/spreadsheets/pdf_di...</td>\n",
              "      <td>2021.07.11.R</td>\n",
              "      <td>2021.07.11.R</td>\n",
              "      <td>6665.0</td>\n",
              "      <td>NaN</td>\n",
              "      <td>NaN</td>\n",
              "    </tr>\n",
              "    <tr>\n",
              "      <th>4</th>\n",
              "      <td>2021.07.10.c</td>\n",
              "      <td>10-Jul-2021</td>\n",
              "      <td>2021.0</td>\n",
              "      <td>Unprovoked</td>\n",
              "      <td>USA</td>\n",
              "      <td>Florida</td>\n",
              "      <td>Bathtub Beach, Martin County</td>\n",
              "      <td>Playing</td>\n",
              "      <td>Amiya Lobb-Smith</td>\n",
              "      <td>F</td>\n",
              "      <td>9</td>\n",
              "      <td>Right foot bitten</td>\n",
              "      <td>N</td>\n",
              "      <td>16h39</td>\n",
              "      <td>Spinner shark, 4'?</td>\n",
              "      <td>J. Marchand, GSAF</td>\n",
              "      <td>2021.07.10.c-Lobb-Smith.pdf</td>\n",
              "      <td>http://sharkattackfile.net/spreadsheets/pdf_di...</td>\n",
              "      <td>http://sharkattackfile.net/spreadsheets/pdf_di...</td>\n",
              "      <td>2021.07.10.c</td>\n",
              "      <td>2021.07.10.c</td>\n",
              "      <td>6664.0</td>\n",
              "      <td>NaN</td>\n",
              "      <td>NaN</td>\n",
              "    </tr>\n",
              "  </tbody>\n",
              "</table>\n",
              "</div>"
            ],
            "text/plain": [
              "    Case Number                  Date  ...  Unnamed: 22 Unnamed: 23\n",
              "0    2021.07.19           19-Jul-2021  ...          NaN         NaN\n",
              "1    2021.07.15           15-Jul-2021  ...          NaN         NaN\n",
              "2    2021.07.14           14-Jul-2021  ...          NaN         NaN\n",
              "3  2021.07.11.R  Reported 11-Jul-2021  ...          NaN         NaN\n",
              "4  2021.07.10.c           10-Jul-2021  ...          NaN         NaN\n",
              "\n",
              "[5 rows x 24 columns]"
            ]
          },
          "metadata": {
            "tags": []
          },
          "execution_count": 3
        }
      ]
    },
    {
      "cell_type": "code",
      "metadata": {
        "colab": {
          "base_uri": "https://localhost:8080/"
        },
        "id": "jzZEJ9qQZNSO",
        "outputId": "f6b8f53c-bac0-4daf-9bb0-a7082381e2b5"
      },
      "source": [
        "df.info()"
      ],
      "execution_count": 4,
      "outputs": [
        {
          "output_type": "stream",
          "text": [
            "<class 'pandas.core.frame.DataFrame'>\n",
            "RangeIndex: 25815 entries, 0 to 25814\n",
            "Data columns (total 24 columns):\n",
            " #   Column                  Non-Null Count  Dtype  \n",
            "---  ------                  --------------  -----  \n",
            " 0   Case Number             8793 non-null   object \n",
            " 1   Date                    6666 non-null   object \n",
            " 2   Year                    6665 non-null   float64\n",
            " 3   Type                    6655 non-null   object \n",
            " 4   Country                 6617 non-null   object \n",
            " 5   Area                    6196 non-null   object \n",
            " 6   Location                6115 non-null   object \n",
            " 7   Activity                6104 non-null   object \n",
            " 8   Name                    6452 non-null   object \n",
            " 9   Sex                     6093 non-null   object \n",
            " 10  Age                     3744 non-null   object \n",
            " 11  Injury                  6635 non-null   object \n",
            " 12  Fatal (Y/N)             6115 non-null   object \n",
            " 13  Time                    3224 non-null   object \n",
            " 14  Species                 3669 non-null   object \n",
            " 15  Investigator or Source  6649 non-null   object \n",
            " 16  pdf                     6666 non-null   object \n",
            " 17  href formula            6663 non-null   object \n",
            " 18  href                    6665 non-null   object \n",
            " 19  Case Number.1           6666 non-null   object \n",
            " 20  Case Number.2           6666 non-null   object \n",
            " 21  original order          6667 non-null   float64\n",
            " 22  Unnamed: 22             1 non-null      object \n",
            " 23  Unnamed: 23             2 non-null      object \n",
            "dtypes: float64(2), object(22)\n",
            "memory usage: 4.7+ MB\n"
          ],
          "name": "stdout"
        }
      ]
    },
    {
      "cell_type": "code",
      "metadata": {
        "colab": {
          "base_uri": "https://localhost:8080/"
        },
        "id": "_s-8XzNQ_eWw",
        "outputId": "97ea6f49-a4eb-42d2-c5c5-749450084fc5"
      },
      "source": [
        "df.columns"
      ],
      "execution_count": 5,
      "outputs": [
        {
          "output_type": "execute_result",
          "data": {
            "text/plain": [
              "Index(['Case Number', 'Date', 'Year', 'Type', 'Country', 'Area', 'Location',\n",
              "       'Activity', 'Name', 'Sex ', 'Age', 'Injury', 'Fatal (Y/N)', 'Time',\n",
              "       'Species ', 'Investigator or Source', 'pdf', 'href formula', 'href',\n",
              "       'Case Number.1', 'Case Number.2', 'original order', 'Unnamed: 22',\n",
              "       'Unnamed: 23'],\n",
              "      dtype='object')"
            ]
          },
          "metadata": {
            "tags": []
          },
          "execution_count": 5
        }
      ]
    },
    {
      "cell_type": "markdown",
      "metadata": {
        "id": "hmc6v2CUduya"
      },
      "source": [
        "## EDA"
      ]
    },
    {
      "cell_type": "code",
      "metadata": {
        "colab": {
          "base_uri": "https://localhost:8080/",
          "height": 313
        },
        "id": "5UA3CmZQijRS",
        "outputId": "20d27c6b-2a9d-450e-dbd1-18c42a9a0009"
      },
      "source": [
        "# there are thousands of rows with no data I am going to delete those, but first\n",
        "#    I need to find the end...\n",
        "df[6665:6668]\n",
        "# There 6,667 rows of active information"
      ],
      "execution_count": 6,
      "outputs": [
        {
          "output_type": "execute_result",
          "data": {
            "text/html": [
              "<div>\n",
              "<style scoped>\n",
              "    .dataframe tbody tr th:only-of-type {\n",
              "        vertical-align: middle;\n",
              "    }\n",
              "\n",
              "    .dataframe tbody tr th {\n",
              "        vertical-align: top;\n",
              "    }\n",
              "\n",
              "    .dataframe thead th {\n",
              "        text-align: right;\n",
              "    }\n",
              "</style>\n",
              "<table border=\"1\" class=\"dataframe\">\n",
              "  <thead>\n",
              "    <tr style=\"text-align: right;\">\n",
              "      <th></th>\n",
              "      <th>Case Number</th>\n",
              "      <th>Date</th>\n",
              "      <th>Year</th>\n",
              "      <th>Type</th>\n",
              "      <th>Country</th>\n",
              "      <th>Area</th>\n",
              "      <th>Location</th>\n",
              "      <th>Activity</th>\n",
              "      <th>Name</th>\n",
              "      <th>Sex</th>\n",
              "      <th>Age</th>\n",
              "      <th>Injury</th>\n",
              "      <th>Fatal (Y/N)</th>\n",
              "      <th>Time</th>\n",
              "      <th>Species</th>\n",
              "      <th>Investigator or Source</th>\n",
              "      <th>pdf</th>\n",
              "      <th>href formula</th>\n",
              "      <th>href</th>\n",
              "      <th>Case Number.1</th>\n",
              "      <th>Case Number.2</th>\n",
              "      <th>original order</th>\n",
              "      <th>Unnamed: 22</th>\n",
              "      <th>Unnamed: 23</th>\n",
              "    </tr>\n",
              "  </thead>\n",
              "  <tbody>\n",
              "    <tr>\n",
              "      <th>6665</th>\n",
              "      <td>ND.0002</td>\n",
              "      <td>1883-1889</td>\n",
              "      <td>0.0</td>\n",
              "      <td>Unprovoked</td>\n",
              "      <td>PANAMA</td>\n",
              "      <td>NaN</td>\n",
              "      <td>Panama Bay 8ºN, 79ºW</td>\n",
              "      <td>NaN</td>\n",
              "      <td>Jules Patterson</td>\n",
              "      <td>M</td>\n",
              "      <td>NaN</td>\n",
              "      <td>FATAL</td>\n",
              "      <td>Y</td>\n",
              "      <td>NaN</td>\n",
              "      <td>NaN</td>\n",
              "      <td>The Sun, 10/20/1938</td>\n",
              "      <td>ND-0002-JulesPatterson.pdf</td>\n",
              "      <td>http://sharkattackfile.net/spreadsheets/pdf_di...</td>\n",
              "      <td>http://sharkattackfile.net/spreadsheets/pdf_di...</td>\n",
              "      <td>ND.0002</td>\n",
              "      <td>ND.0002</td>\n",
              "      <td>3.0</td>\n",
              "      <td>NaN</td>\n",
              "      <td>NaN</td>\n",
              "    </tr>\n",
              "    <tr>\n",
              "      <th>6666</th>\n",
              "      <td>ND.0001</td>\n",
              "      <td>1845-1853</td>\n",
              "      <td>0.0</td>\n",
              "      <td>Unprovoked</td>\n",
              "      <td>CEYLON (SRI LANKA)</td>\n",
              "      <td>Eastern Province</td>\n",
              "      <td>Below the English fort, Trincomalee</td>\n",
              "      <td>Swimming</td>\n",
              "      <td>male</td>\n",
              "      <td>M</td>\n",
              "      <td>15</td>\n",
              "      <td>FATAL. \"Shark bit him in half, carrying away t...</td>\n",
              "      <td>Y</td>\n",
              "      <td>NaN</td>\n",
              "      <td>NaN</td>\n",
              "      <td>S.W. Baker</td>\n",
              "      <td>ND-0001-Ceylon.pdf</td>\n",
              "      <td>http://sharkattackfile.net/spreadsheets/pdf_di...</td>\n",
              "      <td>http://sharkattackfile.net/spreadsheets/pdf_di...</td>\n",
              "      <td>ND.0001</td>\n",
              "      <td>ND.0001</td>\n",
              "      <td>2.0</td>\n",
              "      <td>NaN</td>\n",
              "      <td>NaN</td>\n",
              "    </tr>\n",
              "    <tr>\n",
              "      <th>6667</th>\n",
              "      <td>0</td>\n",
              "      <td>NaN</td>\n",
              "      <td>NaN</td>\n",
              "      <td>NaN</td>\n",
              "      <td>NaN</td>\n",
              "      <td>NaN</td>\n",
              "      <td>NaN</td>\n",
              "      <td>NaN</td>\n",
              "      <td>NaN</td>\n",
              "      <td>NaN</td>\n",
              "      <td>NaN</td>\n",
              "      <td>NaN</td>\n",
              "      <td>NaN</td>\n",
              "      <td>NaN</td>\n",
              "      <td>NaN</td>\n",
              "      <td>NaN</td>\n",
              "      <td>NaN</td>\n",
              "      <td>NaN</td>\n",
              "      <td>NaN</td>\n",
              "      <td>NaN</td>\n",
              "      <td>NaN</td>\n",
              "      <td>NaN</td>\n",
              "      <td>NaN</td>\n",
              "      <td>NaN</td>\n",
              "    </tr>\n",
              "  </tbody>\n",
              "</table>\n",
              "</div>"
            ],
            "text/plain": [
              "     Case Number       Date  Year  ... original order Unnamed: 22 Unnamed: 23\n",
              "6665     ND.0002  1883-1889   0.0  ...            3.0         NaN         NaN\n",
              "6666     ND.0001  1845-1853   0.0  ...            2.0         NaN         NaN\n",
              "6667           0        NaN   NaN  ...            NaN         NaN         NaN\n",
              "\n",
              "[3 rows x 24 columns]"
            ]
          },
          "metadata": {
            "tags": []
          },
          "execution_count": 6
        }
      ]
    },
    {
      "cell_type": "code",
      "metadata": {
        "colab": {
          "base_uri": "https://localhost:8080/",
          "height": 282
        },
        "id": "tdoOm8jSaXH0",
        "outputId": "ddd816fe-76d1-46ca-f37a-baa6fc95a7fe"
      },
      "source": [
        "df = df[:6667]\n",
        "df.tail(2)"
      ],
      "execution_count": 7,
      "outputs": [
        {
          "output_type": "execute_result",
          "data": {
            "text/html": [
              "<div>\n",
              "<style scoped>\n",
              "    .dataframe tbody tr th:only-of-type {\n",
              "        vertical-align: middle;\n",
              "    }\n",
              "\n",
              "    .dataframe tbody tr th {\n",
              "        vertical-align: top;\n",
              "    }\n",
              "\n",
              "    .dataframe thead th {\n",
              "        text-align: right;\n",
              "    }\n",
              "</style>\n",
              "<table border=\"1\" class=\"dataframe\">\n",
              "  <thead>\n",
              "    <tr style=\"text-align: right;\">\n",
              "      <th></th>\n",
              "      <th>Case Number</th>\n",
              "      <th>Date</th>\n",
              "      <th>Year</th>\n",
              "      <th>Type</th>\n",
              "      <th>Country</th>\n",
              "      <th>Area</th>\n",
              "      <th>Location</th>\n",
              "      <th>Activity</th>\n",
              "      <th>Name</th>\n",
              "      <th>Sex</th>\n",
              "      <th>Age</th>\n",
              "      <th>Injury</th>\n",
              "      <th>Fatal (Y/N)</th>\n",
              "      <th>Time</th>\n",
              "      <th>Species</th>\n",
              "      <th>Investigator or Source</th>\n",
              "      <th>pdf</th>\n",
              "      <th>href formula</th>\n",
              "      <th>href</th>\n",
              "      <th>Case Number.1</th>\n",
              "      <th>Case Number.2</th>\n",
              "      <th>original order</th>\n",
              "      <th>Unnamed: 22</th>\n",
              "      <th>Unnamed: 23</th>\n",
              "    </tr>\n",
              "  </thead>\n",
              "  <tbody>\n",
              "    <tr>\n",
              "      <th>6665</th>\n",
              "      <td>ND.0002</td>\n",
              "      <td>1883-1889</td>\n",
              "      <td>0.0</td>\n",
              "      <td>Unprovoked</td>\n",
              "      <td>PANAMA</td>\n",
              "      <td>NaN</td>\n",
              "      <td>Panama Bay 8ºN, 79ºW</td>\n",
              "      <td>NaN</td>\n",
              "      <td>Jules Patterson</td>\n",
              "      <td>M</td>\n",
              "      <td>NaN</td>\n",
              "      <td>FATAL</td>\n",
              "      <td>Y</td>\n",
              "      <td>NaN</td>\n",
              "      <td>NaN</td>\n",
              "      <td>The Sun, 10/20/1938</td>\n",
              "      <td>ND-0002-JulesPatterson.pdf</td>\n",
              "      <td>http://sharkattackfile.net/spreadsheets/pdf_di...</td>\n",
              "      <td>http://sharkattackfile.net/spreadsheets/pdf_di...</td>\n",
              "      <td>ND.0002</td>\n",
              "      <td>ND.0002</td>\n",
              "      <td>3.0</td>\n",
              "      <td>NaN</td>\n",
              "      <td>NaN</td>\n",
              "    </tr>\n",
              "    <tr>\n",
              "      <th>6666</th>\n",
              "      <td>ND.0001</td>\n",
              "      <td>1845-1853</td>\n",
              "      <td>0.0</td>\n",
              "      <td>Unprovoked</td>\n",
              "      <td>CEYLON (SRI LANKA)</td>\n",
              "      <td>Eastern Province</td>\n",
              "      <td>Below the English fort, Trincomalee</td>\n",
              "      <td>Swimming</td>\n",
              "      <td>male</td>\n",
              "      <td>M</td>\n",
              "      <td>15</td>\n",
              "      <td>FATAL. \"Shark bit him in half, carrying away t...</td>\n",
              "      <td>Y</td>\n",
              "      <td>NaN</td>\n",
              "      <td>NaN</td>\n",
              "      <td>S.W. Baker</td>\n",
              "      <td>ND-0001-Ceylon.pdf</td>\n",
              "      <td>http://sharkattackfile.net/spreadsheets/pdf_di...</td>\n",
              "      <td>http://sharkattackfile.net/spreadsheets/pdf_di...</td>\n",
              "      <td>ND.0001</td>\n",
              "      <td>ND.0001</td>\n",
              "      <td>2.0</td>\n",
              "      <td>NaN</td>\n",
              "      <td>NaN</td>\n",
              "    </tr>\n",
              "  </tbody>\n",
              "</table>\n",
              "</div>"
            ],
            "text/plain": [
              "     Case Number       Date  Year  ... original order Unnamed: 22 Unnamed: 23\n",
              "6665     ND.0002  1883-1889   0.0  ...            3.0         NaN         NaN\n",
              "6666     ND.0001  1845-1853   0.0  ...            2.0         NaN         NaN\n",
              "\n",
              "[2 rows x 24 columns]"
            ]
          },
          "metadata": {
            "tags": []
          },
          "execution_count": 7
        }
      ]
    },
    {
      "cell_type": "code",
      "metadata": {
        "colab": {
          "base_uri": "https://localhost:8080/"
        },
        "id": "GWK7zurajAY9",
        "outputId": "0a8a595d-b36a-47ff-e6b7-a97870ba76de"
      },
      "source": [
        "df.isnull().sum()"
      ],
      "execution_count": 8,
      "outputs": [
        {
          "output_type": "execute_result",
          "data": {
            "text/plain": [
              "Case Number                  2\n",
              "Date                         1\n",
              "Year                         2\n",
              "Type                        12\n",
              "Country                     50\n",
              "Area                       471\n",
              "Location                   552\n",
              "Activity                   563\n",
              "Name                       215\n",
              "Sex                        574\n",
              "Age                       2923\n",
              "Injury                      32\n",
              "Fatal (Y/N)                552\n",
              "Time                      3443\n",
              "Species                   2998\n",
              "Investigator or Source      18\n",
              "pdf                          1\n",
              "href formula                 4\n",
              "href                         2\n",
              "Case Number.1                1\n",
              "Case Number.2                1\n",
              "original order               0\n",
              "Unnamed: 22               6666\n",
              "Unnamed: 23               6665\n",
              "dtype: int64"
            ]
          },
          "metadata": {
            "tags": []
          },
          "execution_count": 8
        }
      ]
    },
    {
      "cell_type": "code",
      "metadata": {
        "id": "-T70tNJfjNA9"
      },
      "source": [
        "df['Case Number.1'] = df['Case Number.1'].fillna('2020.05.26')"
      ],
      "execution_count": 9,
      "outputs": []
    },
    {
      "cell_type": "code",
      "metadata": {
        "id": "XEWsh2spxYiF"
      },
      "source": [
        "df.rename(columns={'Case Number.1' : 'Case Id'}, inplace=True)"
      ],
      "execution_count": 10,
      "outputs": []
    },
    {
      "cell_type": "code",
      "metadata": {
        "id": "UtPp9iHilJBu"
      },
      "source": [
        "df = df.drop(columns=(['Case Number', 'Case Number.2', 'Unnamed: 22', 'Unnamed: 23']))"
      ],
      "execution_count": 11,
      "outputs": []
    },
    {
      "cell_type": "code",
      "metadata": {
        "id": "cTN-n0fCZPhq",
        "colab": {
          "base_uri": "https://localhost:8080/",
          "height": 526
        },
        "outputId": "3877d415-84fe-4b3d-c852-49e62f90113c"
      },
      "source": [
        "sharks = df.drop(columns=(['pdf', 'Name', 'href formula', 'href']))\n",
        "sharks.head()"
      ],
      "execution_count": 12,
      "outputs": [
        {
          "output_type": "execute_result",
          "data": {
            "text/html": [
              "<div>\n",
              "<style scoped>\n",
              "    .dataframe tbody tr th:only-of-type {\n",
              "        vertical-align: middle;\n",
              "    }\n",
              "\n",
              "    .dataframe tbody tr th {\n",
              "        vertical-align: top;\n",
              "    }\n",
              "\n",
              "    .dataframe thead th {\n",
              "        text-align: right;\n",
              "    }\n",
              "</style>\n",
              "<table border=\"1\" class=\"dataframe\">\n",
              "  <thead>\n",
              "    <tr style=\"text-align: right;\">\n",
              "      <th></th>\n",
              "      <th>Date</th>\n",
              "      <th>Year</th>\n",
              "      <th>Type</th>\n",
              "      <th>Country</th>\n",
              "      <th>Area</th>\n",
              "      <th>Location</th>\n",
              "      <th>Activity</th>\n",
              "      <th>Sex</th>\n",
              "      <th>Age</th>\n",
              "      <th>Injury</th>\n",
              "      <th>Fatal (Y/N)</th>\n",
              "      <th>Time</th>\n",
              "      <th>Species</th>\n",
              "      <th>Investigator or Source</th>\n",
              "      <th>Case Id</th>\n",
              "      <th>original order</th>\n",
              "    </tr>\n",
              "  </thead>\n",
              "  <tbody>\n",
              "    <tr>\n",
              "      <th>0</th>\n",
              "      <td>19-Jul-2021</td>\n",
              "      <td>2021.0</td>\n",
              "      <td>Unprovoked</td>\n",
              "      <td>AUSTRALIA</td>\n",
              "      <td>Western Australia</td>\n",
              "      <td>Rottnest Island</td>\n",
              "      <td>Surfing</td>\n",
              "      <td>M</td>\n",
              "      <td>NaN</td>\n",
              "      <td>No injury, knocked off board by shark</td>\n",
              "      <td>N</td>\n",
              "      <td>12h30</td>\n",
              "      <td>White shark, 3m</td>\n",
              "      <td>B. Myatt &amp; S. De Marchi, GSAF</td>\n",
              "      <td>2021.07.19</td>\n",
              "      <td>6668.0</td>\n",
              "    </tr>\n",
              "    <tr>\n",
              "      <th>1</th>\n",
              "      <td>15-Jul-2021</td>\n",
              "      <td>2021.0</td>\n",
              "      <td>Unprovoked</td>\n",
              "      <td>USA</td>\n",
              "      <td>Florida</td>\n",
              "      <td>New Smyrna Beach, Volusia County</td>\n",
              "      <td>Boogie boarding</td>\n",
              "      <td>M</td>\n",
              "      <td>11</td>\n",
              "      <td>Leg bitten</td>\n",
              "      <td>N</td>\n",
              "      <td>16h30</td>\n",
              "      <td>NaN</td>\n",
              "      <td>K. McMurray, TrackingSharks.com</td>\n",
              "      <td>2021.07.15</td>\n",
              "      <td>6667.0</td>\n",
              "    </tr>\n",
              "    <tr>\n",
              "      <th>2</th>\n",
              "      <td>14-Jul-2021</td>\n",
              "      <td>2021.0</td>\n",
              "      <td>Unprovoked</td>\n",
              "      <td>SOUTH AFRICA</td>\n",
              "      <td>Eastern Cape Province</td>\n",
              "      <td>Jeffrey's Bay</td>\n",
              "      <td>Surfing</td>\n",
              "      <td>M</td>\n",
              "      <td>38</td>\n",
              "      <td>Injuries to leg and torso</td>\n",
              "      <td>N</td>\n",
              "      <td>07h07</td>\n",
              "      <td>NaN</td>\n",
              "      <td>J. Marchard &amp; M. Michaelson, GSAF</td>\n",
              "      <td>2021.07.14</td>\n",
              "      <td>6666.0</td>\n",
              "    </tr>\n",
              "    <tr>\n",
              "      <th>3</th>\n",
              "      <td>Reported 11-Jul-2021</td>\n",
              "      <td>2021.0</td>\n",
              "      <td>Provoked</td>\n",
              "      <td>BAHAMAS</td>\n",
              "      <td>NaN</td>\n",
              "      <td>NaN</td>\n",
              "      <td>Jackass Team's publicity stunt for Discovery C...</td>\n",
              "      <td>M</td>\n",
              "      <td>NaN</td>\n",
              "      <td>Lacerations to right hand  PROVOKED INCIDENT</td>\n",
              "      <td>N</td>\n",
              "      <td>NaN</td>\n",
              "      <td>NaN</td>\n",
              "      <td>Yahoo.com, 7/11/2021</td>\n",
              "      <td>2021.07.11.R</td>\n",
              "      <td>6665.0</td>\n",
              "    </tr>\n",
              "    <tr>\n",
              "      <th>4</th>\n",
              "      <td>10-Jul-2021</td>\n",
              "      <td>2021.0</td>\n",
              "      <td>Unprovoked</td>\n",
              "      <td>USA</td>\n",
              "      <td>Florida</td>\n",
              "      <td>Bathtub Beach, Martin County</td>\n",
              "      <td>Playing</td>\n",
              "      <td>F</td>\n",
              "      <td>9</td>\n",
              "      <td>Right foot bitten</td>\n",
              "      <td>N</td>\n",
              "      <td>16h39</td>\n",
              "      <td>Spinner shark, 4'?</td>\n",
              "      <td>J. Marchand, GSAF</td>\n",
              "      <td>2021.07.10.c</td>\n",
              "      <td>6664.0</td>\n",
              "    </tr>\n",
              "  </tbody>\n",
              "</table>\n",
              "</div>"
            ],
            "text/plain": [
              "                   Date    Year  ...       Case Id original order\n",
              "0           19-Jul-2021  2021.0  ...    2021.07.19         6668.0\n",
              "1           15-Jul-2021  2021.0  ...    2021.07.15         6667.0\n",
              "2           14-Jul-2021  2021.0  ...    2021.07.14         6666.0\n",
              "3  Reported 11-Jul-2021  2021.0  ...  2021.07.11.R         6665.0\n",
              "4           10-Jul-2021  2021.0  ...  2021.07.10.c         6664.0\n",
              "\n",
              "[5 rows x 16 columns]"
            ]
          },
          "metadata": {
            "tags": []
          },
          "execution_count": 12
        }
      ]
    },
    {
      "cell_type": "code",
      "metadata": {
        "colab": {
          "base_uri": "https://localhost:8080/"
        },
        "id": "M9QvUP6YdGfN",
        "outputId": "7a5bff45-d92d-424a-b852-a34e476bb6ea"
      },
      "source": [
        "sharks.isnull().sum()"
      ],
      "execution_count": 13,
      "outputs": [
        {
          "output_type": "execute_result",
          "data": {
            "text/plain": [
              "Date                         1\n",
              "Year                         2\n",
              "Type                        12\n",
              "Country                     50\n",
              "Area                       471\n",
              "Location                   552\n",
              "Activity                   563\n",
              "Sex                        574\n",
              "Age                       2923\n",
              "Injury                      32\n",
              "Fatal (Y/N)                552\n",
              "Time                      3443\n",
              "Species                   2998\n",
              "Investigator or Source      18\n",
              "Case Id                      0\n",
              "original order               0\n",
              "dtype: int64"
            ]
          },
          "metadata": {
            "tags": []
          },
          "execution_count": 13
        }
      ]
    },
    {
      "cell_type": "code",
      "metadata": {
        "id": "hH6hwSQ3sj4F"
      },
      "source": [
        "sharks['Type'] = sharks['Type'].replace({'Unconfirmed' : 'Unverified',\n",
        "                                         'Under investigation' : 'Unverified',\n",
        "                                         'Questionable' : 'Unverified',\n",
        "                                         'Boat' : 'Watercraft'}).fillna('Unverified')"
      ],
      "execution_count": 14,
      "outputs": []
    },
    {
      "cell_type": "code",
      "metadata": {
        "colab": {
          "base_uri": "https://localhost:8080/"
        },
        "id": "1mixfkJvsB_M",
        "outputId": "6bcf9eae-a8e1-4d4a-cf82-fda08a5ba6f1"
      },
      "source": [
        "sharks['Type'].value_counts()"
      ],
      "execution_count": 15,
      "outputs": [
        {
          "output_type": "execute_result",
          "data": {
            "text/plain": [
              "Unprovoked      4885\n",
              "Provoked         607\n",
              "Invalid          552\n",
              "Watercraft       356\n",
              "Sea Disaster     240\n",
              "Unverified        27\n",
              "Name: Type, dtype: int64"
            ]
          },
          "metadata": {
            "tags": []
          },
          "execution_count": 15
        }
      ]
    },
    {
      "cell_type": "code",
      "metadata": {
        "colab": {
          "base_uri": "https://localhost:8080/"
        },
        "id": "QBgy6NmJ-Fjt",
        "outputId": "dd52cb35-c309-4a6a-b879-bfb32629ca2d"
      },
      "source": [
        "vc = sharks['Country'].value_counts()\n",
        "vc.sort_index()[199:215]"
      ],
      "execution_count": 16,
      "outputs": [
        {
          "output_type": "execute_result",
          "data": {
            "text/plain": [
              "TRINIDAD & TOBAGO                3\n",
              "TUNISIA                          3\n",
              "TURKEY                          12\n",
              "TURKS & CAICOS                   5\n",
              "TUVALU                           1\n",
              "UNITED ARAB EMIRATES             2\n",
              "UNITED ARAB EMIRATES (UAE)       2\n",
              "UNITED KINGDOM                  11\n",
              "URUGUAY                          4\n",
              "USA                           2409\n",
              "VANUATU                         14\n",
              "VENEZUELA                       11\n",
              "VIETNAM                         15\n",
              "WEST INDIES                      2\n",
              "WESTERN SAMOA                    1\n",
              "YEMEN                            2\n",
              "Name: Country, dtype: int64"
            ]
          },
          "metadata": {
            "tags": []
          },
          "execution_count": 16
        }
      ]
    },
    {
      "cell_type": "code",
      "metadata": {
        "id": "UzuN5bq__1OR"
      },
      "source": [
        "sharks['Country'] = sharks['Country'].replace({' PHILIPPINES' : 'PHILIPPINES',\n",
        "                                               ' TONGA' : 'TONGA',\n",
        "                                               'ASIA?' : 'ASIA',\n",
        "                                               'ANDAMAN / NICOBAR ISLANDAS' : 'ANDAMAN ISLANDS',\n",
        "                                               'BRITISH NEW GUINEA' : 'PAPUA NEW GUINEA',\n",
        "                                               'Between PORTUGAL & INDIA' : 'ATLANTIC OCEAN',\n",
        "                                               'CEYLON' : 'CEYLON (SRI LANKA)',\n",
        "                                               'COLUMBIA' : 'COLOMBIA',\n",
        "                                               'Coast of AFRICA' : 'SOUTH AFRICA',\n",
        "                                               'EGYPT ' : 'EGYPT',\n",
        "                                               'EGYPT / ISRAEL' : 'EGYPT',\n",
        "                                               'EQUATORIAL GUINEA / CAMEROON' : 'NEW GUINEA',\n",
        "                                               'GRAND CAYMAN' : 'CAYMAN ISLANDS',\n",
        "                                               'INDIAN OCEAN?' : 'INDIAN OCEAN',\n",
        "                                               'IRAN / IRAQ' : 'IRAN',\n",
        "                                               'ITALY / CROATIA' : 'ITALY',\n",
        "                                               'MALDIVE ISLANDS' : 'MALDIVES',\n",
        "                                               'MEXICO ' : 'MEXICO',\n",
        "                                               'MID ATLANTIC OCEAN' : 'ATLANTIC OCEAN',\n",
        "                                               'MID-PACIFIC OCEAN' : 'PACIFIC OCEAN',\n",
        "                                               'NICARAGUA ' : 'NICARAGUA',\n",
        "                                               'NORTH ATLANTIC OCEAN ' : 'NORTH ATLANTIC OCEAN',\n",
        "                                               'OCEAN' : 'OCEANIA',\n",
        "                                               'PACIFIC OCEAN ' : 'PACIFIC OCEAN',\n",
        "                                               'RED SEA / INDIAN OCEAN' : 'RED SEA',\n",
        "                                               'RED SEA?' : 'RED SEA',\n",
        "                                               'REUNION ISLAND' : 'REUNION',\n",
        "                                               'SOLOMON ISLANDS / VANUATU' : 'SOLOMON ISLANDS',\n",
        "                                               'SOUTH WEST PACIFIC OCEAN' : 'SOUTH PACIFIC OCEAN',\n",
        "                                               'ST HELENA, British overseas territory' : 'ST HELENA',\n",
        "                                               'ST KITTS / NEVIS' : 'ST KITTS',\n",
        "                                               'ST MARTIN' : 'ST MAARTEN',\n",
        "                                               'ST. MAARTIN' : 'ST MAARTEN',\n",
        "                                               'ST. MARTIN' : 'ST MAARTEN',\n",
        "                                               'SUDAN?' : 'SUDAN',\n",
        "                                               'THE BALKANS' : 'BALKANS',\n",
        "                                               'TRINIDAD & TOBAGO' : 'TOBAGO',\n",
        "                                               'UNITED ARAB EMIRATES (UAE)' : 'UNITED ARAB EMIRATES',\n",
        "                                               'BRITISH WEST INDIES' : 'WEST INDIES',\n",
        "                                               'WESTERN SAMOA' : 'SAMOA',\n",
        "                                               'Sierra Leone' : 'SIERRA LEONE',\n",
        "                                               'Seychelles' : 'SEYCHELLES'})"
      ],
      "execution_count": 17,
      "outputs": []
    },
    {
      "cell_type": "code",
      "metadata": {
        "id": "X5aPMfgTM2cr"
      },
      "source": [
        "sharks['Country'] = sharks['Country'].fillna('unknown')"
      ],
      "execution_count": 18,
      "outputs": []
    },
    {
      "cell_type": "code",
      "metadata": {
        "colab": {
          "base_uri": "https://localhost:8080/"
        },
        "id": "Lr-FsY6zL81A",
        "outputId": "1697ea67-563c-4116-857c-fdb886e7a756"
      },
      "source": [
        "sharks['Country'].value_counts()"
      ],
      "execution_count": 19,
      "outputs": [
        {
          "output_type": "execute_result",
          "data": {
            "text/plain": [
              "USA                               2409\n",
              "AUSTRALIA                         1425\n",
              "SOUTH AFRICA                       590\n",
              "NEW ZEALAND                        139\n",
              "PAPUA NEW GUINEA                   136\n",
              "                                  ... \n",
              "BANGLADESH                           1\n",
              "SYRIA                                1\n",
              "TASMAN SEA                           1\n",
              "BAHREIN                              1\n",
              "FEDERATED STATES OF MICRONESIA       1\n",
              "Name: Country, Length: 183, dtype: int64"
            ]
          },
          "metadata": {
            "tags": []
          },
          "execution_count": 19
        }
      ]
    },
    {
      "cell_type": "code",
      "metadata": {
        "colab": {
          "base_uri": "https://localhost:8080/",
          "height": 134
        },
        "id": "2EEpZdh8d-n7",
        "outputId": "00cc8ab0-8172-4002-e1a4-1e6de1ba4397"
      },
      "source": [
        "sharks.loc[sharks['Date'].isna(), :]"
      ],
      "execution_count": 20,
      "outputs": [
        {
          "output_type": "execute_result",
          "data": {
            "text/html": [
              "<div>\n",
              "<style scoped>\n",
              "    .dataframe tbody tr th:only-of-type {\n",
              "        vertical-align: middle;\n",
              "    }\n",
              "\n",
              "    .dataframe tbody tr th {\n",
              "        vertical-align: top;\n",
              "    }\n",
              "\n",
              "    .dataframe thead th {\n",
              "        text-align: right;\n",
              "    }\n",
              "</style>\n",
              "<table border=\"1\" class=\"dataframe\">\n",
              "  <thead>\n",
              "    <tr style=\"text-align: right;\">\n",
              "      <th></th>\n",
              "      <th>Date</th>\n",
              "      <th>Year</th>\n",
              "      <th>Type</th>\n",
              "      <th>Country</th>\n",
              "      <th>Area</th>\n",
              "      <th>Location</th>\n",
              "      <th>Activity</th>\n",
              "      <th>Sex</th>\n",
              "      <th>Age</th>\n",
              "      <th>Injury</th>\n",
              "      <th>Fatal (Y/N)</th>\n",
              "      <th>Time</th>\n",
              "      <th>Species</th>\n",
              "      <th>Investigator or Source</th>\n",
              "      <th>Case Id</th>\n",
              "      <th>original order</th>\n",
              "    </tr>\n",
              "  </thead>\n",
              "  <tbody>\n",
              "    <tr>\n",
              "      <th>6544</th>\n",
              "      <td>NaN</td>\n",
              "      <td>0.0</td>\n",
              "      <td>Unprovoked</td>\n",
              "      <td>BELIZE</td>\n",
              "      <td>NaN</td>\n",
              "      <td>NaN</td>\n",
              "      <td>NaN</td>\n",
              "      <td>M</td>\n",
              "      <td>NaN</td>\n",
              "      <td>NaN</td>\n",
              "      <td>N</td>\n",
              "      <td>NaN</td>\n",
              "      <td>NaN</td>\n",
              "      <td>D. Grant, SRI</td>\n",
              "      <td>ND-0157</td>\n",
              "      <td>124.0</td>\n",
              "    </tr>\n",
              "  </tbody>\n",
              "</table>\n",
              "</div>"
            ],
            "text/plain": [
              "     Date  Year        Type  ... Investigator or Source  Case Id original order\n",
              "6544  NaN   0.0  Unprovoked  ...          D. Grant, SRI  ND-0157          124.0\n",
              "\n",
              "[1 rows x 16 columns]"
            ]
          },
          "metadata": {
            "tags": []
          },
          "execution_count": 20
        }
      ]
    },
    {
      "cell_type": "code",
      "metadata": {
        "id": "Ak5aJXw5Huwn"
      },
      "source": [
        "sharks['Date'] = sharks['Date'].fillna('nat')"
      ],
      "execution_count": 21,
      "outputs": []
    },
    {
      "cell_type": "code",
      "metadata": {
        "colab": {
          "base_uri": "https://localhost:8080/"
        },
        "id": "KW9Yo594nG2g",
        "outputId": "3151f9ab-4dee-4489-dc77-3fabbbb4a121"
      },
      "source": [
        "sharks['Date'].value_counts()"
      ],
      "execution_count": 22,
      "outputs": [
        {
          "output_type": "execute_result",
          "data": {
            "text/plain": [
              "1957           9\n",
              "1942           8\n",
              "1958           7\n",
              "No date        6\n",
              "1956           6\n",
              "              ..\n",
              "05-Sep-1970    1\n",
              "07-Dec-1941    1\n",
              "12-Mar-1961    1\n",
              "30-Jan-1954    1\n",
              "04-Jun-1832    1\n",
              "Name: Date, Length: 5767, dtype: int64"
            ]
          },
          "metadata": {
            "tags": []
          },
          "execution_count": 22
        }
      ]
    },
    {
      "cell_type": "code",
      "metadata": {
        "id": "fz9lzzVlo9HS"
      },
      "source": [
        "sharks['Year'] = sharks['Year'].fillna(0).astype(int)"
      ],
      "execution_count": 23,
      "outputs": []
    },
    {
      "cell_type": "code",
      "metadata": {
        "colab": {
          "base_uri": "https://localhost:8080/",
          "height": 991
        },
        "id": "xyNoAzIonxpL",
        "outputId": "3cf45e7b-e3f9-483e-9dce-2fbbf01b31bd"
      },
      "source": [
        "# Replace Years with a value of 0 to the year mentioned in Date column\n",
        "sharks.loc[sharks['Year']== 0.0, :]"
      ],
      "execution_count": 24,
      "outputs": [
        {
          "output_type": "execute_result",
          "data": {
            "text/html": [
              "<div>\n",
              "<style scoped>\n",
              "    .dataframe tbody tr th:only-of-type {\n",
              "        vertical-align: middle;\n",
              "    }\n",
              "\n",
              "    .dataframe tbody tr th {\n",
              "        vertical-align: top;\n",
              "    }\n",
              "\n",
              "    .dataframe thead th {\n",
              "        text-align: right;\n",
              "    }\n",
              "</style>\n",
              "<table border=\"1\" class=\"dataframe\">\n",
              "  <thead>\n",
              "    <tr style=\"text-align: right;\">\n",
              "      <th></th>\n",
              "      <th>Date</th>\n",
              "      <th>Year</th>\n",
              "      <th>Type</th>\n",
              "      <th>Country</th>\n",
              "      <th>Area</th>\n",
              "      <th>Location</th>\n",
              "      <th>Activity</th>\n",
              "      <th>Sex</th>\n",
              "      <th>Age</th>\n",
              "      <th>Injury</th>\n",
              "      <th>Fatal (Y/N)</th>\n",
              "      <th>Time</th>\n",
              "      <th>Species</th>\n",
              "      <th>Investigator or Source</th>\n",
              "      <th>Case Id</th>\n",
              "      <th>original order</th>\n",
              "    </tr>\n",
              "  </thead>\n",
              "  <tbody>\n",
              "    <tr>\n",
              "      <th>534</th>\n",
              "      <td>Reported 08-Jan-2017</td>\n",
              "      <td>0</td>\n",
              "      <td>Invalid</td>\n",
              "      <td>AUSTRALIA</td>\n",
              "      <td>Queensland</td>\n",
              "      <td>NaN</td>\n",
              "      <td>Spearfishing</td>\n",
              "      <td>M</td>\n",
              "      <td>35</td>\n",
              "      <td>No attack, shark made a threat display</td>\n",
              "      <td>NaN</td>\n",
              "      <td>NaN</td>\n",
              "      <td>Bull shark</td>\n",
              "      <td>Liquid Vision 1/8/2017</td>\n",
              "      <td>2017.01.08.R</td>\n",
              "      <td>6134.0</td>\n",
              "    </tr>\n",
              "    <tr>\n",
              "      <th>6441</th>\n",
              "      <td>Reported 19-Aug-1836</td>\n",
              "      <td>0</td>\n",
              "      <td>Unprovoked</td>\n",
              "      <td>ENGLAND</td>\n",
              "      <td>Cumberland</td>\n",
              "      <td>Whitehaven</td>\n",
              "      <td>Swimming</td>\n",
              "      <td>M</td>\n",
              "      <td>NaN</td>\n",
              "      <td>FATAL</td>\n",
              "      <td>Y</td>\n",
              "      <td>NaN</td>\n",
              "      <td>NaN</td>\n",
              "      <td>C. Moore, GSAF</td>\n",
              "      <td>1836.08.19.R</td>\n",
              "      <td>227.0</td>\n",
              "    </tr>\n",
              "    <tr>\n",
              "      <th>6539</th>\n",
              "      <td>Ca. 214 B.C.</td>\n",
              "      <td>0</td>\n",
              "      <td>Unprovoked</td>\n",
              "      <td>unknown</td>\n",
              "      <td>Ionian Sea</td>\n",
              "      <td>NaN</td>\n",
              "      <td>Ascending from a dive</td>\n",
              "      <td>M</td>\n",
              "      <td>NaN</td>\n",
              "      <td>FATAL, shark/s bit him in two</td>\n",
              "      <td>Y</td>\n",
              "      <td>NaN</td>\n",
              "      <td>NaN</td>\n",
              "      <td>Reported by Greek poet, Leonidas of Tarentum (...</td>\n",
              "      <td>0000.0214</td>\n",
              "      <td>129.0</td>\n",
              "    </tr>\n",
              "    <tr>\n",
              "      <th>6540</th>\n",
              "      <td>Ca. 336.B.C..</td>\n",
              "      <td>0</td>\n",
              "      <td>Unprovoked</td>\n",
              "      <td>GREECE</td>\n",
              "      <td>Piraeus</td>\n",
              "      <td>In the haven of Cantharus</td>\n",
              "      <td>Washing his pig in preparation for a religious...</td>\n",
              "      <td>M</td>\n",
              "      <td>NaN</td>\n",
              "      <td>FATAL, shark \"bit off all lower parts of him u...</td>\n",
              "      <td>Y</td>\n",
              "      <td>NaN</td>\n",
              "      <td>NaN</td>\n",
              "      <td>Plutarch (45 - 125 A.D.) in Life of Phoecion (...</td>\n",
              "      <td>0000.0336</td>\n",
              "      <td>128.0</td>\n",
              "    </tr>\n",
              "    <tr>\n",
              "      <th>6541</th>\n",
              "      <td>493 B.C.</td>\n",
              "      <td>0</td>\n",
              "      <td>Sea Disaster</td>\n",
              "      <td>GREECE</td>\n",
              "      <td>Off Thessaly</td>\n",
              "      <td>NaN</td>\n",
              "      <td>Shipwrecked Persian Fleet</td>\n",
              "      <td>M</td>\n",
              "      <td>NaN</td>\n",
              "      <td>Herodotus tells of sharks attacking men in the...</td>\n",
              "      <td>Y</td>\n",
              "      <td>NaN</td>\n",
              "      <td>NaN</td>\n",
              "      <td>Herodotus (485 - 425 B.C.)</td>\n",
              "      <td>0000.0493</td>\n",
              "      <td>127.0</td>\n",
              "    </tr>\n",
              "    <tr>\n",
              "      <th>...</th>\n",
              "      <td>...</td>\n",
              "      <td>...</td>\n",
              "      <td>...</td>\n",
              "      <td>...</td>\n",
              "      <td>...</td>\n",
              "      <td>...</td>\n",
              "      <td>...</td>\n",
              "      <td>...</td>\n",
              "      <td>...</td>\n",
              "      <td>...</td>\n",
              "      <td>...</td>\n",
              "      <td>...</td>\n",
              "      <td>...</td>\n",
              "      <td>...</td>\n",
              "      <td>...</td>\n",
              "      <td>...</td>\n",
              "    </tr>\n",
              "    <tr>\n",
              "      <th>6662</th>\n",
              "      <td>Before 1903</td>\n",
              "      <td>0</td>\n",
              "      <td>Unprovoked</td>\n",
              "      <td>AUSTRALIA</td>\n",
              "      <td>Western Australia</td>\n",
              "      <td>Roebuck Bay</td>\n",
              "      <td>Diving</td>\n",
              "      <td>M</td>\n",
              "      <td>NaN</td>\n",
              "      <td>FATAL</td>\n",
              "      <td>Y</td>\n",
              "      <td>NaN</td>\n",
              "      <td>NaN</td>\n",
              "      <td>H. Taunton; N. Bartlett,  p. 234</td>\n",
              "      <td>ND.0005</td>\n",
              "      <td>6.0</td>\n",
              "    </tr>\n",
              "    <tr>\n",
              "      <th>6663</th>\n",
              "      <td>Before 1903</td>\n",
              "      <td>0</td>\n",
              "      <td>Unprovoked</td>\n",
              "      <td>AUSTRALIA</td>\n",
              "      <td>Western Australia</td>\n",
              "      <td>NaN</td>\n",
              "      <td>Pearl diving</td>\n",
              "      <td>M</td>\n",
              "      <td>NaN</td>\n",
              "      <td>FATAL</td>\n",
              "      <td>Y</td>\n",
              "      <td>NaN</td>\n",
              "      <td>NaN</td>\n",
              "      <td>H. Taunton; N. Bartlett,  pp. 233-234</td>\n",
              "      <td>ND.0004</td>\n",
              "      <td>5.0</td>\n",
              "    </tr>\n",
              "    <tr>\n",
              "      <th>6664</th>\n",
              "      <td>1900-1905</td>\n",
              "      <td>0</td>\n",
              "      <td>Unprovoked</td>\n",
              "      <td>USA</td>\n",
              "      <td>North Carolina</td>\n",
              "      <td>Ocracoke Inlet</td>\n",
              "      <td>Swimming</td>\n",
              "      <td>M</td>\n",
              "      <td>NaN</td>\n",
              "      <td>FATAL</td>\n",
              "      <td>Y</td>\n",
              "      <td>NaN</td>\n",
              "      <td>NaN</td>\n",
              "      <td>F. Schwartz, p.23; C. Creswell, GSAF</td>\n",
              "      <td>ND.0003</td>\n",
              "      <td>4.0</td>\n",
              "    </tr>\n",
              "    <tr>\n",
              "      <th>6665</th>\n",
              "      <td>1883-1889</td>\n",
              "      <td>0</td>\n",
              "      <td>Unprovoked</td>\n",
              "      <td>PANAMA</td>\n",
              "      <td>NaN</td>\n",
              "      <td>Panama Bay 8ºN, 79ºW</td>\n",
              "      <td>NaN</td>\n",
              "      <td>M</td>\n",
              "      <td>NaN</td>\n",
              "      <td>FATAL</td>\n",
              "      <td>Y</td>\n",
              "      <td>NaN</td>\n",
              "      <td>NaN</td>\n",
              "      <td>The Sun, 10/20/1938</td>\n",
              "      <td>ND.0002</td>\n",
              "      <td>3.0</td>\n",
              "    </tr>\n",
              "    <tr>\n",
              "      <th>6666</th>\n",
              "      <td>1845-1853</td>\n",
              "      <td>0</td>\n",
              "      <td>Unprovoked</td>\n",
              "      <td>CEYLON (SRI LANKA)</td>\n",
              "      <td>Eastern Province</td>\n",
              "      <td>Below the English fort, Trincomalee</td>\n",
              "      <td>Swimming</td>\n",
              "      <td>M</td>\n",
              "      <td>15</td>\n",
              "      <td>FATAL. \"Shark bit him in half, carrying away t...</td>\n",
              "      <td>Y</td>\n",
              "      <td>NaN</td>\n",
              "      <td>NaN</td>\n",
              "      <td>S.W. Baker</td>\n",
              "      <td>ND.0001</td>\n",
              "      <td>2.0</td>\n",
              "    </tr>\n",
              "  </tbody>\n",
              "</table>\n",
              "<p>130 rows × 16 columns</p>\n",
              "</div>"
            ],
            "text/plain": [
              "                      Date  Year  ...       Case Id original order\n",
              "534   Reported 08-Jan-2017     0  ...  2017.01.08.R         6134.0\n",
              "6441  Reported 19-Aug-1836     0  ...  1836.08.19.R          227.0\n",
              "6539          Ca. 214 B.C.     0  ...     0000.0214          129.0\n",
              "6540         Ca. 336.B.C..     0  ...     0000.0336          128.0\n",
              "6541              493 B.C.     0  ...     0000.0493          127.0\n",
              "...                    ...   ...  ...           ...            ...\n",
              "6662           Before 1903     0  ...       ND.0005            6.0\n",
              "6663           Before 1903     0  ...       ND.0004            5.0\n",
              "6664             1900-1905     0  ...       ND.0003            4.0\n",
              "6665             1883-1889     0  ...       ND.0002            3.0\n",
              "6666             1845-1853     0  ...       ND.0001            2.0\n",
              "\n",
              "[130 rows x 16 columns]"
            ]
          },
          "metadata": {
            "tags": []
          },
          "execution_count": 24
        }
      ]
    },
    {
      "cell_type": "code",
      "metadata": {
        "id": "L-pXYkaJ-n7F"
      },
      "source": [
        "# filling in NaNs in the Species column with 'unknown'\n",
        "sharks = sharks.rename(columns=({'Species ':'Species'}))\n",
        "sharks['Species'] = sharks['Species'].fillna('unknown')"
      ],
      "execution_count": 25,
      "outputs": []
    },
    {
      "cell_type": "code",
      "metadata": {
        "colab": {
          "base_uri": "https://localhost:8080/"
        },
        "id": "kdROZXmWCJQt",
        "outputId": "7f80249f-b4fc-4209-ef95-32868fc45567"
      },
      "source": [
        "sharks['Time'].value_counts()"
      ],
      "execution_count": 26,
      "outputs": [
        {
          "output_type": "execute_result",
          "data": {
            "text/plain": [
              "Afternoon                         204\n",
              "11h00                             136\n",
              "Morning                           128\n",
              "12h00                             117\n",
              "16h00                             115\n",
              "                                 ... \n",
              "2 hrs before sunset                 1\n",
              "Sometime between 06h00 & 08hoo      1\n",
              "Mid morning                         1\n",
              "night                               1\n",
              "16h14                               1\n",
              "Name: Time, Length: 390, dtype: int64"
            ]
          },
          "metadata": {
            "tags": []
          },
          "execution_count": 26
        }
      ]
    },
    {
      "cell_type": "code",
      "metadata": {
        "id": "oN6gx1I-BJPc"
      },
      "source": [
        "sharks['Time'] = sharks['Time'].fillna('Unknown')"
      ],
      "execution_count": 27,
      "outputs": []
    },
    {
      "cell_type": "code",
      "metadata": {
        "id": "xfSRfsIqBajq"
      },
      "source": [
        "sharks = sharks.rename(columns=({'Fatal (Y/N)' : 'Fatal'}))\n",
        "sharks['Fatal'] = sharks['Fatal'].fillna('unknown')"
      ],
      "execution_count": 28,
      "outputs": []
    },
    {
      "cell_type": "code",
      "metadata": {
        "colab": {
          "base_uri": "https://localhost:8080/"
        },
        "id": "9MJV3pwCec5K",
        "outputId": "e432196c-1e7a-4c09-c17f-6a52e63298b8"
      },
      "source": [
        "# fill in the rest of NaNs with 'unknown'\n",
        "sharks.isnull().sum()"
      ],
      "execution_count": 29,
      "outputs": [
        {
          "output_type": "execute_result",
          "data": {
            "text/plain": [
              "Date                         0\n",
              "Year                         0\n",
              "Type                         0\n",
              "Country                      0\n",
              "Area                       471\n",
              "Location                   552\n",
              "Activity                   563\n",
              "Sex                        574\n",
              "Age                       2923\n",
              "Injury                      32\n",
              "Fatal                        0\n",
              "Time                         0\n",
              "Species                      0\n",
              "Investigator or Source      18\n",
              "Case Id                      0\n",
              "original order               0\n",
              "dtype: int64"
            ]
          },
          "metadata": {
            "tags": []
          },
          "execution_count": 29
        }
      ]
    },
    {
      "cell_type": "code",
      "metadata": {
        "colab": {
          "base_uri": "https://localhost:8080/",
          "height": 774
        },
        "id": "TfjN5XEoSydE",
        "outputId": "0b4e0e7a-46b2-4d75-f630-0c2e663199e2"
      },
      "source": [
        "sharks['date_parsed'] = pd.to_datetime(sharks['Date'], infer_datetime_format=True)"
      ],
      "execution_count": 57,
      "outputs": [
        {
          "output_type": "error",
          "ename": "OutOfBoundsDatetime",
          "evalue": "ignored",
          "traceback": [
            "\u001b[0;31m---------------------------------------------------------------------------\u001b[0m",
            "\u001b[0;31mTypeError\u001b[0m                                 Traceback (most recent call last)",
            "\u001b[0;32m/usr/local/lib/python3.7/dist-packages/pandas/core/arrays/datetimes.py\u001b[0m in \u001b[0;36mobjects_to_datetime64ns\u001b[0;34m(data, dayfirst, yearfirst, utc, errors, require_iso8601, allow_object)\u001b[0m\n\u001b[1;32m   2058\u001b[0m         \u001b[0;32mtry\u001b[0m\u001b[0;34m:\u001b[0m\u001b[0;34m\u001b[0m\u001b[0;34m\u001b[0m\u001b[0m\n\u001b[0;32m-> 2059\u001b[0;31m             \u001b[0mvalues\u001b[0m\u001b[0;34m,\u001b[0m \u001b[0mtz_parsed\u001b[0m \u001b[0;34m=\u001b[0m \u001b[0mconversion\u001b[0m\u001b[0;34m.\u001b[0m\u001b[0mdatetime_to_datetime64\u001b[0m\u001b[0;34m(\u001b[0m\u001b[0mdata\u001b[0m\u001b[0;34m)\u001b[0m\u001b[0;34m\u001b[0m\u001b[0;34m\u001b[0m\u001b[0m\n\u001b[0m\u001b[1;32m   2060\u001b[0m             \u001b[0;31m# If tzaware, these values represent unix timestamps, so we\u001b[0m\u001b[0;34m\u001b[0m\u001b[0;34m\u001b[0m\u001b[0;34m\u001b[0m\u001b[0m\n",
            "\u001b[0;32mpandas/_libs/tslibs/conversion.pyx\u001b[0m in \u001b[0;36mpandas._libs.tslibs.conversion.datetime_to_datetime64\u001b[0;34m()\u001b[0m\n",
            "\u001b[0;31mTypeError\u001b[0m: Unrecognized value type: <class 'str'>",
            "\nDuring handling of the above exception, another exception occurred:\n",
            "\u001b[0;31mOutOfBoundsDatetime\u001b[0m                       Traceback (most recent call last)",
            "\u001b[0;32m<ipython-input-57-4ac08dd1e9dc>\u001b[0m in \u001b[0;36m<module>\u001b[0;34m()\u001b[0m\n\u001b[0;32m----> 1\u001b[0;31m \u001b[0msharks\u001b[0m\u001b[0;34m[\u001b[0m\u001b[0;34m'date_parsed'\u001b[0m\u001b[0;34m]\u001b[0m \u001b[0;34m=\u001b[0m \u001b[0mpd\u001b[0m\u001b[0;34m.\u001b[0m\u001b[0mto_datetime\u001b[0m\u001b[0;34m(\u001b[0m\u001b[0msharks\u001b[0m\u001b[0;34m[\u001b[0m\u001b[0;34m'Date'\u001b[0m\u001b[0;34m]\u001b[0m\u001b[0;34m,\u001b[0m \u001b[0minfer_datetime_format\u001b[0m\u001b[0;34m=\u001b[0m\u001b[0;32mTrue\u001b[0m\u001b[0;34m)\u001b[0m\u001b[0;34m\u001b[0m\u001b[0;34m\u001b[0m\u001b[0m\n\u001b[0m",
            "\u001b[0;32m/usr/local/lib/python3.7/dist-packages/pandas/core/tools/datetimes.py\u001b[0m in \u001b[0;36mto_datetime\u001b[0;34m(arg, errors, dayfirst, yearfirst, utc, format, exact, unit, infer_datetime_format, origin, cache)\u001b[0m\n\u001b[1;32m    801\u001b[0m             \u001b[0mresult\u001b[0m \u001b[0;34m=\u001b[0m \u001b[0marg\u001b[0m\u001b[0;34m.\u001b[0m\u001b[0mmap\u001b[0m\u001b[0;34m(\u001b[0m\u001b[0mcache_array\u001b[0m\u001b[0;34m)\u001b[0m\u001b[0;34m\u001b[0m\u001b[0;34m\u001b[0m\u001b[0m\n\u001b[1;32m    802\u001b[0m         \u001b[0;32melse\u001b[0m\u001b[0;34m:\u001b[0m\u001b[0;34m\u001b[0m\u001b[0;34m\u001b[0m\u001b[0m\n\u001b[0;32m--> 803\u001b[0;31m             \u001b[0mvalues\u001b[0m \u001b[0;34m=\u001b[0m \u001b[0mconvert_listlike\u001b[0m\u001b[0;34m(\u001b[0m\u001b[0marg\u001b[0m\u001b[0;34m.\u001b[0m\u001b[0m_values\u001b[0m\u001b[0;34m,\u001b[0m \u001b[0mformat\u001b[0m\u001b[0;34m)\u001b[0m\u001b[0;34m\u001b[0m\u001b[0;34m\u001b[0m\u001b[0m\n\u001b[0m\u001b[1;32m    804\u001b[0m             \u001b[0mresult\u001b[0m \u001b[0;34m=\u001b[0m \u001b[0marg\u001b[0m\u001b[0;34m.\u001b[0m\u001b[0m_constructor\u001b[0m\u001b[0;34m(\u001b[0m\u001b[0mvalues\u001b[0m\u001b[0;34m,\u001b[0m \u001b[0mindex\u001b[0m\u001b[0;34m=\u001b[0m\u001b[0marg\u001b[0m\u001b[0;34m.\u001b[0m\u001b[0mindex\u001b[0m\u001b[0;34m,\u001b[0m \u001b[0mname\u001b[0m\u001b[0;34m=\u001b[0m\u001b[0marg\u001b[0m\u001b[0;34m.\u001b[0m\u001b[0mname\u001b[0m\u001b[0;34m)\u001b[0m\u001b[0;34m\u001b[0m\u001b[0;34m\u001b[0m\u001b[0m\n\u001b[1;32m    805\u001b[0m     \u001b[0;32melif\u001b[0m \u001b[0misinstance\u001b[0m\u001b[0;34m(\u001b[0m\u001b[0marg\u001b[0m\u001b[0;34m,\u001b[0m \u001b[0;34m(\u001b[0m\u001b[0mABCDataFrame\u001b[0m\u001b[0;34m,\u001b[0m \u001b[0mabc\u001b[0m\u001b[0;34m.\u001b[0m\u001b[0mMutableMapping\u001b[0m\u001b[0;34m)\u001b[0m\u001b[0;34m)\u001b[0m\u001b[0;34m:\u001b[0m\u001b[0;34m\u001b[0m\u001b[0;34m\u001b[0m\u001b[0m\n",
            "\u001b[0;32m/usr/local/lib/python3.7/dist-packages/pandas/core/tools/datetimes.py\u001b[0m in \u001b[0;36m_convert_listlike_datetimes\u001b[0;34m(arg, format, name, tz, unit, errors, infer_datetime_format, dayfirst, yearfirst, exact)\u001b[0m\n\u001b[1;32m    464\u001b[0m             \u001b[0merrors\u001b[0m\u001b[0;34m=\u001b[0m\u001b[0merrors\u001b[0m\u001b[0;34m,\u001b[0m\u001b[0;34m\u001b[0m\u001b[0;34m\u001b[0m\u001b[0m\n\u001b[1;32m    465\u001b[0m             \u001b[0mrequire_iso8601\u001b[0m\u001b[0;34m=\u001b[0m\u001b[0mrequire_iso8601\u001b[0m\u001b[0;34m,\u001b[0m\u001b[0;34m\u001b[0m\u001b[0;34m\u001b[0m\u001b[0m\n\u001b[0;32m--> 466\u001b[0;31m             \u001b[0mallow_object\u001b[0m\u001b[0;34m=\u001b[0m\u001b[0;32mTrue\u001b[0m\u001b[0;34m,\u001b[0m\u001b[0;34m\u001b[0m\u001b[0;34m\u001b[0m\u001b[0m\n\u001b[0m\u001b[1;32m    467\u001b[0m         )\n\u001b[1;32m    468\u001b[0m \u001b[0;34m\u001b[0m\u001b[0m\n",
            "\u001b[0;32m/usr/local/lib/python3.7/dist-packages/pandas/core/arrays/datetimes.py\u001b[0m in \u001b[0;36mobjects_to_datetime64ns\u001b[0;34m(data, dayfirst, yearfirst, utc, errors, require_iso8601, allow_object)\u001b[0m\n\u001b[1;32m   2062\u001b[0m             \u001b[0;32mreturn\u001b[0m \u001b[0mvalues\u001b[0m\u001b[0;34m.\u001b[0m\u001b[0mview\u001b[0m\u001b[0;34m(\u001b[0m\u001b[0;34m\"i8\"\u001b[0m\u001b[0;34m)\u001b[0m\u001b[0;34m,\u001b[0m \u001b[0mtz_parsed\u001b[0m\u001b[0;34m\u001b[0m\u001b[0;34m\u001b[0m\u001b[0m\n\u001b[1;32m   2063\u001b[0m         \u001b[0;32mexcept\u001b[0m \u001b[0;34m(\u001b[0m\u001b[0mValueError\u001b[0m\u001b[0;34m,\u001b[0m \u001b[0mTypeError\u001b[0m\u001b[0;34m)\u001b[0m\u001b[0;34m:\u001b[0m\u001b[0;34m\u001b[0m\u001b[0;34m\u001b[0m\u001b[0m\n\u001b[0;32m-> 2064\u001b[0;31m             \u001b[0;32mraise\u001b[0m \u001b[0me\u001b[0m\u001b[0;34m\u001b[0m\u001b[0;34m\u001b[0m\u001b[0m\n\u001b[0m\u001b[1;32m   2065\u001b[0m \u001b[0;34m\u001b[0m\u001b[0m\n\u001b[1;32m   2066\u001b[0m     \u001b[0;32mif\u001b[0m \u001b[0mtz_parsed\u001b[0m \u001b[0;32mis\u001b[0m \u001b[0;32mnot\u001b[0m \u001b[0;32mNone\u001b[0m\u001b[0;34m:\u001b[0m\u001b[0;34m\u001b[0m\u001b[0;34m\u001b[0m\u001b[0m\n",
            "\u001b[0;32m/usr/local/lib/python3.7/dist-packages/pandas/core/arrays/datetimes.py\u001b[0m in \u001b[0;36mobjects_to_datetime64ns\u001b[0;34m(data, dayfirst, yearfirst, utc, errors, require_iso8601, allow_object)\u001b[0m\n\u001b[1;32m   2053\u001b[0m             \u001b[0mdayfirst\u001b[0m\u001b[0;34m=\u001b[0m\u001b[0mdayfirst\u001b[0m\u001b[0;34m,\u001b[0m\u001b[0;34m\u001b[0m\u001b[0;34m\u001b[0m\u001b[0m\n\u001b[1;32m   2054\u001b[0m             \u001b[0myearfirst\u001b[0m\u001b[0;34m=\u001b[0m\u001b[0myearfirst\u001b[0m\u001b[0;34m,\u001b[0m\u001b[0;34m\u001b[0m\u001b[0;34m\u001b[0m\u001b[0m\n\u001b[0;32m-> 2055\u001b[0;31m             \u001b[0mrequire_iso8601\u001b[0m\u001b[0;34m=\u001b[0m\u001b[0mrequire_iso8601\u001b[0m\u001b[0;34m,\u001b[0m\u001b[0;34m\u001b[0m\u001b[0;34m\u001b[0m\u001b[0m\n\u001b[0m\u001b[1;32m   2056\u001b[0m         )\n\u001b[1;32m   2057\u001b[0m     \u001b[0;32mexcept\u001b[0m \u001b[0mValueError\u001b[0m \u001b[0;32mas\u001b[0m \u001b[0me\u001b[0m\u001b[0;34m:\u001b[0m\u001b[0;34m\u001b[0m\u001b[0;34m\u001b[0m\u001b[0m\n",
            "\u001b[0;32mpandas/_libs/tslib.pyx\u001b[0m in \u001b[0;36mpandas._libs.tslib.array_to_datetime\u001b[0;34m()\u001b[0m\n",
            "\u001b[0;32mpandas/_libs/tslib.pyx\u001b[0m in \u001b[0;36mpandas._libs.tslib.array_to_datetime\u001b[0;34m()\u001b[0m\n",
            "\u001b[0;32mpandas/_libs/tslib.pyx\u001b[0m in \u001b[0;36mpandas._libs.tslib.array_to_datetime\u001b[0;34m()\u001b[0m\n",
            "\u001b[0;32mpandas/_libs/tslib.pyx\u001b[0m in \u001b[0;36mpandas._libs.tslib.array_to_datetime\u001b[0;34m()\u001b[0m\n",
            "\u001b[0;32mpandas/_libs/tslibs/conversion.pyx\u001b[0m in \u001b[0;36mpandas._libs.tslibs.conversion.convert_datetime_to_tsobject\u001b[0;34m()\u001b[0m\n",
            "\u001b[0;32mpandas/_libs/tslibs/np_datetime.pyx\u001b[0m in \u001b[0;36mpandas._libs.tslibs.np_datetime.check_dts_bounds\u001b[0;34m()\u001b[0m\n",
            "\u001b[0;31mOutOfBoundsDatetime\u001b[0m: Out of bounds nanosecond timestamp: 202-07-10 00:00:00"
          ]
        }
      ]
    },
    {
      "cell_type": "code",
      "metadata": {
        "colab": {
          "base_uri": "https://localhost:8080/",
          "height": 86
        },
        "id": "rlfyAAH9JUFn",
        "outputId": "f34306ec-80a0-40fe-b05c-6a37b10e63a2"
      },
      "source": [
        "sharks.loc[sharks['Date'] == '202-07-10 00:00:00', :]"
      ],
      "execution_count": 56,
      "outputs": [
        {
          "output_type": "execute_result",
          "data": {
            "text/html": [
              "<div>\n",
              "<style scoped>\n",
              "    .dataframe tbody tr th:only-of-type {\n",
              "        vertical-align: middle;\n",
              "    }\n",
              "\n",
              "    .dataframe tbody tr th {\n",
              "        vertical-align: top;\n",
              "    }\n",
              "\n",
              "    .dataframe thead th {\n",
              "        text-align: right;\n",
              "    }\n",
              "</style>\n",
              "<table border=\"1\" class=\"dataframe\">\n",
              "  <thead>\n",
              "    <tr style=\"text-align: right;\">\n",
              "      <th></th>\n",
              "      <th>Date</th>\n",
              "      <th>Year</th>\n",
              "      <th>Type</th>\n",
              "      <th>Country</th>\n",
              "      <th>Area</th>\n",
              "      <th>Location</th>\n",
              "      <th>Activity</th>\n",
              "      <th>Sex</th>\n",
              "      <th>Age</th>\n",
              "      <th>Injury</th>\n",
              "      <th>Fatal</th>\n",
              "      <th>Time</th>\n",
              "      <th>Species</th>\n",
              "      <th>Investigator or Source</th>\n",
              "      <th>Case Id</th>\n",
              "      <th>original order</th>\n",
              "    </tr>\n",
              "  </thead>\n",
              "  <tbody>\n",
              "  </tbody>\n",
              "</table>\n",
              "</div>"
            ],
            "text/plain": [
              "Empty DataFrame\n",
              "Columns: [Date, Year, Type, Country, Area, Location, Activity, Sex , Age, Injury, Fatal, Time, Species, Investigator or Source, Case Id, original order]\n",
              "Index: []"
            ]
          },
          "metadata": {
            "tags": []
          },
          "execution_count": 56
        }
      ]
    },
    {
      "cell_type": "code",
      "metadata": {
        "id": "FOyDQD-JIL4x"
      },
      "source": [
        "sharks['Date'] = sharks['Date'].replace('Reported 11-Jul-2021', '11-Jul-2021')\n",
        "sharks['Date'] = sharks['Date'].replace('202-07-10 00:00:00', '20-Jul-10')"
      ],
      "execution_count": 53,
      "outputs": []
    },
    {
      "cell_type": "code",
      "metadata": {
        "colab": {
          "base_uri": "https://localhost:8080/",
          "height": 774
        },
        "id": "Cq6SJ0XuEm9D",
        "outputId": "3fd3d43f-39de-49f5-c7a1-459f2fbfe302"
      },
      "source": [
        "sharks['Date'] = pd.to_datetime(sharks.Date)"
      ],
      "execution_count": 54,
      "outputs": [
        {
          "output_type": "error",
          "ename": "OutOfBoundsDatetime",
          "evalue": "ignored",
          "traceback": [
            "\u001b[0;31m---------------------------------------------------------------------------\u001b[0m",
            "\u001b[0;31mTypeError\u001b[0m                                 Traceback (most recent call last)",
            "\u001b[0;32m/usr/local/lib/python3.7/dist-packages/pandas/core/arrays/datetimes.py\u001b[0m in \u001b[0;36mobjects_to_datetime64ns\u001b[0;34m(data, dayfirst, yearfirst, utc, errors, require_iso8601, allow_object)\u001b[0m\n\u001b[1;32m   2058\u001b[0m         \u001b[0;32mtry\u001b[0m\u001b[0;34m:\u001b[0m\u001b[0;34m\u001b[0m\u001b[0;34m\u001b[0m\u001b[0m\n\u001b[0;32m-> 2059\u001b[0;31m             \u001b[0mvalues\u001b[0m\u001b[0;34m,\u001b[0m \u001b[0mtz_parsed\u001b[0m \u001b[0;34m=\u001b[0m \u001b[0mconversion\u001b[0m\u001b[0;34m.\u001b[0m\u001b[0mdatetime_to_datetime64\u001b[0m\u001b[0;34m(\u001b[0m\u001b[0mdata\u001b[0m\u001b[0;34m)\u001b[0m\u001b[0;34m\u001b[0m\u001b[0;34m\u001b[0m\u001b[0m\n\u001b[0m\u001b[1;32m   2060\u001b[0m             \u001b[0;31m# If tzaware, these values represent unix timestamps, so we\u001b[0m\u001b[0;34m\u001b[0m\u001b[0;34m\u001b[0m\u001b[0;34m\u001b[0m\u001b[0m\n",
            "\u001b[0;32mpandas/_libs/tslibs/conversion.pyx\u001b[0m in \u001b[0;36mpandas._libs.tslibs.conversion.datetime_to_datetime64\u001b[0;34m()\u001b[0m\n",
            "\u001b[0;31mTypeError\u001b[0m: Unrecognized value type: <class 'str'>",
            "\nDuring handling of the above exception, another exception occurred:\n",
            "\u001b[0;31mOutOfBoundsDatetime\u001b[0m                       Traceback (most recent call last)",
            "\u001b[0;32m<ipython-input-54-5a5eb2a1a151>\u001b[0m in \u001b[0;36m<module>\u001b[0;34m()\u001b[0m\n\u001b[0;32m----> 1\u001b[0;31m \u001b[0msharks\u001b[0m\u001b[0;34m[\u001b[0m\u001b[0;34m'Date'\u001b[0m\u001b[0;34m]\u001b[0m \u001b[0;34m=\u001b[0m \u001b[0mpd\u001b[0m\u001b[0;34m.\u001b[0m\u001b[0mto_datetime\u001b[0m\u001b[0;34m(\u001b[0m\u001b[0msharks\u001b[0m\u001b[0;34m.\u001b[0m\u001b[0mDate\u001b[0m\u001b[0;34m)\u001b[0m\u001b[0;34m\u001b[0m\u001b[0;34m\u001b[0m\u001b[0m\n\u001b[0m",
            "\u001b[0;32m/usr/local/lib/python3.7/dist-packages/pandas/core/tools/datetimes.py\u001b[0m in \u001b[0;36mto_datetime\u001b[0;34m(arg, errors, dayfirst, yearfirst, utc, format, exact, unit, infer_datetime_format, origin, cache)\u001b[0m\n\u001b[1;32m    801\u001b[0m             \u001b[0mresult\u001b[0m \u001b[0;34m=\u001b[0m \u001b[0marg\u001b[0m\u001b[0;34m.\u001b[0m\u001b[0mmap\u001b[0m\u001b[0;34m(\u001b[0m\u001b[0mcache_array\u001b[0m\u001b[0;34m)\u001b[0m\u001b[0;34m\u001b[0m\u001b[0;34m\u001b[0m\u001b[0m\n\u001b[1;32m    802\u001b[0m         \u001b[0;32melse\u001b[0m\u001b[0;34m:\u001b[0m\u001b[0;34m\u001b[0m\u001b[0;34m\u001b[0m\u001b[0m\n\u001b[0;32m--> 803\u001b[0;31m             \u001b[0mvalues\u001b[0m \u001b[0;34m=\u001b[0m \u001b[0mconvert_listlike\u001b[0m\u001b[0;34m(\u001b[0m\u001b[0marg\u001b[0m\u001b[0;34m.\u001b[0m\u001b[0m_values\u001b[0m\u001b[0;34m,\u001b[0m \u001b[0mformat\u001b[0m\u001b[0;34m)\u001b[0m\u001b[0;34m\u001b[0m\u001b[0;34m\u001b[0m\u001b[0m\n\u001b[0m\u001b[1;32m    804\u001b[0m             \u001b[0mresult\u001b[0m \u001b[0;34m=\u001b[0m \u001b[0marg\u001b[0m\u001b[0;34m.\u001b[0m\u001b[0m_constructor\u001b[0m\u001b[0;34m(\u001b[0m\u001b[0mvalues\u001b[0m\u001b[0;34m,\u001b[0m \u001b[0mindex\u001b[0m\u001b[0;34m=\u001b[0m\u001b[0marg\u001b[0m\u001b[0;34m.\u001b[0m\u001b[0mindex\u001b[0m\u001b[0;34m,\u001b[0m \u001b[0mname\u001b[0m\u001b[0;34m=\u001b[0m\u001b[0marg\u001b[0m\u001b[0;34m.\u001b[0m\u001b[0mname\u001b[0m\u001b[0;34m)\u001b[0m\u001b[0;34m\u001b[0m\u001b[0;34m\u001b[0m\u001b[0m\n\u001b[1;32m    805\u001b[0m     \u001b[0;32melif\u001b[0m \u001b[0misinstance\u001b[0m\u001b[0;34m(\u001b[0m\u001b[0marg\u001b[0m\u001b[0;34m,\u001b[0m \u001b[0;34m(\u001b[0m\u001b[0mABCDataFrame\u001b[0m\u001b[0;34m,\u001b[0m \u001b[0mabc\u001b[0m\u001b[0;34m.\u001b[0m\u001b[0mMutableMapping\u001b[0m\u001b[0;34m)\u001b[0m\u001b[0;34m)\u001b[0m\u001b[0;34m:\u001b[0m\u001b[0;34m\u001b[0m\u001b[0;34m\u001b[0m\u001b[0m\n",
            "\u001b[0;32m/usr/local/lib/python3.7/dist-packages/pandas/core/tools/datetimes.py\u001b[0m in \u001b[0;36m_convert_listlike_datetimes\u001b[0;34m(arg, format, name, tz, unit, errors, infer_datetime_format, dayfirst, yearfirst, exact)\u001b[0m\n\u001b[1;32m    464\u001b[0m             \u001b[0merrors\u001b[0m\u001b[0;34m=\u001b[0m\u001b[0merrors\u001b[0m\u001b[0;34m,\u001b[0m\u001b[0;34m\u001b[0m\u001b[0;34m\u001b[0m\u001b[0m\n\u001b[1;32m    465\u001b[0m             \u001b[0mrequire_iso8601\u001b[0m\u001b[0;34m=\u001b[0m\u001b[0mrequire_iso8601\u001b[0m\u001b[0;34m,\u001b[0m\u001b[0;34m\u001b[0m\u001b[0;34m\u001b[0m\u001b[0m\n\u001b[0;32m--> 466\u001b[0;31m             \u001b[0mallow_object\u001b[0m\u001b[0;34m=\u001b[0m\u001b[0;32mTrue\u001b[0m\u001b[0;34m,\u001b[0m\u001b[0;34m\u001b[0m\u001b[0;34m\u001b[0m\u001b[0m\n\u001b[0m\u001b[1;32m    467\u001b[0m         )\n\u001b[1;32m    468\u001b[0m \u001b[0;34m\u001b[0m\u001b[0m\n",
            "\u001b[0;32m/usr/local/lib/python3.7/dist-packages/pandas/core/arrays/datetimes.py\u001b[0m in \u001b[0;36mobjects_to_datetime64ns\u001b[0;34m(data, dayfirst, yearfirst, utc, errors, require_iso8601, allow_object)\u001b[0m\n\u001b[1;32m   2062\u001b[0m             \u001b[0;32mreturn\u001b[0m \u001b[0mvalues\u001b[0m\u001b[0;34m.\u001b[0m\u001b[0mview\u001b[0m\u001b[0;34m(\u001b[0m\u001b[0;34m\"i8\"\u001b[0m\u001b[0;34m)\u001b[0m\u001b[0;34m,\u001b[0m \u001b[0mtz_parsed\u001b[0m\u001b[0;34m\u001b[0m\u001b[0;34m\u001b[0m\u001b[0m\n\u001b[1;32m   2063\u001b[0m         \u001b[0;32mexcept\u001b[0m \u001b[0;34m(\u001b[0m\u001b[0mValueError\u001b[0m\u001b[0;34m,\u001b[0m \u001b[0mTypeError\u001b[0m\u001b[0;34m)\u001b[0m\u001b[0;34m:\u001b[0m\u001b[0;34m\u001b[0m\u001b[0;34m\u001b[0m\u001b[0m\n\u001b[0;32m-> 2064\u001b[0;31m             \u001b[0;32mraise\u001b[0m \u001b[0me\u001b[0m\u001b[0;34m\u001b[0m\u001b[0;34m\u001b[0m\u001b[0m\n\u001b[0m\u001b[1;32m   2065\u001b[0m \u001b[0;34m\u001b[0m\u001b[0m\n\u001b[1;32m   2066\u001b[0m     \u001b[0;32mif\u001b[0m \u001b[0mtz_parsed\u001b[0m \u001b[0;32mis\u001b[0m \u001b[0;32mnot\u001b[0m \u001b[0;32mNone\u001b[0m\u001b[0;34m:\u001b[0m\u001b[0;34m\u001b[0m\u001b[0;34m\u001b[0m\u001b[0m\n",
            "\u001b[0;32m/usr/local/lib/python3.7/dist-packages/pandas/core/arrays/datetimes.py\u001b[0m in \u001b[0;36mobjects_to_datetime64ns\u001b[0;34m(data, dayfirst, yearfirst, utc, errors, require_iso8601, allow_object)\u001b[0m\n\u001b[1;32m   2053\u001b[0m             \u001b[0mdayfirst\u001b[0m\u001b[0;34m=\u001b[0m\u001b[0mdayfirst\u001b[0m\u001b[0;34m,\u001b[0m\u001b[0;34m\u001b[0m\u001b[0;34m\u001b[0m\u001b[0m\n\u001b[1;32m   2054\u001b[0m             \u001b[0myearfirst\u001b[0m\u001b[0;34m=\u001b[0m\u001b[0myearfirst\u001b[0m\u001b[0;34m,\u001b[0m\u001b[0;34m\u001b[0m\u001b[0;34m\u001b[0m\u001b[0m\n\u001b[0;32m-> 2055\u001b[0;31m             \u001b[0mrequire_iso8601\u001b[0m\u001b[0;34m=\u001b[0m\u001b[0mrequire_iso8601\u001b[0m\u001b[0;34m,\u001b[0m\u001b[0;34m\u001b[0m\u001b[0;34m\u001b[0m\u001b[0m\n\u001b[0m\u001b[1;32m   2056\u001b[0m         )\n\u001b[1;32m   2057\u001b[0m     \u001b[0;32mexcept\u001b[0m \u001b[0mValueError\u001b[0m \u001b[0;32mas\u001b[0m \u001b[0me\u001b[0m\u001b[0;34m:\u001b[0m\u001b[0;34m\u001b[0m\u001b[0;34m\u001b[0m\u001b[0m\n",
            "\u001b[0;32mpandas/_libs/tslib.pyx\u001b[0m in \u001b[0;36mpandas._libs.tslib.array_to_datetime\u001b[0;34m()\u001b[0m\n",
            "\u001b[0;32mpandas/_libs/tslib.pyx\u001b[0m in \u001b[0;36mpandas._libs.tslib.array_to_datetime\u001b[0;34m()\u001b[0m\n",
            "\u001b[0;32mpandas/_libs/tslib.pyx\u001b[0m in \u001b[0;36mpandas._libs.tslib.array_to_datetime\u001b[0;34m()\u001b[0m\n",
            "\u001b[0;32mpandas/_libs/tslib.pyx\u001b[0m in \u001b[0;36mpandas._libs.tslib.array_to_datetime\u001b[0;34m()\u001b[0m\n",
            "\u001b[0;32mpandas/_libs/tslibs/conversion.pyx\u001b[0m in \u001b[0;36mpandas._libs.tslibs.conversion.convert_datetime_to_tsobject\u001b[0;34m()\u001b[0m\n",
            "\u001b[0;32mpandas/_libs/tslibs/np_datetime.pyx\u001b[0m in \u001b[0;36mpandas._libs.tslibs.np_datetime.check_dts_bounds\u001b[0;34m()\u001b[0m\n",
            "\u001b[0;31mOutOfBoundsDatetime\u001b[0m: Out of bounds nanosecond timestamp: 202-07-10 00:00:00"
          ]
        }
      ]
    },
    {
      "cell_type": "markdown",
      "metadata": {
        "id": "f2qTGw5GfYPf"
      },
      "source": [
        "]]"
      ]
    },
    {
      "cell_type": "code",
      "metadata": {
        "colab": {
          "base_uri": "https://localhost:8080/",
          "height": 326
        },
        "id": "Ce8JaDixepuP",
        "outputId": "f1f1afde-b368-4b83-9fd0-b8946ff42230"
      },
      "source": [
        "sharks.loc[sharks['Country'] == 'BELIZE', :]"
      ],
      "execution_count": 29,
      "outputs": [
        {
          "output_type": "execute_result",
          "data": {
            "text/html": [
              "<div>\n",
              "<style scoped>\n",
              "    .dataframe tbody tr th:only-of-type {\n",
              "        vertical-align: middle;\n",
              "    }\n",
              "\n",
              "    .dataframe tbody tr th {\n",
              "        vertical-align: top;\n",
              "    }\n",
              "\n",
              "    .dataframe thead th {\n",
              "        text-align: right;\n",
              "    }\n",
              "</style>\n",
              "<table border=\"1\" class=\"dataframe\">\n",
              "  <thead>\n",
              "    <tr style=\"text-align: right;\">\n",
              "      <th></th>\n",
              "      <th>Date</th>\n",
              "      <th>Year</th>\n",
              "      <th>Type</th>\n",
              "      <th>Country</th>\n",
              "      <th>Area</th>\n",
              "      <th>Location</th>\n",
              "      <th>Activity</th>\n",
              "      <th>Sex</th>\n",
              "      <th>Age</th>\n",
              "      <th>Injury</th>\n",
              "      <th>Fatal</th>\n",
              "      <th>Time</th>\n",
              "      <th>Species</th>\n",
              "      <th>Investigator or Source</th>\n",
              "      <th>Case Id</th>\n",
              "      <th>original order</th>\n",
              "    </tr>\n",
              "  </thead>\n",
              "  <tbody>\n",
              "    <tr>\n",
              "      <th>1040</th>\n",
              "      <td>Reported 21-Mar-2013</td>\n",
              "      <td>2013</td>\n",
              "      <td>Unprovoked</td>\n",
              "      <td>BELIZE</td>\n",
              "      <td>NaN</td>\n",
              "      <td>NaN</td>\n",
              "      <td>Snorkeling</td>\n",
              "      <td>F</td>\n",
              "      <td>NaN</td>\n",
              "      <td>Toe injured</td>\n",
              "      <td>N</td>\n",
              "      <td>Unknown</td>\n",
              "      <td>Nurse shark</td>\n",
              "      <td>H. Fairchild, The Lantern, 3/21/2013</td>\n",
              "      <td>2013.03.21.R</td>\n",
              "      <td>5628.0</td>\n",
              "    </tr>\n",
              "    <tr>\n",
              "      <th>1791</th>\n",
              "      <td>22-Aug-2006</td>\n",
              "      <td>2006</td>\n",
              "      <td>Invalid</td>\n",
              "      <td>BELIZE</td>\n",
              "      <td>Ambergris Caye</td>\n",
              "      <td>Near Ramon's Village</td>\n",
              "      <td>Spearfishing</td>\n",
              "      <td>M</td>\n",
              "      <td>34</td>\n",
              "      <td>Shark involvement prior to death not confirmed</td>\n",
              "      <td>unknown</td>\n",
              "      <td>Unknown</td>\n",
              "      <td>Shark involvement prior to death was not confi...</td>\n",
              "      <td>C. Johansson</td>\n",
              "      <td>2006.08.22.a</td>\n",
              "      <td>4877.0</td>\n",
              "    </tr>\n",
              "    <tr>\n",
              "      <th>6544</th>\n",
              "      <td>NaN</td>\n",
              "      <td>0</td>\n",
              "      <td>Unprovoked</td>\n",
              "      <td>BELIZE</td>\n",
              "      <td>NaN</td>\n",
              "      <td>NaN</td>\n",
              "      <td>NaN</td>\n",
              "      <td>M</td>\n",
              "      <td>NaN</td>\n",
              "      <td>NaN</td>\n",
              "      <td>N</td>\n",
              "      <td>Unknown</td>\n",
              "      <td>unknown</td>\n",
              "      <td>D. Grant, SRI</td>\n",
              "      <td>ND-0157</td>\n",
              "      <td>124.0</td>\n",
              "    </tr>\n",
              "    <tr>\n",
              "      <th>6641</th>\n",
              "      <td>Early 1930s</td>\n",
              "      <td>0</td>\n",
              "      <td>Unprovoked</td>\n",
              "      <td>BELIZE</td>\n",
              "      <td>NaN</td>\n",
              "      <td>NaN</td>\n",
              "      <td>Standing</td>\n",
              "      <td>M</td>\n",
              "      <td>16</td>\n",
              "      <td>FATAL</td>\n",
              "      <td>Y</td>\n",
              "      <td>Unknown</td>\n",
              "      <td>12' tiger shark</td>\n",
              "      <td>Mitchell-Hedges</td>\n",
              "      <td>ND.0026</td>\n",
              "      <td>27.0</td>\n",
              "    </tr>\n",
              "  </tbody>\n",
              "</table>\n",
              "</div>"
            ],
            "text/plain": [
              "                      Date  Year  ...       Case Id original order\n",
              "1040  Reported 21-Mar-2013  2013  ...  2013.03.21.R         5628.0\n",
              "1791           22-Aug-2006  2006  ...  2006.08.22.a         4877.0\n",
              "6544                   NaN     0  ...       ND-0157          124.0\n",
              "6641           Early 1930s     0  ...       ND.0026           27.0\n",
              "\n",
              "[4 rows x 16 columns]"
            ]
          },
          "metadata": {
            "tags": []
          },
          "execution_count": 29
        }
      ]
    },
    {
      "cell_type": "code",
      "metadata": {
        "colab": {
          "base_uri": "https://localhost:8080/"
        },
        "id": "aXpSpz71fzVz",
        "outputId": "fb5a11bf-eb19-4573-e9f2-723d9ffe0a03"
      },
      "source": [
        "sharks['original order'].count()"
      ],
      "execution_count": 30,
      "outputs": [
        {
          "output_type": "execute_result",
          "data": {
            "text/plain": [
              "6667"
            ]
          },
          "metadata": {
            "tags": []
          },
          "execution_count": 30
        }
      ]
    },
    {
      "cell_type": "code",
      "metadata": {
        "id": "bAQNkFI2Fc5p"
      },
      "source": [
        ""
      ],
      "execution_count": null,
      "outputs": []
    }
  ]
}