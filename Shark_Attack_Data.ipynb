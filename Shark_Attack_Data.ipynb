{
  "nbformat": 4,
  "nbformat_minor": 0,
  "metadata": {
    "colab": {
      "name": "Shark_Attack_Data.ipynb",
      "provenance": [],
      "mount_file_id": "1Q2W0UFJUcRqHC_IrXiAjCWWDVOqFapIw",
      "authorship_tag": "ABX9TyO05nnUg2i501Mct1lD7gSL",
      "include_colab_link": true
    },
    "kernelspec": {
      "name": "python3",
      "display_name": "Python 3"
    },
    "language_info": {
      "name": "python"
    }
  },
  "cells": [
    {
      "cell_type": "markdown",
      "metadata": {
        "id": "view-in-github",
        "colab_type": "text"
      },
      "source": [
        "<a href=\"https://colab.research.google.com/github/janaeam/Shark_Attack_Data/blob/main/Shark_Attack_Data.ipynb\" target=\"_parent\"><img src=\"https://colab.research.google.com/assets/colab-badge.svg\" alt=\"Open In Colab\"/></a>"
      ]
    },
    {
      "cell_type": "code",
      "metadata": {
        "id": "x0ieYJuSZD_e"
      },
      "source": [
        "import pandas as pd\n",
        "import numpy as np\n",
        "import matplotlib.pyplot as plt"
      ],
      "execution_count": 1,
      "outputs": []
    },
    {
      "cell_type": "code",
      "metadata": {
        "colab": {
          "base_uri": "https://localhost:8080/"
        },
        "id": "lC1kRWY4Fr8M",
        "outputId": "74809ffb-8342-48e2-cdbb-9a98cff70d7d"
      },
      "source": [
        "from google.colab import drive\n",
        "drive.mount('/content/drive')"
      ],
      "execution_count": 2,
      "outputs": [
        {
          "output_type": "stream",
          "text": [
            "Drive already mounted at /content/drive; to attempt to forcibly remount, call drive.mount(\"/content/drive\", force_remount=True).\n"
          ],
          "name": "stdout"
        }
      ]
    },
    {
      "cell_type": "code",
      "metadata": {
        "id": "QVTg375NYxI9"
      },
      "source": [
        "df = pd.read_excel('/content/drive/MyDrive/Coding Dojo/Week_7/Data/GSAF5.xls')"
      ],
      "execution_count": 3,
      "outputs": []
    },
    {
      "cell_type": "code",
      "metadata": {
        "colab": {
          "base_uri": "https://localhost:8080/",
          "height": 526
        },
        "id": "oKvxmA0uZLu2",
        "outputId": "7b380feb-ddb4-4b12-eee8-0e79ab239688"
      },
      "source": [
        "df.head()"
      ],
      "execution_count": 4,
      "outputs": [
        {
          "output_type": "execute_result",
          "data": {
            "text/html": [
              "<div>\n",
              "<style scoped>\n",
              "    .dataframe tbody tr th:only-of-type {\n",
              "        vertical-align: middle;\n",
              "    }\n",
              "\n",
              "    .dataframe tbody tr th {\n",
              "        vertical-align: top;\n",
              "    }\n",
              "\n",
              "    .dataframe thead th {\n",
              "        text-align: right;\n",
              "    }\n",
              "</style>\n",
              "<table border=\"1\" class=\"dataframe\">\n",
              "  <thead>\n",
              "    <tr style=\"text-align: right;\">\n",
              "      <th></th>\n",
              "      <th>Case Number</th>\n",
              "      <th>Date</th>\n",
              "      <th>Year</th>\n",
              "      <th>Type</th>\n",
              "      <th>Country</th>\n",
              "      <th>Area</th>\n",
              "      <th>Location</th>\n",
              "      <th>Activity</th>\n",
              "      <th>Name</th>\n",
              "      <th>Sex</th>\n",
              "      <th>Age</th>\n",
              "      <th>Injury</th>\n",
              "      <th>Fatal (Y/N)</th>\n",
              "      <th>Time</th>\n",
              "      <th>Species</th>\n",
              "      <th>Investigator or Source</th>\n",
              "      <th>pdf</th>\n",
              "      <th>href formula</th>\n",
              "      <th>href</th>\n",
              "      <th>Case Number.1</th>\n",
              "      <th>Case Number.2</th>\n",
              "      <th>original order</th>\n",
              "      <th>Unnamed: 22</th>\n",
              "      <th>Unnamed: 23</th>\n",
              "    </tr>\n",
              "  </thead>\n",
              "  <tbody>\n",
              "    <tr>\n",
              "      <th>0</th>\n",
              "      <td>2021.07.19</td>\n",
              "      <td>19-Jul-2021</td>\n",
              "      <td>2021.0</td>\n",
              "      <td>Unprovoked</td>\n",
              "      <td>AUSTRALIA</td>\n",
              "      <td>Western Australia</td>\n",
              "      <td>Rottnest Island</td>\n",
              "      <td>Surfing</td>\n",
              "      <td>male</td>\n",
              "      <td>M</td>\n",
              "      <td>NaN</td>\n",
              "      <td>No injury, knocked off board by shark</td>\n",
              "      <td>N</td>\n",
              "      <td>12h30</td>\n",
              "      <td>White shark, 3m</td>\n",
              "      <td>B. Myatt &amp; S. De Marchi, GSAF</td>\n",
              "      <td>2021.07.19-Rottnest.pdf</td>\n",
              "      <td>http://sharkattackfile.net/spreadsheets/pdf_di...</td>\n",
              "      <td>http://sharkattackfile.net/spreadsheets/pdf_di...</td>\n",
              "      <td>2021.07.19</td>\n",
              "      <td>2021.07.19</td>\n",
              "      <td>6668.0</td>\n",
              "      <td>NaN</td>\n",
              "      <td>NaN</td>\n",
              "    </tr>\n",
              "    <tr>\n",
              "      <th>1</th>\n",
              "      <td>2021.07.15</td>\n",
              "      <td>15-Jul-2021</td>\n",
              "      <td>2021.0</td>\n",
              "      <td>Unprovoked</td>\n",
              "      <td>USA</td>\n",
              "      <td>Florida</td>\n",
              "      <td>New Smyrna Beach, Volusia County</td>\n",
              "      <td>Boogie boarding</td>\n",
              "      <td>male</td>\n",
              "      <td>M</td>\n",
              "      <td>11</td>\n",
              "      <td>Leg bitten</td>\n",
              "      <td>N</td>\n",
              "      <td>16h30</td>\n",
              "      <td>NaN</td>\n",
              "      <td>K. McMurray, TrackingSharks.com</td>\n",
              "      <td>2021.07.15-NSB.pdf</td>\n",
              "      <td>http://sharkattackfile.net/spreadsheets/pdf_di...</td>\n",
              "      <td>http://sharkattackfile.net/spreadsheets/pdf_di...</td>\n",
              "      <td>2021.07.15</td>\n",
              "      <td>2021.07.15</td>\n",
              "      <td>6667.0</td>\n",
              "      <td>NaN</td>\n",
              "      <td>NaN</td>\n",
              "    </tr>\n",
              "    <tr>\n",
              "      <th>2</th>\n",
              "      <td>2021.07.14</td>\n",
              "      <td>14-Jul-2021</td>\n",
              "      <td>2021.0</td>\n",
              "      <td>Unprovoked</td>\n",
              "      <td>SOUTH AFRICA</td>\n",
              "      <td>Eastern Cape Province</td>\n",
              "      <td>Jeffrey's Bay</td>\n",
              "      <td>Surfing</td>\n",
              "      <td>male</td>\n",
              "      <td>M</td>\n",
              "      <td>38</td>\n",
              "      <td>Injuries to leg and torso</td>\n",
              "      <td>N</td>\n",
              "      <td>07h07</td>\n",
              "      <td>NaN</td>\n",
              "      <td>J. Marchard &amp; M. Michaelson, GSAF</td>\n",
              "      <td>2021.07.14-Jbay.pdf</td>\n",
              "      <td>http://sharkattackfile.net/spreadsheets/pdf_di...</td>\n",
              "      <td>http://sharkattackfile.net/spreadsheets/pdf_di...</td>\n",
              "      <td>2021.07.14</td>\n",
              "      <td>2021.07.14</td>\n",
              "      <td>6666.0</td>\n",
              "      <td>NaN</td>\n",
              "      <td>NaN</td>\n",
              "    </tr>\n",
              "    <tr>\n",
              "      <th>3</th>\n",
              "      <td>2021.07.11.R</td>\n",
              "      <td>Reported 11-Jul-2021</td>\n",
              "      <td>2021.0</td>\n",
              "      <td>Provoked</td>\n",
              "      <td>BAHAMAS</td>\n",
              "      <td>NaN</td>\n",
              "      <td>NaN</td>\n",
              "      <td>Jackass Team's publicity stunt for Discovery C...</td>\n",
              "      <td>Sean McInerney</td>\n",
              "      <td>M</td>\n",
              "      <td>NaN</td>\n",
              "      <td>Lacerations to right hand  PROVOKED INCIDENT</td>\n",
              "      <td>N</td>\n",
              "      <td>NaN</td>\n",
              "      <td>NaN</td>\n",
              "      <td>Yahoo.com, 7/11/2021</td>\n",
              "      <td>2021.07.11.R-McInerney.pdf</td>\n",
              "      <td>http://sharkattackfile.net/spreadsheets/pdf_di...</td>\n",
              "      <td>http://sharkattackfile.net/spreadsheets/pdf_di...</td>\n",
              "      <td>2021.07.11.R</td>\n",
              "      <td>2021.07.11.R</td>\n",
              "      <td>6665.0</td>\n",
              "      <td>NaN</td>\n",
              "      <td>NaN</td>\n",
              "    </tr>\n",
              "    <tr>\n",
              "      <th>4</th>\n",
              "      <td>2021.07.10.c</td>\n",
              "      <td>10-Jul-2021</td>\n",
              "      <td>2021.0</td>\n",
              "      <td>Unprovoked</td>\n",
              "      <td>USA</td>\n",
              "      <td>Florida</td>\n",
              "      <td>Bathtub Beach, Martin County</td>\n",
              "      <td>Playing</td>\n",
              "      <td>Amiya Lobb-Smith</td>\n",
              "      <td>F</td>\n",
              "      <td>9</td>\n",
              "      <td>Right foot bitten</td>\n",
              "      <td>N</td>\n",
              "      <td>16h39</td>\n",
              "      <td>Spinner shark, 4'?</td>\n",
              "      <td>J. Marchand, GSAF</td>\n",
              "      <td>2021.07.10.c-Lobb-Smith.pdf</td>\n",
              "      <td>http://sharkattackfile.net/spreadsheets/pdf_di...</td>\n",
              "      <td>http://sharkattackfile.net/spreadsheets/pdf_di...</td>\n",
              "      <td>2021.07.10.c</td>\n",
              "      <td>2021.07.10.c</td>\n",
              "      <td>6664.0</td>\n",
              "      <td>NaN</td>\n",
              "      <td>NaN</td>\n",
              "    </tr>\n",
              "  </tbody>\n",
              "</table>\n",
              "</div>"
            ],
            "text/plain": [
              "    Case Number                  Date  ...  Unnamed: 22 Unnamed: 23\n",
              "0    2021.07.19           19-Jul-2021  ...          NaN         NaN\n",
              "1    2021.07.15           15-Jul-2021  ...          NaN         NaN\n",
              "2    2021.07.14           14-Jul-2021  ...          NaN         NaN\n",
              "3  2021.07.11.R  Reported 11-Jul-2021  ...          NaN         NaN\n",
              "4  2021.07.10.c           10-Jul-2021  ...          NaN         NaN\n",
              "\n",
              "[5 rows x 24 columns]"
            ]
          },
          "metadata": {
            "tags": []
          },
          "execution_count": 4
        }
      ]
    },
    {
      "cell_type": "code",
      "metadata": {
        "colab": {
          "base_uri": "https://localhost:8080/"
        },
        "id": "jzZEJ9qQZNSO",
        "outputId": "e3966476-b71a-462e-ce6d-663abdb1a93e"
      },
      "source": [
        "df.info()"
      ],
      "execution_count": 5,
      "outputs": [
        {
          "output_type": "stream",
          "text": [
            "<class 'pandas.core.frame.DataFrame'>\n",
            "RangeIndex: 25815 entries, 0 to 25814\n",
            "Data columns (total 24 columns):\n",
            " #   Column                  Non-Null Count  Dtype  \n",
            "---  ------                  --------------  -----  \n",
            " 0   Case Number             8793 non-null   object \n",
            " 1   Date                    6666 non-null   object \n",
            " 2   Year                    6665 non-null   float64\n",
            " 3   Type                    6655 non-null   object \n",
            " 4   Country                 6617 non-null   object \n",
            " 5   Area                    6196 non-null   object \n",
            " 6   Location                6115 non-null   object \n",
            " 7   Activity                6104 non-null   object \n",
            " 8   Name                    6452 non-null   object \n",
            " 9   Sex                     6093 non-null   object \n",
            " 10  Age                     3744 non-null   object \n",
            " 11  Injury                  6635 non-null   object \n",
            " 12  Fatal (Y/N)             6115 non-null   object \n",
            " 13  Time                    3224 non-null   object \n",
            " 14  Species                 3669 non-null   object \n",
            " 15  Investigator or Source  6649 non-null   object \n",
            " 16  pdf                     6666 non-null   object \n",
            " 17  href formula            6663 non-null   object \n",
            " 18  href                    6665 non-null   object \n",
            " 19  Case Number.1           6666 non-null   object \n",
            " 20  Case Number.2           6666 non-null   object \n",
            " 21  original order          6667 non-null   float64\n",
            " 22  Unnamed: 22             1 non-null      object \n",
            " 23  Unnamed: 23             2 non-null      object \n",
            "dtypes: float64(2), object(22)\n",
            "memory usage: 4.7+ MB\n"
          ],
          "name": "stdout"
        }
      ]
    },
    {
      "cell_type": "markdown",
      "metadata": {
        "id": "hmc6v2CUduya"
      },
      "source": [
        "## df"
      ]
    },
    {
      "cell_type": "markdown",
      "metadata": {
        "id": "-QAZLEZiOwdm"
      },
      "source": [
        "- filter out empty columns and rows\n",
        "- check for *NaN* values\n",
        "- rename ***Case Number.1*** to ***Case Id*** to use as the index once EDA is completed and drop the remaining \"Case\" columns"
      ]
    },
    {
      "cell_type": "code",
      "metadata": {
        "colab": {
          "base_uri": "https://localhost:8080/"
        },
        "id": "_s-8XzNQ_eWw",
        "outputId": "dfd56bc3-2945-41a4-f676-ea1ab4879c25"
      },
      "source": [
        "df.columns"
      ],
      "execution_count": 6,
      "outputs": [
        {
          "output_type": "execute_result",
          "data": {
            "text/plain": [
              "Index(['Case Number', 'Date', 'Year', 'Type', 'Country', 'Area', 'Location',\n",
              "       'Activity', 'Name', 'Sex ', 'Age', 'Injury', 'Fatal (Y/N)', 'Time',\n",
              "       'Species ', 'Investigator or Source', 'pdf', 'href formula', 'href',\n",
              "       'Case Number.1', 'Case Number.2', 'original order', 'Unnamed: 22',\n",
              "       'Unnamed: 23'],\n",
              "      dtype='object')"
            ]
          },
          "metadata": {
            "tags": []
          },
          "execution_count": 6
        }
      ]
    },
    {
      "cell_type": "code",
      "metadata": {
        "colab": {
          "base_uri": "https://localhost:8080/",
          "height": 313
        },
        "id": "5UA3CmZQijRS",
        "outputId": "f0018a7e-abba-414e-c5e5-10a5862e25f2"
      },
      "source": [
        "# there are thousands of rows with no data I am going to delete those, but first\n",
        "#    I need to find the end...\n",
        "df[6665:6668]\n",
        "# There 6,667 rows of active information"
      ],
      "execution_count": 7,
      "outputs": [
        {
          "output_type": "execute_result",
          "data": {
            "text/html": [
              "<div>\n",
              "<style scoped>\n",
              "    .dataframe tbody tr th:only-of-type {\n",
              "        vertical-align: middle;\n",
              "    }\n",
              "\n",
              "    .dataframe tbody tr th {\n",
              "        vertical-align: top;\n",
              "    }\n",
              "\n",
              "    .dataframe thead th {\n",
              "        text-align: right;\n",
              "    }\n",
              "</style>\n",
              "<table border=\"1\" class=\"dataframe\">\n",
              "  <thead>\n",
              "    <tr style=\"text-align: right;\">\n",
              "      <th></th>\n",
              "      <th>Case Number</th>\n",
              "      <th>Date</th>\n",
              "      <th>Year</th>\n",
              "      <th>Type</th>\n",
              "      <th>Country</th>\n",
              "      <th>Area</th>\n",
              "      <th>Location</th>\n",
              "      <th>Activity</th>\n",
              "      <th>Name</th>\n",
              "      <th>Sex</th>\n",
              "      <th>Age</th>\n",
              "      <th>Injury</th>\n",
              "      <th>Fatal (Y/N)</th>\n",
              "      <th>Time</th>\n",
              "      <th>Species</th>\n",
              "      <th>Investigator or Source</th>\n",
              "      <th>pdf</th>\n",
              "      <th>href formula</th>\n",
              "      <th>href</th>\n",
              "      <th>Case Number.1</th>\n",
              "      <th>Case Number.2</th>\n",
              "      <th>original order</th>\n",
              "      <th>Unnamed: 22</th>\n",
              "      <th>Unnamed: 23</th>\n",
              "    </tr>\n",
              "  </thead>\n",
              "  <tbody>\n",
              "    <tr>\n",
              "      <th>6665</th>\n",
              "      <td>ND.0002</td>\n",
              "      <td>1883-1889</td>\n",
              "      <td>0.0</td>\n",
              "      <td>Unprovoked</td>\n",
              "      <td>PANAMA</td>\n",
              "      <td>NaN</td>\n",
              "      <td>Panama Bay 8ºN, 79ºW</td>\n",
              "      <td>NaN</td>\n",
              "      <td>Jules Patterson</td>\n",
              "      <td>M</td>\n",
              "      <td>NaN</td>\n",
              "      <td>FATAL</td>\n",
              "      <td>Y</td>\n",
              "      <td>NaN</td>\n",
              "      <td>NaN</td>\n",
              "      <td>The Sun, 10/20/1938</td>\n",
              "      <td>ND-0002-JulesPatterson.pdf</td>\n",
              "      <td>http://sharkattackfile.net/spreadsheets/pdf_di...</td>\n",
              "      <td>http://sharkattackfile.net/spreadsheets/pdf_di...</td>\n",
              "      <td>ND.0002</td>\n",
              "      <td>ND.0002</td>\n",
              "      <td>3.0</td>\n",
              "      <td>NaN</td>\n",
              "      <td>NaN</td>\n",
              "    </tr>\n",
              "    <tr>\n",
              "      <th>6666</th>\n",
              "      <td>ND.0001</td>\n",
              "      <td>1845-1853</td>\n",
              "      <td>0.0</td>\n",
              "      <td>Unprovoked</td>\n",
              "      <td>CEYLON (SRI LANKA)</td>\n",
              "      <td>Eastern Province</td>\n",
              "      <td>Below the English fort, Trincomalee</td>\n",
              "      <td>Swimming</td>\n",
              "      <td>male</td>\n",
              "      <td>M</td>\n",
              "      <td>15</td>\n",
              "      <td>FATAL. \"Shark bit him in half, carrying away t...</td>\n",
              "      <td>Y</td>\n",
              "      <td>NaN</td>\n",
              "      <td>NaN</td>\n",
              "      <td>S.W. Baker</td>\n",
              "      <td>ND-0001-Ceylon.pdf</td>\n",
              "      <td>http://sharkattackfile.net/spreadsheets/pdf_di...</td>\n",
              "      <td>http://sharkattackfile.net/spreadsheets/pdf_di...</td>\n",
              "      <td>ND.0001</td>\n",
              "      <td>ND.0001</td>\n",
              "      <td>2.0</td>\n",
              "      <td>NaN</td>\n",
              "      <td>NaN</td>\n",
              "    </tr>\n",
              "    <tr>\n",
              "      <th>6667</th>\n",
              "      <td>0</td>\n",
              "      <td>NaN</td>\n",
              "      <td>NaN</td>\n",
              "      <td>NaN</td>\n",
              "      <td>NaN</td>\n",
              "      <td>NaN</td>\n",
              "      <td>NaN</td>\n",
              "      <td>NaN</td>\n",
              "      <td>NaN</td>\n",
              "      <td>NaN</td>\n",
              "      <td>NaN</td>\n",
              "      <td>NaN</td>\n",
              "      <td>NaN</td>\n",
              "      <td>NaN</td>\n",
              "      <td>NaN</td>\n",
              "      <td>NaN</td>\n",
              "      <td>NaN</td>\n",
              "      <td>NaN</td>\n",
              "      <td>NaN</td>\n",
              "      <td>NaN</td>\n",
              "      <td>NaN</td>\n",
              "      <td>NaN</td>\n",
              "      <td>NaN</td>\n",
              "      <td>NaN</td>\n",
              "    </tr>\n",
              "  </tbody>\n",
              "</table>\n",
              "</div>"
            ],
            "text/plain": [
              "     Case Number       Date  Year  ... original order Unnamed: 22 Unnamed: 23\n",
              "6665     ND.0002  1883-1889   0.0  ...            3.0         NaN         NaN\n",
              "6666     ND.0001  1845-1853   0.0  ...            2.0         NaN         NaN\n",
              "6667           0        NaN   NaN  ...            NaN         NaN         NaN\n",
              "\n",
              "[3 rows x 24 columns]"
            ]
          },
          "metadata": {
            "tags": []
          },
          "execution_count": 7
        }
      ]
    },
    {
      "cell_type": "code",
      "metadata": {
        "colab": {
          "base_uri": "https://localhost:8080/",
          "height": 282
        },
        "id": "tdoOm8jSaXH0",
        "outputId": "42d57fe9-2157-4105-ece2-87cb7b4c773a"
      },
      "source": [
        "df = df[:6667]\n",
        "df.tail(2)"
      ],
      "execution_count": 8,
      "outputs": [
        {
          "output_type": "execute_result",
          "data": {
            "text/html": [
              "<div>\n",
              "<style scoped>\n",
              "    .dataframe tbody tr th:only-of-type {\n",
              "        vertical-align: middle;\n",
              "    }\n",
              "\n",
              "    .dataframe tbody tr th {\n",
              "        vertical-align: top;\n",
              "    }\n",
              "\n",
              "    .dataframe thead th {\n",
              "        text-align: right;\n",
              "    }\n",
              "</style>\n",
              "<table border=\"1\" class=\"dataframe\">\n",
              "  <thead>\n",
              "    <tr style=\"text-align: right;\">\n",
              "      <th></th>\n",
              "      <th>Case Number</th>\n",
              "      <th>Date</th>\n",
              "      <th>Year</th>\n",
              "      <th>Type</th>\n",
              "      <th>Country</th>\n",
              "      <th>Area</th>\n",
              "      <th>Location</th>\n",
              "      <th>Activity</th>\n",
              "      <th>Name</th>\n",
              "      <th>Sex</th>\n",
              "      <th>Age</th>\n",
              "      <th>Injury</th>\n",
              "      <th>Fatal (Y/N)</th>\n",
              "      <th>Time</th>\n",
              "      <th>Species</th>\n",
              "      <th>Investigator or Source</th>\n",
              "      <th>pdf</th>\n",
              "      <th>href formula</th>\n",
              "      <th>href</th>\n",
              "      <th>Case Number.1</th>\n",
              "      <th>Case Number.2</th>\n",
              "      <th>original order</th>\n",
              "      <th>Unnamed: 22</th>\n",
              "      <th>Unnamed: 23</th>\n",
              "    </tr>\n",
              "  </thead>\n",
              "  <tbody>\n",
              "    <tr>\n",
              "      <th>6665</th>\n",
              "      <td>ND.0002</td>\n",
              "      <td>1883-1889</td>\n",
              "      <td>0.0</td>\n",
              "      <td>Unprovoked</td>\n",
              "      <td>PANAMA</td>\n",
              "      <td>NaN</td>\n",
              "      <td>Panama Bay 8ºN, 79ºW</td>\n",
              "      <td>NaN</td>\n",
              "      <td>Jules Patterson</td>\n",
              "      <td>M</td>\n",
              "      <td>NaN</td>\n",
              "      <td>FATAL</td>\n",
              "      <td>Y</td>\n",
              "      <td>NaN</td>\n",
              "      <td>NaN</td>\n",
              "      <td>The Sun, 10/20/1938</td>\n",
              "      <td>ND-0002-JulesPatterson.pdf</td>\n",
              "      <td>http://sharkattackfile.net/spreadsheets/pdf_di...</td>\n",
              "      <td>http://sharkattackfile.net/spreadsheets/pdf_di...</td>\n",
              "      <td>ND.0002</td>\n",
              "      <td>ND.0002</td>\n",
              "      <td>3.0</td>\n",
              "      <td>NaN</td>\n",
              "      <td>NaN</td>\n",
              "    </tr>\n",
              "    <tr>\n",
              "      <th>6666</th>\n",
              "      <td>ND.0001</td>\n",
              "      <td>1845-1853</td>\n",
              "      <td>0.0</td>\n",
              "      <td>Unprovoked</td>\n",
              "      <td>CEYLON (SRI LANKA)</td>\n",
              "      <td>Eastern Province</td>\n",
              "      <td>Below the English fort, Trincomalee</td>\n",
              "      <td>Swimming</td>\n",
              "      <td>male</td>\n",
              "      <td>M</td>\n",
              "      <td>15</td>\n",
              "      <td>FATAL. \"Shark bit him in half, carrying away t...</td>\n",
              "      <td>Y</td>\n",
              "      <td>NaN</td>\n",
              "      <td>NaN</td>\n",
              "      <td>S.W. Baker</td>\n",
              "      <td>ND-0001-Ceylon.pdf</td>\n",
              "      <td>http://sharkattackfile.net/spreadsheets/pdf_di...</td>\n",
              "      <td>http://sharkattackfile.net/spreadsheets/pdf_di...</td>\n",
              "      <td>ND.0001</td>\n",
              "      <td>ND.0001</td>\n",
              "      <td>2.0</td>\n",
              "      <td>NaN</td>\n",
              "      <td>NaN</td>\n",
              "    </tr>\n",
              "  </tbody>\n",
              "</table>\n",
              "</div>"
            ],
            "text/plain": [
              "     Case Number       Date  Year  ... original order Unnamed: 22 Unnamed: 23\n",
              "6665     ND.0002  1883-1889   0.0  ...            3.0         NaN         NaN\n",
              "6666     ND.0001  1845-1853   0.0  ...            2.0         NaN         NaN\n",
              "\n",
              "[2 rows x 24 columns]"
            ]
          },
          "metadata": {
            "tags": []
          },
          "execution_count": 8
        }
      ]
    },
    {
      "cell_type": "code",
      "metadata": {
        "colab": {
          "base_uri": "https://localhost:8080/"
        },
        "id": "GWK7zurajAY9",
        "outputId": "a0c60c6e-6fb2-4aa8-d93e-713d0f023e12"
      },
      "source": [
        "df.isnull().sum()"
      ],
      "execution_count": 9,
      "outputs": [
        {
          "output_type": "execute_result",
          "data": {
            "text/plain": [
              "Case Number                  2\n",
              "Date                         1\n",
              "Year                         2\n",
              "Type                        12\n",
              "Country                     50\n",
              "Area                       471\n",
              "Location                   552\n",
              "Activity                   563\n",
              "Name                       215\n",
              "Sex                        574\n",
              "Age                       2923\n",
              "Injury                      32\n",
              "Fatal (Y/N)                552\n",
              "Time                      3443\n",
              "Species                   2998\n",
              "Investigator or Source      18\n",
              "pdf                          1\n",
              "href formula                 4\n",
              "href                         2\n",
              "Case Number.1                1\n",
              "Case Number.2                1\n",
              "original order               0\n",
              "Unnamed: 22               6666\n",
              "Unnamed: 23               6665\n",
              "dtype: int64"
            ]
          },
          "metadata": {
            "tags": []
          },
          "execution_count": 9
        }
      ]
    },
    {
      "cell_type": "code",
      "metadata": {
        "id": "-T70tNJfjNA9"
      },
      "source": [
        "df['Case Number.1'] = df['Case Number.1'].fillna('2020.05.26')"
      ],
      "execution_count": 10,
      "outputs": []
    },
    {
      "cell_type": "code",
      "metadata": {
        "id": "XEWsh2spxYiF"
      },
      "source": [
        "df.rename(columns={'Case Number.1' : 'Case Id'}, inplace=True)"
      ],
      "execution_count": 11,
      "outputs": []
    },
    {
      "cell_type": "code",
      "metadata": {
        "id": "UtPp9iHilJBu"
      },
      "source": [
        "df = df.drop(columns=(['Case Number', 'Case Number.2', 'Unnamed: 22', 'Unnamed: 23']))"
      ],
      "execution_count": 12,
      "outputs": []
    },
    {
      "cell_type": "markdown",
      "metadata": {
        "id": "4cfBrHKDJew9"
      },
      "source": [
        "## Sharks"
      ]
    },
    {
      "cell_type": "markdown",
      "metadata": {
        "id": "1tvYTauEJh4g"
      },
      "source": [
        "- filtering out obvious irrelevant columns by renaming dataframe to ***sharks***, leaving the original ***df*** for reference.\n",
        "\n",
        "- fix value errors for ***Country*** column by ensuring capitalization and spelling consistency.\n",
        "\n",
        "- fix ***Area*** and ***Location*** columns by ensuring the proper value is associated with the appropriate column. Some of the values are mixed between columns. Also, correct missing values by calling *Unkown* or *Unspecified*\n",
        "\n",
        "- analayze the value_counts() and fill *NaN* values of the ***Date*** and ***Year*** columns\n",
        "\n",
        "- analyze the value_counts() and correct inconsistencies of the ***Species*** and ***Fatal(Y/N)*** column"
      ]
    },
    {
      "cell_type": "code",
      "metadata": {
        "id": "cTN-n0fCZPhq",
        "colab": {
          "base_uri": "https://localhost:8080/"
        },
        "outputId": "aa03e8bd-add8-4eec-d7d5-bdc0c97c11a3"
      },
      "source": [
        "sharks = df.drop(columns=(['pdf', 'Name', 'href formula', 'href']))\n",
        "sharks.info()"
      ],
      "execution_count": 13,
      "outputs": [
        {
          "output_type": "stream",
          "text": [
            "<class 'pandas.core.frame.DataFrame'>\n",
            "RangeIndex: 6667 entries, 0 to 6666\n",
            "Data columns (total 16 columns):\n",
            " #   Column                  Non-Null Count  Dtype  \n",
            "---  ------                  --------------  -----  \n",
            " 0   Date                    6666 non-null   object \n",
            " 1   Year                    6665 non-null   float64\n",
            " 2   Type                    6655 non-null   object \n",
            " 3   Country                 6617 non-null   object \n",
            " 4   Area                    6196 non-null   object \n",
            " 5   Location                6115 non-null   object \n",
            " 6   Activity                6104 non-null   object \n",
            " 7   Sex                     6093 non-null   object \n",
            " 8   Age                     3744 non-null   object \n",
            " 9   Injury                  6635 non-null   object \n",
            " 10  Fatal (Y/N)             6115 non-null   object \n",
            " 11  Time                    3224 non-null   object \n",
            " 12  Species                 3669 non-null   object \n",
            " 13  Investigator or Source  6649 non-null   object \n",
            " 14  Case Id                 6667 non-null   object \n",
            " 15  original order          6667 non-null   float64\n",
            "dtypes: float64(2), object(14)\n",
            "memory usage: 833.5+ KB\n"
          ],
          "name": "stdout"
        }
      ]
    },
    {
      "cell_type": "code",
      "metadata": {
        "colab": {
          "base_uri": "https://localhost:8080/"
        },
        "id": "M9QvUP6YdGfN",
        "outputId": "35ba1bf3-1721-4855-8a32-a5592598a172"
      },
      "source": [
        "sharks.isnull().sum()"
      ],
      "execution_count": 14,
      "outputs": [
        {
          "output_type": "execute_result",
          "data": {
            "text/plain": [
              "Date                         1\n",
              "Year                         2\n",
              "Type                        12\n",
              "Country                     50\n",
              "Area                       471\n",
              "Location                   552\n",
              "Activity                   563\n",
              "Sex                        574\n",
              "Age                       2923\n",
              "Injury                      32\n",
              "Fatal (Y/N)                552\n",
              "Time                      3443\n",
              "Species                   2998\n",
              "Investigator or Source      18\n",
              "Case Id                      0\n",
              "original order               0\n",
              "dtype: int64"
            ]
          },
          "metadata": {
            "tags": []
          },
          "execution_count": 14
        }
      ]
    },
    {
      "cell_type": "code",
      "metadata": {
        "id": "hH6hwSQ3sj4F"
      },
      "source": [
        "sharks['Type'] = sharks['Type'].replace({'Unconfirmed' : 'Unverified',\n",
        "                                         'Under investigation' : 'Unverified',\n",
        "                                         'Questionable' : 'Unverified',\n",
        "                                         'Boat' : 'Watercraft'}).fillna('Unverified')"
      ],
      "execution_count": 15,
      "outputs": []
    },
    {
      "cell_type": "code",
      "metadata": {
        "colab": {
          "base_uri": "https://localhost:8080/"
        },
        "id": "1mixfkJvsB_M",
        "outputId": "d6a2cb90-2e4f-46bf-95a7-a3fe36274ef5"
      },
      "source": [
        "sharks['Type'].value_counts()"
      ],
      "execution_count": 16,
      "outputs": [
        {
          "output_type": "execute_result",
          "data": {
            "text/plain": [
              "Unprovoked      4885\n",
              "Provoked         607\n",
              "Invalid          552\n",
              "Watercraft       356\n",
              "Sea Disaster     240\n",
              "Unverified        27\n",
              "Name: Type, dtype: int64"
            ]
          },
          "metadata": {
            "tags": []
          },
          "execution_count": 16
        }
      ]
    },
    {
      "cell_type": "code",
      "metadata": {
        "colab": {
          "base_uri": "https://localhost:8080/"
        },
        "id": "o09Ke0_D_Yc4",
        "outputId": "ce13f153-8c24-46b0-c1fd-564bfaad6ce0"
      },
      "source": [
        "sharks['Country'].nunique()"
      ],
      "execution_count": 17,
      "outputs": [
        {
          "output_type": "execute_result",
          "data": {
            "text/plain": [
              "216"
            ]
          },
          "metadata": {
            "tags": []
          },
          "execution_count": 17
        }
      ]
    },
    {
      "cell_type": "code",
      "metadata": {
        "id": "UzuN5bq__1OR"
      },
      "source": [
        "sharks['Country'] = sharks['Country'].replace({' PHILIPPINES' : 'PHILIPPINES',\n",
        "                                               ' TONGA' : 'TONGA',\n",
        "                                               'ASIA?' : 'ASIA',\n",
        "                                               'ANDAMAN ISLANDS' : 'ANDAMAN AND NICOBAR ISLANDS',\n",
        "                                               'ANDAMAN / NICOBAR ISLANDAS' : 'ANDAMAN AND NICOBAR ISLANDS',\n",
        "                                               'BRITISH NEW GUINEA' : 'PAPUA NEW GUINEA',\n",
        "                                               'Between PORTUGAL & INDIA' : 'ATLANTIC OCEAN',\n",
        "                                               'CEYLON' : 'CEYLON (SRI LANKA)',\n",
        "                                               'COLUMBIA' : 'COLOMBIA',\n",
        "                                               'Coast of AFRICA' : 'SOUTH AFRICA',\n",
        "                                               'EGYPT ' : 'EGYPT',\n",
        "                                               'EGYPT / ISRAEL' : 'EGYPT',\n",
        "                                               'EQUATORIAL GUINEA / CAMEROON' : 'NEW GUINEA',\n",
        "                                               'GRAND CAYMAN' : 'CAYMAN ISLANDS',\n",
        "                                               'INDIAN OCEAN?' : 'INDIAN OCEAN',\n",
        "                                               'IRAN / IRAQ' : 'IRAN',\n",
        "                                               'ITALY / CROATIA' : 'ITALY',\n",
        "                                               'MALDIVE ISLANDS' : 'MALDIVES',\n",
        "                                               'MEXICO ' : 'MEXICO',\n",
        "                                               'MID ATLANTIC OCEAN' : 'ATLANTIC OCEAN',\n",
        "                                               'MID-PACIFIC OCEAN' : 'PACIFIC OCEAN',\n",
        "                                               'NICARAGUA ' : 'NICARAGUA',\n",
        "                                               'NORTH ATLANTIC OCEAN ' : 'NORTH ATLANTIC OCEAN',\n",
        "                                               'OCEAN' : 'OCEANIA',\n",
        "                                               'PACIFIC OCEAN ' : 'PACIFIC OCEAN',\n",
        "                                               'RED SEA / INDIAN OCEAN' : 'RED SEA',\n",
        "                                               'RED SEA?' : 'RED SEA',\n",
        "                                               'REUNION ISLAND' : 'REUNION',\n",
        "                                               'SOLOMON ISLANDS / VANUATU' : 'SOLOMON ISLANDS',\n",
        "                                               'SOUTH WEST PACIFIC OCEAN' : 'SOUTH PACIFIC OCEAN',\n",
        "                                               'ST HELENA, British overseas territory' : 'ST HELENA',\n",
        "                                               'ST KITTS / NEVIS' : 'ST KITTS',\n",
        "                                               'ST MARTIN' : 'ST MAARTEN',\n",
        "                                               'ST. MAARTIN' : 'ST MAARTEN',\n",
        "                                               'ST. MARTIN' : 'ST MAARTEN',\n",
        "                                               'SUDAN?' : 'SUDAN',\n",
        "                                               'THE BALKANS' : 'BALKANS',\n",
        "                                               'TRINIDAD & TOBAGO' : 'TOBAGO',\n",
        "                                               'UNITED ARAB EMIRATES (UAE)' : 'UNITED ARAB EMIRATES',\n",
        "                                               'BRITISH WEST INDIES' : 'WEST INDIES',\n",
        "                                               'WESTERN SAMOA' : 'SAMOA',\n",
        "                                               'Sierra Leone' : 'SIERRA LEONE',\n",
        "                                               'Seychelles' : 'SEYCHELLES',\n",
        "                                               'YEMEN ' : 'YEMEN'})"
      ],
      "execution_count": 18,
      "outputs": []
    },
    {
      "cell_type": "code",
      "metadata": {
        "colab": {
          "base_uri": "https://localhost:8080/"
        },
        "id": "QBgy6NmJ-Fjt",
        "outputId": "0c13a664-e584-4546-d79e-d98279c4643b"
      },
      "source": [
        "vc = sharks['Country'].value_counts()\n",
        "vc.sort_index()[90:110]"
      ],
      "execution_count": 19,
      "outputs": [
        {
          "output_type": "execute_result",
          "data": {
            "text/plain": [
              "MADAGASCAR               8\n",
              "MALAYSIA                 5\n",
              "MALDIVES                 3\n",
              "MALTA                    5\n",
              "MARSHALL ISLANDS        13\n",
              "MARTINIQUE               3\n",
              "MAURITIUS               10\n",
              "MAYOTTE                  1\n",
              "MEDITERRANEAN SEA        2\n",
              "MEXICO                  96\n",
              "MICRONESIA               3\n",
              "MID-PACIFC OCEAN         1\n",
              "MONACO                   1\n",
              "MONTENEGRO               3\n",
              "MOZAMBIQUE              46\n",
              "NAMIBIA                  2\n",
              "NETHERLANDS ANTILLES     1\n",
              "NEVIS                    1\n",
              "NEW BRITAIN              6\n",
              "NEW CALEDONIA           62\n",
              "Name: Country, dtype: int64"
            ]
          },
          "metadata": {
            "tags": []
          },
          "execution_count": 19
        }
      ]
    },
    {
      "cell_type": "code",
      "metadata": {
        "colab": {
          "base_uri": "https://localhost:8080/",
          "height": 676
        },
        "id": "W4AZBSYKBJkm",
        "outputId": "962ad3f2-0c55-425f-9a61-321ac7e0da9e"
      },
      "source": [
        "country = sharks.loc[sharks['Area']== 'California', :]\n",
        "country[20:30]"
      ],
      "execution_count": 20,
      "outputs": [
        {
          "output_type": "execute_result",
          "data": {
            "text/html": [
              "<div>\n",
              "<style scoped>\n",
              "    .dataframe tbody tr th:only-of-type {\n",
              "        vertical-align: middle;\n",
              "    }\n",
              "\n",
              "    .dataframe tbody tr th {\n",
              "        vertical-align: top;\n",
              "    }\n",
              "\n",
              "    .dataframe thead th {\n",
              "        text-align: right;\n",
              "    }\n",
              "</style>\n",
              "<table border=\"1\" class=\"dataframe\">\n",
              "  <thead>\n",
              "    <tr style=\"text-align: right;\">\n",
              "      <th></th>\n",
              "      <th>Date</th>\n",
              "      <th>Year</th>\n",
              "      <th>Type</th>\n",
              "      <th>Country</th>\n",
              "      <th>Area</th>\n",
              "      <th>Location</th>\n",
              "      <th>Activity</th>\n",
              "      <th>Sex</th>\n",
              "      <th>Age</th>\n",
              "      <th>Injury</th>\n",
              "      <th>Fatal (Y/N)</th>\n",
              "      <th>Time</th>\n",
              "      <th>Species</th>\n",
              "      <th>Investigator or Source</th>\n",
              "      <th>Case Id</th>\n",
              "      <th>original order</th>\n",
              "    </tr>\n",
              "  </thead>\n",
              "  <tbody>\n",
              "    <tr>\n",
              "      <th>404</th>\n",
              "      <td>24-Nov-2017</td>\n",
              "      <td>2017.0</td>\n",
              "      <td>Unprovoked</td>\n",
              "      <td>USA</td>\n",
              "      <td>California</td>\n",
              "      <td>Stillwater Cove, Monterey County</td>\n",
              "      <td>Spearfishing</td>\n",
              "      <td>M</td>\n",
              "      <td>25</td>\n",
              "      <td>Right leg bitten</td>\n",
              "      <td>N</td>\n",
              "      <td>13h45</td>\n",
              "      <td>White shark, 4.6 m</td>\n",
              "      <td>R. Collier, GSAF</td>\n",
              "      <td>2017.11.24</td>\n",
              "      <td>6264.0</td>\n",
              "    </tr>\n",
              "    <tr>\n",
              "      <th>450</th>\n",
              "      <td>01-Aug-2017</td>\n",
              "      <td>2017.0</td>\n",
              "      <td>Watercraft</td>\n",
              "      <td>USA</td>\n",
              "      <td>California</td>\n",
              "      <td>Between Pescadero Point &amp; Bean Hollow Beach, S...</td>\n",
              "      <td>Fishing</td>\n",
              "      <td>M</td>\n",
              "      <td>NaN</td>\n",
              "      <td>No injury, bow of kayak bitten</td>\n",
              "      <td>N</td>\n",
              "      <td>10h45</td>\n",
              "      <td>White shark, 10'</td>\n",
              "      <td>R. Collier, GSAF</td>\n",
              "      <td>2017.08.01</td>\n",
              "      <td>6218.0</td>\n",
              "    </tr>\n",
              "    <tr>\n",
              "      <th>461</th>\n",
              "      <td>20-Jul-2017</td>\n",
              "      <td>2017.0</td>\n",
              "      <td>Watercraft</td>\n",
              "      <td>USA</td>\n",
              "      <td>California</td>\n",
              "      <td>Stearns Wharf, Santa Barbara</td>\n",
              "      <td>Kayaking</td>\n",
              "      <td>M</td>\n",
              "      <td>40</td>\n",
              "      <td>No injury, kayak bitten</td>\n",
              "      <td>N</td>\n",
              "      <td>11h20</td>\n",
              "      <td>White shark, 11' to 13'</td>\n",
              "      <td>R. Collier, GSAF</td>\n",
              "      <td>2017.07.20.b</td>\n",
              "      <td>6207.0</td>\n",
              "    </tr>\n",
              "    <tr>\n",
              "      <th>462</th>\n",
              "      <td>20-Jul-2017</td>\n",
              "      <td>2017.0</td>\n",
              "      <td>Unprovoked</td>\n",
              "      <td>USA</td>\n",
              "      <td>California</td>\n",
              "      <td>Seal Rock, Goleta Beach, Santa Barbara</td>\n",
              "      <td>SUP</td>\n",
              "      <td>M</td>\n",
              "      <td>50</td>\n",
              "      <td>No injury, shark bit paddleboard</td>\n",
              "      <td>N</td>\n",
              "      <td>07h45</td>\n",
              "      <td>White shark, 8' to 10'</td>\n",
              "      <td>R. Collier, GSAF</td>\n",
              "      <td>2017/07.20.a</td>\n",
              "      <td>6206.0</td>\n",
              "    </tr>\n",
              "    <tr>\n",
              "      <th>465</th>\n",
              "      <td>11-Jul-2017</td>\n",
              "      <td>2017.0</td>\n",
              "      <td>Watercraft</td>\n",
              "      <td>USA</td>\n",
              "      <td>California</td>\n",
              "      <td>Santa Cruz, Santa Cruz County</td>\n",
              "      <td>Kayaking</td>\n",
              "      <td>M</td>\n",
              "      <td>NaN</td>\n",
              "      <td>No injury, kayak bitten</td>\n",
              "      <td>N</td>\n",
              "      <td>11h00</td>\n",
              "      <td>White shark</td>\n",
              "      <td>R. Collier, GSAF</td>\n",
              "      <td>2017.07.11</td>\n",
              "      <td>6203.0</td>\n",
              "    </tr>\n",
              "    <tr>\n",
              "      <th>490</th>\n",
              "      <td>03-May-2017</td>\n",
              "      <td>2017.0</td>\n",
              "      <td>Invalid</td>\n",
              "      <td>USA</td>\n",
              "      <td>California</td>\n",
              "      <td>Sunset Beach, Orange County</td>\n",
              "      <td>Surfing</td>\n",
              "      <td>F</td>\n",
              "      <td>18</td>\n",
              "      <td>Laceration to thigh, likely caused by surfboar...</td>\n",
              "      <td>NaN</td>\n",
              "      <td>14h30</td>\n",
              "      <td>Shark involvement highly doubtful</td>\n",
              "      <td>R. Collier, GSAF</td>\n",
              "      <td>2017.05.03</td>\n",
              "      <td>6178.0</td>\n",
              "    </tr>\n",
              "    <tr>\n",
              "      <th>491</th>\n",
              "      <td>29-Apr-2017</td>\n",
              "      <td>2017.0</td>\n",
              "      <td>Unprovoked</td>\n",
              "      <td>USA</td>\n",
              "      <td>California</td>\n",
              "      <td>San Onofre, San Diego County</td>\n",
              "      <td>Swimming</td>\n",
              "      <td>F</td>\n",
              "      <td>NaN</td>\n",
              "      <td>Major injury to posterior thigh</td>\n",
              "      <td>N</td>\n",
              "      <td>17h34</td>\n",
              "      <td>NaN</td>\n",
              "      <td>R. Collier, GSAF</td>\n",
              "      <td>2017.04.29.d</td>\n",
              "      <td>6177.0</td>\n",
              "    </tr>\n",
              "    <tr>\n",
              "      <th>514</th>\n",
              "      <td>18-Mar-2017</td>\n",
              "      <td>2017.0</td>\n",
              "      <td>Watercraft</td>\n",
              "      <td>USA</td>\n",
              "      <td>California</td>\n",
              "      <td>Monterey Bay</td>\n",
              "      <td>Kayaking</td>\n",
              "      <td>M</td>\n",
              "      <td>NaN</td>\n",
              "      <td>No injury, kayak bitten</td>\n",
              "      <td>N</td>\n",
              "      <td>14h30</td>\n",
              "      <td>White shark</td>\n",
              "      <td>R. Collier, GSAF</td>\n",
              "      <td>2017.03.18</td>\n",
              "      <td>6154.0</td>\n",
              "    </tr>\n",
              "    <tr>\n",
              "      <th>562</th>\n",
              "      <td>17-Sep-2016</td>\n",
              "      <td>2016.0</td>\n",
              "      <td>Unprovoked</td>\n",
              "      <td>USA</td>\n",
              "      <td>California</td>\n",
              "      <td>Bunkers, Humboldt Bay, Eureka, Humboldt County</td>\n",
              "      <td>Surfing</td>\n",
              "      <td>M</td>\n",
              "      <td>43</td>\n",
              "      <td>No injury, board bitten</td>\n",
              "      <td>N</td>\n",
              "      <td>After noon</td>\n",
              "      <td>NaN</td>\n",
              "      <td>R. Collier, GSAF</td>\n",
              "      <td>2016.09.17.b</td>\n",
              "      <td>6106.0</td>\n",
              "    </tr>\n",
              "    <tr>\n",
              "      <th>572</th>\n",
              "      <td>01-Sep-2016</td>\n",
              "      <td>2016.0</td>\n",
              "      <td>Unprovoked</td>\n",
              "      <td>USA</td>\n",
              "      <td>California</td>\n",
              "      <td>Refugio State Beach, Santa Barbara County</td>\n",
              "      <td>Spearfishing</td>\n",
              "      <td>M</td>\n",
              "      <td>22</td>\n",
              "      <td>Two toes broken &amp; lacerated</td>\n",
              "      <td>N</td>\n",
              "      <td>NaN</td>\n",
              "      <td>White shark, 8' to 10'</td>\n",
              "      <td>R. Collier, GSAF</td>\n",
              "      <td>2016.09.01</td>\n",
              "      <td>6096.0</td>\n",
              "    </tr>\n",
              "  </tbody>\n",
              "</table>\n",
              "</div>"
            ],
            "text/plain": [
              "            Date    Year  ...       Case Id original order\n",
              "404  24-Nov-2017  2017.0  ...    2017.11.24         6264.0\n",
              "450  01-Aug-2017  2017.0  ...    2017.08.01         6218.0\n",
              "461  20-Jul-2017  2017.0  ...  2017.07.20.b         6207.0\n",
              "462  20-Jul-2017  2017.0  ...  2017/07.20.a         6206.0\n",
              "465  11-Jul-2017  2017.0  ...    2017.07.11         6203.0\n",
              "490  03-May-2017  2017.0  ...    2017.05.03         6178.0\n",
              "491  29-Apr-2017  2017.0  ...  2017.04.29.d         6177.0\n",
              "514  18-Mar-2017  2017.0  ...    2017.03.18         6154.0\n",
              "562  17-Sep-2016  2016.0  ...  2016.09.17.b         6106.0\n",
              "572  01-Sep-2016  2016.0  ...    2016.09.01         6096.0\n",
              "\n",
              "[10 rows x 16 columns]"
            ]
          },
          "metadata": {
            "tags": []
          },
          "execution_count": 20
        }
      ]
    },
    {
      "cell_type": "code",
      "metadata": {
        "id": "-p4DkO2yi5c-"
      },
      "source": [
        "sharks.loc[sharks['Location']== 'Santa Cruz', 'Country'] = sharks.loc[sharks['Location']== 'Santa Cruz', 'Country'].fillna('USA')\n",
        "sharks.loc[sharks['Location']== 'Santa Cruz', 'Area'] = sharks.loc[sharks['Location']== 'Santa Cruz', 'Area'].fillna('California')"
      ],
      "execution_count": 21,
      "outputs": []
    },
    {
      "cell_type": "code",
      "metadata": {
        "id": "ABiH_5q3kZx7"
      },
      "source": [
        "sharks.loc[sharks['original order']== 496, :] = sharks.loc[sharks['original order']== 496, :].replace('Santa Cruz','Santa Cruz, Santa Cruz County')"
      ],
      "execution_count": 22,
      "outputs": []
    },
    {
      "cell_type": "code",
      "metadata": {
        "id": "Uls0uMENAOeP"
      },
      "source": [
        "sharks.loc[sharks['Area']=='English Channel', 'Country'] = sharks.loc[sharks['Area']=='English Channel', 'Country'].fillna('ENGLAND')\n",
        "sharks.loc[sharks['Location']=='Between St. Kitts & Nevis', ['Country', 'Area']] = sharks.loc[sharks['Location']=='Between St. Kitts & Nevis', ['Country', 'Area']].fillna('ST KITTS').replace('Caribbean Sea', 'The Narrows')\n",
        "sharks.loc[sharks['Location']=='Florida Strait', 'Country'] = sharks.loc[sharks['Location']=='Florida Strait', 'Country'].fillna('USA')\n",
        "sharks.loc[sharks['Location']=='Florida Strait', 'Area'] = sharks.loc[sharks['Location']=='Florida Strait', 'Area'].fillna('Florida')"
      ],
      "execution_count": 23,
      "outputs": []
    },
    {
      "cell_type": "code",
      "metadata": {
        "id": "s7u5Nh3GKH7j"
      },
      "source": [
        "sharks.loc[sharks['Area']=='Between Timor & Darwin, Australia', 'Country'] = sharks.loc[sharks['Area']=='Between Timor & Darwin, Australia', 'Country'].fillna('AUSTRALIA')\n",
        "sharks.loc[sharks['Area']=='Between Timor & Darwin, Australia', 'Location'] = sharks.loc[sharks['Area']=='Between Timor & Darwin, Australia', 'Location'].fillna('Darwin')"
      ],
      "execution_count": 24,
      "outputs": []
    },
    {
      "cell_type": "code",
      "metadata": {
        "id": "B3qCKRaIMvwW"
      },
      "source": [
        "sharks.loc[sharks['Area']=='Caribbean Sea', 'Country'] = sharks.loc[sharks['Area']=='Caribbean Sea', 'Country'].fillna('CARIBBEAN SEA')\n",
        "sharks.loc[sharks['Area']=='Near the Andaman & Nicobar Islands', 'Country'] = sharks.loc[sharks['Area']=='Near the Andaman & Nicobar Islands', 'Country'].fillna('ANDAMAN AND NICOBAR ISLANDS')\n",
        "sharks.loc[sharks['Area']=='Caribbean Sea', 'Country'] = sharks.loc[sharks['Area']=='Caribbean Sea', 'Country'].fillna('CARIBBEAN SEA')\n",
        "sharks.loc[sharks['Area']=='Between Comores & Madagascar', 'Country'] = sharks.loc[sharks['Area']=='Between Comores & Madagascar', 'Country'].fillna('COMOROS')"
      ],
      "execution_count": 25,
      "outputs": []
    },
    {
      "cell_type": "code",
      "metadata": {
        "id": "offr6z8YRVkz"
      },
      "source": [
        "sharks.loc[sharks['Location']=='225 miles east of Hong Kong', 'Country'] = sharks.loc[sharks['Location']=='225 miles east of Hong Kong', 'Country'].fillna('CHINA')\n",
        "sharks.loc[sharks['Location']=='225 miles east of Hong Kong', 'Area'] = sharks.loc[sharks['Location']=='225 miles east of Hong Kong', 'Area'].fillna('Hong Kong')\n",
        "sharks.loc[sharks['Area']== 'New Territories', :] = sharks.loc[sharks['Area']== 'New Territories', :].replace({'HONG KONG':'CHINA', 'New Territories':'Hong Kong'})\n",
        "sharks.loc[sharks['Area']== 'Mirs Bay ', ['Area','Location', 'Country']] = sharks.loc[sharks['Area']== 'Mirs Bay ', ['Area','Location', 'Country']].replace({'HONG KONG':'CHINA','Mirs Bay ':'Hong Kong'}).fillna('Mirs Bay')\n",
        "sharks.loc[sharks['Area']=='Ho Ha Wan Marine Park', 'Location'] = sharks.loc[sharks['Area']=='Ho Ha Wan Marine Park', 'Location'].fillna('Ho Ha Wan Marine Park')\n",
        "sharks.loc[sharks['Area']=='South China Sea 200 miles from Hong Kong', 'Location'] = sharks.loc[sharks['Area']=='South China Sea 200 miles from Hong Kong', 'Location'].fillna('South China Sea 200 miles from Hong Kong')\n",
        "sharks.loc[sharks['Country']=='HONG KONG', 'Area'] = sharks.loc[sharks['Country']=='HONG KONG', 'Area'].fillna('Hong Kong')\n",
        "sharks.loc[sharks['Country']=='HONG KONG', ['Country', 'Area', 'Location']] = sharks.loc[sharks['Country']=='HONG KONG', ['Country', 'Area', 'Location']].replace({'HONG KONG':'CHINA', \n",
        "                                                                                                                                                                   'Clearwater Bay':'Hong Kong',\n",
        "                                                                                                                                                                   'On the Kowloon penisula, south of Sai Kung':'Hong Kong',\n",
        "                                                                                                                                                                   'Kowloon Peninsula':'Hong Kong',\n",
        "                                                                                                                                                                   'Port Shelter':'Hong Kong',\n",
        "                                                                                                                                                                   'Ho Ha Wan Marine Park': 'Hong Kong',\n",
        "                                                                                                                                                                   'South China Sea 200 miles from Hong Kong':'Hong Kong',\n",
        "                                                                                                                                                                   'First Beach':'Clearwater Bay First Beach',\n",
        "                                                                                                                                                                   'Silverstrand':'Kowloon Peninsula, South of Sai Kung, Silverstrand',\n",
        "                                                                                                                                                                   'Sai Kung':'Kowloon Peninsula, Sai Kung',\n",
        "                                                                                                                                                                   'Silverstand Beach, near Hung Hau':'Port Shelter, Silverstrand Beach, near Hung Hau',\n",
        "                                                                                                                                                                   })"
      ],
      "execution_count": 26,
      "outputs": []
    },
    {
      "cell_type": "code",
      "metadata": {
        "id": "b4cGxwAgfNPx"
      },
      "source": [
        "sharks.loc[sharks['Country']=='CHINA', 'Area'] = sharks.loc[sharks['Country']=='CHINA', 'Area'].fillna('Macao')\n",
        "sharks.loc[sharks['Location']=='Macao Harbor', 'Fatal (Y/N)'] = sharks.loc[sharks['Location']=='Macao Harbor', 'Fatal (Y/N)'].fillna('N')"
      ],
      "execution_count": 27,
      "outputs": []
    },
    {
      "cell_type": "code",
      "metadata": {
        "id": "Wng9VQzelsbm"
      },
      "source": [
        "sharks.loc[sharks['Location']=='In a river feeding into the Bay of Bengal', 'Country'] = sharks.loc[sharks['Location']=='In a river feeding into the Bay of Bengal', 'Country'].fillna('INDIA')\n",
        "sharks.loc[sharks['Location']=='In a river feeding into the Bay of Bengal', 'Area'] = sharks.loc[sharks['Location']=='In a river feeding into the Bay of Bengal', 'Area'].fillna('Bay of Bengal')"
      ],
      "execution_count": 28,
      "outputs": []
    },
    {
      "cell_type": "code",
      "metadata": {
        "id": "GzTO5tUInkeQ"
      },
      "source": [
        "sharks.loc[sharks['Area']=='Ionian Sea', 'Country'] = sharks.loc[sharks['Area']=='Ionian Sea', 'Country'].fillna('GREECE')"
      ],
      "execution_count": 29,
      "outputs": []
    },
    {
      "cell_type": "code",
      "metadata": {
        "id": "guWvvhnJqFFi"
      },
      "source": [
        "sharks.loc[sharks['Area']=='St Helena', 'Country'] = sharks.loc[sharks['Area']=='St Helena', 'Country'].fillna('SOUTH ATLANTIC OCEAN')"
      ],
      "execution_count": 30,
      "outputs": []
    },
    {
      "cell_type": "code",
      "metadata": {
        "id": "_pJhYPekv2z8"
      },
      "source": [
        "sharks.loc[sharks['Location']=='Carlisle Bay', 'Country'] = sharks.loc[sharks['Location']=='Carlisle Bay', 'Country'].fillna('ANTIGUA')\n"
      ],
      "execution_count": 31,
      "outputs": []
    },
    {
      "cell_type": "code",
      "metadata": {
        "id": "7cPbuKjTxtU5"
      },
      "source": [
        "sharks.loc[sharks['Area']=='Western Banks', 'Country'] = sharks.loc[sharks['Area']=='Western Banks', 'Country'].fillna('USA')\n",
        "sharks.loc[sharks['Area']=='Western Banks', ['Area', 'Location']] = sharks.loc[sharks['Area']=='Western Banks', ['Area', 'Location']].replace('Western Banks','Maine').fillna('Western Banks')\n",
        "sharks.loc[sharks['Area']=='Gulf of California', 'Country'] = sharks.loc[sharks['Area']=='Gulf of California', 'Country'].fillna('MEXICO')\n",
        "sharks.loc[sharks['Area']=='Mediterranean Sea', 'Country'] = sharks.loc[sharks['Area']=='Mediterranean Sea', 'Country'].fillna('MEDITERRANEAN SEA')\n",
        "sharks.loc[sharks['Location']=='Île Saint-Paul', ['Country', 'Area']] = sharks.loc[sharks['Location']=='Île Saint-Paul', ['Country', 'Area']].fillna('CANADA').replace('French Southern Territories','Nova Scotia')\n"
      ],
      "execution_count": 32,
      "outputs": []
    },
    {
      "cell_type": "code",
      "metadata": {
        "id": "prMB-ooL3X8t"
      },
      "source": [
        "sharks.loc[sharks['Area']=='300 miles east of St. Thomas (Virgin Islands)', 'Country'] = sharks.loc[sharks['Area']=='300 miles east of St. Thomas (Virgin Islands)', 'Country'].fillna('NORTH ATLANTIC OCEAN')"
      ],
      "execution_count": 33,
      "outputs": []
    },
    {
      "cell_type": "code",
      "metadata": {
        "colab": {
          "base_uri": "https://localhost:8080/",
          "height": 536
        },
        "id": "XgCsoXApu6nD",
        "outputId": "173c007f-ddde-4e50-ee53-8c46effb6fef"
      },
      "source": [
        "sharks.loc[sharks['Country'] == 'NORTH ATLANTIC OCEAN', :]"
      ],
      "execution_count": 34,
      "outputs": [
        {
          "output_type": "execute_result",
          "data": {
            "text/html": [
              "<div>\n",
              "<style scoped>\n",
              "    .dataframe tbody tr th:only-of-type {\n",
              "        vertical-align: middle;\n",
              "    }\n",
              "\n",
              "    .dataframe tbody tr th {\n",
              "        vertical-align: top;\n",
              "    }\n",
              "\n",
              "    .dataframe thead th {\n",
              "        text-align: right;\n",
              "    }\n",
              "</style>\n",
              "<table border=\"1\" class=\"dataframe\">\n",
              "  <thead>\n",
              "    <tr style=\"text-align: right;\">\n",
              "      <th></th>\n",
              "      <th>Date</th>\n",
              "      <th>Year</th>\n",
              "      <th>Type</th>\n",
              "      <th>Country</th>\n",
              "      <th>Area</th>\n",
              "      <th>Location</th>\n",
              "      <th>Activity</th>\n",
              "      <th>Sex</th>\n",
              "      <th>Age</th>\n",
              "      <th>Injury</th>\n",
              "      <th>Fatal (Y/N)</th>\n",
              "      <th>Time</th>\n",
              "      <th>Species</th>\n",
              "      <th>Investigator or Source</th>\n",
              "      <th>Case Id</th>\n",
              "      <th>original order</th>\n",
              "    </tr>\n",
              "  </thead>\n",
              "  <tbody>\n",
              "    <tr>\n",
              "      <th>3433</th>\n",
              "      <td>Summer 1980</td>\n",
              "      <td>1980.0</td>\n",
              "      <td>Provoked</td>\n",
              "      <td>NORTH ATLANTIC OCEAN</td>\n",
              "      <td>NaN</td>\n",
              "      <td>Onboard swordfish trawler</td>\n",
              "      <td>Gaffing netted shark</td>\n",
              "      <td>M</td>\n",
              "      <td>34</td>\n",
              "      <td>Arm lacerated by gaffed shark PROVOKED INCIDENT</td>\n",
              "      <td>N</td>\n",
              "      <td>NaN</td>\n",
              "      <td>1.8 m [6'] dogfish</td>\n",
              "      <td>A. Resciniti, pp.105-106</td>\n",
              "      <td>1980.00.00.d</td>\n",
              "      <td>3235.0</td>\n",
              "    </tr>\n",
              "    <tr>\n",
              "      <th>4444</th>\n",
              "      <td>Late Jul-1959</td>\n",
              "      <td>1959.0</td>\n",
              "      <td>Watercraft</td>\n",
              "      <td>NORTH ATLANTIC OCEAN</td>\n",
              "      <td>In the Gulf Stream</td>\n",
              "      <td>Between Bimini &amp; Miami</td>\n",
              "      <td>NaN</td>\n",
              "      <td>NaN</td>\n",
              "      <td>NaN</td>\n",
              "      <td>No injury to occupant, shark bit propeller as ...</td>\n",
              "      <td>N</td>\n",
              "      <td>NaN</td>\n",
              "      <td>Oceanic whitetip shark,1.8 m [6']</td>\n",
              "      <td>J. Randall in Sharks &amp; Survival, p.356</td>\n",
              "      <td>1959.07.00.b</td>\n",
              "      <td>2224.0</td>\n",
              "    </tr>\n",
              "    <tr>\n",
              "      <th>4645</th>\n",
              "      <td>Aug-1955</td>\n",
              "      <td>1955.0</td>\n",
              "      <td>Unprovoked</td>\n",
              "      <td>NORTH ATLANTIC OCEAN</td>\n",
              "      <td>Open sea</td>\n",
              "      <td>NaN</td>\n",
              "      <td>Treading water</td>\n",
              "      <td>M</td>\n",
              "      <td>15</td>\n",
              "      <td>No injury</td>\n",
              "      <td>N</td>\n",
              "      <td>Early afternoon</td>\n",
              "      <td>NaN</td>\n",
              "      <td>H.D.Baldridge (1994), SAF Case #1489</td>\n",
              "      <td>1955.08.00.c</td>\n",
              "      <td>2023.0</td>\n",
              "    </tr>\n",
              "    <tr>\n",
              "      <th>4792</th>\n",
              "      <td>05-Oct-1951</td>\n",
              "      <td>1951.0</td>\n",
              "      <td>Invalid</td>\n",
              "      <td>NORTH ATLANTIC OCEAN</td>\n",
              "      <td>South Carolina</td>\n",
              "      <td>400 miles off the le</td>\n",
              "      <td>cargo ship Southern Isle sank at 04h00</td>\n",
              "      <td>NaN</td>\n",
              "      <td>NaN</td>\n",
              "      <td>Sharks fed on bodies of the drowned</td>\n",
              "      <td>NaN</td>\n",
              "      <td>NaN</td>\n",
              "      <td>Shark involvement prior to death was not confi...</td>\n",
              "      <td>J. Waters, U.S. Coast Guard; San Mateo Times, ...</td>\n",
              "      <td>1951.10.05</td>\n",
              "      <td>1876.0</td>\n",
              "    </tr>\n",
              "    <tr>\n",
              "      <th>5072</th>\n",
              "      <td>Jun-1942</td>\n",
              "      <td>1942.0</td>\n",
              "      <td>Unprovoked</td>\n",
              "      <td>NORTH ATLANTIC OCEAN</td>\n",
              "      <td>300 miles east of St. Thomas (Virgin Islands)</td>\n",
              "      <td>NaN</td>\n",
              "      <td>On life raft tethered to lifeboat. A seaman pu...</td>\n",
              "      <td>M</td>\n",
              "      <td>NaN</td>\n",
              "      <td>Forearm lacerated</td>\n",
              "      <td>N</td>\n",
              "      <td>NaN</td>\n",
              "      <td>NaN</td>\n",
              "      <td>V.M. Coppleson (1962), p.258</td>\n",
              "      <td>1942.06.00</td>\n",
              "      <td>1596.0</td>\n",
              "    </tr>\n",
              "    <tr>\n",
              "      <th>5758</th>\n",
              "      <td>28-Nov-1910</td>\n",
              "      <td>1910.0</td>\n",
              "      <td>Provoked</td>\n",
              "      <td>NORTH ATLANTIC OCEAN</td>\n",
              "      <td>Georges Bank</td>\n",
              "      <td>NaN</td>\n",
              "      <td>Fishing</td>\n",
              "      <td>M</td>\n",
              "      <td>NaN</td>\n",
              "      <td>Right hand severely bitten by netted shark PRO...</td>\n",
              "      <td>N</td>\n",
              "      <td>NaN</td>\n",
              "      <td>Angel shark</td>\n",
              "      <td>NY Times, 11/30/1910</td>\n",
              "      <td>1910.11.28</td>\n",
              "      <td>910.0</td>\n",
              "    </tr>\n",
              "  </tbody>\n",
              "</table>\n",
              "</div>"
            ],
            "text/plain": [
              "               Date    Year  ...       Case Id original order\n",
              "3433    Summer 1980  1980.0  ...  1980.00.00.d         3235.0\n",
              "4444  Late Jul-1959  1959.0  ...  1959.07.00.b         2224.0\n",
              "4645       Aug-1955  1955.0  ...  1955.08.00.c         2023.0\n",
              "4792    05-Oct-1951  1951.0  ...    1951.10.05         1876.0\n",
              "5072       Jun-1942  1942.0  ...    1942.06.00         1596.0\n",
              "5758    28-Nov-1910  1910.0  ...    1910.11.28          910.0\n",
              "\n",
              "[6 rows x 16 columns]"
            ]
          },
          "metadata": {
            "tags": []
          },
          "execution_count": 34
        }
      ]
    },
    {
      "cell_type": "code",
      "metadata": {
        "colab": {
          "base_uri": "https://localhost:8080/",
          "height": 1000
        },
        "id": "qDfViLw6-ZqF",
        "outputId": "c31dd0bd-c954-4f0a-dd2f-f3224123ccc2"
      },
      "source": [
        " sharks.loc[sharks['Country'].isna(), :]\n",
        " "
      ],
      "execution_count": 35,
      "outputs": [
        {
          "output_type": "execute_result",
          "data": {
            "text/html": [
              "<div>\n",
              "<style scoped>\n",
              "    .dataframe tbody tr th:only-of-type {\n",
              "        vertical-align: middle;\n",
              "    }\n",
              "\n",
              "    .dataframe tbody tr th {\n",
              "        vertical-align: top;\n",
              "    }\n",
              "\n",
              "    .dataframe thead th {\n",
              "        text-align: right;\n",
              "    }\n",
              "</style>\n",
              "<table border=\"1\" class=\"dataframe\">\n",
              "  <thead>\n",
              "    <tr style=\"text-align: right;\">\n",
              "      <th></th>\n",
              "      <th>Date</th>\n",
              "      <th>Year</th>\n",
              "      <th>Type</th>\n",
              "      <th>Country</th>\n",
              "      <th>Area</th>\n",
              "      <th>Location</th>\n",
              "      <th>Activity</th>\n",
              "      <th>Sex</th>\n",
              "      <th>Age</th>\n",
              "      <th>Injury</th>\n",
              "      <th>Fatal (Y/N)</th>\n",
              "      <th>Time</th>\n",
              "      <th>Species</th>\n",
              "      <th>Investigator or Source</th>\n",
              "      <th>Case Id</th>\n",
              "      <th>original order</th>\n",
              "    </tr>\n",
              "  </thead>\n",
              "  <tbody>\n",
              "    <tr>\n",
              "      <th>406</th>\n",
              "      <td>Reported 13-Nov-2017</td>\n",
              "      <td>2017.0</td>\n",
              "      <td>Unprovoked</td>\n",
              "      <td>NaN</td>\n",
              "      <td>NaN</td>\n",
              "      <td>NaN</td>\n",
              "      <td>Surfing</td>\n",
              "      <td>M</td>\n",
              "      <td>24</td>\n",
              "      <td>Puncture wounds to feet</td>\n",
              "      <td>N</td>\n",
              "      <td>NaN</td>\n",
              "      <td>NaN</td>\n",
              "      <td>Instagram</td>\n",
              "      <td>2017.11.13.R</td>\n",
              "      <td>6262.0</td>\n",
              "    </tr>\n",
              "    <tr>\n",
              "      <th>873</th>\n",
              "      <td>Aug-2014</td>\n",
              "      <td>2014.0</td>\n",
              "      <td>Invalid</td>\n",
              "      <td>NaN</td>\n",
              "      <td>NaN</td>\n",
              "      <td>NaN</td>\n",
              "      <td>Sea disaster</td>\n",
              "      <td>M</td>\n",
              "      <td>NaN</td>\n",
              "      <td>Shark involvement prior to death not confirmed</td>\n",
              "      <td>NaN</td>\n",
              "      <td>NaN</td>\n",
              "      <td>Shark involvement not confirmed</td>\n",
              "      <td>Associated Press, 11/27/2014</td>\n",
              "      <td>2014.08.00</td>\n",
              "      <td>5795.0</td>\n",
              "    </tr>\n",
              "    <tr>\n",
              "      <th>3735</th>\n",
              "      <td>Nov-1970</td>\n",
              "      <td>1970.0</td>\n",
              "      <td>Unprovoked</td>\n",
              "      <td>NaN</td>\n",
              "      <td>NaN</td>\n",
              "      <td>NaN</td>\n",
              "      <td>NaN</td>\n",
              "      <td>M</td>\n",
              "      <td>NaN</td>\n",
              "      <td>Extensive injuries</td>\n",
              "      <td>N</td>\n",
              "      <td>NaN</td>\n",
              "      <td>NaN</td>\n",
              "      <td>H.D. Baldridge (1994), SAF Case #1645</td>\n",
              "      <td>1970.11.00</td>\n",
              "      <td>2933.0</td>\n",
              "    </tr>\n",
              "    <tr>\n",
              "      <th>3745</th>\n",
              "      <td>5-Jul-1970</td>\n",
              "      <td>1970.0</td>\n",
              "      <td>Unprovoked</td>\n",
              "      <td>NaN</td>\n",
              "      <td>NaN</td>\n",
              "      <td>NaN</td>\n",
              "      <td>NaN</td>\n",
              "      <td>M</td>\n",
              "      <td>NaN</td>\n",
              "      <td>Finger or toe severed</td>\n",
              "      <td>N</td>\n",
              "      <td>Night</td>\n",
              "      <td>Mako shark</td>\n",
              "      <td>H.D. Baldridge (1994), SAF Case #1628</td>\n",
              "      <td>1970.07.05</td>\n",
              "      <td>2923.0</td>\n",
              "    </tr>\n",
              "    <tr>\n",
              "      <th>3752</th>\n",
              "      <td>Apr-1970</td>\n",
              "      <td>1970.0</td>\n",
              "      <td>Provoked</td>\n",
              "      <td>NaN</td>\n",
              "      <td>NaN</td>\n",
              "      <td>NaN</td>\n",
              "      <td>Freediving</td>\n",
              "      <td>M</td>\n",
              "      <td>NaN</td>\n",
              "      <td>Arm abraded &amp; lacerated. Recorded as PROVOKED ...</td>\n",
              "      <td>N</td>\n",
              "      <td>NaN</td>\n",
              "      <td>Wobbegong shark</td>\n",
              "      <td>H.D. Baldridge (1994), SAF Case #1616</td>\n",
              "      <td>1970.04.00.b</td>\n",
              "      <td>2916.0</td>\n",
              "    </tr>\n",
              "    <tr>\n",
              "      <th>3756</th>\n",
              "      <td>5-Feb-1970</td>\n",
              "      <td>1970.0</td>\n",
              "      <td>Unprovoked</td>\n",
              "      <td>NaN</td>\n",
              "      <td>NaN</td>\n",
              "      <td>NaN</td>\n",
              "      <td>Wading</td>\n",
              "      <td>F</td>\n",
              "      <td>8</td>\n",
              "      <td>Lacerations to lower leg</td>\n",
              "      <td>N</td>\n",
              "      <td>NaN</td>\n",
              "      <td>Carpet shark</td>\n",
              "      <td>H.D. Baldridge (1994) SAF Case #1626</td>\n",
              "      <td>1970.02.05</td>\n",
              "      <td>2912.0</td>\n",
              "    </tr>\n",
              "    <tr>\n",
              "      <th>3782</th>\n",
              "      <td>Aug-1969</td>\n",
              "      <td>1969.0</td>\n",
              "      <td>Unprovoked</td>\n",
              "      <td>NaN</td>\n",
              "      <td>NaN</td>\n",
              "      <td>NaN</td>\n",
              "      <td>NaN</td>\n",
              "      <td>M</td>\n",
              "      <td>25</td>\n",
              "      <td>Am lacerated</td>\n",
              "      <td>N</td>\n",
              "      <td>NaN</td>\n",
              "      <td>NaN</td>\n",
              "      <td>H.D. Baldridge (1994) SAF Case #1602</td>\n",
              "      <td>1969.08.00</td>\n",
              "      <td>2886.0</td>\n",
              "    </tr>\n",
              "    <tr>\n",
              "      <th>4018</th>\n",
              "      <td>27-Sep-1964</td>\n",
              "      <td>1964.0</td>\n",
              "      <td>Invalid</td>\n",
              "      <td>NaN</td>\n",
              "      <td>NaN</td>\n",
              "      <td>NaN</td>\n",
              "      <td>Spearfishing</td>\n",
              "      <td>M</td>\n",
              "      <td>24</td>\n",
              "      <td>Disappeared, probable drowning but sharks in a...</td>\n",
              "      <td>NaN</td>\n",
              "      <td>11h00</td>\n",
              "      <td>Shark involvement prior to death was not confi...</td>\n",
              "      <td>C. Moore. GSAF</td>\n",
              "      <td>1964.09.27</td>\n",
              "      <td>2650.0</td>\n",
              "    </tr>\n",
              "    <tr>\n",
              "      <th>5060</th>\n",
              "      <td>Nov-1942</td>\n",
              "      <td>1942.0</td>\n",
              "      <td>Sea Disaster</td>\n",
              "      <td>NaN</td>\n",
              "      <td>Off South American coast</td>\n",
              "      <td>NaN</td>\n",
              "      <td>Dutch merchant ship Zaandam torpedoed  by the ...</td>\n",
              "      <td>M</td>\n",
              "      <td>NaN</td>\n",
              "      <td>FATAL</td>\n",
              "      <td>Y</td>\n",
              "      <td>NaN</td>\n",
              "      <td>NaN</td>\n",
              "      <td>M.  Murphy; V.M. Coppleson (1962), pp.207-208</td>\n",
              "      <td>1942.11.00.a</td>\n",
              "      <td>1608.0</td>\n",
              "    </tr>\n",
              "    <tr>\n",
              "      <th>5086</th>\n",
              "      <td>1942</td>\n",
              "      <td>1942.0</td>\n",
              "      <td>Sea Disaster</td>\n",
              "      <td>NaN</td>\n",
              "      <td>NaN</td>\n",
              "      <td>NaN</td>\n",
              "      <td>Jumped overboard from torpedoed Panamanian fre...</td>\n",
              "      <td>M</td>\n",
              "      <td>NaN</td>\n",
              "      <td>FATAL</td>\n",
              "      <td>Y</td>\n",
              "      <td>NaN</td>\n",
              "      <td>NaN</td>\n",
              "      <td>V.M. Coppleson (1962), p.258</td>\n",
              "      <td>1942.00.00.e</td>\n",
              "      <td>1582.0</td>\n",
              "    </tr>\n",
              "    <tr>\n",
              "      <th>5089</th>\n",
              "      <td>1942</td>\n",
              "      <td>1942.0</td>\n",
              "      <td>Watercraft</td>\n",
              "      <td>NaN</td>\n",
              "      <td>NaN</td>\n",
              "      <td>NaN</td>\n",
              "      <td>Days before the surrender of Singapore, the 3 ...</td>\n",
              "      <td>M</td>\n",
              "      <td>NaN</td>\n",
              "      <td>No injury to occupants. Sharks continually fol...</td>\n",
              "      <td>N</td>\n",
              "      <td>NaN</td>\n",
              "      <td>NaN</td>\n",
              "      <td>V.M. Coppleson (1962), p.206</td>\n",
              "      <td>1942.00.00.b</td>\n",
              "      <td>1579.0</td>\n",
              "    </tr>\n",
              "    <tr>\n",
              "      <th>5271</th>\n",
              "      <td>Reported 12-Apr-1935</td>\n",
              "      <td>1935.0</td>\n",
              "      <td>Unprovoked</td>\n",
              "      <td>NaN</td>\n",
              "      <td>NaN</td>\n",
              "      <td>NaN</td>\n",
              "      <td>Diving</td>\n",
              "      <td>F</td>\n",
              "      <td>NaN</td>\n",
              "      <td>Laceration to left leg</td>\n",
              "      <td>N</td>\n",
              "      <td>NaN</td>\n",
              "      <td>NaN</td>\n",
              "      <td>Port Arthur News, 4/12/1935</td>\n",
              "      <td>1935.04.12.R</td>\n",
              "      <td>1397.0</td>\n",
              "    </tr>\n",
              "    <tr>\n",
              "      <th>5420</th>\n",
              "      <td>Reported 09-Dec-1929</td>\n",
              "      <td>1929.0</td>\n",
              "      <td>Unprovoked</td>\n",
              "      <td>NaN</td>\n",
              "      <td>NaN</td>\n",
              "      <td>NaN</td>\n",
              "      <td>NaN</td>\n",
              "      <td>M</td>\n",
              "      <td>20</td>\n",
              "      <td>FATAL</td>\n",
              "      <td>Y</td>\n",
              "      <td>NaN</td>\n",
              "      <td>NaN</td>\n",
              "      <td>The Age, 12/9/1929</td>\n",
              "      <td>1929.12.09.R</td>\n",
              "      <td>1248.0</td>\n",
              "    </tr>\n",
              "    <tr>\n",
              "      <th>5785</th>\n",
              "      <td>17-Jan-1909</td>\n",
              "      <td>1909.0</td>\n",
              "      <td>Invalid</td>\n",
              "      <td>NaN</td>\n",
              "      <td>NaN</td>\n",
              "      <td>Near the equator</td>\n",
              "      <td>Jumped overboard</td>\n",
              "      <td>M</td>\n",
              "      <td>36</td>\n",
              "      <td>FATAL</td>\n",
              "      <td>NaN</td>\n",
              "      <td>NaN</td>\n",
              "      <td>Questionable</td>\n",
              "      <td>Star, 3/18/1909</td>\n",
              "      <td>1909.01.17</td>\n",
              "      <td>883.0</td>\n",
              "    </tr>\n",
              "    <tr>\n",
              "      <th>5946</th>\n",
              "      <td>Reported 19-Sep-1898</td>\n",
              "      <td>1898.0</td>\n",
              "      <td>Unprovoked</td>\n",
              "      <td>NaN</td>\n",
              "      <td>NaN</td>\n",
              "      <td>NaN</td>\n",
              "      <td>Diving</td>\n",
              "      <td>M</td>\n",
              "      <td>NaN</td>\n",
              "      <td>Lacerations to hand from shark trapped inside ...</td>\n",
              "      <td>N</td>\n",
              "      <td>NaN</td>\n",
              "      <td>NaN</td>\n",
              "      <td>Lincoln Evening News &amp; Daily Call, 9/19/1898</td>\n",
              "      <td>1898.09.19.b.R</td>\n",
              "      <td>722.0</td>\n",
              "    </tr>\n",
              "    <tr>\n",
              "      <th>5947</th>\n",
              "      <td>Reported 19-Sep-1898</td>\n",
              "      <td>1898.0</td>\n",
              "      <td>Unprovoked</td>\n",
              "      <td>NaN</td>\n",
              "      <td>NaN</td>\n",
              "      <td>NaN</td>\n",
              "      <td>Diving</td>\n",
              "      <td>M</td>\n",
              "      <td>NaN</td>\n",
              "      <td>Lacerations to fingers</td>\n",
              "      <td>N</td>\n",
              "      <td>NaN</td>\n",
              "      <td>NaN</td>\n",
              "      <td>Lincoln Evening News &amp; Daily Call, 9/19/1898</td>\n",
              "      <td>1898.09.19.a.R</td>\n",
              "      <td>721.0</td>\n",
              "    </tr>\n",
              "    <tr>\n",
              "      <th>5997</th>\n",
              "      <td>Reported 13-Jun-1895</td>\n",
              "      <td>1895.0</td>\n",
              "      <td>Unprovoked</td>\n",
              "      <td>NaN</td>\n",
              "      <td>NaN</td>\n",
              "      <td>NaN</td>\n",
              "      <td>Diving</td>\n",
              "      <td>M</td>\n",
              "      <td>NaN</td>\n",
              "      <td>Right hand severed</td>\n",
              "      <td>N</td>\n",
              "      <td>NaN</td>\n",
              "      <td>NaN</td>\n",
              "      <td>Lima Times, 6/13/1895</td>\n",
              "      <td>1895.06.13.R</td>\n",
              "      <td>671.0</td>\n",
              "    </tr>\n",
              "    <tr>\n",
              "      <th>6132</th>\n",
              "      <td>Reported 16-Apr-1885</td>\n",
              "      <td>1885.0</td>\n",
              "      <td>Unprovoked</td>\n",
              "      <td>NaN</td>\n",
              "      <td>NaN</td>\n",
              "      <td>NaN</td>\n",
              "      <td>Swimming</td>\n",
              "      <td>M</td>\n",
              "      <td>NaN</td>\n",
              "      <td>FATAL</td>\n",
              "      <td>Y</td>\n",
              "      <td>NaN</td>\n",
              "      <td>NaN</td>\n",
              "      <td>Gleaner (Jamaica), 4/16/1885</td>\n",
              "      <td>1885.04.16.R</td>\n",
              "      <td>536.0</td>\n",
              "    </tr>\n",
              "    <tr>\n",
              "      <th>6201</th>\n",
              "      <td>13-Oct-1878</td>\n",
              "      <td>1878.0</td>\n",
              "      <td>Unprovoked</td>\n",
              "      <td>NaN</td>\n",
              "      <td>NaN</td>\n",
              "      <td>NaN</td>\n",
              "      <td>Jumped overboard after murdering 2 shipmates</td>\n",
              "      <td>M</td>\n",
              "      <td>NaN</td>\n",
              "      <td>FATAL</td>\n",
              "      <td>Y</td>\n",
              "      <td>NaN</td>\n",
              "      <td>NaN</td>\n",
              "      <td>The Maitland Mercury &amp; Hunter River General Ad...</td>\n",
              "      <td>1878.10.13</td>\n",
              "      <td>467.0</td>\n",
              "    </tr>\n",
              "    <tr>\n",
              "      <th>6247</th>\n",
              "      <td>Reported 15-Jun-1874</td>\n",
              "      <td>1874.0</td>\n",
              "      <td>Unprovoked</td>\n",
              "      <td>NaN</td>\n",
              "      <td>NaN</td>\n",
              "      <td>NaN</td>\n",
              "      <td>Salvaging a shipwreck</td>\n",
              "      <td>M</td>\n",
              "      <td>NaN</td>\n",
              "      <td>Heel bitten</td>\n",
              "      <td>N</td>\n",
              "      <td>NaN</td>\n",
              "      <td>NaN</td>\n",
              "      <td>Daily Southern Cross, 6/15/1874</td>\n",
              "      <td>1874.06.15.a.R</td>\n",
              "      <td>421.0</td>\n",
              "    </tr>\n",
              "    <tr>\n",
              "      <th>6282</th>\n",
              "      <td>10-Apr-1869</td>\n",
              "      <td>1869.0</td>\n",
              "      <td>Invalid</td>\n",
              "      <td>NaN</td>\n",
              "      <td>NaN</td>\n",
              "      <td>NaN</td>\n",
              "      <td>Fell overboard</td>\n",
              "      <td>M</td>\n",
              "      <td>NaN</td>\n",
              "      <td>FATAL</td>\n",
              "      <td>NaN</td>\n",
              "      <td>NaN</td>\n",
              "      <td>Shark involvement prior to death unconfirmed</td>\n",
              "      <td>Nelson Examiner &amp; New Zealand Chronicle, 4/24/...</td>\n",
              "      <td>1869.04.10</td>\n",
              "      <td>386.0</td>\n",
              "    </tr>\n",
              "    <tr>\n",
              "      <th>6358</th>\n",
              "      <td>Reported 20-Nov-1856</td>\n",
              "      <td>1856.0</td>\n",
              "      <td>Unprovoked</td>\n",
              "      <td>NaN</td>\n",
              "      <td>NaN</td>\n",
              "      <td>NaN</td>\n",
              "      <td>Swimming</td>\n",
              "      <td>M</td>\n",
              "      <td>22</td>\n",
              "      <td>FATAL</td>\n",
              "      <td>Y</td>\n",
              "      <td>NaN</td>\n",
              "      <td>NaN</td>\n",
              "      <td>Pacific Commercial Advertiser, 11/20/1856</td>\n",
              "      <td>1856.11.20.R</td>\n",
              "      <td>310.0</td>\n",
              "    </tr>\n",
              "    <tr>\n",
              "      <th>6363</th>\n",
              "      <td>28-Jul-1855</td>\n",
              "      <td>1855.0</td>\n",
              "      <td>Unprovoked</td>\n",
              "      <td>NaN</td>\n",
              "      <td>NaN</td>\n",
              "      <td>NaN</td>\n",
              "      <td>Bathing</td>\n",
              "      <td>M</td>\n",
              "      <td>NaN</td>\n",
              "      <td>FATAL</td>\n",
              "      <td>Y</td>\n",
              "      <td>NaN</td>\n",
              "      <td>NaN</td>\n",
              "      <td>Maitland Mercury, 8/25/1855</td>\n",
              "      <td>1855.07.28</td>\n",
              "      <td>305.0</td>\n",
              "    </tr>\n",
              "    <tr>\n",
              "      <th>6454</th>\n",
              "      <td>Reported 22-Apr-1830</td>\n",
              "      <td>1830.0</td>\n",
              "      <td>Unprovoked</td>\n",
              "      <td>NaN</td>\n",
              "      <td>NaN</td>\n",
              "      <td>NaN</td>\n",
              "      <td>NaN</td>\n",
              "      <td>M</td>\n",
              "      <td>NaN</td>\n",
              "      <td>FATAL</td>\n",
              "      <td>Y</td>\n",
              "      <td>Night</td>\n",
              "      <td>NaN</td>\n",
              "      <td>The Torchlight &amp; Public Advertiser, 4/22/1830</td>\n",
              "      <td>1830.04.22.R</td>\n",
              "      <td>214.0</td>\n",
              "    </tr>\n",
              "    <tr>\n",
              "      <th>6481</th>\n",
              "      <td>01-Mar-1811</td>\n",
              "      <td>1811.0</td>\n",
              "      <td>Unprovoked</td>\n",
              "      <td>NaN</td>\n",
              "      <td>NaN</td>\n",
              "      <td>NaN</td>\n",
              "      <td>Fell overboard</td>\n",
              "      <td>M</td>\n",
              "      <td>NaN</td>\n",
              "      <td>FATAL</td>\n",
              "      <td>Y</td>\n",
              "      <td>NaN</td>\n",
              "      <td>NaN</td>\n",
              "      <td>Journal of Captain Marryat</td>\n",
              "      <td>1811.03.01</td>\n",
              "      <td>187.0</td>\n",
              "    </tr>\n",
              "    <tr>\n",
              "      <th>6493</th>\n",
              "      <td>Reported 18-Dec-1801</td>\n",
              "      <td>1801.0</td>\n",
              "      <td>Provoked</td>\n",
              "      <td>NaN</td>\n",
              "      <td>NaN</td>\n",
              "      <td>NaN</td>\n",
              "      <td>Standing on landed shark's tail</td>\n",
              "      <td>N</td>\n",
              "      <td>NaN</td>\n",
              "      <td>FATAL, PROVOKED INCIDENT</td>\n",
              "      <td>Y</td>\n",
              "      <td>NaN</td>\n",
              "      <td>12' shark</td>\n",
              "      <td>The Evening Post, 12/18/1801</td>\n",
              "      <td>1801.12.18.R</td>\n",
              "      <td>175.0</td>\n",
              "    </tr>\n",
              "    <tr>\n",
              "      <th>6495</th>\n",
              "      <td>Reported May-28-1797</td>\n",
              "      <td>1797.0</td>\n",
              "      <td>Unprovoked</td>\n",
              "      <td>NaN</td>\n",
              "      <td>NaN</td>\n",
              "      <td>NaN</td>\n",
              "      <td>Dropped overboard</td>\n",
              "      <td>NaN</td>\n",
              "      <td>NaN</td>\n",
              "      <td>FATAL</td>\n",
              "      <td>Y</td>\n",
              "      <td>NaN</td>\n",
              "      <td>NaN</td>\n",
              "      <td>The Observer 5/28/1797</td>\n",
              "      <td>1797.05.28.R</td>\n",
              "      <td>173.0</td>\n",
              "    </tr>\n",
              "    <tr>\n",
              "      <th>6527</th>\n",
              "      <td>Reported 1638</td>\n",
              "      <td>1638.0</td>\n",
              "      <td>Unprovoked</td>\n",
              "      <td>NaN</td>\n",
              "      <td>NaN</td>\n",
              "      <td>NaN</td>\n",
              "      <td>NaN</td>\n",
              "      <td>M</td>\n",
              "      <td>NaN</td>\n",
              "      <td>NaN</td>\n",
              "      <td>UNKNOWN</td>\n",
              "      <td>NaN</td>\n",
              "      <td>NaN</td>\n",
              "      <td>Sir Thomas Herbert</td>\n",
              "      <td>1638.00.00.R</td>\n",
              "      <td>141.0</td>\n",
              "    </tr>\n",
              "    <tr>\n",
              "      <th>6533</th>\n",
              "      <td>1555</td>\n",
              "      <td>1555.0</td>\n",
              "      <td>Unprovoked</td>\n",
              "      <td>NaN</td>\n",
              "      <td>NaN</td>\n",
              "      <td>NaN</td>\n",
              "      <td>Swimming</td>\n",
              "      <td>M</td>\n",
              "      <td>NaN</td>\n",
              "      <td>NaN</td>\n",
              "      <td>UNKNOWN</td>\n",
              "      <td>NaN</td>\n",
              "      <td>NaN</td>\n",
              "      <td>Olaus Magnus</td>\n",
              "      <td>1555.00.00</td>\n",
              "      <td>135.0</td>\n",
              "    </tr>\n",
              "    <tr>\n",
              "      <th>6564</th>\n",
              "      <td>Before 2011</td>\n",
              "      <td>0.0</td>\n",
              "      <td>Provoked</td>\n",
              "      <td>NaN</td>\n",
              "      <td>NaN</td>\n",
              "      <td>NaN</td>\n",
              "      <td>NaN</td>\n",
              "      <td>M</td>\n",
              "      <td>NaN</td>\n",
              "      <td>Bitten by captive sharks PROVOKED INCIDENTS</td>\n",
              "      <td>N</td>\n",
              "      <td>NaN</td>\n",
              "      <td>NaN</td>\n",
              "      <td>Watertown Daily Times, 7/8/2011</td>\n",
              "      <td>ND-0124</td>\n",
              "      <td>104.0</td>\n",
              "    </tr>\n",
              "    <tr>\n",
              "      <th>6624</th>\n",
              "      <td>1941-1945</td>\n",
              "      <td>0.0</td>\n",
              "      <td>Sea Disaster</td>\n",
              "      <td>NaN</td>\n",
              "      <td>NaN</td>\n",
              "      <td>NaN</td>\n",
              "      <td>A group of survivors on a raft for 17-days</td>\n",
              "      <td>NaN</td>\n",
              "      <td>NaN</td>\n",
              "      <td>FATAL, shark leapt into raft and bit the man w...</td>\n",
              "      <td>Y</td>\n",
              "      <td>Late afternoon</td>\n",
              "      <td>1.2 m [4'] shark</td>\n",
              "      <td>G.A. Llano in Airmen Against the Sea, p.69</td>\n",
              "      <td>ND.0044</td>\n",
              "      <td>44.0</td>\n",
              "    </tr>\n",
              "  </tbody>\n",
              "</table>\n",
              "</div>"
            ],
            "text/plain": [
              "                      Date    Year  ...         Case Id original order\n",
              "406   Reported 13-Nov-2017  2017.0  ...    2017.11.13.R         6262.0\n",
              "873               Aug-2014  2014.0  ...      2014.08.00         5795.0\n",
              "3735              Nov-1970  1970.0  ...      1970.11.00         2933.0\n",
              "3745            5-Jul-1970  1970.0  ...      1970.07.05         2923.0\n",
              "3752              Apr-1970  1970.0  ...    1970.04.00.b         2916.0\n",
              "3756            5-Feb-1970  1970.0  ...      1970.02.05         2912.0\n",
              "3782              Aug-1969  1969.0  ...      1969.08.00         2886.0\n",
              "4018           27-Sep-1964  1964.0  ...      1964.09.27         2650.0\n",
              "5060              Nov-1942  1942.0  ...    1942.11.00.a         1608.0\n",
              "5086                  1942  1942.0  ...    1942.00.00.e         1582.0\n",
              "5089                  1942  1942.0  ...    1942.00.00.b         1579.0\n",
              "5271  Reported 12-Apr-1935  1935.0  ...    1935.04.12.R         1397.0\n",
              "5420  Reported 09-Dec-1929  1929.0  ...    1929.12.09.R         1248.0\n",
              "5785           17-Jan-1909  1909.0  ...      1909.01.17          883.0\n",
              "5946  Reported 19-Sep-1898  1898.0  ...  1898.09.19.b.R          722.0\n",
              "5947  Reported 19-Sep-1898  1898.0  ...  1898.09.19.a.R          721.0\n",
              "5997  Reported 13-Jun-1895  1895.0  ...    1895.06.13.R          671.0\n",
              "6132  Reported 16-Apr-1885  1885.0  ...    1885.04.16.R          536.0\n",
              "6201           13-Oct-1878  1878.0  ...      1878.10.13          467.0\n",
              "6247  Reported 15-Jun-1874  1874.0  ...  1874.06.15.a.R          421.0\n",
              "6282           10-Apr-1869  1869.0  ...      1869.04.10          386.0\n",
              "6358  Reported 20-Nov-1856  1856.0  ...    1856.11.20.R          310.0\n",
              "6363           28-Jul-1855  1855.0  ...      1855.07.28          305.0\n",
              "6454  Reported 22-Apr-1830  1830.0  ...    1830.04.22.R          214.0\n",
              "6481           01-Mar-1811  1811.0  ...      1811.03.01          187.0\n",
              "6493  Reported 18-Dec-1801  1801.0  ...    1801.12.18.R          175.0\n",
              "6495  Reported May-28-1797  1797.0  ...    1797.05.28.R          173.0\n",
              "6527         Reported 1638  1638.0  ...    1638.00.00.R          141.0\n",
              "6533                  1555  1555.0  ...      1555.00.00          135.0\n",
              "6564           Before 2011     0.0  ...         ND-0124          104.0\n",
              "6624             1941-1945     0.0  ...         ND.0044           44.0\n",
              "\n",
              "[31 rows x 16 columns]"
            ]
          },
          "metadata": {
            "tags": []
          },
          "execution_count": 35
        }
      ]
    },
    {
      "cell_type": "code",
      "metadata": {
        "id": "X5aPMfgTM2cr"
      },
      "source": [
        "sharks['Country'] = sharks['Country'].fillna('UNKNOWN')"
      ],
      "execution_count": 36,
      "outputs": []
    },
    {
      "cell_type": "code",
      "metadata": {
        "colab": {
          "base_uri": "https://localhost:8080/"
        },
        "id": "Lr-FsY6zL81A",
        "outputId": "9c7c5965-58cc-4824-a9d0-06329d674a47"
      },
      "source": [
        "sharks['Country'].value_counts()"
      ],
      "execution_count": 37,
      "outputs": [
        {
          "output_type": "execute_result",
          "data": {
            "text/plain": [
              "USA                  2412\n",
              "AUSTRALIA            1426\n",
              "SOUTH AFRICA          590\n",
              "NEW ZEALAND           139\n",
              "PAPUA NEW GUINEA      136\n",
              "                     ... \n",
              "ADMIRALTY ISLANDS       1\n",
              "DJIBOUTI                1\n",
              "ARGENTINA               1\n",
              "PARAGUAY                1\n",
              "ARUBA                   1\n",
              "Name: Country, Length: 181, dtype: int64"
            ]
          },
          "metadata": {
            "tags": []
          },
          "execution_count": 37
        }
      ]
    },
    {
      "cell_type": "code",
      "metadata": {
        "id": "2EEpZdh8d-n7"
      },
      "source": [
        "sharks.dropna(subset= ['Date'], inplace=True)"
      ],
      "execution_count": 38,
      "outputs": []
    },
    {
      "cell_type": "code",
      "metadata": {
        "colab": {
          "base_uri": "https://localhost:8080/"
        },
        "id": "KW9Yo594nG2g",
        "outputId": "04f52adc-8059-4e31-df50-ed9c4f6b411e"
      },
      "source": [
        "sharks['Date'].value_counts()"
      ],
      "execution_count": 39,
      "outputs": [
        {
          "output_type": "execute_result",
          "data": {
            "text/plain": [
              "1957                    9\n",
              "1942                    8\n",
              "1958                    7\n",
              "1956                    6\n",
              "1941                    6\n",
              "                       ..\n",
              "02-Mar-2021             1\n",
              "30-Sep-2006             1\n",
              "17-Aug-2013             1\n",
              "08-Jan-1966             1\n",
              "Reported 03-Oct-1889    1\n",
              "Name: Date, Length: 5766, dtype: int64"
            ]
          },
          "metadata": {
            "tags": []
          },
          "execution_count": 39
        }
      ]
    },
    {
      "cell_type": "code",
      "metadata": {
        "id": "fz9lzzVlo9HS"
      },
      "source": [
        "sharks['Year'] = sharks['Year'].fillna(0).astype(int)"
      ],
      "execution_count": 40,
      "outputs": []
    },
    {
      "cell_type": "code",
      "metadata": {
        "colab": {
          "base_uri": "https://localhost:8080/",
          "height": 736
        },
        "id": "xyNoAzIonxpL",
        "outputId": "07a41d7f-1a45-4c91-f12b-b8ee0f8c0636"
      },
      "source": [
        "# Replace Years with a value of 0 to the year mentioned in Date column\n",
        "sharks.loc[sharks['Year']== 0.0, :]"
      ],
      "execution_count": 41,
      "outputs": [
        {
          "output_type": "execute_result",
          "data": {
            "text/html": [
              "<div>\n",
              "<style scoped>\n",
              "    .dataframe tbody tr th:only-of-type {\n",
              "        vertical-align: middle;\n",
              "    }\n",
              "\n",
              "    .dataframe tbody tr th {\n",
              "        vertical-align: top;\n",
              "    }\n",
              "\n",
              "    .dataframe thead th {\n",
              "        text-align: right;\n",
              "    }\n",
              "</style>\n",
              "<table border=\"1\" class=\"dataframe\">\n",
              "  <thead>\n",
              "    <tr style=\"text-align: right;\">\n",
              "      <th></th>\n",
              "      <th>Date</th>\n",
              "      <th>Year</th>\n",
              "      <th>Type</th>\n",
              "      <th>Country</th>\n",
              "      <th>Area</th>\n",
              "      <th>Location</th>\n",
              "      <th>Activity</th>\n",
              "      <th>Sex</th>\n",
              "      <th>Age</th>\n",
              "      <th>Injury</th>\n",
              "      <th>Fatal (Y/N)</th>\n",
              "      <th>Time</th>\n",
              "      <th>Species</th>\n",
              "      <th>Investigator or Source</th>\n",
              "      <th>Case Id</th>\n",
              "      <th>original order</th>\n",
              "    </tr>\n",
              "  </thead>\n",
              "  <tbody>\n",
              "    <tr>\n",
              "      <th>534</th>\n",
              "      <td>Reported 08-Jan-2017</td>\n",
              "      <td>0</td>\n",
              "      <td>Invalid</td>\n",
              "      <td>AUSTRALIA</td>\n",
              "      <td>Queensland</td>\n",
              "      <td>NaN</td>\n",
              "      <td>Spearfishing</td>\n",
              "      <td>M</td>\n",
              "      <td>35</td>\n",
              "      <td>No attack, shark made a threat display</td>\n",
              "      <td>NaN</td>\n",
              "      <td>NaN</td>\n",
              "      <td>Bull shark</td>\n",
              "      <td>Liquid Vision 1/8/2017</td>\n",
              "      <td>2017.01.08.R</td>\n",
              "      <td>6134.0</td>\n",
              "    </tr>\n",
              "    <tr>\n",
              "      <th>6441</th>\n",
              "      <td>Reported 19-Aug-1836</td>\n",
              "      <td>0</td>\n",
              "      <td>Unprovoked</td>\n",
              "      <td>ENGLAND</td>\n",
              "      <td>Cumberland</td>\n",
              "      <td>Whitehaven</td>\n",
              "      <td>Swimming</td>\n",
              "      <td>M</td>\n",
              "      <td>NaN</td>\n",
              "      <td>FATAL</td>\n",
              "      <td>Y</td>\n",
              "      <td>NaN</td>\n",
              "      <td>NaN</td>\n",
              "      <td>C. Moore, GSAF</td>\n",
              "      <td>1836.08.19.R</td>\n",
              "      <td>227.0</td>\n",
              "    </tr>\n",
              "    <tr>\n",
              "      <th>6539</th>\n",
              "      <td>Ca. 214 B.C.</td>\n",
              "      <td>0</td>\n",
              "      <td>Unprovoked</td>\n",
              "      <td>GREECE</td>\n",
              "      <td>Ionian Sea</td>\n",
              "      <td>NaN</td>\n",
              "      <td>Ascending from a dive</td>\n",
              "      <td>M</td>\n",
              "      <td>NaN</td>\n",
              "      <td>FATAL, shark/s bit him in two</td>\n",
              "      <td>Y</td>\n",
              "      <td>NaN</td>\n",
              "      <td>NaN</td>\n",
              "      <td>Reported by Greek poet, Leonidas of Tarentum (...</td>\n",
              "      <td>0000.0214</td>\n",
              "      <td>129.0</td>\n",
              "    </tr>\n",
              "    <tr>\n",
              "      <th>6540</th>\n",
              "      <td>Ca. 336.B.C..</td>\n",
              "      <td>0</td>\n",
              "      <td>Unprovoked</td>\n",
              "      <td>GREECE</td>\n",
              "      <td>Piraeus</td>\n",
              "      <td>In the haven of Cantharus</td>\n",
              "      <td>Washing his pig in preparation for a religious...</td>\n",
              "      <td>M</td>\n",
              "      <td>NaN</td>\n",
              "      <td>FATAL, shark \"bit off all lower parts of him u...</td>\n",
              "      <td>Y</td>\n",
              "      <td>NaN</td>\n",
              "      <td>NaN</td>\n",
              "      <td>Plutarch (45 - 125 A.D.) in Life of Phoecion (...</td>\n",
              "      <td>0000.0336</td>\n",
              "      <td>128.0</td>\n",
              "    </tr>\n",
              "    <tr>\n",
              "      <th>6541</th>\n",
              "      <td>493 B.C.</td>\n",
              "      <td>0</td>\n",
              "      <td>Sea Disaster</td>\n",
              "      <td>GREECE</td>\n",
              "      <td>Off Thessaly</td>\n",
              "      <td>NaN</td>\n",
              "      <td>Shipwrecked Persian Fleet</td>\n",
              "      <td>M</td>\n",
              "      <td>NaN</td>\n",
              "      <td>Herodotus tells of sharks attacking men in the...</td>\n",
              "      <td>Y</td>\n",
              "      <td>NaN</td>\n",
              "      <td>NaN</td>\n",
              "      <td>Herodotus (485 - 425 B.C.)</td>\n",
              "      <td>0000.0493</td>\n",
              "      <td>127.0</td>\n",
              "    </tr>\n",
              "    <tr>\n",
              "      <th>...</th>\n",
              "      <td>...</td>\n",
              "      <td>...</td>\n",
              "      <td>...</td>\n",
              "      <td>...</td>\n",
              "      <td>...</td>\n",
              "      <td>...</td>\n",
              "      <td>...</td>\n",
              "      <td>...</td>\n",
              "      <td>...</td>\n",
              "      <td>...</td>\n",
              "      <td>...</td>\n",
              "      <td>...</td>\n",
              "      <td>...</td>\n",
              "      <td>...</td>\n",
              "      <td>...</td>\n",
              "      <td>...</td>\n",
              "    </tr>\n",
              "    <tr>\n",
              "      <th>6662</th>\n",
              "      <td>Before 1903</td>\n",
              "      <td>0</td>\n",
              "      <td>Unprovoked</td>\n",
              "      <td>AUSTRALIA</td>\n",
              "      <td>Western Australia</td>\n",
              "      <td>Roebuck Bay</td>\n",
              "      <td>Diving</td>\n",
              "      <td>M</td>\n",
              "      <td>NaN</td>\n",
              "      <td>FATAL</td>\n",
              "      <td>Y</td>\n",
              "      <td>NaN</td>\n",
              "      <td>NaN</td>\n",
              "      <td>H. Taunton; N. Bartlett,  p. 234</td>\n",
              "      <td>ND.0005</td>\n",
              "      <td>6.0</td>\n",
              "    </tr>\n",
              "    <tr>\n",
              "      <th>6663</th>\n",
              "      <td>Before 1903</td>\n",
              "      <td>0</td>\n",
              "      <td>Unprovoked</td>\n",
              "      <td>AUSTRALIA</td>\n",
              "      <td>Western Australia</td>\n",
              "      <td>NaN</td>\n",
              "      <td>Pearl diving</td>\n",
              "      <td>M</td>\n",
              "      <td>NaN</td>\n",
              "      <td>FATAL</td>\n",
              "      <td>Y</td>\n",
              "      <td>NaN</td>\n",
              "      <td>NaN</td>\n",
              "      <td>H. Taunton; N. Bartlett,  pp. 233-234</td>\n",
              "      <td>ND.0004</td>\n",
              "      <td>5.0</td>\n",
              "    </tr>\n",
              "    <tr>\n",
              "      <th>6664</th>\n",
              "      <td>1900-1905</td>\n",
              "      <td>0</td>\n",
              "      <td>Unprovoked</td>\n",
              "      <td>USA</td>\n",
              "      <td>North Carolina</td>\n",
              "      <td>Ocracoke Inlet</td>\n",
              "      <td>Swimming</td>\n",
              "      <td>M</td>\n",
              "      <td>NaN</td>\n",
              "      <td>FATAL</td>\n",
              "      <td>Y</td>\n",
              "      <td>NaN</td>\n",
              "      <td>NaN</td>\n",
              "      <td>F. Schwartz, p.23; C. Creswell, GSAF</td>\n",
              "      <td>ND.0003</td>\n",
              "      <td>4.0</td>\n",
              "    </tr>\n",
              "    <tr>\n",
              "      <th>6665</th>\n",
              "      <td>1883-1889</td>\n",
              "      <td>0</td>\n",
              "      <td>Unprovoked</td>\n",
              "      <td>PANAMA</td>\n",
              "      <td>NaN</td>\n",
              "      <td>Panama Bay 8ºN, 79ºW</td>\n",
              "      <td>NaN</td>\n",
              "      <td>M</td>\n",
              "      <td>NaN</td>\n",
              "      <td>FATAL</td>\n",
              "      <td>Y</td>\n",
              "      <td>NaN</td>\n",
              "      <td>NaN</td>\n",
              "      <td>The Sun, 10/20/1938</td>\n",
              "      <td>ND.0002</td>\n",
              "      <td>3.0</td>\n",
              "    </tr>\n",
              "    <tr>\n",
              "      <th>6666</th>\n",
              "      <td>1845-1853</td>\n",
              "      <td>0</td>\n",
              "      <td>Unprovoked</td>\n",
              "      <td>CEYLON (SRI LANKA)</td>\n",
              "      <td>Eastern Province</td>\n",
              "      <td>Below the English fort, Trincomalee</td>\n",
              "      <td>Swimming</td>\n",
              "      <td>M</td>\n",
              "      <td>15</td>\n",
              "      <td>FATAL. \"Shark bit him in half, carrying away t...</td>\n",
              "      <td>Y</td>\n",
              "      <td>NaN</td>\n",
              "      <td>NaN</td>\n",
              "      <td>S.W. Baker</td>\n",
              "      <td>ND.0001</td>\n",
              "      <td>2.0</td>\n",
              "    </tr>\n",
              "  </tbody>\n",
              "</table>\n",
              "<p>129 rows × 16 columns</p>\n",
              "</div>"
            ],
            "text/plain": [
              "                      Date  Year  ...       Case Id original order\n",
              "534   Reported 08-Jan-2017     0  ...  2017.01.08.R         6134.0\n",
              "6441  Reported 19-Aug-1836     0  ...  1836.08.19.R          227.0\n",
              "6539          Ca. 214 B.C.     0  ...     0000.0214          129.0\n",
              "6540         Ca. 336.B.C..     0  ...     0000.0336          128.0\n",
              "6541              493 B.C.     0  ...     0000.0493          127.0\n",
              "...                    ...   ...  ...           ...            ...\n",
              "6662           Before 1903     0  ...       ND.0005            6.0\n",
              "6663           Before 1903     0  ...       ND.0004            5.0\n",
              "6664             1900-1905     0  ...       ND.0003            4.0\n",
              "6665             1883-1889     0  ...       ND.0002            3.0\n",
              "6666             1845-1853     0  ...       ND.0001            2.0\n",
              "\n",
              "[129 rows x 16 columns]"
            ]
          },
          "metadata": {
            "tags": []
          },
          "execution_count": 41
        }
      ]
    },
    {
      "cell_type": "code",
      "metadata": {
        "id": "L-pXYkaJ-n7F"
      },
      "source": [
        "# filling in NaNs in the Species column with 'unknown'\n",
        "sharks = sharks.rename(columns=({'Species ':'Species'}))\n",
        "sharks['Species'] = sharks['Species'].fillna('Unknown')"
      ],
      "execution_count": 42,
      "outputs": []
    },
    {
      "cell_type": "code",
      "metadata": {
        "colab": {
          "base_uri": "https://localhost:8080/"
        },
        "id": "3xO_DpNf4uM9",
        "outputId": "af53e64a-0817-4763-d71f-e1d793855e63"
      },
      "source": [
        "sharks.isnull().sum()"
      ],
      "execution_count": 43,
      "outputs": [
        {
          "output_type": "execute_result",
          "data": {
            "text/plain": [
              "Date                         0\n",
              "Year                         0\n",
              "Type                         0\n",
              "Country                      0\n",
              "Area                       457\n",
              "Location                   540\n",
              "Activity                   562\n",
              "Sex                        574\n",
              "Age                       2922\n",
              "Injury                      31\n",
              "Fatal (Y/N)                551\n",
              "Time                      3442\n",
              "Species                      0\n",
              "Investigator or Source      18\n",
              "Case Id                      0\n",
              "original order               0\n",
              "dtype: int64"
            ]
          },
          "metadata": {
            "tags": []
          },
          "execution_count": 43
        }
      ]
    },
    {
      "cell_type": "code",
      "metadata": {
        "id": "xfSRfsIqBajq"
      },
      "source": [
        "sharks = sharks.rename(columns=({'Fatal (Y/N)' : 'Fatal'}))\n",
        "sharks['Fatal'] = sharks['Fatal'].fillna('UnV')"
      ],
      "execution_count": 44,
      "outputs": []
    },
    {
      "cell_type": "code",
      "metadata": {
        "colab": {
          "base_uri": "https://localhost:8080/"
        },
        "id": "9MJV3pwCec5K",
        "outputId": "a8b9ac5a-ca2d-47b7-ee3e-a0d32c0ab05e"
      },
      "source": [
        "# fill in the rest of NaNs with 'unknown'\n",
        "sharks.isnull().sum()"
      ],
      "execution_count": 45,
      "outputs": [
        {
          "output_type": "execute_result",
          "data": {
            "text/plain": [
              "Date                         0\n",
              "Year                         0\n",
              "Type                         0\n",
              "Country                      0\n",
              "Area                       457\n",
              "Location                   540\n",
              "Activity                   562\n",
              "Sex                        574\n",
              "Age                       2922\n",
              "Injury                      31\n",
              "Fatal                        0\n",
              "Time                      3442\n",
              "Species                      0\n",
              "Investigator or Source      18\n",
              "Case Id                      0\n",
              "original order               0\n",
              "dtype: int64"
            ]
          },
          "metadata": {
            "tags": []
          },
          "execution_count": 45
        }
      ]
    },
    {
      "cell_type": "markdown",
      "metadata": {
        "id": "ZAJ82RwNS6EV"
      },
      "source": [
        "> ## ['Date'] & ['Year'] Columns"
      ]
    },
    {
      "cell_type": "markdown",
      "metadata": {
        "id": "MOWkmDZTL_FO"
      },
      "source": [
        "- many formatting issues. Values are mostly represented, but format is inconsistent.\n",
        "- "
      ]
    },
    {
      "cell_type": "code",
      "metadata": {
        "colab": {
          "base_uri": "https://localhost:8080/"
        },
        "id": "ruXG6A5GOoPv",
        "outputId": "0f34eaee-5401-4a11-c0b7-36387aba904a"
      },
      "source": [
        "sharks['Date'].str.contains('Reported').sum()"
      ],
      "execution_count": 46,
      "outputs": [
        {
          "output_type": "execute_result",
          "data": {
            "text/plain": [
              "564"
            ]
          },
          "metadata": {
            "tags": []
          },
          "execution_count": 46
        }
      ]
    },
    {
      "cell_type": "code",
      "metadata": {
        "id": "FOyDQD-JIL4x"
      },
      "source": [
        "sharks['Date'] = sharks['Date'].replace('Reported 11-Jul-2021', '11-Jul-2021')"
      ],
      "execution_count": 47,
      "outputs": []
    },
    {
      "cell_type": "code",
      "metadata": {
        "colab": {
          "base_uri": "https://localhost:8080/"
        },
        "id": "sEmCaZBC8N-p",
        "outputId": "d7c2fa51-709d-4e6f-95ae-9f30285b894d"
      },
      "source": [
        "sharks['Date'].isnull().sum()"
      ],
      "execution_count": 48,
      "outputs": [
        {
          "output_type": "execute_result",
          "data": {
            "text/plain": [
              "0"
            ]
          },
          "metadata": {
            "tags": []
          },
          "execution_count": 48
        }
      ]
    },
    {
      "cell_type": "code",
      "metadata": {
        "colab": {
          "base_uri": "https://localhost:8080/"
        },
        "id": "i8OFr6ssCshU",
        "outputId": "758a0be6-4820-4a72-c193-55c9d137e966"
      },
      "source": [
        "sharks.iloc[2557, :]"
      ],
      "execution_count": 49,
      "outputs": [
        {
          "output_type": "execute_result",
          "data": {
            "text/plain": [
              "Date                                    1998\n",
              "Year                                    1998\n",
              "Type                              Unprovoked\n",
              "Country                              REUNION\n",
              "Area                               Beaufonds\n",
              "Location                                 NaN\n",
              "Activity                              Diving\n",
              "Sex                                      NaN\n",
              "Age                                      NaN\n",
              "Injury                                 FATAL\n",
              "Fatal                                      Y\n",
              "Time                                     NaN\n",
              "Species                              Unknown\n",
              "Investigator or Source    G. Van Grevelynghe\n",
              "Case Id                         1998.00.00.b\n",
              "original order                          4111\n",
              "Name: 2557, dtype: object"
            ]
          },
          "metadata": {
            "tags": []
          },
          "execution_count": 49
        }
      ]
    },
    {
      "cell_type": "code",
      "metadata": {
        "colab": {
          "base_uri": "https://localhost:8080/"
        },
        "id": "phv1HkNVA83V",
        "outputId": "cc0af908-91c9-406a-e3fc-261eefa2bb4a"
      },
      "source": [
        "sharks.shape"
      ],
      "execution_count": 50,
      "outputs": [
        {
          "output_type": "execute_result",
          "data": {
            "text/plain": [
              "(6666, 16)"
            ]
          },
          "metadata": {
            "tags": []
          },
          "execution_count": 50
        }
      ]
    },
    {
      "cell_type": "code",
      "metadata": {
        "colab": {
          "base_uri": "https://localhost:8080/"
        },
        "id": "L3xNngTQ4L-3",
        "outputId": "50a3c173-168d-42d0-ce8f-1b4244ea838b"
      },
      "source": [
        "sharks['Date'].str.contains('144').sum()"
      ],
      "execution_count": 51,
      "outputs": [
        {
          "output_type": "execute_result",
          "data": {
            "text/plain": [
              "1"
            ]
          },
          "metadata": {
            "tags": []
          },
          "execution_count": 51
        }
      ]
    },
    {
      "cell_type": "code",
      "metadata": {
        "id": "vPBq5qP086Lt"
      },
      "source": [
        "sharks['Date'] = sharks['Date'].str.replace('Reported', '')"
      ],
      "execution_count": 52,
      "outputs": []
    },
    {
      "cell_type": "code",
      "metadata": {
        "id": "YjFp08_8h4FZ"
      },
      "source": [
        "sharks['Date'] = sharks['Date'].str.replace('No date, ', '')\n",
        "sharks['Date'] = sharks['Date'].str.replace('Nodate', '')\n"
      ],
      "execution_count": 53,
      "outputs": []
    },
    {
      "cell_type": "code",
      "metadata": {
        "id": "zu7UDvOgiQp0"
      },
      "source": [
        "sharks['Date'] = sharks['Date'].str.replace(' ', '')"
      ],
      "execution_count": 54,
      "outputs": []
    },
    {
      "cell_type": "code",
      "metadata": {
        "id": "qPVRR0V5jbPY"
      },
      "source": [
        "sharks['Date'] = sharks['Date'].str.replace('Before1963', '1962')\n",
        "sharks['Date'] = sharks['Date'].str.replace('Before1958', '1957')"
      ],
      "execution_count": 55,
      "outputs": []
    },
    {
      "cell_type": "code",
      "metadata": {
        "id": "cEiPuS0Wkjfk"
      },
      "source": [
        "sharks['Date'] = sharks['Date'].str.replace('Before1906', '1905')\n",
        "sharks['Date'] = sharks['Date'].str.replace('Before1911', '1910')\n",
        "sharks['Date'] = sharks['Date'].str.replace('Before2012', '2011')\n",
        "sharks['Date'] = sharks['Date'].str.replace('Before1921', '1920')\n",
        "sharks['Date'] = sharks['Date'].str.replace('Before1962', '1961')\n",
        "sharks['Date'] = sharks['Date'].str.replace('May-Jun-1965', 'May-1965')\n",
        "sharks['Date'] = sharks['Date'].str.replace('Before1956', '1955')\n",
        "sharks['Date'] = sharks['Date'].str.replace('Before1957', '1956')\n",
        "sharks['Date'] = sharks['Date'].str.replace('Before1902', '1901')\n",
        "sharks['Date'] = sharks['Date'].str.replace('May1965', 'May-1965')"
      ],
      "execution_count": 56,
      "outputs": []
    },
    {
      "cell_type": "code",
      "metadata": {
        "id": "9jzDNvxYnDz6"
      },
      "source": [
        "sharks['Date'] = sharks['Date'].str.replace('Before1905', '1904')\n",
        "sharks['Date'] = sharks['Date'].str.replace('Before1962', '1961')\n",
        "sharks['Date'] = sharks['Date'].str.replace('s', '')"
      ],
      "execution_count": 57,
      "outputs": []
    },
    {
      "cell_type": "code",
      "metadata": {
        "id": "d5d1YklQnUvH"
      },
      "source": [
        "sharks['Date'] = sharks['Date'].str.replace('Before', '')"
      ],
      "execution_count": 58,
      "outputs": []
    },
    {
      "cell_type": "code",
      "metadata": {
        "id": "l3OYc0M1oTZS"
      },
      "source": [
        "sharks['Date'] = sharks['Date'].str.replace('Summer', 'Jul-')\n",
        "sharks['Date'] = sharks['Date'].str.replace('Circa', '')\n",
        "sharks['Date'] = sharks['Date'].str.replace('Fall', 'Oct-')\n",
        "sharks['Date'] = sharks['Date'].str.replace('May', 'May-')\n",
        "sharks['Date'] = sharks['Date'].str.replace('WorldWarII', '1945')\n",
        "sharks['Date'] = sharks['Date'].str.replace('(amedaya1954.00.00.f)', '')\n",
        "sharks['Date'] = sharks['Date'].str.replace('(samedaya1954.00.00.f)', '')\n",
        "sharks['Date'] = sharks['Date'].str.replace('Mid', '15')\n",
        "sharks['Date'] = sharks['Date'].str.replace('Ca.', '')\n",
        "sharks['Date'] = sharks['Date'].str.replace('July', 'Jul-')"
      ],
      "execution_count": 59,
      "outputs": []
    },
    {
      "cell_type": "code",
      "metadata": {
        "id": "3HU_2hMkq18G"
      },
      "source": [
        "sharks['Date'] = sharks['Date'].str.replace('AfterAugut1926andbefore1936', '1931')"
      ],
      "execution_count": 60,
      "outputs": []
    },
    {
      "cell_type": "code",
      "metadata": {
        "id": "Rrutdx8PrU0F"
      },
      "source": [
        "sharks['Date'] = sharks['Date'].str.replace('Early', '05-')\n",
        "sharks['Date'] = sharks['Date'].str.replace('26May', '26-May')\n",
        "sharks['Date'] = sharks['Date'].str.replace('1898-1899', '1898')\n",
        "sharks['Date'] = sharks['Date'].str.replace('.', '')"
      ],
      "execution_count": 61,
      "outputs": []
    },
    {
      "cell_type": "code",
      "metadata": {
        "id": "vrNEOOjCyVq7"
      },
      "source": [
        "sharks['Date'] = sharks['Date'].str.replace('1941-1945', '1943')\n",
        "sharks['Date'] = sharks['Date'].str.replace('1940-1950', '1945')\n",
        "sharks['Date'] = sharks['Date'].str.replace('()', '')\n",
        "sharks['Date'] = sharks['Date'].str.replace('-2006', '2006')\n",
        "sharks['Date'] = sharks['Date'].str.replace('Afewyearbefore', '')\n",
        "sharks['Date'] = sharks['Date'].str.replace('Feb', 'Feb-')\n",
        "sharks['Date'] = sharks['Date'].str.replace('b', '')\n",
        "sharks['Date'] = sharks['Date'].str.replace('1941-1942', '1941')\n",
        "sharks['Date'] = sharks['Date'].str.replace(\"'\", \"\")\n",
        "sharks['Date'] = sharks['Date'].str.replace('\\n19511215R', '15-Dec-1951')\n",
        "sharks['Date'] = sharks['Date'].str.replace('nat', 'Nat')\n",
        "sharks['Date'] = sharks['Date'].str.replace('Jun', 'Jun-')\n",
        "sharks['Date'] = sharks['Date'].str.replace('18980124', '24-Jan-1898')\n",
        "sharks['Date'] = sharks['Date'].str.replace('(oonafterthecloeoftheSpanih-AmericanWar)', '')\n",
        "sharks['Date'] = sharks['Date'].str.replace('Fe', 'Feb')\n",
        "sharks['Date'] = sharks['Date'].str.replace('ummer', 'Jul-')\n",
        "sharks['Date'] = sharks['Date'].str.replace('Oct', 'Oct-')\n",
        "sharks['Date'] = sharks['Date'].str.replace('May', 'May-')\n",
        "sharks['Date'] = sharks['Date'].str.replace('Jan', 'Jan-')\n",
        "sharks['Date'] = sharks['Date'].str.replace('Jul', 'Jul-')\n",
        "sharks['Date'] = sharks['Date'].str.replace('1900-1905', '1903')\n",
        "sharks['Date'] = sharks['Date'].str.replace('Late', '')\n",
        "sharks['Date'] = sharks['Date'].str.replace('1880-1899', '1890')\n",
        "sharks['Date'] = sharks['Date'].str.replace('Decemer', 'Dec-')\n",
        "sharks['Date'] = sharks['Date'].str.replace('NaT(3dayafterprecedingincident)&priorto19-Jul--1913', '18-Jul-1913')\n",
        "sharks['Date'] = sharks['Date'].str.replace('Aug', 'Aug-')\n",
        "sharks['Date'] = sharks['Date'].str.replace('14-Nov-19-9to19-Nov-19-9', '16-Nov-19-9')\n",
        "sharks['Date'] = sharks['Date'].str.replace('May--', 'May-')\n",
        "sharks['Date'] = sharks['Date'].str.replace('1920-1923', '1921')\n",
        "sharks['Date'] = sharks['Date'].str.replace('of', '')\n",
        "sharks['Date'] = sharks['Date'].str.replace('WoirldWarII', '1945')\n",
        "sharks['Date'] = sharks['Date'].str.replace('`', '')\n",
        "sharks['Date'] = sharks['Date'].str.replace('Reportd', '')\n",
        "sharks['Date'] = sharks['Date'].str.replace('1949-1950', '1949')\n",
        "sharks['Date'] = sharks['Date'].str.replace('?', '')\n",
        "sharks['Date'] = sharks['Date'].str.replace('07-Mar-1925or', '')\n",
        "sharks['Date'] = sharks['Date'].str.replace('Between10and12-Sep-1959', '11-Sep-1959')\n",
        "sharks['Date'] = sharks['Date'].str.replace('Apr2006', 'Apr-2006')\n",
        "sharks['Date'] = sharks['Date'].str.replace('or1991', '')\n",
        "sharks['Date'] = sharks['Date'].str.replace('NaT(3dayafterprecedingincident)&priorto19-Jul-1913  ', '18-Jul-1913')\n",
        "sharks['Date'] = sharks['Date'].str.replace('13or', '')\n",
        "sharks['Date'] = sharks['Date'].str.replace('(3dayafterprecedingincident)&priorto', '')\n",
        "sharks['Date'] = sharks['Date'].str.replace('\\n1951.12.15.R', '15-Dec-1951')\n",
        "sharks['Date'] = sharks['Date'].str.replace('Sep', 'Sep-')\n",
        "sharks['Date'] = sharks['Date'].str.replace('26May', '26-May')\n",
        "sharks['Date'] = sharks['Date'].str.replace('1896-1913', '1906')\n",
        "sharks['Date'] = sharks['Date'].str.replace('(proalyhappened1843/1844)', '')\n",
        "sharks['Date'] = sharks['Date'].str.replace('April', 'Apr-')\n",
        "sharks['Date'] = sharks['Date'].str.replace('Dec', 'Dec-')\n",
        "sharks['Date'] = sharks['Date'].str.replace('Between18&22-Dec1944 ', '20-Dec-1944')\n",
        "sharks['Date'] = sharks['Date'].str.replace('SometimeetweenApr&', '')\n",
        "sharks['Date'] = sharks['Date'].str.replace('in', '')\n",
        "sharks['Date'] = sharks['Date'].str.replace('1839/1840', '1839')\n",
        "sharks['Date'] = sharks['Date'].str.replace('BetweenMay-&', '')\n",
        "sharks['Date'] = sharks['Date'].str.replace('Novemer', 'Nov')\n",
        "sharks['Date'] = sharks['Date'].str.replace('1950-1951', '1950')\n",
        "sharks['Date'] = sharks['Date'].str.replace('18360726R', '26-Jul-1836')\n",
        "sharks['Date'] = sharks['Date'].str.replace('Saidtoe1943,morelikely1945', '1945')\n",
        "sharks['Date'] = sharks['Date'].str.replace('tohavehappened\"ontheweekend\"', '')\n",
        "sharks['Date'] = sharks['Date'].str.replace('19Feb', '19-Feb')\n",
        "sharks['Date'] = sharks['Date'].str.replace('1940-1946', '1943')\n",
        "sharks['Date'] = sharks['Date'].str.replace('-orOct', '')\n",
        "sharks['Date'] = sharks['Date'].str.replace('1923-1924', '1923')\n",
        "sharks['Date'] = sharks['Date'].str.replace('Jan-Jun', 'Mar')\n",
        "sharks['Date'] = sharks['Date'].str.replace('oer', '')\n",
        "sharks['Date'] = sharks['Date'].str.replace('Mar2006', 'Mar-2006')\n",
        "sharks['Date'] = sharks['Date'].str.replace('1853or1854', '1853')\n",
        "sharks['Date'] = sharks['Date'].str.replace('--2009', '-2009')\n",
        "sharks['Date'] = sharks['Date'].str.replace('to07-Mar-1943', '')\n",
        "sharks['Date'] = sharks['Date'].str.replace('1960-1961', '1960')\n",
        "sharks['Date'] = sharks['Date'].str.replace('24Apr', '24-')\n",
        "sharks['Date'] = sharks['Date'].str.replace('orApr-1949 ', '')\n",
        "sharks['Date'] = sharks['Date'].str.replace('e1983', '1983')\n",
        "sharks['Date'] = sharks['Date'].str.replace('--2008', '-2008')\n",
        "sharks['Date'] = sharks['Date'].str.replace('Nov2006', 'Nov-')\n",
        "sharks['Date'] = sharks['Date'].str.replace('\"AnniveraryDay\"22-Jan-1850or1852', '22-Jan-1850')\n",
        "sharks['Date'] = sharks['Date'].str.replace('2005-', '2005')\n",
        "sharks['Date'] = sharks['Date'].str.replace('1845-1853', '1849')\n",
        "sharks['Date'] = sharks['Date'].str.replace('1883-1889', '1886')\n",
        "sharks['Date'] = sharks['Date'].str.replace('Between1918&1939', '1928')\n",
        "sharks['Date'] = sharks['Date'].str.replace('(3dayafterprecedgcident)&priorto19-Jul-1913', '19-Jul-1913')\n",
        "sharks['Date'] = sharks['Date'].str.replace('05-1930', 'May-1930')\n",
        "sharks['Date'] = sharks['Date'].str.replace('\"Durgthewar\"1943-1945', '1944')\n",
        "sharks['Date'] = sharks['Date'].str.replace('24-1959', '1959')\n",
        "sharks['Date'] = sharks['Date'].str.replace('late1960', 'Oct-1960')\n",
        "sharks['Date'] = sharks['Date'].str.replace('r1994', '1994')\n",
        "sharks['Date'] = sharks['Date'].str.replace('Between18&22-Dec-1944\t', '20-Dec-1944')\n",
        "sharks['Date'] = sharks['Date'].str.replace('13-Mar-1948\"Bittenlatweekend', '13-Mar1948')\n",
        "sharks['Date'] = sharks['Date'].str.replace('Between01-Aug-1951&08-Aug-1951', '04-Aug-1951')\n",
        "sharks['Date'] = sharks['Date'].str.replace('1899DurgtheSeigeLadymith', '1899')\n",
        "sharks['Date'] = sharks['Date'].str.replace('Letterdated10-Jan-1580', '10-Jan-1580')\n",
        "sharks['Date'] = sharks['Date'].str.replace('24-Oct-1888,uttookplacearound1868', '1868')\n",
        "sharks['Date'] = sharks['Date'].str.replace('mid-1870', '1870')\n",
        "sharks['Date'] = sharks['Date'].str.replace('AD', '')\n",
        "sharks['Date'] = sharks['Date'].str.replace('After', '')\n",
        "sharks['Date'] = sharks['Date'].str.replace('Letterdated10-Jan-1580', '10-Jan-1580')\n",
        "sharks['Date'] = sharks['Date'].str.replace('NaT(3dayafterprecedgcident)&priorto19-Jul-1913', '19-Jul-1913')\n",
        "sharks['Date'] = sharks['Date'].str.replace('-e', '-')\n",
        "sharks['Date'] = sharks['Date'].replace('Nodate(3dayafterprecedgcident)&priorto19-Jul-1913', '19-Jul-1913')\n",
        "\n",
        "\n",
        "\n",
        "sharks['Date'] = sharks['Date'].str.replace('--', '-')"
      ],
      "execution_count": 62,
      "outputs": []
    },
    {
      "cell_type": "code",
      "metadata": {
        "colab": {
          "base_uri": "https://localhost:8080/"
        },
        "id": "RDXSf67nPwNL",
        "outputId": "85de77f5-3473-41d8-f380-33e122573521"
      },
      "source": [
        "sharks['Date'].value_counts()"
      ],
      "execution_count": 63,
      "outputs": [
        {
          "output_type": "execute_result",
          "data": {
            "text/plain": [
              "1960                                13\n",
              "1950                                 9\n",
              "1957                                 8\n",
              "1962                                 8\n",
              "1970                                 8\n",
              "                                    ..\n",
              "16-Dec-2002                          1\n",
              "\"AnniveraryDay\"22-Jan-1850or1852     1\n",
              "May-1864                             1\n",
              "26-Sep-1785                          1\n",
              "26-Jan-1963                          1\n",
              "Name: Date, Length: 5552, dtype: int64"
            ]
          },
          "metadata": {
            "tags": []
          },
          "execution_count": 63
        }
      ]
    },
    {
      "cell_type": "code",
      "metadata": {
        "colab": {
          "base_uri": "https://localhost:8080/"
        },
        "id": "zPyRMYj4lzGY",
        "outputId": "9af90e4b-d2c9-429b-f19c-3a0bc7f82916"
      },
      "source": [
        "sharks['Date'].nunique()"
      ],
      "execution_count": 64,
      "outputs": [
        {
          "output_type": "execute_result",
          "data": {
            "text/plain": [
              "5552"
            ]
          },
          "metadata": {
            "tags": []
          },
          "execution_count": 64
        }
      ]
    },
    {
      "cell_type": "code",
      "metadata": {
        "colab": {
          "base_uri": "https://localhost:8080/"
        },
        "id": "PVniqe1y7uZo",
        "outputId": "45db7e39-fcc2-4fd8-c1d9-e2ab694c91f6"
      },
      "source": [
        "sharks['Date'].isnull().sum()"
      ],
      "execution_count": 65,
      "outputs": [
        {
          "output_type": "execute_result",
          "data": {
            "text/plain": [
              "150"
            ]
          },
          "metadata": {
            "tags": []
          },
          "execution_count": 65
        }
      ]
    },
    {
      "cell_type": "code",
      "metadata": {
        "colab": {
          "base_uri": "https://localhost:8080/"
        },
        "id": "tBbUKOwjEZbY",
        "outputId": "23089c7a-5a2d-4fea-8528-483950fa7949"
      },
      "source": [
        "filldate = sharks['Date'].fillna(sharks['Year'])\n",
        "filldate.isna().sum()"
      ],
      "execution_count": 66,
      "outputs": [
        {
          "output_type": "execute_result",
          "data": {
            "text/plain": [
              "0"
            ]
          },
          "metadata": {
            "tags": []
          },
          "execution_count": 66
        }
      ]
    },
    {
      "cell_type": "code",
      "metadata": {
        "id": "HSBPrPTqF8sR"
      },
      "source": [
        "sharks['Date'] = filldate"
      ],
      "execution_count": 67,
      "outputs": []
    },
    {
      "cell_type": "code",
      "metadata": {
        "colab": {
          "base_uri": "https://localhost:8080/"
        },
        "id": "g5jKWwuXCgWN",
        "outputId": "52ae04a2-3efa-4ea4-c556-6b31219191d6"
      },
      "source": [
        "sharks.loc[sharks['Date'].isnull(), :].sum()"
      ],
      "execution_count": 68,
      "outputs": [
        {
          "output_type": "execute_result",
          "data": {
            "text/plain": [
              "Date                      0.0\n",
              "Year                      0.0\n",
              "Type                      0.0\n",
              "Country                   0.0\n",
              "Area                      0.0\n",
              "Location                  0.0\n",
              "Activity                  0.0\n",
              "Sex                       0.0\n",
              "Age                       0.0\n",
              "Injury                    0.0\n",
              "Fatal                     0.0\n",
              "Time                      0.0\n",
              "Species                   0.0\n",
              "Investigator or Source    0.0\n",
              "Case Id                   0.0\n",
              "original order            0.0\n",
              "dtype: float64"
            ]
          },
          "metadata": {
            "tags": []
          },
          "execution_count": 68
        }
      ]
    },
    {
      "cell_type": "code",
      "metadata": {
        "id": "AIwz2ivNcm5A"
      },
      "source": [
        "sharks['Year'] = sharks['Year'].replace(0, np.nan)"
      ],
      "execution_count": 69,
      "outputs": []
    },
    {
      "cell_type": "code",
      "metadata": {
        "colab": {
          "base_uri": "https://localhost:8080/"
        },
        "id": "5d-EkeMmYTBt",
        "outputId": "7764b7e9-508a-4769-840e-6d1a4a8a7730"
      },
      "source": [
        "sharks['Year'].isnull().sum()"
      ],
      "execution_count": 70,
      "outputs": [
        {
          "output_type": "execute_result",
          "data": {
            "text/plain": [
              "129"
            ]
          },
          "metadata": {
            "tags": []
          },
          "execution_count": 70
        }
      ]
    },
    {
      "cell_type": "code",
      "metadata": {
        "colab": {
          "base_uri": "https://localhost:8080/"
        },
        "id": "qx_vtqgsIXQ7",
        "outputId": "67d9fabc-1291-4faa-c53a-290a396aa745"
      },
      "source": [
        "fillYear = sharks['Year'].fillna(sharks['Date'])\n",
        "fillYear.isna().sum()"
      ],
      "execution_count": 71,
      "outputs": [
        {
          "output_type": "execute_result",
          "data": {
            "text/plain": [
              "0"
            ]
          },
          "metadata": {
            "tags": []
          },
          "execution_count": 71
        }
      ]
    },
    {
      "cell_type": "code",
      "metadata": {
        "id": "gNIL4VIBXyIR"
      },
      "source": [
        "sharks['Year'] = fillYear"
      ],
      "execution_count": 72,
      "outputs": []
    },
    {
      "cell_type": "code",
      "metadata": {
        "colab": {
          "base_uri": "https://localhost:8080/"
        },
        "id": "Gn02yB3MXl8u",
        "outputId": "ff9c26ec-39a3-48e2-9a2f-931534f76ecc"
      },
      "source": [
        "sharks.loc[sharks['Year'].isnull(), :].sum()"
      ],
      "execution_count": 73,
      "outputs": [
        {
          "output_type": "execute_result",
          "data": {
            "text/plain": [
              "Date                      0.0\n",
              "Year                      0.0\n",
              "Type                      0.0\n",
              "Country                   0.0\n",
              "Area                      0.0\n",
              "Location                  0.0\n",
              "Activity                  0.0\n",
              "Sex                       0.0\n",
              "Age                       0.0\n",
              "Injury                    0.0\n",
              "Fatal                     0.0\n",
              "Time                      0.0\n",
              "Species                   0.0\n",
              "Investigator or Source    0.0\n",
              "Case Id                   0.0\n",
              "original order            0.0\n",
              "dtype: float64"
            ]
          },
          "metadata": {
            "tags": []
          },
          "execution_count": 73
        }
      ]
    },
    {
      "cell_type": "code",
      "metadata": {
        "colab": {
          "base_uri": "https://localhost:8080/"
        },
        "id": "nxtljXbarOLs",
        "outputId": "b118461b-c599-4b9f-8ade-1021dcdfb80b"
      },
      "source": [
        "Nodate = sharks['Year']=='Nodate'\n",
        "Nodate.sum()"
      ],
      "execution_count": 74,
      "outputs": [
        {
          "output_type": "execute_result",
          "data": {
            "text/plain": [
              "6"
            ]
          },
          "metadata": {
            "tags": []
          },
          "execution_count": 74
        }
      ]
    },
    {
      "cell_type": "code",
      "metadata": {
        "id": "AhZtHQ2FriSL"
      },
      "source": [
        "sharks.loc[sharks['Case Id']=='ND.0022', :] = sharks.loc[sharks['Case Id']=='ND.0022', :].replace('Nodate', '11-Jan-1940')"
      ],
      "execution_count": 75,
      "outputs": []
    },
    {
      "cell_type": "code",
      "metadata": {
        "id": "415sCvNwv54k"
      },
      "source": [
        "sharks.loc[sharks['Case Id']=='ND.0042', :] = sharks.loc[sharks['Case Id']=='ND.0042', :].replace('\"thewar\"', '28-Jun-1950')\n"
      ],
      "execution_count": 76,
      "outputs": []
    },
    {
      "cell_type": "code",
      "metadata": {
        "id": "XBq6ytyGsvGN"
      },
      "source": [
        "sharks.loc[sharks['Year']=='Nodate', :] = sharks.loc[sharks['Year']=='Nodate', :].replace('Nodate', '')"
      ],
      "execution_count": 77,
      "outputs": []
    },
    {
      "cell_type": "code",
      "metadata": {
        "colab": {
          "base_uri": "https://localhost:8080/"
        },
        "id": "mx4uM-QStpYM",
        "outputId": "b115ffab-5af7-4ba0-be37-e4e703aa2876"
      },
      "source": [
        "Nodate = sharks['Year']=='Nodate'\n",
        "Nodate.sum()"
      ],
      "execution_count": 78,
      "outputs": [
        {
          "output_type": "execute_result",
          "data": {
            "text/plain": [
              "0"
            ]
          },
          "metadata": {
            "tags": []
          },
          "execution_count": 78
        }
      ]
    },
    {
      "cell_type": "code",
      "metadata": {
        "id": "SDzx34Cupqd9"
      },
      "source": [
        "sharks['Year'] = sharks['Year'].replace('08-Jan-2017', '2017')\n",
        "sharks['Year'] = sharks['Year'].replace('19-Aug-1836', '1836')\n",
        "sharks['Year'] = sharks['Year'].replace('214BC', '-214')\n",
        "sharks['Year'] = sharks['Year'].replace('336BC', '-336')\n",
        "sharks['Year'] = sharks['Year'].replace('493BC', '-493')\n",
        "sharks['Year'] = sharks['Year'].replace('725BC', '-725')\n",
        "sharks['Year'] = sharks['Year'].replace('1010BC', '-1010')\n",
        "sharks['Year'] = sharks['Year'].replace('Oct-2009', '2009')\n",
        "sharks['Year'] = sharks['Year'].replace('08-Jun-1912', '1912')\n",
        "sharks['Year'] = sharks['Year'].replace('Oct-1960', '1960')\n",
        "sharks['Year'] = sharks['Year'].replace('', 0)\n",
        "sharks['Year'] = sharks['Year'].replace('Feb-1998', 1998)\n",
        "sharks['Year'] = sharks['Year'].replace('May-1996', 1996)\n",
        "sharks['Year'] = sharks['Year'].replace('Mar-1995', 1995)\n",
        "sharks['Year'] = sharks['Year'].replace('Aug-1989', 1989)\n",
        "sharks['Year'] = sharks['Year'].replace('Aug-1987', 1987)\n",
        "sharks['Year'] = sharks['Year'].replace('3-Jan-1967', 1967)\n",
        "sharks['Year'] = sharks['Year'].replace('8-May-1965', 1965)\n",
        "sharks['Year'] = sharks['Year'].replace('19-Jun-1959', 1959)\n",
        "sharks['Year'] = sharks['Year'].replace('24-1959', 1959)\n",
        "sharks['Year'] = sharks['Year'].replace('Mar-1956', 1956)\n",
        "sharks['Year'] = sharks['Year'].replace('\"thewar\"', 1950)\n",
        "sharks['Year'] = sharks['Year'].replace('May-1930', 1930)\n",
        "sharks['Year'] = sharks['Year'].replace('11-Jan-1940', 1940)\n",
        "sharks['Year'] = sharks['Year'].replace('Nodate(3dayafterprecedgcident)&priorto19-Jul-1913', 1913)\n",
        "sharks['Year'] = sharks['Year'].replace('28-Jun-1950', 1950)\n",
        "sharks['Year'] = sharks['Year'].replace('17-Jul-1916', 1916)\n",
        "sharks['Year'] = sharks['Year'].replace('19-Jul-1913', 1913)\n"
      ],
      "execution_count": 79,
      "outputs": []
    },
    {
      "cell_type": "code",
      "metadata": {
        "colab": {
          "base_uri": "https://localhost:8080/",
          "height": 0
        },
        "id": "MPx2HTSWuVhj",
        "outputId": "3b65cc85-8b92-40d0-ed96-76aa1d128a86"
      },
      "source": [
        "sharks.loc[sharks['Year']== 0, :]"
      ],
      "execution_count": 80,
      "outputs": [
        {
          "output_type": "execute_result",
          "data": {
            "text/html": [
              "<div>\n",
              "<style scoped>\n",
              "    .dataframe tbody tr th:only-of-type {\n",
              "        vertical-align: middle;\n",
              "    }\n",
              "\n",
              "    .dataframe tbody tr th {\n",
              "        vertical-align: top;\n",
              "    }\n",
              "\n",
              "    .dataframe thead th {\n",
              "        text-align: right;\n",
              "    }\n",
              "</style>\n",
              "<table border=\"1\" class=\"dataframe\">\n",
              "  <thead>\n",
              "    <tr style=\"text-align: right;\">\n",
              "      <th></th>\n",
              "      <th>Date</th>\n",
              "      <th>Year</th>\n",
              "      <th>Type</th>\n",
              "      <th>Country</th>\n",
              "      <th>Area</th>\n",
              "      <th>Location</th>\n",
              "      <th>Activity</th>\n",
              "      <th>Sex</th>\n",
              "      <th>Age</th>\n",
              "      <th>Injury</th>\n",
              "      <th>Fatal</th>\n",
              "      <th>Time</th>\n",
              "      <th>Species</th>\n",
              "      <th>Investigator or Source</th>\n",
              "      <th>Case Id</th>\n",
              "      <th>original order</th>\n",
              "    </tr>\n",
              "  </thead>\n",
              "  <tbody>\n",
              "    <tr>\n",
              "      <th>6582</th>\n",
              "      <td></td>\n",
              "      <td>0</td>\n",
              "      <td>Unprovoked</td>\n",
              "      <td>USA</td>\n",
              "      <td>Florida</td>\n",
              "      <td>Key West, Monroe County</td>\n",
              "      <td>Kitesurfing</td>\n",
              "      <td>M</td>\n",
              "      <td>NaN</td>\n",
              "      <td>Hand bitten</td>\n",
              "      <td>N</td>\n",
              "      <td>NaN</td>\n",
              "      <td>Unknown</td>\n",
              "      <td>Internet</td>\n",
              "      <td>ND.0097</td>\n",
              "      <td>86.0</td>\n",
              "    </tr>\n",
              "    <tr>\n",
              "      <th>6583</th>\n",
              "      <td></td>\n",
              "      <td>0</td>\n",
              "      <td>Unprovoked</td>\n",
              "      <td>REUNION</td>\n",
              "      <td>Grand'Anse</td>\n",
              "      <td>Petite-île</td>\n",
              "      <td>yachtsman in a zodiac</td>\n",
              "      <td>M</td>\n",
              "      <td>NaN</td>\n",
              "      <td>Survived</td>\n",
              "      <td>N</td>\n",
              "      <td>NaN</td>\n",
              "      <td>Unknown</td>\n",
              "      <td>G. Van Grevelynghe</td>\n",
              "      <td>ND.0096</td>\n",
              "      <td>85.0</td>\n",
              "    </tr>\n",
              "    <tr>\n",
              "      <th>6640</th>\n",
              "      <td></td>\n",
              "      <td>0</td>\n",
              "      <td>Unprovoked</td>\n",
              "      <td>GREECE</td>\n",
              "      <td>Dodecanese Islands</td>\n",
              "      <td>Symi Island</td>\n",
              "      <td>Sponge diving</td>\n",
              "      <td>M</td>\n",
              "      <td>NaN</td>\n",
              "      <td>Head bitten</td>\n",
              "      <td>N</td>\n",
              "      <td>NaN</td>\n",
              "      <td>Unknown</td>\n",
              "      <td>M. N. Kalafatas</td>\n",
              "      <td>ND.0027</td>\n",
              "      <td>28.0</td>\n",
              "    </tr>\n",
              "    <tr>\n",
              "      <th>6644</th>\n",
              "      <td></td>\n",
              "      <td>0</td>\n",
              "      <td>Unprovoked</td>\n",
              "      <td>SOUTH AFRICA</td>\n",
              "      <td>Western Cape Province</td>\n",
              "      <td>Arniston</td>\n",
              "      <td>Wading</td>\n",
              "      <td>F</td>\n",
              "      <td>NaN</td>\n",
              "      <td>Ankle bitten</td>\n",
              "      <td>N</td>\n",
              "      <td>NaN</td>\n",
              "      <td>Unknown</td>\n",
              "      <td>L. Green in Tavern of the Seas, p.182</td>\n",
              "      <td>ND.0023</td>\n",
              "      <td>24.0</td>\n",
              "    </tr>\n",
              "    <tr>\n",
              "      <th>6646</th>\n",
              "      <td></td>\n",
              "      <td>0</td>\n",
              "      <td>Unprovoked</td>\n",
              "      <td>SOUTH AFRICA</td>\n",
              "      <td>KwaZulu-Natal</td>\n",
              "      <td>Durban</td>\n",
              "      <td>Swimming in pool formed by construction of a w...</td>\n",
              "      <td>M</td>\n",
              "      <td>NaN</td>\n",
              "      <td>FATAL, leg severed</td>\n",
              "      <td>Y</td>\n",
              "      <td>NaN</td>\n",
              "      <td>Unknown</td>\n",
              "      <td>L. Green in South African Beachcomber, p.97</td>\n",
              "      <td>ND.0021</td>\n",
              "      <td>22.0</td>\n",
              "    </tr>\n",
              "  </tbody>\n",
              "</table>\n",
              "</div>"
            ],
            "text/plain": [
              "     Date Year  ...  Case Id original order\n",
              "6582         0  ...  ND.0097           86.0\n",
              "6583         0  ...  ND.0096           85.0\n",
              "6640         0  ...  ND.0027           28.0\n",
              "6644         0  ...  ND.0023           24.0\n",
              "6646         0  ...  ND.0021           22.0\n",
              "\n",
              "[5 rows x 16 columns]"
            ]
          },
          "metadata": {
            "tags": []
          },
          "execution_count": 80
        }
      ]
    },
    {
      "cell_type": "code",
      "metadata": {
        "id": "mvYbOHJDpMkT"
      },
      "source": [
        "sharks['Year'] = sharks['Year'].astype('int64')"
      ],
      "execution_count": 81,
      "outputs": []
    },
    {
      "cell_type": "code",
      "metadata": {
        "colab": {
          "base_uri": "https://localhost:8080/"
        },
        "id": "Xy7kad90n5aC",
        "outputId": "555c46fd-655f-4be9-acbc-43645c023f1a"
      },
      "source": [
        "sharks['Year'].dtype"
      ],
      "execution_count": 82,
      "outputs": [
        {
          "output_type": "execute_result",
          "data": {
            "text/plain": [
              "dtype('int64')"
            ]
          },
          "metadata": {
            "tags": []
          },
          "execution_count": 82
        }
      ]
    },
    {
      "cell_type": "code",
      "metadata": {
        "colab": {
          "base_uri": "https://localhost:8080/"
        },
        "id": "JHuQEfaMtncJ",
        "outputId": "50140f15-a66c-4895-8d62-45db17a8e4a2"
      },
      "source": [
        "BC = sharks[sharks['Date'].str.contains('BC') == True].count()\n",
        "BC"
      ],
      "execution_count": 83,
      "outputs": [
        {
          "output_type": "execute_result",
          "data": {
            "text/plain": [
              "Date                      5\n",
              "Year                      5\n",
              "Type                      5\n",
              "Country                   5\n",
              "Area                      4\n",
              "Location                  2\n",
              "Activity                  4\n",
              "Sex                       5\n",
              "Age                       0\n",
              "Injury                    5\n",
              "Fatal                     5\n",
              "Time                      0\n",
              "Species                   5\n",
              "Investigator or Source    5\n",
              "Case Id                   5\n",
              "original order            5\n",
              "dtype: int64"
            ]
          },
          "metadata": {
            "tags": []
          },
          "execution_count": 83
        }
      ]
    },
    {
      "cell_type": "markdown",
      "metadata": {
        "id": "eXRMswQxWce8"
      },
      "source": [
        "## SHARKS_DF"
      ]
    },
    {
      "cell_type": "markdown",
      "metadata": {
        "id": "izDQAMfcWmVv"
      },
      "source": [
        "- filtering out all dates with *BC* timestamps as well as dates *before 1677* as these are also out of the datetime timestamp bounds. By creating/renaming this DataFrame the original values can still be recalled and analyzed later if needed in the above **sharks** DataFrame.\n",
        "\n",
        "- converting ***Date*** column to datetime64 dtype. There are still many values in the ***Date*** column that are inconsistently formatted. Reformatting those values and imputing *01-01* to cells with year only values"
      ]
    },
    {
      "cell_type": "code",
      "metadata": {
        "id": "XuNKsKtAeh9o"
      },
      "source": [
        "sharks_df = sharks.drop(sharks.index[6539:6544])"
      ],
      "execution_count": 84,
      "outputs": []
    },
    {
      "cell_type": "code",
      "metadata": {
        "colab": {
          "base_uri": "https://localhost:8080/"
        },
        "id": "RXuCiVYdhLet",
        "outputId": "7d687d0a-eec9-4766-f736-369f37592066"
      },
      "source": [
        "Nodate.sum()"
      ],
      "execution_count": 85,
      "outputs": [
        {
          "output_type": "execute_result",
          "data": {
            "text/plain": [
              "0"
            ]
          },
          "metadata": {
            "tags": []
          },
          "execution_count": 85
        }
      ]
    },
    {
      "cell_type": "code",
      "metadata": {
        "colab": {
          "base_uri": "https://localhost:8080/",
          "height": 542
        },
        "id": "VP5JGFoih3YV",
        "outputId": "203b8e62-9cae-4293-8503-a8d648474044"
      },
      "source": [
        "sharks_df[6537:6547]"
      ],
      "execution_count": 86,
      "outputs": [
        {
          "output_type": "execute_result",
          "data": {
            "text/html": [
              "<div>\n",
              "<style scoped>\n",
              "    .dataframe tbody tr th:only-of-type {\n",
              "        vertical-align: middle;\n",
              "    }\n",
              "\n",
              "    .dataframe tbody tr th {\n",
              "        vertical-align: top;\n",
              "    }\n",
              "\n",
              "    .dataframe thead th {\n",
              "        text-align: right;\n",
              "    }\n",
              "</style>\n",
              "<table border=\"1\" class=\"dataframe\">\n",
              "  <thead>\n",
              "    <tr style=\"text-align: right;\">\n",
              "      <th></th>\n",
              "      <th>Date</th>\n",
              "      <th>Year</th>\n",
              "      <th>Type</th>\n",
              "      <th>Country</th>\n",
              "      <th>Area</th>\n",
              "      <th>Location</th>\n",
              "      <th>Activity</th>\n",
              "      <th>Sex</th>\n",
              "      <th>Age</th>\n",
              "      <th>Injury</th>\n",
              "      <th>Fatal</th>\n",
              "      <th>Time</th>\n",
              "      <th>Species</th>\n",
              "      <th>Investigator or Source</th>\n",
              "      <th>Case Id</th>\n",
              "      <th>original order</th>\n",
              "    </tr>\n",
              "  </thead>\n",
              "  <tbody>\n",
              "    <tr>\n",
              "      <th>6537</th>\n",
              "      <td>77</td>\n",
              "      <td>77</td>\n",
              "      <td>Unprovoked</td>\n",
              "      <td>GREECE</td>\n",
              "      <td>Ionian Sea</td>\n",
              "      <td>NaN</td>\n",
              "      <td>Sponge diving</td>\n",
              "      <td>M</td>\n",
              "      <td>NaN</td>\n",
              "      <td>FATAL</td>\n",
              "      <td>Y</td>\n",
              "      <td>NaN</td>\n",
              "      <td>Unknown</td>\n",
              "      <td>Perils mentioned by Pliny the Elder (23 A.D. t...</td>\n",
              "      <td>0077.00.00</td>\n",
              "      <td>131.0</td>\n",
              "    </tr>\n",
              "    <tr>\n",
              "      <th>6538</th>\n",
              "      <td>5</td>\n",
              "      <td>5</td>\n",
              "      <td>Unprovoked</td>\n",
              "      <td>AUSTRALIA</td>\n",
              "      <td>New South Wales</td>\n",
              "      <td>Bondi</td>\n",
              "      <td>NaN</td>\n",
              "      <td>M</td>\n",
              "      <td>NaN</td>\n",
              "      <td>Aboriginal rock carving depicts man being atta...</td>\n",
              "      <td>N</td>\n",
              "      <td>NaN</td>\n",
              "      <td>Unknown</td>\n",
              "      <td>Waverly Library</td>\n",
              "      <td>0005.00.00</td>\n",
              "      <td>130.0</td>\n",
              "    </tr>\n",
              "    <tr>\n",
              "      <th>6545</th>\n",
              "      <td>2013</td>\n",
              "      <td>2013</td>\n",
              "      <td>Unprovoked</td>\n",
              "      <td>AUSTRALIA</td>\n",
              "      <td>Queensland</td>\n",
              "      <td>Otter Reef</td>\n",
              "      <td>Spearfishing</td>\n",
              "      <td>M</td>\n",
              "      <td>NaN</td>\n",
              "      <td>Shark bumped him, but no injury</td>\n",
              "      <td>N</td>\n",
              "      <td>NaN</td>\n",
              "      <td>Hammerhead shark</td>\n",
              "      <td>K. McMurray, TrackingSharks.com</td>\n",
              "      <td>ND-0156</td>\n",
              "      <td>123.0</td>\n",
              "    </tr>\n",
              "    <tr>\n",
              "      <th>6546</th>\n",
              "      <td>1824</td>\n",
              "      <td>1824</td>\n",
              "      <td>Unprovoked</td>\n",
              "      <td>AUSTRALIA</td>\n",
              "      <td>Queensland</td>\n",
              "      <td>Newstead</td>\n",
              "      <td>Swimming</td>\n",
              "      <td>F</td>\n",
              "      <td>NaN</td>\n",
              "      <td>Left calf removed</td>\n",
              "      <td>UnV</td>\n",
              "      <td>NaN</td>\n",
              "      <td>Unknown</td>\n",
              "      <td>B. Myatt, GSAF</td>\n",
              "      <td>ND-0155</td>\n",
              "      <td>122.0</td>\n",
              "    </tr>\n",
              "    <tr>\n",
              "      <th>6547</th>\n",
              "      <td>1939</td>\n",
              "      <td>1939</td>\n",
              "      <td>Unprovoked</td>\n",
              "      <td>CANADA</td>\n",
              "      <td>NaN</td>\n",
              "      <td>Grand Banks</td>\n",
              "      <td>Fishing</td>\n",
              "      <td>M</td>\n",
              "      <td>NaN</td>\n",
              "      <td>Arm bitten</td>\n",
              "      <td>N</td>\n",
              "      <td>NaN</td>\n",
              "      <td>Unknown</td>\n",
              "      <td>C.E.Russell, pp. 310-311</td>\n",
              "      <td>ND-0154</td>\n",
              "      <td>121.0</td>\n",
              "    </tr>\n",
              "    <tr>\n",
              "      <th>6548</th>\n",
              "      <td>1990</td>\n",
              "      <td>1990</td>\n",
              "      <td>Unprovoked</td>\n",
              "      <td>KENYA</td>\n",
              "      <td>Mombasa</td>\n",
              "      <td>Kilindini</td>\n",
              "      <td>Diving</td>\n",
              "      <td>M</td>\n",
              "      <td>NaN</td>\n",
              "      <td>Conway's leg was bitten Higgs injury was FATAL</td>\n",
              "      <td>N</td>\n",
              "      <td>NaN</td>\n",
              "      <td>Unknown</td>\n",
              "      <td>A.J. Venter</td>\n",
              "      <td>ND-0153</td>\n",
              "      <td>120.0</td>\n",
              "    </tr>\n",
              "    <tr>\n",
              "      <th>6549</th>\n",
              "      <td>2016</td>\n",
              "      <td>2016</td>\n",
              "      <td>Unprovoked</td>\n",
              "      <td>KENYA</td>\n",
              "      <td>Mombasa</td>\n",
              "      <td>Kilindini</td>\n",
              "      <td>Diving</td>\n",
              "      <td>M</td>\n",
              "      <td>NaN</td>\n",
              "      <td>FATAL</td>\n",
              "      <td>Y</td>\n",
              "      <td>NaN</td>\n",
              "      <td>Unknown</td>\n",
              "      <td>eadestination</td>\n",
              "      <td>ND-0152</td>\n",
              "      <td>119.0</td>\n",
              "    </tr>\n",
              "    <tr>\n",
              "      <th>6550</th>\n",
              "      <td>Oct-2009</td>\n",
              "      <td>2009</td>\n",
              "      <td>Unprovoked</td>\n",
              "      <td>PANAMA</td>\n",
              "      <td>Bocas del Toro Province</td>\n",
              "      <td>Red Frog Beach</td>\n",
              "      <td>Swimming/</td>\n",
              "      <td>M</td>\n",
              "      <td>20</td>\n",
              "      <td>FATAL</td>\n",
              "      <td>Y</td>\n",
              "      <td>NaN</td>\n",
              "      <td>Unknown</td>\n",
              "      <td>C. Mendieta &amp; A. Duarte</td>\n",
              "      <td>ND-0151</td>\n",
              "      <td>118.0</td>\n",
              "    </tr>\n",
              "    <tr>\n",
              "      <th>6551</th>\n",
              "      <td>1934</td>\n",
              "      <td>1934</td>\n",
              "      <td>Unprovoked</td>\n",
              "      <td>URUGUAY</td>\n",
              "      <td>Rocha</td>\n",
              "      <td>Isla Chica, La Paloma</td>\n",
              "      <td>Swimming</td>\n",
              "      <td>NaN</td>\n",
              "      <td>NaN</td>\n",
              "      <td>Foot bitten</td>\n",
              "      <td>N</td>\n",
              "      <td>NaN</td>\n",
              "      <td>Unknown</td>\n",
              "      <td>Di Candia, 2004</td>\n",
              "      <td>ND-0150</td>\n",
              "      <td>117.0</td>\n",
              "    </tr>\n",
              "    <tr>\n",
              "      <th>6552</th>\n",
              "      <td>1934</td>\n",
              "      <td>1934</td>\n",
              "      <td>Unprovoked</td>\n",
              "      <td>URUGUAY</td>\n",
              "      <td>Rocha</td>\n",
              "      <td>Playa del Barco, La Pedrera</td>\n",
              "      <td>Swimming</td>\n",
              "      <td>M</td>\n",
              "      <td>NaN</td>\n",
              "      <td>FATAL</td>\n",
              "      <td>Y</td>\n",
              "      <td>NaN</td>\n",
              "      <td>Unknown</td>\n",
              "      <td>Di Candia, 2004</td>\n",
              "      <td>ND-0149</td>\n",
              "      <td>116.0</td>\n",
              "    </tr>\n",
              "  </tbody>\n",
              "</table>\n",
              "</div>"
            ],
            "text/plain": [
              "          Date  Year  ...     Case Id original order\n",
              "6537        77    77  ...  0077.00.00          131.0\n",
              "6538         5     5  ...  0005.00.00          130.0\n",
              "6545      2013  2013  ...     ND-0156          123.0\n",
              "6546      1824  1824  ...     ND-0155          122.0\n",
              "6547      1939  1939  ...     ND-0154          121.0\n",
              "6548      1990  1990  ...     ND-0153          120.0\n",
              "6549      2016  2016  ...     ND-0152          119.0\n",
              "6550  Oct-2009  2009  ...     ND-0151          118.0\n",
              "6551      1934  1934  ...     ND-0150          117.0\n",
              "6552      1934  1934  ...     ND-0149          116.0\n",
              "\n",
              "[10 rows x 16 columns]"
            ]
          },
          "metadata": {
            "tags": []
          },
          "execution_count": 86
        }
      ]
    },
    {
      "cell_type": "code",
      "metadata": {
        "colab": {
          "base_uri": "https://localhost:8080/",
          "height": 35
        },
        "id": "mseK0DI1kaqR",
        "outputId": "c1aa7f2f-6c24-40a0-d666-617b4c1fd4ef"
      },
      "source": [
        "sharks_df.Date[6654]"
      ],
      "execution_count": 87,
      "outputs": [
        {
          "output_type": "execute_result",
          "data": {
            "application/vnd.google.colaboratory.intrinsic+json": {
              "type": "string"
            },
            "text/plain": [
              "'Nodate(3dayafterprecedgcident)&priorto19-Jul-1913'"
            ]
          },
          "metadata": {
            "tags": []
          },
          "execution_count": 87
        }
      ]
    },
    {
      "cell_type": "code",
      "metadata": {
        "id": "p40ZysFHz1Yk"
      },
      "source": [
        "sharks_df.loc[sharks_df.index == 6654, 'Date'] = '19-Jul-1913'"
      ],
      "execution_count": 88,
      "outputs": []
    },
    {
      "cell_type": "code",
      "metadata": {
        "colab": {
          "base_uri": "https://localhost:8080/",
          "height": 114
        },
        "id": "YbDllA-n0_8k",
        "outputId": "9386860f-e43a-4147-cc64-57c33b0ef087"
      },
      "source": [
        "sharks_df.loc[sharks_df.index == 6654, :]"
      ],
      "execution_count": 89,
      "outputs": [
        {
          "output_type": "execute_result",
          "data": {
            "text/html": [
              "<div>\n",
              "<style scoped>\n",
              "    .dataframe tbody tr th:only-of-type {\n",
              "        vertical-align: middle;\n",
              "    }\n",
              "\n",
              "    .dataframe tbody tr th {\n",
              "        vertical-align: top;\n",
              "    }\n",
              "\n",
              "    .dataframe thead th {\n",
              "        text-align: right;\n",
              "    }\n",
              "</style>\n",
              "<table border=\"1\" class=\"dataframe\">\n",
              "  <thead>\n",
              "    <tr style=\"text-align: right;\">\n",
              "      <th></th>\n",
              "      <th>Date</th>\n",
              "      <th>Year</th>\n",
              "      <th>Type</th>\n",
              "      <th>Country</th>\n",
              "      <th>Area</th>\n",
              "      <th>Location</th>\n",
              "      <th>Activity</th>\n",
              "      <th>Sex</th>\n",
              "      <th>Age</th>\n",
              "      <th>Injury</th>\n",
              "      <th>Fatal</th>\n",
              "      <th>Time</th>\n",
              "      <th>Species</th>\n",
              "      <th>Investigator or Source</th>\n",
              "      <th>Case Id</th>\n",
              "      <th>original order</th>\n",
              "    </tr>\n",
              "  </thead>\n",
              "  <tbody>\n",
              "    <tr>\n",
              "      <th>6654</th>\n",
              "      <td>19-Jul-1913</td>\n",
              "      <td>1913</td>\n",
              "      <td>Unprovoked</td>\n",
              "      <td>SOUTH AFRICA</td>\n",
              "      <td>KwaZulu-Natal</td>\n",
              "      <td>Durban</td>\n",
              "      <td>Fishing</td>\n",
              "      <td>M</td>\n",
              "      <td>NaN</td>\n",
              "      <td>FATAL, body not recovered but shark was caught...</td>\n",
              "      <td>Y</td>\n",
              "      <td>NaN</td>\n",
              "      <td>Unknown</td>\n",
              "      <td>Rural New Yorker, 7/19/1913</td>\n",
              "      <td>ND.0013</td>\n",
              "      <td>14.0</td>\n",
              "    </tr>\n",
              "  </tbody>\n",
              "</table>\n",
              "</div>"
            ],
            "text/plain": [
              "             Date  Year  ...  Case Id original order\n",
              "6654  19-Jul-1913  1913  ...  ND.0013           14.0\n",
              "\n",
              "[1 rows x 16 columns]"
            ]
          },
          "metadata": {
            "tags": []
          },
          "execution_count": 89
        }
      ]
    },
    {
      "cell_type": "code",
      "metadata": {
        "colab": {
          "base_uri": "https://localhost:8080/"
        },
        "id": "72_3KwdzZpSH",
        "outputId": "ef0de9f4-1399-4843-8825-cfafe9e4e92f"
      },
      "source": [
        "sharks_df['Date'].isna().sum()"
      ],
      "execution_count": 90,
      "outputs": [
        {
          "output_type": "execute_result",
          "data": {
            "text/plain": [
              "0"
            ]
          },
          "metadata": {
            "tags": []
          },
          "execution_count": 90
        }
      ]
    },
    {
      "cell_type": "code",
      "metadata": {
        "colab": {
          "base_uri": "https://localhost:8080/"
        },
        "id": "LORcTB0FhSU9",
        "outputId": "5ba101fb-c366-42f7-8388-286fe3a626db"
      },
      "source": [
        "Nodate.sum()"
      ],
      "execution_count": 91,
      "outputs": [
        {
          "output_type": "execute_result",
          "data": {
            "text/plain": [
              "0"
            ]
          },
          "metadata": {
            "tags": []
          },
          "execution_count": 91
        }
      ]
    },
    {
      "cell_type": "code",
      "metadata": {
        "id": "nEApefwlmlzJ"
      },
      "source": [
        "sharks_df.loc[sharks_df.index == 6532, 'Date'] = '10-Jan-1580'\n",
        "sharks_df.loc[sharks_df.index == 4799, 'Date'] = '05-Aug-1951'\n",
        "sharks_df.loc[sharks_df.index == 4991, 'Date'] = '20-Dec-1944'\n",
        "sharks_df.loc[sharks_df.index == 2808, 'Date'] = '1994'\n",
        "sharks_df.loc[sharks_df.index == 6384, 'Date'] = '22-Jan-1852'\n",
        "sharks_df.loc[sharks_df.index == 3204, 'Date'] = '15-Jul-1986'\n",
        "sharks_df.loc[sharks_df.index == 6164, 'Date'] = '05-Jan-1882'\n",
        "sharks_df.loc[sharks_df.index == 6287, 'Date'] = '24-Oct-1868'\n"
      ],
      "execution_count": 92,
      "outputs": []
    },
    {
      "cell_type": "code",
      "metadata": {
        "id": "zOFVEmDRfdjc"
      },
      "source": [
        "sharks_df = sharks_df.drop(sharks_df.index[1374])"
      ],
      "execution_count": 93,
      "outputs": []
    },
    {
      "cell_type": "code",
      "metadata": {
        "id": "n5CwltAtzosC"
      },
      "source": [
        "sharks_df.loc[sharks_df.index == 4716, 'Date'] = sharks_df.loc[sharks_df.index == 4716, 'Date'] = 1954\n",
        "sharks_df.loc[sharks_df.index == 4717, 'Date'] = sharks_df.loc[sharks_df.index == 4717, 'Date'] = 1954\n",
        "sharks_df.loc[sharks_df.index == 2059, 'Date'] = sharks_df.loc[sharks_df.index == 2059, 'Date'] = '31-Dec-2003'\n",
        "sharks_df.loc[sharks_df.index == 2055, 'Date'] = sharks_df.loc[sharks_df.index == 2055, 'Date'] = '07-Jan-2004'\n",
        "sharks_df.loc[sharks_df.index == 5960, 'Date'] = sharks_df.loc[sharks_df.index == 5960, 'Date'] = 1898\n",
        "sharks_df.loc[sharks_df.index == 6654, 'Date'] = sharks_df.loc[sharks_df.index == 6654, 'Date'] = '19-Jul-1913'\n",
        "sharks_df.loc[sharks_df.index == 6146, 'Date'] = sharks_df.loc[sharks_df.index == 6146, 'Date'] = '14-Sep-1883'\n",
        "sharks_df.loc[sharks_df.index == 6288, 'Date'] = sharks_df.loc[sharks_df.index == 6288, 'Date'] = '1868'\n",
        "sharks_df.loc[sharks_df.index == 6530, 'Date'] = sharks_df.loc[sharks_df.index == 6530, 'Date'] = '1642'\n",
        "sharks_df.loc[sharks_df.index == 1759, 'Date'] = sharks_df.loc[sharks_df.index == 1759, 'Date'] = '05-Jan-2007'\n",
        "sharks_df.loc[sharks_df.index == 2489, 'Date'] = sharks_df.loc[sharks_df.index == 2489, 'Date'] = '07-Jan-1999'\n"
      ],
      "execution_count": 94,
      "outputs": []
    },
    {
      "cell_type": "code",
      "metadata": {
        "colab": {
          "base_uri": "https://localhost:8080/",
          "height": 49
        },
        "id": "P2ZXfKTXhzdY",
        "outputId": "543bfd3b-0626-4f94-d8be-cd7295188cfb"
      },
      "source": [
        "sharks_df.loc[sharks_df.index == 1374, :]"
      ],
      "execution_count": 95,
      "outputs": [
        {
          "output_type": "execute_result",
          "data": {
            "text/html": [
              "<div>\n",
              "<style scoped>\n",
              "    .dataframe tbody tr th:only-of-type {\n",
              "        vertical-align: middle;\n",
              "    }\n",
              "\n",
              "    .dataframe tbody tr th {\n",
              "        vertical-align: top;\n",
              "    }\n",
              "\n",
              "    .dataframe thead th {\n",
              "        text-align: right;\n",
              "    }\n",
              "</style>\n",
              "<table border=\"1\" class=\"dataframe\">\n",
              "  <thead>\n",
              "    <tr style=\"text-align: right;\">\n",
              "      <th></th>\n",
              "      <th>Date</th>\n",
              "      <th>Year</th>\n",
              "      <th>Type</th>\n",
              "      <th>Country</th>\n",
              "      <th>Area</th>\n",
              "      <th>Location</th>\n",
              "      <th>Activity</th>\n",
              "      <th>Sex</th>\n",
              "      <th>Age</th>\n",
              "      <th>Injury</th>\n",
              "      <th>Fatal</th>\n",
              "      <th>Time</th>\n",
              "      <th>Species</th>\n",
              "      <th>Investigator or Source</th>\n",
              "      <th>Case Id</th>\n",
              "      <th>original order</th>\n",
              "    </tr>\n",
              "  </thead>\n",
              "  <tbody>\n",
              "  </tbody>\n",
              "</table>\n",
              "</div>"
            ],
            "text/plain": [
              "Empty DataFrame\n",
              "Columns: [Date, Year, Type, Country, Area, Location, Activity, Sex , Age, Injury, Fatal, Time, Species, Investigator or Source, Case Id, original order]\n",
              "Index: []"
            ]
          },
          "metadata": {
            "tags": []
          },
          "execution_count": 95
        }
      ]
    },
    {
      "cell_type": "code",
      "metadata": {
        "colab": {
          "base_uri": "https://localhost:8080/"
        },
        "id": "R74H1cb3aMs5",
        "outputId": "2d28b5f2-2f9e-458f-c6f9-c179db845e76"
      },
      "source": [
        "sharks_df['Date'].isna().sum()"
      ],
      "execution_count": 96,
      "outputs": [
        {
          "output_type": "execute_result",
          "data": {
            "text/plain": [
              "0"
            ]
          },
          "metadata": {
            "tags": []
          },
          "execution_count": 96
        }
      ]
    },
    {
      "cell_type": "code",
      "metadata": {
        "colab": {
          "base_uri": "https://localhost:8080/"
        },
        "id": "hgD3HjgjhYPb",
        "outputId": "bee75e9f-3bc4-48a7-909d-44adca7b6919"
      },
      "source": [
        "Nodate.sum()"
      ],
      "execution_count": 97,
      "outputs": [
        {
          "output_type": "execute_result",
          "data": {
            "text/plain": [
              "0"
            ]
          },
          "metadata": {
            "tags": []
          },
          "execution_count": 97
        }
      ]
    },
    {
      "cell_type": "code",
      "metadata": {
        "id": "yReidSKb7Vg1"
      },
      "source": [
        "sharks_df['Date'] = sharks_df['Date'].str.replace('10-Jul-202', '10-Jul-2020')\n",
        "sharks_df['Date'] = sharks_df['Date'].str.replace('17May-2020', '17-May-2020')\n",
        "sharks_df['Date'] = sharks_df['Date'].str.replace('Jun-1018', '01-Jun-2018')\n",
        "sharks_df['Date'] = sharks_df['Date'].str.replace('10-Jul-20200001', '10-Jul-2021')\n",
        "sharks_df['Date'] = sharks_df['Date'].str.replace('10-Jul-202000001', '10-Jul-2021')\n",
        "sharks_df['Date'] = sharks_df['Date'].str.replace('10-Jul-2020000001', '10-Jul-2021')\n",
        "sharks_df['Date'] = sharks_df['Date'].str.replace('20201', '2021')\n",
        "sharks_df['Date'] = sharks_df['Date'].str.replace('202001', '2021')\n",
        "sharks_df['Date'] = sharks_df['Date'].str.replace('2020001', '2021')\n",
        "sharks_df['Date'] = sharks_df['Date'].str.replace('10-Jul-2020000', '10-Jul-2020')\n",
        "sharks_df['Date'] = sharks_df['Date'].str.replace('10-Jul-20200', '10-Jul-2020')\n",
        "sharks_df['Date'] = sharks_df['Date'].str.replace('00-00-00-00-00-00-00-Jun-1018', '01-Jun-2018')\n",
        "sharks_df['Date'] = sharks_df['Date'].str.replace('07-Jul--2012', '07-Jul-2012')\n",
        "sharks_df['Date'] = sharks_df['Date'].str.replace('--', '-')\n",
        "sharks_df['Date'] = sharks_df['Date'].str.replace('19-Jul-2007a', '19-Jul-2007')\n",
        "sharks_df['Date'] = sharks_df['Date'].str.replace('25-Nov-', '25-Nov-2006')\n",
        "sharks_df['Date'] = sharks_df['Date'].str.replace('25-Nov-20062017', '25-Nov-2017')\n",
        "sharks_df['Date'] = sharks_df['Date'].str.replace('22-Jul-2011', '22-Jul-2011')\n",
        "sharks_df['Date'] = sharks_df['Date'].str.replace('25-Nov-20062009', '25-Nov-2009')\n",
        "sharks_df['Date'] = sharks_df['Date'].str.replace('25-Nov-20062008', '25-Nov-2008')\n",
        "sharks_df['Date'] = sharks_df['Date'].str.replace('11-Nov-', '11-Nov-2006')\n",
        "sharks_df['Date'] = sharks_df['Date'].str.replace('11-Nov-20062019', '11-Nov-2019')\n",
        "sharks_df['Date'] = sharks_df['Date'].str.replace('11-Nov-20062018', '11-Nov-2018')\n",
        "sharks_df['Date'] = sharks_df['Date'].str.replace('11-Nov-20062011', '11-Nov-2011')\n",
        "sharks_df['Date'] = sharks_df['Date'].str.replace('11-Nov-20062009', '11-Nov-2009')\n",
        "sharks_df['Date'] = sharks_df['Date'].str.replace('09-Nov-', '09-Nov-2006')\n",
        "sharks_df['Date'] = sharks_df['Date'].str.replace('09-Nov-20062009', '09-Nov-2019')\n",
        "sharks_df['Date'] = sharks_df['Date'].str.replace('09-Nov-20062019', '09-Nov-2019')\n",
        "sharks_df['Date'] = sharks_df['Date'].str.replace('09-Nov-20062018', '09-Nov-2018')\n",
        "sharks_df['Date'] = sharks_df['Date'].str.replace('09-Nov-20062008', '09-Nov-2008')\n",
        "sharks_df['Date'] = sharks_df['Date'].str.replace('25-Nov-20062005', '25-Nov-2005')\n",
        "sharks_df['Date'] = sharks_df['Date'].str.replace('25-Nov-20062006', '25-Nov-2006')\n",
        "sharks_df['Date'] = sharks_df['Date'].str.replace('11-Nov-20062004', '11-Nov-2004')\n",
        "sharks_df['Date'] = sharks_df['Date'].str.replace('11-Nov-20062006', '11-Nov-2006')\n",
        "sharks_df['Date'] = sharks_df['Date'].str.replace('11-Nov-20062002', '11-Nov-2002')\n",
        "sharks_df['Date'] = sharks_df['Date'].str.replace('09-Nov-20062006', '09-Nov-2006')\n",
        "sharks_df['Date'] = sharks_df['Date'].str.replace('02-Ap-2001', '02-Apr-2001')\n",
        "sharks_df['Date'] = sharks_df['Date'].str.replace('11-Nov-20061998', '11-Nov-1998')\n",
        "sharks_df['Date'] = sharks_df['Date'].str.replace('09-Nov-20061997', '09-Nov-1997')\n",
        "sharks_df['Date'] = sharks_df['Date'].str.replace('11-Nov-20061995', '11-Nov-1995')\n",
        "sharks_df['Date'] = sharks_df['Date'].str.replace('25-Nov-20061994', '25-Nov-1994')\n",
        "sharks_df['Date'] = sharks_df['Date'].str.replace('25-Nov-20061995', '25-Nov-1995')\n",
        "sharks_df['Date'] = sharks_df['Date'].str.replace('25-Nov-20061992', '25-Nov-1992')\n",
        "sharks_df['Date'] = sharks_df['Date'].str.replace('11-Nov-20061992', '11-Nov-1992')\n",
        "sharks_df['Date'] = sharks_df['Date'].str.replace('11-Nov-20061984', '11-Nov-1984')\n",
        "sharks_df['Date'] = sharks_df['Date'].str.replace('09-Nov-20061981', '09-Nov-1981')\n",
        "sharks_df['Date'] = sharks_df['Date'].str.replace('11-Nov-20061980', '11-Nov-1980')\n",
        "sharks_df['Date'] = sharks_df['Date'].str.replace('11-Nov-20061985', '11-Nov-1985')\n",
        "sharks_df['Date'] = sharks_df['Date'].str.replace('25-Nov-20061976', '25-Nov-1976')\n",
        "sharks_df['Date'] = sharks_df['Date'].str.replace('25-Nov-20061973', '25-Nov-1973')\n",
        "sharks_df['Date'] = sharks_df['Date'].str.replace('25-Nov-20061971', '25-Nov-1971')\n",
        "sharks_df['Date'] = sharks_df['Date'].str.replace('11-Nov-20061969', '11-Nov-1969')\n",
        "sharks_df['Date'] = sharks_df['Date'].str.replace('Wter1969', '15-Jan-1969')\n",
        "sharks_df['Date'] = sharks_df['Date'].str.replace('25-Nov-20061963', '25-Nov-1963')\n",
        "sharks_df['Date'] = sharks_df['Date'].str.replace('11-Nov-20061962', '11-Nov-1962')\n",
        "sharks_df['Date'] = sharks_df['Date'].str.replace('25-Nov-20061962', '25-Nov-1962')\n",
        "sharks_df['Date'] = sharks_df['Date'].str.replace('Jan-Jun-1962', 'Apr-1962')\n",
        "sharks_df['Date'] = sharks_df['Date'].str.replace('11-Nov-20061960', '11-Nov-1960')\n",
        "sharks_df['Date'] = sharks_df['Date'].str.replace('09-Nov-20061959', '09-Nov-1959')\n",
        "sharks_df['Date'] = sharks_df['Date'].str.replace('Jul-toSep-1959', 'Aug-1959')\n",
        "sharks_df['Date'] = sharks_df['Date'].str.replace('1958-1959', '1958')\n",
        "sharks_df['Date'] = sharks_df['Date'].str.replace('1954()', '1954')\n",
        "sharks_df['Date'] = sharks_df['Date'].str.replace('1952-1954', '1953')\n",
        "sharks_df['Date'] = sharks_df['Date'].str.replace('25-Nov-20061950', '25-Nov-1950')\n",
        "sharks_df['Date'] = sharks_df['Date'].str.replace('Mar-1949orApr-1949', 'Mar-1949')\n",
        "sharks_df['Date'] = sharks_df['Date'].str.replace('22-Jul-144', '22-Jul-1944')\n",
        "sharks_df['Date'] = sharks_df['Date'].str.replace('11-Nov-20061943', '11-Nov-1943')\n",
        "sharks_df['Date'] = sharks_df['Date'].str.replace('25-Nov-20061942', '25-Nov-1942')\n",
        "sharks_df['Date'] = sharks_df['Date'].str.replace('11-Sep-1942to16-Sep-1942', '13-Sep-1942')\n",
        "sharks_df['Date'] = sharks_df['Date'].str.replace('Wter1942', '15-Jan-1942')\n",
        "sharks_df['Date'] = sharks_df['Date'].str.replace('25-Nov-20061941', '25-Nov-1941')\n",
        "sharks_df['Date'] = sharks_df['Date'].str.replace('11-Nov-20061939', '11-Nov-1939')\n",
        "sharks_df['Date'] = sharks_df['Date'].str.replace('09-Nov-20061939', '09-Nov-1939')\n",
        "sharks_df['Date'] = sharks_df['Date'].str.replace('11-Nov-20061937', '11-Nov-1937')\n",
        "sharks_df['Date'] = sharks_df['Date'].str.replace('26-Sep-t937', '26-Sep-1937')\n",
        "sharks_df['Date'] = sharks_df['Date'].str.replace('08-Ap-1936', '08-Apr-1936')\n",
        "sharks_df['Date'] = sharks_df['Date'].str.replace('25-Nov-20061924', '25-Nov-1924')\n",
        "sharks_df['Date'] = sharks_df['Date'].str.replace('tohavetakenplace1919', '1919')\n",
        "sharks_df['Date'] = sharks_df['Date'].str.replace('09-Nov-20061916', '09-Nov-1916')\n",
        "sharks_df['Date'] = sharks_df['Date'].str.replace('14-Nov-1909to19-Nov-1909', '14-Nov-1909')\n",
        "sharks_df['Date'] = sharks_df['Date'].str.replace('1898()', '1898')\n",
        "sharks_df['Date'] = sharks_df['Date'].str.replace('Sometimeetween08-Jan-1928&21-Jan-1928', '14-Jan-1928')\n",
        "sharks_df['Date'] = sharks_df['Date'].str.replace('23-Dec-p1896', '23-Dec-1896')\n",
        "sharks_df['Date'] = sharks_df['Date'].str.replace('09-Nov-20061892', '09-Nov-1892')\n",
        "sharks_df['Date'] = sharks_df['Date'].str.replace('14-Sep-1883()', '14-Sep-1883')\n",
        "sharks_df['Date'] = sharks_df['Date'].str.replace('25-Nov-20061880', '25-Nov-1880')\n",
        "sharks_df['Date'] = sharks_df['Date'].str.replace('Nov-orDec-1873', 'Nov-1873')\n",
        "sharks_df['Date'] = sharks_df['Date'].str.replace('25-Nov-20061856', '25-Nov-1856')\n",
        "sharks_df['Date'] = sharks_df['Date'].str.replace('11-Nov-20061855', '11-Nov-1855')\n",
        "sharks_df['Date'] = sharks_df['Date'].str.replace('28-Sep-t-1853', '28-Sep-1853')\n",
        "sharks_df['Date'] = sharks_df['Date'].str.replace('18440716R', '16-Jul-1844')\n",
        "sharks_df['Date'] = sharks_df['Date'].str.replace('183600', '1836')\n",
        "sharks_df['Date'] = sharks_df['Date'].str.replace('03-Sep-t-1816', '03-Sep-1816')\n",
        "sharks_df['Date'] = sharks_df['Date'].str.replace('16001728', '1642')"
      ],
      "execution_count": 98,
      "outputs": []
    },
    {
      "cell_type": "code",
      "metadata": {
        "id": "CGhrHuxQU-RR"
      },
      "source": [
        "sharks_df['Date'] = sharks_df['Date'].str.replace('190Feb-2010', '19-Feb-2010')"
      ],
      "execution_count": 99,
      "outputs": []
    },
    {
      "cell_type": "code",
      "metadata": {
        "id": "JZ-D1gTzuyw1"
      },
      "source": [
        "sharks_df['Date'] = sharks_df['Date'].replace('', np.nan)"
      ],
      "execution_count": 100,
      "outputs": []
    },
    {
      "cell_type": "code",
      "metadata": {
        "colab": {
          "base_uri": "https://localhost:8080/",
          "height": 49
        },
        "id": "ksx6N1h7u3Nk",
        "outputId": "fd274df8-533e-4a47-a04d-aaf8095c3831"
      },
      "source": [
        "sharks_df.loc[sharks_df['Date']== '', :]"
      ],
      "execution_count": 101,
      "outputs": [
        {
          "output_type": "execute_result",
          "data": {
            "text/html": [
              "<div>\n",
              "<style scoped>\n",
              "    .dataframe tbody tr th:only-of-type {\n",
              "        vertical-align: middle;\n",
              "    }\n",
              "\n",
              "    .dataframe tbody tr th {\n",
              "        vertical-align: top;\n",
              "    }\n",
              "\n",
              "    .dataframe thead th {\n",
              "        text-align: right;\n",
              "    }\n",
              "</style>\n",
              "<table border=\"1\" class=\"dataframe\">\n",
              "  <thead>\n",
              "    <tr style=\"text-align: right;\">\n",
              "      <th></th>\n",
              "      <th>Date</th>\n",
              "      <th>Year</th>\n",
              "      <th>Type</th>\n",
              "      <th>Country</th>\n",
              "      <th>Area</th>\n",
              "      <th>Location</th>\n",
              "      <th>Activity</th>\n",
              "      <th>Sex</th>\n",
              "      <th>Age</th>\n",
              "      <th>Injury</th>\n",
              "      <th>Fatal</th>\n",
              "      <th>Time</th>\n",
              "      <th>Species</th>\n",
              "      <th>Investigator or Source</th>\n",
              "      <th>Case Id</th>\n",
              "      <th>original order</th>\n",
              "    </tr>\n",
              "  </thead>\n",
              "  <tbody>\n",
              "  </tbody>\n",
              "</table>\n",
              "</div>"
            ],
            "text/plain": [
              "Empty DataFrame\n",
              "Columns: [Date, Year, Type, Country, Area, Location, Activity, Sex , Age, Injury, Fatal, Time, Species, Investigator or Source, Case Id, original order]\n",
              "Index: []"
            ]
          },
          "metadata": {
            "tags": []
          },
          "execution_count": 101
        }
      ]
    },
    {
      "cell_type": "code",
      "metadata": {
        "colab": {
          "base_uri": "https://localhost:8080/"
        },
        "id": "5dDojgXcaS0y",
        "outputId": "ea6bf987-a1ee-4b5e-8621-fa02ff69d36d"
      },
      "source": [
        "sharks_df['Date'].isna().sum()"
      ],
      "execution_count": 102,
      "outputs": [
        {
          "output_type": "execute_result",
          "data": {
            "text/plain": [
              "158"
            ]
          },
          "metadata": {
            "tags": []
          },
          "execution_count": 102
        }
      ]
    },
    {
      "cell_type": "code",
      "metadata": {
        "colab": {
          "base_uri": "https://localhost:8080/"
        },
        "id": "yH3zoUaMhdDO",
        "outputId": "66c4c355-517c-41c3-d099-906150aaed8e"
      },
      "source": [
        "Nodate.sum()"
      ],
      "execution_count": 103,
      "outputs": [
        {
          "output_type": "execute_result",
          "data": {
            "text/plain": [
              "0"
            ]
          },
          "metadata": {
            "tags": []
          },
          "execution_count": 103
        }
      ]
    },
    {
      "cell_type": "code",
      "metadata": {
        "colab": {
          "base_uri": "https://localhost:8080/",
          "height": 161
        },
        "id": "vsOKlGQvDFXN",
        "outputId": "306979e6-880f-4271-e118-67b3abb97d7b"
      },
      "source": [
        "oo = sharks_df[sharks_df['Date'].str.contains('1642') == True]\n",
        "oo"
      ],
      "execution_count": 104,
      "outputs": [
        {
          "output_type": "execute_result",
          "data": {
            "text/html": [
              "<div>\n",
              "<style scoped>\n",
              "    .dataframe tbody tr th:only-of-type {\n",
              "        vertical-align: middle;\n",
              "    }\n",
              "\n",
              "    .dataframe tbody tr th {\n",
              "        vertical-align: top;\n",
              "    }\n",
              "\n",
              "    .dataframe thead th {\n",
              "        text-align: right;\n",
              "    }\n",
              "</style>\n",
              "<table border=\"1\" class=\"dataframe\">\n",
              "  <thead>\n",
              "    <tr style=\"text-align: right;\">\n",
              "      <th></th>\n",
              "      <th>Date</th>\n",
              "      <th>Year</th>\n",
              "      <th>Type</th>\n",
              "      <th>Country</th>\n",
              "      <th>Area</th>\n",
              "      <th>Location</th>\n",
              "      <th>Activity</th>\n",
              "      <th>Sex</th>\n",
              "      <th>Age</th>\n",
              "      <th>Injury</th>\n",
              "      <th>Fatal</th>\n",
              "      <th>Time</th>\n",
              "      <th>Species</th>\n",
              "      <th>Investigator or Source</th>\n",
              "      <th>Case Id</th>\n",
              "      <th>original order</th>\n",
              "    </tr>\n",
              "  </thead>\n",
              "  <tbody>\n",
              "    <tr>\n",
              "      <th>6526</th>\n",
              "      <td>1642</td>\n",
              "      <td>1642</td>\n",
              "      <td>Invalid</td>\n",
              "      <td>GUINEA</td>\n",
              "      <td>NaN</td>\n",
              "      <td>NaN</td>\n",
              "      <td>Went overboard</td>\n",
              "      <td>M</td>\n",
              "      <td>NaN</td>\n",
              "      <td>FATAL</td>\n",
              "      <td>UnV</td>\n",
              "      <td>NaN</td>\n",
              "      <td>Questionable</td>\n",
              "      <td>History of the Pyrates, by D. Defoe, Vol. 2, p.28</td>\n",
              "      <td>1642.00.00.b</td>\n",
              "      <td>142.0</td>\n",
              "    </tr>\n",
              "    <tr>\n",
              "      <th>6530</th>\n",
              "      <td>1642</td>\n",
              "      <td>1642</td>\n",
              "      <td>Unprovoked</td>\n",
              "      <td>USA</td>\n",
              "      <td>New York</td>\n",
              "      <td>Between Manhattan and The Bronx</td>\n",
              "      <td>Swimming</td>\n",
              "      <td>M</td>\n",
              "      <td>NaN</td>\n",
              "      <td>FATAL</td>\n",
              "      <td>Y</td>\n",
              "      <td>NaN</td>\n",
              "      <td>Unknown</td>\n",
              "      <td>Knickerbocker's History of New York, by Washin...</td>\n",
              "      <td>1642.00.00</td>\n",
              "      <td>138.0</td>\n",
              "    </tr>\n",
              "  </tbody>\n",
              "</table>\n",
              "</div>"
            ],
            "text/plain": [
              "      Date  Year  ...       Case Id original order\n",
              "6526  1642  1642  ...  1642.00.00.b          142.0\n",
              "6530  1642  1642  ...    1642.00.00          138.0\n",
              "\n",
              "[2 rows x 16 columns]"
            ]
          },
          "metadata": {
            "tags": []
          },
          "execution_count": 104
        }
      ]
    },
    {
      "cell_type": "code",
      "metadata": {
        "colab": {
          "base_uri": "https://localhost:8080/",
          "height": 49
        },
        "id": "w19m1X9Y72aP",
        "outputId": "47c83a9c-08f7-4fdd-96fc-eaecbb8273ec"
      },
      "source": [
        "sharks_df.loc[sharks_df['Date'] == 'Nodate', :]"
      ],
      "execution_count": 105,
      "outputs": [
        {
          "output_type": "execute_result",
          "data": {
            "text/html": [
              "<div>\n",
              "<style scoped>\n",
              "    .dataframe tbody tr th:only-of-type {\n",
              "        vertical-align: middle;\n",
              "    }\n",
              "\n",
              "    .dataframe tbody tr th {\n",
              "        vertical-align: top;\n",
              "    }\n",
              "\n",
              "    .dataframe thead th {\n",
              "        text-align: right;\n",
              "    }\n",
              "</style>\n",
              "<table border=\"1\" class=\"dataframe\">\n",
              "  <thead>\n",
              "    <tr style=\"text-align: right;\">\n",
              "      <th></th>\n",
              "      <th>Date</th>\n",
              "      <th>Year</th>\n",
              "      <th>Type</th>\n",
              "      <th>Country</th>\n",
              "      <th>Area</th>\n",
              "      <th>Location</th>\n",
              "      <th>Activity</th>\n",
              "      <th>Sex</th>\n",
              "      <th>Age</th>\n",
              "      <th>Injury</th>\n",
              "      <th>Fatal</th>\n",
              "      <th>Time</th>\n",
              "      <th>Species</th>\n",
              "      <th>Investigator or Source</th>\n",
              "      <th>Case Id</th>\n",
              "      <th>original order</th>\n",
              "    </tr>\n",
              "  </thead>\n",
              "  <tbody>\n",
              "  </tbody>\n",
              "</table>\n",
              "</div>"
            ],
            "text/plain": [
              "Empty DataFrame\n",
              "Columns: [Date, Year, Type, Country, Area, Location, Activity, Sex , Age, Injury, Fatal, Time, Species, Investigator or Source, Case Id, original order]\n",
              "Index: []"
            ]
          },
          "metadata": {
            "tags": []
          },
          "execution_count": 105
        }
      ]
    },
    {
      "cell_type": "code",
      "metadata": {
        "colab": {
          "base_uri": "https://localhost:8080/"
        },
        "id": "jeOdykL8FJQ1",
        "outputId": "5db034ff-4a0c-448b-c037-7155a212d77c"
      },
      "source": [
        "sharks_df['Date'].isna().sum()"
      ],
      "execution_count": 106,
      "outputs": [
        {
          "output_type": "execute_result",
          "data": {
            "text/plain": [
              "158"
            ]
          },
          "metadata": {
            "tags": []
          },
          "execution_count": 106
        }
      ]
    },
    {
      "cell_type": "code",
      "metadata": {
        "colab": {
          "base_uri": "https://localhost:8080/",
          "height": 287
        },
        "id": "O7uH_Gv2iKMS",
        "outputId": "42d2a894-7788-475b-b132-fcd1c57bc76f"
      },
      "source": [
        "sharks_df.loc[sharks_df['Year']==0,:]"
      ],
      "execution_count": 107,
      "outputs": [
        {
          "output_type": "execute_result",
          "data": {
            "text/html": [
              "<div>\n",
              "<style scoped>\n",
              "    .dataframe tbody tr th:only-of-type {\n",
              "        vertical-align: middle;\n",
              "    }\n",
              "\n",
              "    .dataframe tbody tr th {\n",
              "        vertical-align: top;\n",
              "    }\n",
              "\n",
              "    .dataframe thead th {\n",
              "        text-align: right;\n",
              "    }\n",
              "</style>\n",
              "<table border=\"1\" class=\"dataframe\">\n",
              "  <thead>\n",
              "    <tr style=\"text-align: right;\">\n",
              "      <th></th>\n",
              "      <th>Date</th>\n",
              "      <th>Year</th>\n",
              "      <th>Type</th>\n",
              "      <th>Country</th>\n",
              "      <th>Area</th>\n",
              "      <th>Location</th>\n",
              "      <th>Activity</th>\n",
              "      <th>Sex</th>\n",
              "      <th>Age</th>\n",
              "      <th>Injury</th>\n",
              "      <th>Fatal</th>\n",
              "      <th>Time</th>\n",
              "      <th>Species</th>\n",
              "      <th>Investigator or Source</th>\n",
              "      <th>Case Id</th>\n",
              "      <th>original order</th>\n",
              "    </tr>\n",
              "  </thead>\n",
              "  <tbody>\n",
              "    <tr>\n",
              "      <th>6582</th>\n",
              "      <td>NaN</td>\n",
              "      <td>0</td>\n",
              "      <td>Unprovoked</td>\n",
              "      <td>USA</td>\n",
              "      <td>Florida</td>\n",
              "      <td>Key West, Monroe County</td>\n",
              "      <td>Kitesurfing</td>\n",
              "      <td>M</td>\n",
              "      <td>NaN</td>\n",
              "      <td>Hand bitten</td>\n",
              "      <td>N</td>\n",
              "      <td>NaN</td>\n",
              "      <td>Unknown</td>\n",
              "      <td>Internet</td>\n",
              "      <td>ND.0097</td>\n",
              "      <td>86.0</td>\n",
              "    </tr>\n",
              "    <tr>\n",
              "      <th>6583</th>\n",
              "      <td>NaN</td>\n",
              "      <td>0</td>\n",
              "      <td>Unprovoked</td>\n",
              "      <td>REUNION</td>\n",
              "      <td>Grand'Anse</td>\n",
              "      <td>Petite-île</td>\n",
              "      <td>yachtsman in a zodiac</td>\n",
              "      <td>M</td>\n",
              "      <td>NaN</td>\n",
              "      <td>Survived</td>\n",
              "      <td>N</td>\n",
              "      <td>NaN</td>\n",
              "      <td>Unknown</td>\n",
              "      <td>G. Van Grevelynghe</td>\n",
              "      <td>ND.0096</td>\n",
              "      <td>85.0</td>\n",
              "    </tr>\n",
              "    <tr>\n",
              "      <th>6640</th>\n",
              "      <td>NaN</td>\n",
              "      <td>0</td>\n",
              "      <td>Unprovoked</td>\n",
              "      <td>GREECE</td>\n",
              "      <td>Dodecanese Islands</td>\n",
              "      <td>Symi Island</td>\n",
              "      <td>Sponge diving</td>\n",
              "      <td>M</td>\n",
              "      <td>NaN</td>\n",
              "      <td>Head bitten</td>\n",
              "      <td>N</td>\n",
              "      <td>NaN</td>\n",
              "      <td>Unknown</td>\n",
              "      <td>M. N. Kalafatas</td>\n",
              "      <td>ND.0027</td>\n",
              "      <td>28.0</td>\n",
              "    </tr>\n",
              "    <tr>\n",
              "      <th>6644</th>\n",
              "      <td>NaN</td>\n",
              "      <td>0</td>\n",
              "      <td>Unprovoked</td>\n",
              "      <td>SOUTH AFRICA</td>\n",
              "      <td>Western Cape Province</td>\n",
              "      <td>Arniston</td>\n",
              "      <td>Wading</td>\n",
              "      <td>F</td>\n",
              "      <td>NaN</td>\n",
              "      <td>Ankle bitten</td>\n",
              "      <td>N</td>\n",
              "      <td>NaN</td>\n",
              "      <td>Unknown</td>\n",
              "      <td>L. Green in Tavern of the Seas, p.182</td>\n",
              "      <td>ND.0023</td>\n",
              "      <td>24.0</td>\n",
              "    </tr>\n",
              "    <tr>\n",
              "      <th>6646</th>\n",
              "      <td>NaN</td>\n",
              "      <td>0</td>\n",
              "      <td>Unprovoked</td>\n",
              "      <td>SOUTH AFRICA</td>\n",
              "      <td>KwaZulu-Natal</td>\n",
              "      <td>Durban</td>\n",
              "      <td>Swimming in pool formed by construction of a w...</td>\n",
              "      <td>M</td>\n",
              "      <td>NaN</td>\n",
              "      <td>FATAL, leg severed</td>\n",
              "      <td>Y</td>\n",
              "      <td>NaN</td>\n",
              "      <td>Unknown</td>\n",
              "      <td>L. Green in South African Beachcomber, p.97</td>\n",
              "      <td>ND.0021</td>\n",
              "      <td>22.0</td>\n",
              "    </tr>\n",
              "  </tbody>\n",
              "</table>\n",
              "</div>"
            ],
            "text/plain": [
              "     Date  Year  ...  Case Id original order\n",
              "6582  NaN     0  ...  ND.0097           86.0\n",
              "6583  NaN     0  ...  ND.0096           85.0\n",
              "6640  NaN     0  ...  ND.0027           28.0\n",
              "6644  NaN     0  ...  ND.0023           24.0\n",
              "6646  NaN     0  ...  ND.0021           22.0\n",
              "\n",
              "[5 rows x 16 columns]"
            ]
          },
          "metadata": {
            "tags": []
          },
          "execution_count": 107
        }
      ]
    },
    {
      "cell_type": "code",
      "metadata": {
        "colab": {
          "base_uri": "https://localhost:8080/"
        },
        "id": "JqQUS39RFjdS",
        "outputId": "f042227e-38e2-474e-9c60-35b5e9a8ff15"
      },
      "source": [
        "filldate = sharks_df['Date'].fillna(sharks_df['Year'])\n",
        "filldate.isna().sum()"
      ],
      "execution_count": 108,
      "outputs": [
        {
          "output_type": "execute_result",
          "data": {
            "text/plain": [
              "0"
            ]
          },
          "metadata": {
            "tags": []
          },
          "execution_count": 108
        }
      ]
    },
    {
      "cell_type": "code",
      "metadata": {
        "id": "mnXckBnQgx5z"
      },
      "source": [
        "sharks_df['Date'] = filldate"
      ],
      "execution_count": 109,
      "outputs": []
    },
    {
      "cell_type": "code",
      "metadata": {
        "colab": {
          "base_uri": "https://localhost:8080/"
        },
        "id": "w5_qfpong7cW",
        "outputId": "22f217dc-fc2c-4b2a-b5b3-82905a3e70db"
      },
      "source": [
        "sharks_df['Date'].isnull().sum()"
      ],
      "execution_count": 110,
      "outputs": [
        {
          "output_type": "execute_result",
          "data": {
            "text/plain": [
              "0"
            ]
          },
          "metadata": {
            "tags": []
          },
          "execution_count": 110
        }
      ]
    },
    {
      "cell_type": "code",
      "metadata": {
        "id": "jT1NNkEF_uUW"
      },
      "source": [
        "sharks_df = sharks_df.drop(sharks_df.index[6526])"
      ],
      "execution_count": 111,
      "outputs": []
    },
    {
      "cell_type": "code",
      "metadata": {
        "colab": {
          "base_uri": "https://localhost:8080/",
          "height": 161
        },
        "id": "6O1Cqx1D8p5X",
        "outputId": "94b55be2-1e4e-4a54-afd9-73c58ff3cc88"
      },
      "source": [
        "sharks_df.loc[sharks_df['Date'].str.contains('1642') == True, :]"
      ],
      "execution_count": 112,
      "outputs": [
        {
          "output_type": "execute_result",
          "data": {
            "text/html": [
              "<div>\n",
              "<style scoped>\n",
              "    .dataframe tbody tr th:only-of-type {\n",
              "        vertical-align: middle;\n",
              "    }\n",
              "\n",
              "    .dataframe tbody tr th {\n",
              "        vertical-align: top;\n",
              "    }\n",
              "\n",
              "    .dataframe thead th {\n",
              "        text-align: right;\n",
              "    }\n",
              "</style>\n",
              "<table border=\"1\" class=\"dataframe\">\n",
              "  <thead>\n",
              "    <tr style=\"text-align: right;\">\n",
              "      <th></th>\n",
              "      <th>Date</th>\n",
              "      <th>Year</th>\n",
              "      <th>Type</th>\n",
              "      <th>Country</th>\n",
              "      <th>Area</th>\n",
              "      <th>Location</th>\n",
              "      <th>Activity</th>\n",
              "      <th>Sex</th>\n",
              "      <th>Age</th>\n",
              "      <th>Injury</th>\n",
              "      <th>Fatal</th>\n",
              "      <th>Time</th>\n",
              "      <th>Species</th>\n",
              "      <th>Investigator or Source</th>\n",
              "      <th>Case Id</th>\n",
              "      <th>original order</th>\n",
              "    </tr>\n",
              "  </thead>\n",
              "  <tbody>\n",
              "    <tr>\n",
              "      <th>6526</th>\n",
              "      <td>1642</td>\n",
              "      <td>1642</td>\n",
              "      <td>Invalid</td>\n",
              "      <td>GUINEA</td>\n",
              "      <td>NaN</td>\n",
              "      <td>NaN</td>\n",
              "      <td>Went overboard</td>\n",
              "      <td>M</td>\n",
              "      <td>NaN</td>\n",
              "      <td>FATAL</td>\n",
              "      <td>UnV</td>\n",
              "      <td>NaN</td>\n",
              "      <td>Questionable</td>\n",
              "      <td>History of the Pyrates, by D. Defoe, Vol. 2, p.28</td>\n",
              "      <td>1642.00.00.b</td>\n",
              "      <td>142.0</td>\n",
              "    </tr>\n",
              "    <tr>\n",
              "      <th>6530</th>\n",
              "      <td>1642</td>\n",
              "      <td>1642</td>\n",
              "      <td>Unprovoked</td>\n",
              "      <td>USA</td>\n",
              "      <td>New York</td>\n",
              "      <td>Between Manhattan and The Bronx</td>\n",
              "      <td>Swimming</td>\n",
              "      <td>M</td>\n",
              "      <td>NaN</td>\n",
              "      <td>FATAL</td>\n",
              "      <td>Y</td>\n",
              "      <td>NaN</td>\n",
              "      <td>Unknown</td>\n",
              "      <td>Knickerbocker's History of New York, by Washin...</td>\n",
              "      <td>1642.00.00</td>\n",
              "      <td>138.0</td>\n",
              "    </tr>\n",
              "  </tbody>\n",
              "</table>\n",
              "</div>"
            ],
            "text/plain": [
              "      Date  Year  ...       Case Id original order\n",
              "6526  1642  1642  ...  1642.00.00.b          142.0\n",
              "6530  1642  1642  ...    1642.00.00          138.0\n",
              "\n",
              "[2 rows x 16 columns]"
            ]
          },
          "metadata": {
            "tags": []
          },
          "execution_count": 112
        }
      ]
    },
    {
      "cell_type": "code",
      "metadata": {
        "colab": {
          "base_uri": "https://localhost:8080/"
        },
        "id": "RMWK0ooSBftw",
        "outputId": "b9439192-3827-4234-ad78-e70707edbf5e"
      },
      "source": [
        "oob = sharks_df.loc[sharks_df['Year'] <=1677, :]\n",
        "oob.count()"
      ],
      "execution_count": 113,
      "outputs": [
        {
          "output_type": "execute_result",
          "data": {
            "text/plain": [
              "Date                      17\n",
              "Year                      17\n",
              "Type                      17\n",
              "Country                   17\n",
              "Area                      13\n",
              "Location                  10\n",
              "Activity                  13\n",
              "Sex                       15\n",
              "Age                        0\n",
              "Injury                    13\n",
              "Fatal                     17\n",
              "Time                       0\n",
              "Species                   17\n",
              "Investigator or Source    17\n",
              "Case Id                   17\n",
              "original order            17\n",
              "dtype: int64"
            ]
          },
          "metadata": {
            "tags": []
          },
          "execution_count": 113
        }
      ]
    },
    {
      "cell_type": "code",
      "metadata": {
        "id": "-2jCjvCdCxjk"
      },
      "source": [
        "sharks_df.drop(oob.index, inplace=True)"
      ],
      "execution_count": 114,
      "outputs": []
    },
    {
      "cell_type": "code",
      "metadata": {
        "colab": {
          "base_uri": "https://localhost:8080/"
        },
        "id": "F1b9oQRAFXUz",
        "outputId": "66c5d344-2974-4211-9bf4-b4f085c687b4"
      },
      "source": [
        "sharks_df.loc[sharks_df['Date'].index[2057], :]"
      ],
      "execution_count": 115,
      "outputs": [
        {
          "output_type": "execute_result",
          "data": {
            "text/plain": [
              "Date                                   2004\n",
              "Year                                   2004\n",
              "Type                             Unprovoked\n",
              "Country                           AUSTRALIA\n",
              "Area                      Western Australia\n",
              "Location                      Redgate Beach\n",
              "Activity                            Surfing\n",
              "Sex                                       M\n",
              "Age                                     NaN\n",
              "Injury                             No inury\n",
              "Fatal                                     N\n",
              "Time                                Morning\n",
              "Species                             Unknown\n",
              "Investigator or Source           J. Carlsen\n",
              "Case Id                          2004.00.00\n",
              "original order                         4610\n",
              "Name: 2058, dtype: object"
            ]
          },
          "metadata": {
            "tags": []
          },
          "execution_count": 115
        }
      ]
    },
    {
      "cell_type": "code",
      "metadata": {
        "id": "6F6v7OiZ6av9"
      },
      "source": [
        "sharks_df['Date'] = pd.to_datetime(sharks_df['Date'], format= '%d-%b-%Y', exact=False, infer_datetime_format=True, errors='coerce')"
      ],
      "execution_count": 116,
      "outputs": []
    },
    {
      "cell_type": "code",
      "metadata": {
        "colab": {
          "base_uri": "https://localhost:8080/"
        },
        "id": "Q6Bixn5EbbmA",
        "outputId": "9d0a3d0c-f094-4f0c-ca55-70c8850781cb"
      },
      "source": [
        "sharks_df['Date'].isna().sum()"
      ],
      "execution_count": 117,
      "outputs": [
        {
          "output_type": "execute_result",
          "data": {
            "text/plain": [
              "858"
            ]
          },
          "metadata": {
            "tags": []
          },
          "execution_count": 117
        }
      ]
    },
    {
      "cell_type": "code",
      "metadata": {
        "colab": {
          "base_uri": "https://localhost:8080/",
          "height": 652
        },
        "id": "d7V1KtFrOYGo",
        "outputId": "c9a9fc51-8bd5-4ef6-c07a-fdd60b5da175"
      },
      "source": [
        "sharks_df.loc[sharks_df['Date'].isna(), :]"
      ],
      "execution_count": 118,
      "outputs": [
        {
          "output_type": "execute_result",
          "data": {
            "text/html": [
              "<div>\n",
              "<style scoped>\n",
              "    .dataframe tbody tr th:only-of-type {\n",
              "        vertical-align: middle;\n",
              "    }\n",
              "\n",
              "    .dataframe tbody tr th {\n",
              "        vertical-align: top;\n",
              "    }\n",
              "\n",
              "    .dataframe thead th {\n",
              "        text-align: right;\n",
              "    }\n",
              "</style>\n",
              "<table border=\"1\" class=\"dataframe\">\n",
              "  <thead>\n",
              "    <tr style=\"text-align: right;\">\n",
              "      <th></th>\n",
              "      <th>Date</th>\n",
              "      <th>Year</th>\n",
              "      <th>Type</th>\n",
              "      <th>Country</th>\n",
              "      <th>Area</th>\n",
              "      <th>Location</th>\n",
              "      <th>Activity</th>\n",
              "      <th>Sex</th>\n",
              "      <th>Age</th>\n",
              "      <th>Injury</th>\n",
              "      <th>Fatal</th>\n",
              "      <th>Time</th>\n",
              "      <th>Species</th>\n",
              "      <th>Investigator or Source</th>\n",
              "      <th>Case Id</th>\n",
              "      <th>original order</th>\n",
              "    </tr>\n",
              "  </thead>\n",
              "  <tbody>\n",
              "    <tr>\n",
              "      <th>357</th>\n",
              "      <td>NaT</td>\n",
              "      <td>2018</td>\n",
              "      <td>Provoked</td>\n",
              "      <td>AUSTRALIA</td>\n",
              "      <td>Westerm Australia</td>\n",
              "      <td>Dugong Bay</td>\n",
              "      <td>Feeding sharks</td>\n",
              "      <td>F</td>\n",
              "      <td>34</td>\n",
              "      <td>Shallow lacerations to finger PROVOKED INCIDENT</td>\n",
              "      <td>N</td>\n",
              "      <td>NaN</td>\n",
              "      <td>Tawny nurse shark, 2m</td>\n",
              "      <td>Perth Now, 6/30/2018</td>\n",
              "      <td>2018.05.00</td>\n",
              "      <td>6311.0</td>\n",
              "    </tr>\n",
              "    <tr>\n",
              "      <th>431</th>\n",
              "      <td>NaT</td>\n",
              "      <td>2017</td>\n",
              "      <td>Watercraft</td>\n",
              "      <td>AUSTRALIA</td>\n",
              "      <td>Westerm Australia</td>\n",
              "      <td>Esperance</td>\n",
              "      <td>Fishing</td>\n",
              "      <td>NaN</td>\n",
              "      <td>NaN</td>\n",
              "      <td>sharks rammed boats, no injury to occupants</td>\n",
              "      <td>N</td>\n",
              "      <td>NaN</td>\n",
              "      <td>White shark, 3.5m</td>\n",
              "      <td>B. Myatt, GSAF</td>\n",
              "      <td>2017.09.14</td>\n",
              "      <td>6237.0</td>\n",
              "    </tr>\n",
              "    <tr>\n",
              "      <th>476</th>\n",
              "      <td>NaT</td>\n",
              "      <td>2017</td>\n",
              "      <td>Unprovoked</td>\n",
              "      <td>FRENCH POLYNESIA</td>\n",
              "      <td>Marquesas</td>\n",
              "      <td>Atuona Bay, Hiva Oa Island</td>\n",
              "      <td>Surfing</td>\n",
              "      <td>M</td>\n",
              "      <td>NaN</td>\n",
              "      <td>Injuries to hand and wrist</td>\n",
              "      <td>N</td>\n",
              "      <td>NaN</td>\n",
              "      <td>Unknown</td>\n",
              "      <td>Tahiti Infos, 6/6/2017</td>\n",
              "      <td>2017.06.05</td>\n",
              "      <td>6192.0</td>\n",
              "    </tr>\n",
              "    <tr>\n",
              "      <th>573</th>\n",
              "      <td>NaT</td>\n",
              "      <td>2016</td>\n",
              "      <td>Invalid</td>\n",
              "      <td>MEXICO</td>\n",
              "      <td>NaN</td>\n",
              "      <td>Guadalupe Island</td>\n",
              "      <td>Cage Diving</td>\n",
              "      <td>NaN</td>\n",
              "      <td>NaN</td>\n",
              "      <td>No injury to divers, white shark breached cage</td>\n",
              "      <td>UnV</td>\n",
              "      <td>NaN</td>\n",
              "      <td>Invalid</td>\n",
              "      <td>K. Yonker</td>\n",
              "      <td>2016.09.00</td>\n",
              "      <td>6095.0</td>\n",
              "    </tr>\n",
              "    <tr>\n",
              "      <th>628</th>\n",
              "      <td>NaT</td>\n",
              "      <td>2016</td>\n",
              "      <td>Unprovoked</td>\n",
              "      <td>USA</td>\n",
              "      <td>Louisiana</td>\n",
              "      <td>NaN</td>\n",
              "      <td>Wading</td>\n",
              "      <td>F</td>\n",
              "      <td>33</td>\n",
              "      <td>Minor injury to left foot</td>\n",
              "      <td>N</td>\n",
              "      <td>NaN</td>\n",
              "      <td>Blacktip shark, juvenile</td>\n",
              "      <td>Fox News, 11/12/2018</td>\n",
              "      <td>2016.05.00</td>\n",
              "      <td>6040.0</td>\n",
              "    </tr>\n",
              "    <tr>\n",
              "      <th>...</th>\n",
              "      <td>...</td>\n",
              "      <td>...</td>\n",
              "      <td>...</td>\n",
              "      <td>...</td>\n",
              "      <td>...</td>\n",
              "      <td>...</td>\n",
              "      <td>...</td>\n",
              "      <td>...</td>\n",
              "      <td>...</td>\n",
              "      <td>...</td>\n",
              "      <td>...</td>\n",
              "      <td>...</td>\n",
              "      <td>...</td>\n",
              "      <td>...</td>\n",
              "      <td>...</td>\n",
              "      <td>...</td>\n",
              "    </tr>\n",
              "    <tr>\n",
              "      <th>6662</th>\n",
              "      <td>NaT</td>\n",
              "      <td>1903</td>\n",
              "      <td>Unprovoked</td>\n",
              "      <td>AUSTRALIA</td>\n",
              "      <td>Western Australia</td>\n",
              "      <td>Roebuck Bay</td>\n",
              "      <td>Diving</td>\n",
              "      <td>M</td>\n",
              "      <td>NaN</td>\n",
              "      <td>FATAL</td>\n",
              "      <td>Y</td>\n",
              "      <td>NaN</td>\n",
              "      <td>Unknown</td>\n",
              "      <td>H. Taunton; N. Bartlett,  p. 234</td>\n",
              "      <td>ND.0005</td>\n",
              "      <td>6.0</td>\n",
              "    </tr>\n",
              "    <tr>\n",
              "      <th>6663</th>\n",
              "      <td>NaT</td>\n",
              "      <td>1903</td>\n",
              "      <td>Unprovoked</td>\n",
              "      <td>AUSTRALIA</td>\n",
              "      <td>Western Australia</td>\n",
              "      <td>NaN</td>\n",
              "      <td>Pearl diving</td>\n",
              "      <td>M</td>\n",
              "      <td>NaN</td>\n",
              "      <td>FATAL</td>\n",
              "      <td>Y</td>\n",
              "      <td>NaN</td>\n",
              "      <td>Unknown</td>\n",
              "      <td>H. Taunton; N. Bartlett,  pp. 233-234</td>\n",
              "      <td>ND.0004</td>\n",
              "      <td>5.0</td>\n",
              "    </tr>\n",
              "    <tr>\n",
              "      <th>6664</th>\n",
              "      <td>NaT</td>\n",
              "      <td>1903</td>\n",
              "      <td>Unprovoked</td>\n",
              "      <td>USA</td>\n",
              "      <td>North Carolina</td>\n",
              "      <td>Ocracoke Inlet</td>\n",
              "      <td>Swimming</td>\n",
              "      <td>M</td>\n",
              "      <td>NaN</td>\n",
              "      <td>FATAL</td>\n",
              "      <td>Y</td>\n",
              "      <td>NaN</td>\n",
              "      <td>Unknown</td>\n",
              "      <td>F. Schwartz, p.23; C. Creswell, GSAF</td>\n",
              "      <td>ND.0003</td>\n",
              "      <td>4.0</td>\n",
              "    </tr>\n",
              "    <tr>\n",
              "      <th>6665</th>\n",
              "      <td>NaT</td>\n",
              "      <td>1886</td>\n",
              "      <td>Unprovoked</td>\n",
              "      <td>PANAMA</td>\n",
              "      <td>NaN</td>\n",
              "      <td>Panama Bay 8ºN, 79ºW</td>\n",
              "      <td>NaN</td>\n",
              "      <td>M</td>\n",
              "      <td>NaN</td>\n",
              "      <td>FATAL</td>\n",
              "      <td>Y</td>\n",
              "      <td>NaN</td>\n",
              "      <td>Unknown</td>\n",
              "      <td>The Sun, 10/20/1938</td>\n",
              "      <td>ND.0002</td>\n",
              "      <td>3.0</td>\n",
              "    </tr>\n",
              "    <tr>\n",
              "      <th>6666</th>\n",
              "      <td>NaT</td>\n",
              "      <td>1849</td>\n",
              "      <td>Unprovoked</td>\n",
              "      <td>CEYLON (SRI LANKA)</td>\n",
              "      <td>Eastern Province</td>\n",
              "      <td>Below the English fort, Trincomalee</td>\n",
              "      <td>Swimming</td>\n",
              "      <td>M</td>\n",
              "      <td>15</td>\n",
              "      <td>FATAL. \"Shark bit him in half, carrying away t...</td>\n",
              "      <td>Y</td>\n",
              "      <td>NaN</td>\n",
              "      <td>Unknown</td>\n",
              "      <td>S.W. Baker</td>\n",
              "      <td>ND.0001</td>\n",
              "      <td>2.0</td>\n",
              "    </tr>\n",
              "  </tbody>\n",
              "</table>\n",
              "<p>858 rows × 16 columns</p>\n",
              "</div>"
            ],
            "text/plain": [
              "     Date  Year  ...     Case Id original order\n",
              "357   NaT  2018  ...  2018.05.00         6311.0\n",
              "431   NaT  2017  ...  2017.09.14         6237.0\n",
              "476   NaT  2017  ...  2017.06.05         6192.0\n",
              "573   NaT  2016  ...  2016.09.00         6095.0\n",
              "628   NaT  2016  ...  2016.05.00         6040.0\n",
              "...   ...   ...  ...         ...            ...\n",
              "6662  NaT  1903  ...     ND.0005            6.0\n",
              "6663  NaT  1903  ...     ND.0004            5.0\n",
              "6664  NaT  1903  ...     ND.0003            4.0\n",
              "6665  NaT  1886  ...     ND.0002            3.0\n",
              "6666  NaT  1849  ...     ND.0001            2.0\n",
              "\n",
              "[858 rows x 16 columns]"
            ]
          },
          "metadata": {
            "tags": []
          },
          "execution_count": 118
        }
      ]
    },
    {
      "cell_type": "code",
      "metadata": {
        "id": "BGt2HFTshOgK"
      },
      "source": [
        "sharks_df['Date'] = pd.to_datetime(sharks_df['Date'].fillna(sharks_df['Year']), format='%Y', exact=False, infer_datetime_format=True)"
      ],
      "execution_count": 119,
      "outputs": []
    },
    {
      "cell_type": "code",
      "metadata": {
        "colab": {
          "base_uri": "https://localhost:8080/"
        },
        "id": "iUXy0fsWNMLn",
        "outputId": "84030c13-6730-4c03-99a0-5a63f812c647"
      },
      "source": [
        "sharks_df['Date'].astype('datetime64')"
      ],
      "execution_count": 120,
      "outputs": [
        {
          "output_type": "execute_result",
          "data": {
            "text/plain": [
              "0      2021-01-01\n",
              "1      2021-01-01\n",
              "2      2021-01-01\n",
              "3      2021-01-01\n",
              "4      2021-01-01\n",
              "          ...    \n",
              "6662   1903-01-01\n",
              "6663   1903-01-01\n",
              "6664   1903-01-01\n",
              "6665   1886-01-01\n",
              "6666   1849-01-01\n",
              "Name: Date, Length: 6642, dtype: datetime64[ns]"
            ]
          },
          "metadata": {
            "tags": []
          },
          "execution_count": 120
        }
      ]
    },
    {
      "cell_type": "markdown",
      "metadata": {
        "id": "IugV6PqDSAkJ"
      },
      "source": [
        "> ## Remaining Colummns"
      ]
    },
    {
      "cell_type": "markdown",
      "metadata": {
        "id": "Se0a8BR8SF9Q"
      },
      "source": [
        "- deal with missing values in the, ***Area***, ***Locataion***, ***Activity***, ***Sex***, ***Age***, ***Injury***, ***Time*** and ***Investigator or Source*** columns"
      ]
    },
    {
      "cell_type": "code",
      "metadata": {
        "colab": {
          "base_uri": "https://localhost:8080/"
        },
        "id": "h48ToLh_SSWZ",
        "outputId": "04262bc8-ea33-4c68-e80f-6be32615f97b"
      },
      "source": [
        "sharks_df.isna().sum()"
      ],
      "execution_count": 121,
      "outputs": [
        {
          "output_type": "execute_result",
          "data": {
            "text/plain": [
              "Date                         0\n",
              "Year                         0\n",
              "Type                         0\n",
              "Country                      0\n",
              "Area                       451\n",
              "Location                   529\n",
              "Activity                   556\n",
              "Sex                        572\n",
              "Age                       2899\n",
              "Injury                      26\n",
              "Fatal                        0\n",
              "Time                      3419\n",
              "Species                      0\n",
              "Investigator or Source      18\n",
              "Case Id                      0\n",
              "original order               0\n",
              "dtype: int64"
            ]
          },
          "metadata": {
            "tags": []
          },
          "execution_count": 121
        }
      ]
    },
    {
      "cell_type": "code",
      "metadata": {
        "colab": {
          "base_uri": "https://localhost:8080/"
        },
        "id": "6UyOzvESPv9f",
        "outputId": "1d4eabe1-a729-415f-c1e3-c34b41c8e1f9"
      },
      "source": [
        "sharks_df['Location'].nunique()"
      ],
      "execution_count": 122,
      "outputs": [
        {
          "output_type": "execute_result",
          "data": {
            "text/plain": [
              "4325"
            ]
          },
          "metadata": {
            "tags": []
          },
          "execution_count": 122
        }
      ]
    },
    {
      "cell_type": "code",
      "metadata": {
        "id": "uUYzm8FFCc41"
      },
      "source": [
        "sharks_df['Location'] = sharks_df['Location'].fillna('Unspecified')"
      ],
      "execution_count": 123,
      "outputs": []
    },
    {
      "cell_type": "code",
      "metadata": {
        "id": "aXpSpz71fzVz",
        "colab": {
          "base_uri": "https://localhost:8080/",
          "height": 669
        },
        "outputId": "75c0ae12-8e26-423a-fb3d-472e6b54d037"
      },
      "source": [
        "sharks_df = sharks_df.drop(columns= 'original order')\n",
        "sharks_df"
      ],
      "execution_count": 124,
      "outputs": [
        {
          "output_type": "execute_result",
          "data": {
            "text/html": [
              "<div>\n",
              "<style scoped>\n",
              "    .dataframe tbody tr th:only-of-type {\n",
              "        vertical-align: middle;\n",
              "    }\n",
              "\n",
              "    .dataframe tbody tr th {\n",
              "        vertical-align: top;\n",
              "    }\n",
              "\n",
              "    .dataframe thead th {\n",
              "        text-align: right;\n",
              "    }\n",
              "</style>\n",
              "<table border=\"1\" class=\"dataframe\">\n",
              "  <thead>\n",
              "    <tr style=\"text-align: right;\">\n",
              "      <th></th>\n",
              "      <th>Date</th>\n",
              "      <th>Year</th>\n",
              "      <th>Type</th>\n",
              "      <th>Country</th>\n",
              "      <th>Area</th>\n",
              "      <th>Location</th>\n",
              "      <th>Activity</th>\n",
              "      <th>Sex</th>\n",
              "      <th>Age</th>\n",
              "      <th>Injury</th>\n",
              "      <th>Fatal</th>\n",
              "      <th>Time</th>\n",
              "      <th>Species</th>\n",
              "      <th>Investigator or Source</th>\n",
              "      <th>Case Id</th>\n",
              "    </tr>\n",
              "  </thead>\n",
              "  <tbody>\n",
              "    <tr>\n",
              "      <th>0</th>\n",
              "      <td>2021-01-01</td>\n",
              "      <td>2021</td>\n",
              "      <td>Unprovoked</td>\n",
              "      <td>AUSTRALIA</td>\n",
              "      <td>Western Australia</td>\n",
              "      <td>Rottnest Island</td>\n",
              "      <td>Surfing</td>\n",
              "      <td>M</td>\n",
              "      <td>NaN</td>\n",
              "      <td>No injury, knocked off board by shark</td>\n",
              "      <td>N</td>\n",
              "      <td>12h30</td>\n",
              "      <td>White shark, 3m</td>\n",
              "      <td>B. Myatt &amp; S. De Marchi, GSAF</td>\n",
              "      <td>2021.07.19</td>\n",
              "    </tr>\n",
              "    <tr>\n",
              "      <th>1</th>\n",
              "      <td>2021-01-01</td>\n",
              "      <td>2021</td>\n",
              "      <td>Unprovoked</td>\n",
              "      <td>USA</td>\n",
              "      <td>Florida</td>\n",
              "      <td>New Smyrna Beach, Volusia County</td>\n",
              "      <td>Boogie boarding</td>\n",
              "      <td>M</td>\n",
              "      <td>11</td>\n",
              "      <td>Leg bitten</td>\n",
              "      <td>N</td>\n",
              "      <td>16h30</td>\n",
              "      <td>Unknown</td>\n",
              "      <td>K. McMurray, TrackingSharks.com</td>\n",
              "      <td>2021.07.15</td>\n",
              "    </tr>\n",
              "    <tr>\n",
              "      <th>2</th>\n",
              "      <td>2021-01-01</td>\n",
              "      <td>2021</td>\n",
              "      <td>Unprovoked</td>\n",
              "      <td>SOUTH AFRICA</td>\n",
              "      <td>Eastern Cape Province</td>\n",
              "      <td>Jeffrey's Bay</td>\n",
              "      <td>Surfing</td>\n",
              "      <td>M</td>\n",
              "      <td>38</td>\n",
              "      <td>Injuries to leg and torso</td>\n",
              "      <td>N</td>\n",
              "      <td>07h07</td>\n",
              "      <td>Unknown</td>\n",
              "      <td>J. Marchard &amp; M. Michaelson, GSAF</td>\n",
              "      <td>2021.07.14</td>\n",
              "    </tr>\n",
              "    <tr>\n",
              "      <th>3</th>\n",
              "      <td>2021-01-01</td>\n",
              "      <td>2021</td>\n",
              "      <td>Provoked</td>\n",
              "      <td>BAHAMAS</td>\n",
              "      <td>NaN</td>\n",
              "      <td>Unspecified</td>\n",
              "      <td>Jackass Team's publicity stunt for Discovery C...</td>\n",
              "      <td>M</td>\n",
              "      <td>NaN</td>\n",
              "      <td>Lacerations to right hand  PROVOKED INCIDENT</td>\n",
              "      <td>N</td>\n",
              "      <td>NaN</td>\n",
              "      <td>Unknown</td>\n",
              "      <td>Yahoo.com, 7/11/2021</td>\n",
              "      <td>2021.07.11.R</td>\n",
              "    </tr>\n",
              "    <tr>\n",
              "      <th>4</th>\n",
              "      <td>2021-01-01</td>\n",
              "      <td>2021</td>\n",
              "      <td>Unprovoked</td>\n",
              "      <td>USA</td>\n",
              "      <td>Florida</td>\n",
              "      <td>Bathtub Beach, Martin County</td>\n",
              "      <td>Playing</td>\n",
              "      <td>F</td>\n",
              "      <td>9</td>\n",
              "      <td>Right foot bitten</td>\n",
              "      <td>N</td>\n",
              "      <td>16h39</td>\n",
              "      <td>Spinner shark, 4'?</td>\n",
              "      <td>J. Marchand, GSAF</td>\n",
              "      <td>2021.07.10.c</td>\n",
              "    </tr>\n",
              "    <tr>\n",
              "      <th>...</th>\n",
              "      <td>...</td>\n",
              "      <td>...</td>\n",
              "      <td>...</td>\n",
              "      <td>...</td>\n",
              "      <td>...</td>\n",
              "      <td>...</td>\n",
              "      <td>...</td>\n",
              "      <td>...</td>\n",
              "      <td>...</td>\n",
              "      <td>...</td>\n",
              "      <td>...</td>\n",
              "      <td>...</td>\n",
              "      <td>...</td>\n",
              "      <td>...</td>\n",
              "      <td>...</td>\n",
              "    </tr>\n",
              "    <tr>\n",
              "      <th>6662</th>\n",
              "      <td>1903-01-01</td>\n",
              "      <td>1903</td>\n",
              "      <td>Unprovoked</td>\n",
              "      <td>AUSTRALIA</td>\n",
              "      <td>Western Australia</td>\n",
              "      <td>Roebuck Bay</td>\n",
              "      <td>Diving</td>\n",
              "      <td>M</td>\n",
              "      <td>NaN</td>\n",
              "      <td>FATAL</td>\n",
              "      <td>Y</td>\n",
              "      <td>NaN</td>\n",
              "      <td>Unknown</td>\n",
              "      <td>H. Taunton; N. Bartlett,  p. 234</td>\n",
              "      <td>ND.0005</td>\n",
              "    </tr>\n",
              "    <tr>\n",
              "      <th>6663</th>\n",
              "      <td>1903-01-01</td>\n",
              "      <td>1903</td>\n",
              "      <td>Unprovoked</td>\n",
              "      <td>AUSTRALIA</td>\n",
              "      <td>Western Australia</td>\n",
              "      <td>Unspecified</td>\n",
              "      <td>Pearl diving</td>\n",
              "      <td>M</td>\n",
              "      <td>NaN</td>\n",
              "      <td>FATAL</td>\n",
              "      <td>Y</td>\n",
              "      <td>NaN</td>\n",
              "      <td>Unknown</td>\n",
              "      <td>H. Taunton; N. Bartlett,  pp. 233-234</td>\n",
              "      <td>ND.0004</td>\n",
              "    </tr>\n",
              "    <tr>\n",
              "      <th>6664</th>\n",
              "      <td>1903-01-01</td>\n",
              "      <td>1903</td>\n",
              "      <td>Unprovoked</td>\n",
              "      <td>USA</td>\n",
              "      <td>North Carolina</td>\n",
              "      <td>Ocracoke Inlet</td>\n",
              "      <td>Swimming</td>\n",
              "      <td>M</td>\n",
              "      <td>NaN</td>\n",
              "      <td>FATAL</td>\n",
              "      <td>Y</td>\n",
              "      <td>NaN</td>\n",
              "      <td>Unknown</td>\n",
              "      <td>F. Schwartz, p.23; C. Creswell, GSAF</td>\n",
              "      <td>ND.0003</td>\n",
              "    </tr>\n",
              "    <tr>\n",
              "      <th>6665</th>\n",
              "      <td>1886-01-01</td>\n",
              "      <td>1886</td>\n",
              "      <td>Unprovoked</td>\n",
              "      <td>PANAMA</td>\n",
              "      <td>NaN</td>\n",
              "      <td>Panama Bay 8ºN, 79ºW</td>\n",
              "      <td>NaN</td>\n",
              "      <td>M</td>\n",
              "      <td>NaN</td>\n",
              "      <td>FATAL</td>\n",
              "      <td>Y</td>\n",
              "      <td>NaN</td>\n",
              "      <td>Unknown</td>\n",
              "      <td>The Sun, 10/20/1938</td>\n",
              "      <td>ND.0002</td>\n",
              "    </tr>\n",
              "    <tr>\n",
              "      <th>6666</th>\n",
              "      <td>1849-01-01</td>\n",
              "      <td>1849</td>\n",
              "      <td>Unprovoked</td>\n",
              "      <td>CEYLON (SRI LANKA)</td>\n",
              "      <td>Eastern Province</td>\n",
              "      <td>Below the English fort, Trincomalee</td>\n",
              "      <td>Swimming</td>\n",
              "      <td>M</td>\n",
              "      <td>15</td>\n",
              "      <td>FATAL. \"Shark bit him in half, carrying away t...</td>\n",
              "      <td>Y</td>\n",
              "      <td>NaN</td>\n",
              "      <td>Unknown</td>\n",
              "      <td>S.W. Baker</td>\n",
              "      <td>ND.0001</td>\n",
              "    </tr>\n",
              "  </tbody>\n",
              "</table>\n",
              "<p>6642 rows × 15 columns</p>\n",
              "</div>"
            ],
            "text/plain": [
              "           Date  Year  ...                 Investigator or Source       Case Id\n",
              "0    2021-01-01  2021  ...          B. Myatt & S. De Marchi, GSAF    2021.07.19\n",
              "1    2021-01-01  2021  ...        K. McMurray, TrackingSharks.com    2021.07.15\n",
              "2    2021-01-01  2021  ...      J. Marchard & M. Michaelson, GSAF    2021.07.14\n",
              "3    2021-01-01  2021  ...                   Yahoo.com, 7/11/2021  2021.07.11.R\n",
              "4    2021-01-01  2021  ...                      J. Marchand, GSAF  2021.07.10.c\n",
              "...         ...   ...  ...                                    ...           ...\n",
              "6662 1903-01-01  1903  ...       H. Taunton; N. Bartlett,  p. 234       ND.0005\n",
              "6663 1903-01-01  1903  ...  H. Taunton; N. Bartlett,  pp. 233-234       ND.0004\n",
              "6664 1903-01-01  1903  ...   F. Schwartz, p.23; C. Creswell, GSAF       ND.0003\n",
              "6665 1886-01-01  1886  ...                    The Sun, 10/20/1938       ND.0002\n",
              "6666 1849-01-01  1849  ...                             S.W. Baker       ND.0001\n",
              "\n",
              "[6642 rows x 15 columns]"
            ]
          },
          "metadata": {
            "tags": []
          },
          "execution_count": 124
        }
      ]
    },
    {
      "cell_type": "code",
      "metadata": {
        "id": "bAQNkFI2Fc5p"
      },
      "source": [
        "sharks_df['Area'] = sharks_df['Area'].fillna('Unspecified')"
      ],
      "execution_count": 125,
      "outputs": []
    },
    {
      "cell_type": "code",
      "metadata": {
        "id": "pIMb82KoDGpG"
      },
      "source": [
        "sharks_df['Activity'] = sharks_df['Activity'].fillna('Unspecified')"
      ],
      "execution_count": 126,
      "outputs": []
    },
    {
      "cell_type": "code",
      "metadata": {
        "id": "z4w8K3GgDSGk"
      },
      "source": [
        "sharks_df['Sex '] = sharks_df['Sex '].fillna('U')"
      ],
      "execution_count": 127,
      "outputs": []
    },
    {
      "cell_type": "code",
      "metadata": {
        "id": "-aOHPmdCEVM0"
      },
      "source": [
        "sharks_df['Injury'] = sharks_df['Injury'].fillna('Unspecified')"
      ],
      "execution_count": 128,
      "outputs": []
    },
    {
      "cell_type": "code",
      "metadata": {
        "id": "w2zVHJ2IEzlE"
      },
      "source": [
        "sharks_df['Investigator or Source'] = sharks_df['Investigator or Source'].fillna('Unspecified')"
      ],
      "execution_count": 129,
      "outputs": []
    },
    {
      "cell_type": "code",
      "metadata": {
        "colab": {
          "base_uri": "https://localhost:8080/"
        },
        "id": "IbjkLVpaIPue",
        "outputId": "b27cb6fb-bcb5-4f9a-98c2-b34fa5222f15"
      },
      "source": [
        "sharks_df['Time'].nunique()"
      ],
      "execution_count": 130,
      "outputs": [
        {
          "output_type": "execute_result",
          "data": {
            "text/plain": [
              "390"
            ]
          },
          "metadata": {
            "tags": []
          },
          "execution_count": 130
        }
      ]
    },
    {
      "cell_type": "code",
      "metadata": {
        "id": "j-eqR9MAEikE"
      },
      "source": [
        "sharks_df['Time'] = sharks_df['Time'].fillna('Unspecified')"
      ],
      "execution_count": 131,
      "outputs": []
    },
    {
      "cell_type": "code",
      "metadata": {
        "id": "kdROZXmWCJQt",
        "colab": {
          "base_uri": "https://localhost:8080/"
        },
        "outputId": "005cc9e6-465f-4fac-8318-c0f617f53fe6"
      },
      "source": [
        "sharks_df['Time'].value_counts()"
      ],
      "execution_count": 132,
      "outputs": [
        {
          "output_type": "execute_result",
          "data": {
            "text/plain": [
              "Unspecified    3419\n",
              "Afternoon       204\n",
              "11h00           136\n",
              "Morning         128\n",
              "12h00           117\n",
              "               ... \n",
              "Nightfall         1\n",
              "10j30             1\n",
              "10h47             1\n",
              "13h23             1\n",
              "15h05             1\n",
              "Name: Time, Length: 391, dtype: int64"
            ]
          },
          "metadata": {
            "tags": []
          },
          "execution_count": 132
        }
      ]
    },
    {
      "cell_type": "code",
      "metadata": {
        "colab": {
          "base_uri": "https://localhost:8080/"
        },
        "id": "CtW4_WQYIbJZ",
        "outputId": "ba409fec-b0c4-4dfd-ebf6-43a4fe27bffe"
      },
      "source": [
        "sharks['Age'].nunique()"
      ],
      "execution_count": 133,
      "outputs": [
        {
          "output_type": "execute_result",
          "data": {
            "text/plain": [
              "237"
            ]
          },
          "metadata": {
            "tags": []
          },
          "execution_count": 133
        }
      ]
    },
    {
      "cell_type": "code",
      "metadata": {
        "id": "HxAIE3OkECbT"
      },
      "source": [
        "sharks_df['Age'] = sharks_df['Age'].fillna(0)"
      ],
      "execution_count": 134,
      "outputs": []
    },
    {
      "cell_type": "code",
      "metadata": {
        "colab": {
          "base_uri": "https://localhost:8080/"
        },
        "id": "visqoJxUEKo6",
        "outputId": "817a2b3a-ad47-4da7-9c81-0e88f98687c3"
      },
      "source": [
        "sharks_df['Age'].value_counts()"
      ],
      "execution_count": 135,
      "outputs": [
        {
          "output_type": "execute_result",
          "data": {
            "text/plain": [
              "0                          2899\n",
              "16                           88\n",
              "19                           88\n",
              "17                           84\n",
              "18                           82\n",
              "                           ... \n",
              "25 or 28                      1\n",
              "87                            1\n",
              "37, 67, 35, 27,  ? & 27       1\n",
              "16 to 18                      1\n",
              "2½                            1\n",
              "Name: Age, Length: 238, dtype: int64"
            ]
          },
          "metadata": {
            "tags": []
          },
          "execution_count": 135
        }
      ]
    },
    {
      "cell_type": "code",
      "metadata": {
        "colab": {
          "base_uri": "https://localhost:8080/"
        },
        "id": "QNiZPzF4Mvd8",
        "outputId": "11a4e846-fda0-45c9-8938-42bb3cf7a67c"
      },
      "source": [
        "sharks_df['Age'].isnull().sum()"
      ],
      "execution_count": 136,
      "outputs": [
        {
          "output_type": "execute_result",
          "data": {
            "text/plain": [
              "0"
            ]
          },
          "metadata": {
            "tags": []
          },
          "execution_count": 136
        }
      ]
    },
    {
      "cell_type": "code",
      "metadata": {
        "id": "I2r6I9abIpvR"
      },
      "source": [
        "sharks_df.loc[sharks_df.index == 325, 'Age'] = 17\n",
        "sharks_df.loc[sharks_df.index == 1673, 'Age'] = 18\n",
        "sharks_df.loc[sharks_df.index == 1785, 'Age'] = 12\n",
        "sharks_df.loc[sharks_df.index == 2093, 'Age'] = 8\n",
        "sharks_df.loc[sharks_df.index == 2230, 'Age'] = 30\n",
        "sharks_df.loc[sharks_df.index == 2298, 'Age'] = 33\n",
        "sharks_df.loc[sharks_df.index == 3541, 'Age'] = 21\n",
        "sharks_df.loc[sharks_df.index == 4290, 'Age'] = 25\n",
        "sharks_df.loc[sharks_df.index == 4432, 'Age'] = 13\n",
        "sharks_df.loc[sharks_df.index == 4849, 'Age'] = 7\n",
        "sharks_df.loc[sharks_df.index == 4989, 'Age'] = 8\n",
        "sharks_df.loc[sharks_df.index == 5178, 'Age'] = 9\n",
        "sharks_df.loc[sharks_df.index == 5672, 'Age'] = 10\n",
        "sharks_df.loc[sharks_df.index == 5843, 'Age'] = 31\n",
        "sharks_df.loc[sharks_df.index == 6425, 'Age'] = 7\n",
        "sharks_df.loc[sharks_df.index == 6630, 'Age'] = 13\n",
        "sharks_df.loc[sharks_df.index == 49, 'Age'] = 45\n"
      ],
      "execution_count": 137,
      "outputs": []
    },
    {
      "cell_type": "code",
      "metadata": {
        "colab": {
          "base_uri": "https://localhost:8080/"
        },
        "id": "7pqOG-EJGTlj",
        "outputId": "d7b6896e-2eae-4723-b6b4-cb442841b611"
      },
      "source": [
        "format_age = sharks_df[sharks_df['Age'].str.contains('s') == True]\n",
        "format_age.count()"
      ],
      "execution_count": 140,
      "outputs": [
        {
          "output_type": "execute_result",
          "data": {
            "text/plain": [
              "Date                      34\n",
              "Year                      34\n",
              "Type                      34\n",
              "Country                   34\n",
              "Area                      34\n",
              "Location                  34\n",
              "Activity                  34\n",
              "Sex                       34\n",
              "Age                       34\n",
              "Injury                    34\n",
              "Fatal                     34\n",
              "Time                      34\n",
              "Species                   34\n",
              "Investigator or Source    34\n",
              "Case Id                   34\n",
              "dtype: int64"
            ]
          },
          "metadata": {
            "tags": []
          },
          "execution_count": 140
        }
      ]
    },
    {
      "cell_type": "code",
      "metadata": {
        "id": "dRceVkLqMWRK"
      },
      "source": [
        "sharks_df['Age'] = sharks_df['Age'].replace('s', '')"
      ],
      "execution_count": 138,
      "outputs": []
    },
    {
      "cell_type": "code",
      "metadata": {
        "colab": {
          "base_uri": "https://localhost:8080/"
        },
        "id": "HxMPonKXMQhg",
        "outputId": "ae9b7ca7-49e8-4879-ac7b-8229d7a2da48"
      },
      "source": [
        "sharks_df['Age'].isnull().sum()"
      ],
      "execution_count": 141,
      "outputs": [
        {
          "output_type": "execute_result",
          "data": {
            "text/plain": [
              "0"
            ]
          },
          "metadata": {
            "tags": []
          },
          "execution_count": 141
        }
      ]
    },
    {
      "cell_type": "code",
      "metadata": {
        "colab": {
          "base_uri": "https://localhost:8080/",
          "height": 337
        },
        "id": "vNOa02vNGDhs",
        "outputId": "39e299da-b90f-46ec-e96d-16b65057fa20"
      },
      "source": [
        "sharks_df['Age'].astype('int64')"
      ],
      "execution_count": 142,
      "outputs": [
        {
          "output_type": "error",
          "ename": "ValueError",
          "evalue": "ignored",
          "traceback": [
            "\u001b[0;31m---------------------------------------------------------------------------\u001b[0m",
            "\u001b[0;31mValueError\u001b[0m                                Traceback (most recent call last)",
            "\u001b[0;32m<ipython-input-142-68f6b7676e28>\u001b[0m in \u001b[0;36m<module>\u001b[0;34m()\u001b[0m\n\u001b[0;32m----> 1\u001b[0;31m \u001b[0msharks_df\u001b[0m\u001b[0;34m[\u001b[0m\u001b[0;34m'Age'\u001b[0m\u001b[0;34m]\u001b[0m\u001b[0;34m.\u001b[0m\u001b[0mastype\u001b[0m\u001b[0;34m(\u001b[0m\u001b[0;34m'int64'\u001b[0m\u001b[0;34m)\u001b[0m\u001b[0;34m\u001b[0m\u001b[0;34m\u001b[0m\u001b[0m\n\u001b[0m",
            "\u001b[0;32m/usr/local/lib/python3.7/dist-packages/pandas/core/generic.py\u001b[0m in \u001b[0;36mastype\u001b[0;34m(self, dtype, copy, errors)\u001b[0m\n\u001b[1;32m   5546\u001b[0m         \u001b[0;32melse\u001b[0m\u001b[0;34m:\u001b[0m\u001b[0;34m\u001b[0m\u001b[0;34m\u001b[0m\u001b[0m\n\u001b[1;32m   5547\u001b[0m             \u001b[0;31m# else, only a single dtype is given\u001b[0m\u001b[0;34m\u001b[0m\u001b[0;34m\u001b[0m\u001b[0;34m\u001b[0m\u001b[0m\n\u001b[0;32m-> 5548\u001b[0;31m             \u001b[0mnew_data\u001b[0m \u001b[0;34m=\u001b[0m \u001b[0mself\u001b[0m\u001b[0;34m.\u001b[0m\u001b[0m_mgr\u001b[0m\u001b[0;34m.\u001b[0m\u001b[0mastype\u001b[0m\u001b[0;34m(\u001b[0m\u001b[0mdtype\u001b[0m\u001b[0;34m=\u001b[0m\u001b[0mdtype\u001b[0m\u001b[0;34m,\u001b[0m \u001b[0mcopy\u001b[0m\u001b[0;34m=\u001b[0m\u001b[0mcopy\u001b[0m\u001b[0;34m,\u001b[0m \u001b[0merrors\u001b[0m\u001b[0;34m=\u001b[0m\u001b[0merrors\u001b[0m\u001b[0;34m,\u001b[0m\u001b[0;34m)\u001b[0m\u001b[0;34m\u001b[0m\u001b[0;34m\u001b[0m\u001b[0m\n\u001b[0m\u001b[1;32m   5549\u001b[0m             \u001b[0;32mreturn\u001b[0m \u001b[0mself\u001b[0m\u001b[0;34m.\u001b[0m\u001b[0m_constructor\u001b[0m\u001b[0;34m(\u001b[0m\u001b[0mnew_data\u001b[0m\u001b[0;34m)\u001b[0m\u001b[0;34m.\u001b[0m\u001b[0m__finalize__\u001b[0m\u001b[0;34m(\u001b[0m\u001b[0mself\u001b[0m\u001b[0;34m,\u001b[0m \u001b[0mmethod\u001b[0m\u001b[0;34m=\u001b[0m\u001b[0;34m\"astype\"\u001b[0m\u001b[0;34m)\u001b[0m\u001b[0;34m\u001b[0m\u001b[0;34m\u001b[0m\u001b[0m\n\u001b[1;32m   5550\u001b[0m \u001b[0;34m\u001b[0m\u001b[0m\n",
            "\u001b[0;32m/usr/local/lib/python3.7/dist-packages/pandas/core/internals/managers.py\u001b[0m in \u001b[0;36mastype\u001b[0;34m(self, dtype, copy, errors)\u001b[0m\n\u001b[1;32m    602\u001b[0m         \u001b[0mself\u001b[0m\u001b[0;34m,\u001b[0m \u001b[0mdtype\u001b[0m\u001b[0;34m,\u001b[0m \u001b[0mcopy\u001b[0m\u001b[0;34m:\u001b[0m \u001b[0mbool\u001b[0m \u001b[0;34m=\u001b[0m \u001b[0;32mFalse\u001b[0m\u001b[0;34m,\u001b[0m \u001b[0merrors\u001b[0m\u001b[0;34m:\u001b[0m \u001b[0mstr\u001b[0m \u001b[0;34m=\u001b[0m \u001b[0;34m\"raise\"\u001b[0m\u001b[0;34m\u001b[0m\u001b[0;34m\u001b[0m\u001b[0m\n\u001b[1;32m    603\u001b[0m     ) -> \"BlockManager\":\n\u001b[0;32m--> 604\u001b[0;31m         \u001b[0;32mreturn\u001b[0m \u001b[0mself\u001b[0m\u001b[0;34m.\u001b[0m\u001b[0mapply\u001b[0m\u001b[0;34m(\u001b[0m\u001b[0;34m\"astype\"\u001b[0m\u001b[0;34m,\u001b[0m \u001b[0mdtype\u001b[0m\u001b[0;34m=\u001b[0m\u001b[0mdtype\u001b[0m\u001b[0;34m,\u001b[0m \u001b[0mcopy\u001b[0m\u001b[0;34m=\u001b[0m\u001b[0mcopy\u001b[0m\u001b[0;34m,\u001b[0m \u001b[0merrors\u001b[0m\u001b[0;34m=\u001b[0m\u001b[0merrors\u001b[0m\u001b[0;34m)\u001b[0m\u001b[0;34m\u001b[0m\u001b[0;34m\u001b[0m\u001b[0m\n\u001b[0m\u001b[1;32m    605\u001b[0m \u001b[0;34m\u001b[0m\u001b[0m\n\u001b[1;32m    606\u001b[0m     def convert(\n",
            "\u001b[0;32m/usr/local/lib/python3.7/dist-packages/pandas/core/internals/managers.py\u001b[0m in \u001b[0;36mapply\u001b[0;34m(self, f, align_keys, **kwargs)\u001b[0m\n\u001b[1;32m    407\u001b[0m                 \u001b[0mapplied\u001b[0m \u001b[0;34m=\u001b[0m \u001b[0mb\u001b[0m\u001b[0;34m.\u001b[0m\u001b[0mapply\u001b[0m\u001b[0;34m(\u001b[0m\u001b[0mf\u001b[0m\u001b[0;34m,\u001b[0m \u001b[0;34m**\u001b[0m\u001b[0mkwargs\u001b[0m\u001b[0;34m)\u001b[0m\u001b[0;34m\u001b[0m\u001b[0;34m\u001b[0m\u001b[0m\n\u001b[1;32m    408\u001b[0m             \u001b[0;32melse\u001b[0m\u001b[0;34m:\u001b[0m\u001b[0;34m\u001b[0m\u001b[0;34m\u001b[0m\u001b[0m\n\u001b[0;32m--> 409\u001b[0;31m                 \u001b[0mapplied\u001b[0m \u001b[0;34m=\u001b[0m \u001b[0mgetattr\u001b[0m\u001b[0;34m(\u001b[0m\u001b[0mb\u001b[0m\u001b[0;34m,\u001b[0m \u001b[0mf\u001b[0m\u001b[0;34m)\u001b[0m\u001b[0;34m(\u001b[0m\u001b[0;34m**\u001b[0m\u001b[0mkwargs\u001b[0m\u001b[0;34m)\u001b[0m\u001b[0;34m\u001b[0m\u001b[0;34m\u001b[0m\u001b[0m\n\u001b[0m\u001b[1;32m    410\u001b[0m             \u001b[0mresult_blocks\u001b[0m \u001b[0;34m=\u001b[0m \u001b[0m_extend_blocks\u001b[0m\u001b[0;34m(\u001b[0m\u001b[0mapplied\u001b[0m\u001b[0;34m,\u001b[0m \u001b[0mresult_blocks\u001b[0m\u001b[0;34m)\u001b[0m\u001b[0;34m\u001b[0m\u001b[0;34m\u001b[0m\u001b[0m\n\u001b[1;32m    411\u001b[0m \u001b[0;34m\u001b[0m\u001b[0m\n",
            "\u001b[0;32m/usr/local/lib/python3.7/dist-packages/pandas/core/internals/blocks.py\u001b[0m in \u001b[0;36mastype\u001b[0;34m(self, dtype, copy, errors)\u001b[0m\n\u001b[1;32m    593\u001b[0m             \u001b[0mvals1d\u001b[0m \u001b[0;34m=\u001b[0m \u001b[0mvalues\u001b[0m\u001b[0;34m.\u001b[0m\u001b[0mravel\u001b[0m\u001b[0;34m(\u001b[0m\u001b[0;34m)\u001b[0m\u001b[0;34m\u001b[0m\u001b[0;34m\u001b[0m\u001b[0m\n\u001b[1;32m    594\u001b[0m             \u001b[0;32mtry\u001b[0m\u001b[0;34m:\u001b[0m\u001b[0;34m\u001b[0m\u001b[0;34m\u001b[0m\u001b[0m\n\u001b[0;32m--> 595\u001b[0;31m                 \u001b[0mvalues\u001b[0m \u001b[0;34m=\u001b[0m \u001b[0mastype_nansafe\u001b[0m\u001b[0;34m(\u001b[0m\u001b[0mvals1d\u001b[0m\u001b[0;34m,\u001b[0m \u001b[0mdtype\u001b[0m\u001b[0;34m,\u001b[0m \u001b[0mcopy\u001b[0m\u001b[0;34m=\u001b[0m\u001b[0;32mTrue\u001b[0m\u001b[0;34m)\u001b[0m\u001b[0;34m\u001b[0m\u001b[0;34m\u001b[0m\u001b[0m\n\u001b[0m\u001b[1;32m    596\u001b[0m             \u001b[0;32mexcept\u001b[0m \u001b[0;34m(\u001b[0m\u001b[0mValueError\u001b[0m\u001b[0;34m,\u001b[0m \u001b[0mTypeError\u001b[0m\u001b[0;34m)\u001b[0m\u001b[0;34m:\u001b[0m\u001b[0;34m\u001b[0m\u001b[0;34m\u001b[0m\u001b[0m\n\u001b[1;32m    597\u001b[0m                 \u001b[0;31m# e.g. astype_nansafe can fail on object-dtype of strings\u001b[0m\u001b[0;34m\u001b[0m\u001b[0;34m\u001b[0m\u001b[0;34m\u001b[0m\u001b[0m\n",
            "\u001b[0;32m/usr/local/lib/python3.7/dist-packages/pandas/core/dtypes/cast.py\u001b[0m in \u001b[0;36mastype_nansafe\u001b[0;34m(arr, dtype, copy, skipna)\u001b[0m\n\u001b[1;32m    972\u001b[0m         \u001b[0;31m# work around NumPy brokenness, #1987\u001b[0m\u001b[0;34m\u001b[0m\u001b[0;34m\u001b[0m\u001b[0;34m\u001b[0m\u001b[0m\n\u001b[1;32m    973\u001b[0m         \u001b[0;32mif\u001b[0m \u001b[0mnp\u001b[0m\u001b[0;34m.\u001b[0m\u001b[0missubdtype\u001b[0m\u001b[0;34m(\u001b[0m\u001b[0mdtype\u001b[0m\u001b[0;34m.\u001b[0m\u001b[0mtype\u001b[0m\u001b[0;34m,\u001b[0m \u001b[0mnp\u001b[0m\u001b[0;34m.\u001b[0m\u001b[0minteger\u001b[0m\u001b[0;34m)\u001b[0m\u001b[0;34m:\u001b[0m\u001b[0;34m\u001b[0m\u001b[0;34m\u001b[0m\u001b[0m\n\u001b[0;32m--> 974\u001b[0;31m             \u001b[0;32mreturn\u001b[0m \u001b[0mlib\u001b[0m\u001b[0;34m.\u001b[0m\u001b[0mastype_intsafe\u001b[0m\u001b[0;34m(\u001b[0m\u001b[0marr\u001b[0m\u001b[0;34m.\u001b[0m\u001b[0mravel\u001b[0m\u001b[0;34m(\u001b[0m\u001b[0;34m)\u001b[0m\u001b[0;34m,\u001b[0m \u001b[0mdtype\u001b[0m\u001b[0;34m)\u001b[0m\u001b[0;34m.\u001b[0m\u001b[0mreshape\u001b[0m\u001b[0;34m(\u001b[0m\u001b[0marr\u001b[0m\u001b[0;34m.\u001b[0m\u001b[0mshape\u001b[0m\u001b[0;34m)\u001b[0m\u001b[0;34m\u001b[0m\u001b[0;34m\u001b[0m\u001b[0m\n\u001b[0m\u001b[1;32m    975\u001b[0m \u001b[0;34m\u001b[0m\u001b[0m\n\u001b[1;32m    976\u001b[0m         \u001b[0;31m# if we have a datetime/timedelta array of objects\u001b[0m\u001b[0;34m\u001b[0m\u001b[0;34m\u001b[0m\u001b[0;34m\u001b[0m\u001b[0m\n",
            "\u001b[0;32mpandas/_libs/lib.pyx\u001b[0m in \u001b[0;36mpandas._libs.lib.astype_intsafe\u001b[0;34m()\u001b[0m\n",
            "\u001b[0;31mValueError\u001b[0m: invalid literal for int() with base 10: '50s'"
          ]
        }
      ]
    },
    {
      "cell_type": "code",
      "metadata": {
        "id": "WGKHpo9hGDeK"
      },
      "source": [
        ""
      ],
      "execution_count": null,
      "outputs": []
    },
    {
      "cell_type": "code",
      "metadata": {
        "id": "iKCQUw7UGDYc"
      },
      "source": [
        ""
      ],
      "execution_count": null,
      "outputs": []
    },
    {
      "cell_type": "code",
      "metadata": {
        "id": "chB9_onxDAXM"
      },
      "source": [
        "sharks_df.isna().sum()"
      ],
      "execution_count": null,
      "outputs": []
    },
    {
      "cell_type": "code",
      "metadata": {
        "colab": {
          "base_uri": "https://localhost:8080/"
        },
        "id": "SWOsrwbmFxcC",
        "outputId": "7a0604d4-77eb-4c9b-c404-36fc8ebee2a8"
      },
      "source": [
        "sharks_df.info()"
      ],
      "execution_count": 144,
      "outputs": [
        {
          "output_type": "stream",
          "text": [
            "<class 'pandas.core.frame.DataFrame'>\n",
            "Int64Index: 6642 entries, 0 to 6666\n",
            "Data columns (total 15 columns):\n",
            " #   Column                  Non-Null Count  Dtype         \n",
            "---  ------                  --------------  -----         \n",
            " 0   Date                    6642 non-null   datetime64[ns]\n",
            " 1   Year                    6642 non-null   int64         \n",
            " 2   Type                    6642 non-null   object        \n",
            " 3   Country                 6642 non-null   object        \n",
            " 4   Area                    6642 non-null   object        \n",
            " 5   Location                6642 non-null   object        \n",
            " 6   Activity                6642 non-null   object        \n",
            " 7   Sex                     6642 non-null   object        \n",
            " 8   Age                     6642 non-null   object        \n",
            " 9   Injury                  6642 non-null   object        \n",
            " 10  Fatal                   6642 non-null   object        \n",
            " 11  Time                    6642 non-null   object        \n",
            " 12  Species                 6642 non-null   object        \n",
            " 13  Investigator or Source  6642 non-null   object        \n",
            " 14  Case Id                 6642 non-null   object        \n",
            "dtypes: datetime64[ns](1), int64(1), object(13)\n",
            "memory usage: 1.1+ MB\n"
          ],
          "name": "stdout"
        }
      ]
    },
    {
      "cell_type": "code",
      "metadata": {
        "colab": {
          "base_uri": "https://localhost:8080/",
          "height": 214
        },
        "id": "i9CZpoLwFTPE",
        "outputId": "8eef20bf-a9da-4cef-ebbf-aa268156a52f"
      },
      "source": [
        "import seaborn as sns\n",
        "\n",
        "sns.pairplot(data= sharks_df)"
      ],
      "execution_count": 143,
      "outputs": [
        {
          "output_type": "execute_result",
          "data": {
            "text/plain": [
              "<seaborn.axisgrid.PairGrid at 0x7f4d9443a050>"
            ]
          },
          "metadata": {
            "tags": []
          },
          "execution_count": 143
        },
        {
          "output_type": "display_data",
          "data": {
            "image/png": "[encoded data removed]",
            "text/plain": [
              "<Figure size 180x180 with 2 Axes>"
            ]
          },
          "metadata": {
            "tags": [],
            "needs_background": "light"
          }
        }
      ]
    },
    {
      "cell_type": "code",
      "metadata": {
        "id": "3N8cgHhoFfDl"
      },
      "source": [
        ""
      ],
      "execution_count": null,
      "outputs": []
    }
  ]
}